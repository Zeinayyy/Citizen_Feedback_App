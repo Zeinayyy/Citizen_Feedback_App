{
  "cells": [
    {
      "cell_type": "markdown",
      "metadata": {
        "id": "view-in-github",
        "colab_type": "text"
      },
      "source": [
        "<a href=\"https://colab.research.google.com/github/Zeinayyy/Citizen_Feedback_App/blob/main/preprocessing_data.ipynb\" target=\"_parent\"><img src=\"https://colab.research.google.com/assets/colab-badge.svg\" alt=\"Open In Colab\"/></a>"
      ]
    },
    {
      "cell_type": "code",
      "execution_count": 1,
      "metadata": {
        "id": "aKGs_-ad7XWU"
      },
      "outputs": [],
      "source": [
        "import pandas as pd\n",
        "import numpy as np\n",
        "import re\n",
        "import string\n",
        "import csv\n",
        "from nltk.tokenize import word_tokenize\n",
        "from nltk.corpus import stopwords\n",
        "from keras.preprocessing.text import Tokenizer"
      ]
    },
    {
      "cell_type": "code",
      "execution_count": 2,
      "metadata": {
        "colab": {
          "base_uri": "https://localhost:8080/"
        },
        "id": "xReOHdrvpC7X",
        "outputId": "6652fe7c-eaeb-45cc-cf0c-f191a4fd2761"
      },
      "outputs": [
        {
          "output_type": "stream",
          "name": "stdout",
          "text": [
            "Looking in indexes: https://pypi.org/simple, https://us-python.pkg.dev/colab-wheels/public/simple/\n",
            "Collecting Sastrawi\n",
            "  Downloading Sastrawi-1.0.1-py2.py3-none-any.whl (209 kB)\n",
            "\u001b[2K     \u001b[90m━━━━━━━━━━━━━━━━━━━━━━━━━━━━━━━━━━━━━━━\u001b[0m \u001b[32m209.7/209.7 kB\u001b[0m \u001b[31m8.9 MB/s\u001b[0m eta \u001b[36m0:00:00\u001b[0m\n",
            "\u001b[?25hInstalling collected packages: Sastrawi\n",
            "Successfully installed Sastrawi-1.0.1\n"
          ]
        }
      ],
      "source": [
        "!pip install Sastrawi\n",
        "from Sastrawi.Stemmer.StemmerFactory import StemmerFactory\n",
        "from Sastrawi.StopWordRemover.StopWordRemoverFactory import StopWordRemoverFactory\n",
        "from wordcloud import WordCloud"
      ]
    },
    {
      "cell_type": "code",
      "execution_count": 3,
      "metadata": {
        "colab": {
          "base_uri": "https://localhost:8080/"
        },
        "id": "aSNQ_nhtFn6_",
        "outputId": "30acc25b-8dd8-4811-bf16-728dee4534d0"
      },
      "outputs": [
        {
          "output_type": "stream",
          "name": "stderr",
          "text": [
            "[nltk_data] Downloading package stopwords to /root/nltk_data...\n",
            "[nltk_data]   Unzipping corpora/stopwords.zip.\n",
            "[nltk_data] Downloading package punkt to /root/nltk_data...\n",
            "[nltk_data]   Unzipping tokenizers/punkt.zip.\n"
          ]
        },
        {
          "output_type": "execute_result",
          "data": {
            "text/plain": [
              "True"
            ]
          },
          "metadata": {},
          "execution_count": 3
        }
      ],
      "source": [
        "import nltk\n",
        "from nltk.tokenize import word_tokenize\n",
        "nltk.download('stopwords')\n",
        "nltk.download('punkt')"
      ]
    },
    {
      "cell_type": "code",
      "execution_count": 148,
      "metadata": {
        "id": "uV2WnEG47_2p"
      },
      "outputs": [],
      "source": [
        "df = pd.ExcelFile(\"dataset_merged.xlsx\").parse()"
      ]
    },
    {
      "cell_type": "code",
      "execution_count": 149,
      "metadata": {
        "colab": {
          "base_uri": "https://localhost:8080/",
          "height": 263
        },
        "id": "iHn2VDlb_1qd",
        "outputId": "80eee778-5e8d-4187-dca8-82a40448e079"
      },
      "outputs": [
        {
          "output_type": "execute_result",
          "data": {
            "text/plain": [
              "                       created_at                   id               id_str  \\\n",
              "0  Mon May 15 11:22:33 +0000 2023  1658070357826490112  1658070357826490112   \n",
              "1  Mon May 15 11:43:48 +0000 2023  1658075703882170112  1658075703882170112   \n",
              "\n",
              "                                           full_text quote_count reply_count  \\\n",
              "0  @detikcom Saat kota yang lain sibuk berlomba a...           0           0   \n",
              "1  @think_tank_id @Dandhy_Laksono lol tolol,  lu ...           0           0   \n",
              "\n",
              "  retweet_count favorite_count  geo lang          user_id_str  \\\n",
              "0             0              1  NaN   in  1124966023097080064   \n",
              "1             0              0  NaN   in            133157248   \n",
              "\n",
              "       conversation_id  conversation_id_str media_url_https media_type  \\\n",
              "0  1658042035645929984  1658042035645929984             NaN        NaN   \n",
              "1  1657544329018380032  1657544329018380032             NaN        NaN   \n",
              "\n",
              "     username Unnamed: 16 Unnamed: 17  \n",
              "0  jalan_yuuk         NaN         NaN  \n",
              "1    zeronol0         NaN         NaN  "
            ],
            "text/html": [
              "\n",
              "  <div id=\"df-0c17701c-378b-4f99-9eda-69c28da477b7\">\n",
              "    <div class=\"colab-df-container\">\n",
              "      <div>\n",
              "<style scoped>\n",
              "    .dataframe tbody tr th:only-of-type {\n",
              "        vertical-align: middle;\n",
              "    }\n",
              "\n",
              "    .dataframe tbody tr th {\n",
              "        vertical-align: top;\n",
              "    }\n",
              "\n",
              "    .dataframe thead th {\n",
              "        text-align: right;\n",
              "    }\n",
              "</style>\n",
              "<table border=\"1\" class=\"dataframe\">\n",
              "  <thead>\n",
              "    <tr style=\"text-align: right;\">\n",
              "      <th></th>\n",
              "      <th>created_at</th>\n",
              "      <th>id</th>\n",
              "      <th>id_str</th>\n",
              "      <th>full_text</th>\n",
              "      <th>quote_count</th>\n",
              "      <th>reply_count</th>\n",
              "      <th>retweet_count</th>\n",
              "      <th>favorite_count</th>\n",
              "      <th>geo</th>\n",
              "      <th>lang</th>\n",
              "      <th>user_id_str</th>\n",
              "      <th>conversation_id</th>\n",
              "      <th>conversation_id_str</th>\n",
              "      <th>media_url_https</th>\n",
              "      <th>media_type</th>\n",
              "      <th>username</th>\n",
              "      <th>Unnamed: 16</th>\n",
              "      <th>Unnamed: 17</th>\n",
              "    </tr>\n",
              "  </thead>\n",
              "  <tbody>\n",
              "    <tr>\n",
              "      <th>0</th>\n",
              "      <td>Mon May 15 11:22:33 +0000 2023</td>\n",
              "      <td>1658070357826490112</td>\n",
              "      <td>1658070357826490112</td>\n",
              "      <td>@detikcom Saat kota yang lain sibuk berlomba a...</td>\n",
              "      <td>0</td>\n",
              "      <td>0</td>\n",
              "      <td>0</td>\n",
              "      <td>1</td>\n",
              "      <td>NaN</td>\n",
              "      <td>in</td>\n",
              "      <td>1124966023097080064</td>\n",
              "      <td>1658042035645929984</td>\n",
              "      <td>1658042035645929984</td>\n",
              "      <td>NaN</td>\n",
              "      <td>NaN</td>\n",
              "      <td>jalan_yuuk</td>\n",
              "      <td>NaN</td>\n",
              "      <td>NaN</td>\n",
              "    </tr>\n",
              "    <tr>\n",
              "      <th>1</th>\n",
              "      <td>Mon May 15 11:43:48 +0000 2023</td>\n",
              "      <td>1658075703882170112</td>\n",
              "      <td>1658075703882170112</td>\n",
              "      <td>@think_tank_id @Dandhy_Laksono lol tolol,  lu ...</td>\n",
              "      <td>0</td>\n",
              "      <td>0</td>\n",
              "      <td>0</td>\n",
              "      <td>0</td>\n",
              "      <td>NaN</td>\n",
              "      <td>in</td>\n",
              "      <td>133157248</td>\n",
              "      <td>1657544329018380032</td>\n",
              "      <td>1657544329018380032</td>\n",
              "      <td>NaN</td>\n",
              "      <td>NaN</td>\n",
              "      <td>zeronol0</td>\n",
              "      <td>NaN</td>\n",
              "      <td>NaN</td>\n",
              "    </tr>\n",
              "  </tbody>\n",
              "</table>\n",
              "</div>\n",
              "      <button class=\"colab-df-convert\" onclick=\"convertToInteractive('df-0c17701c-378b-4f99-9eda-69c28da477b7')\"\n",
              "              title=\"Convert this dataframe to an interactive table.\"\n",
              "              style=\"display:none;\">\n",
              "        \n",
              "  <svg xmlns=\"http://www.w3.org/2000/svg\" height=\"24px\"viewBox=\"0 0 24 24\"\n",
              "       width=\"24px\">\n",
              "    <path d=\"M0 0h24v24H0V0z\" fill=\"none\"/>\n",
              "    <path d=\"M18.56 5.44l.94 2.06.94-2.06 2.06-.94-2.06-.94-.94-2.06-.94 2.06-2.06.94zm-11 1L8.5 8.5l.94-2.06 2.06-.94-2.06-.94L8.5 2.5l-.94 2.06-2.06.94zm10 10l.94 2.06.94-2.06 2.06-.94-2.06-.94-.94-2.06-.94 2.06-2.06.94z\"/><path d=\"M17.41 7.96l-1.37-1.37c-.4-.4-.92-.59-1.43-.59-.52 0-1.04.2-1.43.59L10.3 9.45l-7.72 7.72c-.78.78-.78 2.05 0 2.83L4 21.41c.39.39.9.59 1.41.59.51 0 1.02-.2 1.41-.59l7.78-7.78 2.81-2.81c.8-.78.8-2.07 0-2.86zM5.41 20L4 18.59l7.72-7.72 1.47 1.35L5.41 20z\"/>\n",
              "  </svg>\n",
              "      </button>\n",
              "      \n",
              "  <style>\n",
              "    .colab-df-container {\n",
              "      display:flex;\n",
              "      flex-wrap:wrap;\n",
              "      gap: 12px;\n",
              "    }\n",
              "\n",
              "    .colab-df-convert {\n",
              "      background-color: #E8F0FE;\n",
              "      border: none;\n",
              "      border-radius: 50%;\n",
              "      cursor: pointer;\n",
              "      display: none;\n",
              "      fill: #1967D2;\n",
              "      height: 32px;\n",
              "      padding: 0 0 0 0;\n",
              "      width: 32px;\n",
              "    }\n",
              "\n",
              "    .colab-df-convert:hover {\n",
              "      background-color: #E2EBFA;\n",
              "      box-shadow: 0px 1px 2px rgba(60, 64, 67, 0.3), 0px 1px 3px 1px rgba(60, 64, 67, 0.15);\n",
              "      fill: #174EA6;\n",
              "    }\n",
              "\n",
              "    [theme=dark] .colab-df-convert {\n",
              "      background-color: #3B4455;\n",
              "      fill: #D2E3FC;\n",
              "    }\n",
              "\n",
              "    [theme=dark] .colab-df-convert:hover {\n",
              "      background-color: #434B5C;\n",
              "      box-shadow: 0px 1px 3px 1px rgba(0, 0, 0, 0.15);\n",
              "      filter: drop-shadow(0px 1px 2px rgba(0, 0, 0, 0.3));\n",
              "      fill: #FFFFFF;\n",
              "    }\n",
              "  </style>\n",
              "\n",
              "      <script>\n",
              "        const buttonEl =\n",
              "          document.querySelector('#df-0c17701c-378b-4f99-9eda-69c28da477b7 button.colab-df-convert');\n",
              "        buttonEl.style.display =\n",
              "          google.colab.kernel.accessAllowed ? 'block' : 'none';\n",
              "\n",
              "        async function convertToInteractive(key) {\n",
              "          const element = document.querySelector('#df-0c17701c-378b-4f99-9eda-69c28da477b7');\n",
              "          const dataTable =\n",
              "            await google.colab.kernel.invokeFunction('convertToInteractive',\n",
              "                                                     [key], {});\n",
              "          if (!dataTable) return;\n",
              "\n",
              "          const docLinkHtml = 'Like what you see? Visit the ' +\n",
              "            '<a target=\"_blank\" href=https://colab.research.google.com/notebooks/data_table.ipynb>data table notebook</a>'\n",
              "            + ' to learn more about interactive tables.';\n",
              "          element.innerHTML = '';\n",
              "          dataTable['output_type'] = 'display_data';\n",
              "          await google.colab.output.renderOutput(dataTable, element);\n",
              "          const docLink = document.createElement('div');\n",
              "          docLink.innerHTML = docLinkHtml;\n",
              "          element.appendChild(docLink);\n",
              "        }\n",
              "      </script>\n",
              "    </div>\n",
              "  </div>\n",
              "  "
            ]
          },
          "metadata": {},
          "execution_count": 149
        }
      ],
      "source": [
        "df.head(2)"
      ]
    },
    {
      "cell_type": "code",
      "execution_count": 150,
      "metadata": {
        "id": "Im1HGITCAFt1"
      },
      "outputs": [],
      "source": [
        "df = df[['created_at', 'id', 'full_text', 'reply_count', 'retweet_count', 'favorite_count', 'username', ]]"
      ]
    },
    {
      "cell_type": "code",
      "execution_count": 151,
      "metadata": {
        "colab": {
          "base_uri": "https://localhost:8080/",
          "height": 624
        },
        "id": "KsGRN_3oAmpC",
        "outputId": "ddf74e9a-009b-4768-a288-973d8c9c21ce"
      },
      "outputs": [
        {
          "output_type": "execute_result",
          "data": {
            "text/plain": [
              "                          created_at                   id  \\\n",
              "0     Mon May 15 11:22:33 +0000 2023  1658070357826490112   \n",
              "1     Mon May 15 11:43:48 +0000 2023  1658075703882170112   \n",
              "2     Mon May 15 11:07:11 +0000 2023  1658066490258769920   \n",
              "3     Mon May 15 11:00:55 +0000 2023  1658064915532480000   \n",
              "4     Mon May 15 11:15:36 +0000 2023  1658068608453410048   \n",
              "...                              ...                  ...   \n",
              "3866  Sun Nov 27 06:16:00 +0000 2022  1596749661821280000   \n",
              "3867  Sun Nov 27 10:52:33 +0000 2022  1596819259673299968   \n",
              "3868  Mon Nov 28 03:23:42 +0000 2022  1597068690335620096   \n",
              "3869  Mon Nov 28 01:58:09 +0000 2022  1597047161245819904   \n",
              "3870                         _x001A_                  NaN   \n",
              "\n",
              "                                              full_text reply_count  \\\n",
              "0     @detikcom Saat kota yang lain sibuk berlomba a...           0   \n",
              "1     @think_tank_id @Dandhy_Laksono lol tolol,  lu ...           0   \n",
              "2     @jokowi @jokowi di merauke minyak tanah susah,...           0   \n",
              "3     Polres PPU Polda Kaltim - Wujud Kepedulian, Po...           0   \n",
              "4     Traffic Light Rusak, Jalan Borong Raya-Batua R...           0   \n",
              "...                                                 ...         ...   \n",
              "3866       yaelah wargaðŸ˜¢ðŸ˜¢ https://t.co/2421r3esOn         131   \n",
              "3867  @KompasTV Ternyata, cuma menyisakan sampah dim...           1   \n",
              "3868  @Dara_Cega Kasihan masyarakat dibodohi dibayar...           0   \n",
              "3869  @UdinBagol81 @matjan51670210 @Rasambahyar1 @se...           0   \n",
              "3870                                                NaN         NaN   \n",
              "\n",
              "     retweet_count favorite_count         username  \n",
              "0                0              1       jalan_yuuk  \n",
              "1                0              0         zeronol0  \n",
              "2                0              0       PA_5060_AS  \n",
              "3                0              1     bagrenresppu  \n",
              "4                0              0     raksulonline  \n",
              "...            ...            ...              ...  \n",
              "3866           255           1012         txtdrjkt  \n",
              "3867             0              2  SupratmanAndang  \n",
              "3868             0              0      BKoentjahya  \n",
              "3869             0              0   freensapalocha  \n",
              "3870           NaN            NaN              NaN  \n",
              "\n",
              "[3871 rows x 7 columns]"
            ],
            "text/html": [
              "\n",
              "  <div id=\"df-4f564136-24ac-4ef6-8cd4-3ea4104ba262\">\n",
              "    <div class=\"colab-df-container\">\n",
              "      <div>\n",
              "<style scoped>\n",
              "    .dataframe tbody tr th:only-of-type {\n",
              "        vertical-align: middle;\n",
              "    }\n",
              "\n",
              "    .dataframe tbody tr th {\n",
              "        vertical-align: top;\n",
              "    }\n",
              "\n",
              "    .dataframe thead th {\n",
              "        text-align: right;\n",
              "    }\n",
              "</style>\n",
              "<table border=\"1\" class=\"dataframe\">\n",
              "  <thead>\n",
              "    <tr style=\"text-align: right;\">\n",
              "      <th></th>\n",
              "      <th>created_at</th>\n",
              "      <th>id</th>\n",
              "      <th>full_text</th>\n",
              "      <th>reply_count</th>\n",
              "      <th>retweet_count</th>\n",
              "      <th>favorite_count</th>\n",
              "      <th>username</th>\n",
              "    </tr>\n",
              "  </thead>\n",
              "  <tbody>\n",
              "    <tr>\n",
              "      <th>0</th>\n",
              "      <td>Mon May 15 11:22:33 +0000 2023</td>\n",
              "      <td>1658070357826490112</td>\n",
              "      <td>@detikcom Saat kota yang lain sibuk berlomba a...</td>\n",
              "      <td>0</td>\n",
              "      <td>0</td>\n",
              "      <td>1</td>\n",
              "      <td>jalan_yuuk</td>\n",
              "    </tr>\n",
              "    <tr>\n",
              "      <th>1</th>\n",
              "      <td>Mon May 15 11:43:48 +0000 2023</td>\n",
              "      <td>1658075703882170112</td>\n",
              "      <td>@think_tank_id @Dandhy_Laksono lol tolol,  lu ...</td>\n",
              "      <td>0</td>\n",
              "      <td>0</td>\n",
              "      <td>0</td>\n",
              "      <td>zeronol0</td>\n",
              "    </tr>\n",
              "    <tr>\n",
              "      <th>2</th>\n",
              "      <td>Mon May 15 11:07:11 +0000 2023</td>\n",
              "      <td>1658066490258769920</td>\n",
              "      <td>@jokowi @jokowi di merauke minyak tanah susah,...</td>\n",
              "      <td>0</td>\n",
              "      <td>0</td>\n",
              "      <td>0</td>\n",
              "      <td>PA_5060_AS</td>\n",
              "    </tr>\n",
              "    <tr>\n",
              "      <th>3</th>\n",
              "      <td>Mon May 15 11:00:55 +0000 2023</td>\n",
              "      <td>1658064915532480000</td>\n",
              "      <td>Polres PPU Polda Kaltim - Wujud Kepedulian, Po...</td>\n",
              "      <td>0</td>\n",
              "      <td>0</td>\n",
              "      <td>1</td>\n",
              "      <td>bagrenresppu</td>\n",
              "    </tr>\n",
              "    <tr>\n",
              "      <th>4</th>\n",
              "      <td>Mon May 15 11:15:36 +0000 2023</td>\n",
              "      <td>1658068608453410048</td>\n",
              "      <td>Traffic Light Rusak, Jalan Borong Raya-Batua R...</td>\n",
              "      <td>0</td>\n",
              "      <td>0</td>\n",
              "      <td>0</td>\n",
              "      <td>raksulonline</td>\n",
              "    </tr>\n",
              "    <tr>\n",
              "      <th>...</th>\n",
              "      <td>...</td>\n",
              "      <td>...</td>\n",
              "      <td>...</td>\n",
              "      <td>...</td>\n",
              "      <td>...</td>\n",
              "      <td>...</td>\n",
              "      <td>...</td>\n",
              "    </tr>\n",
              "    <tr>\n",
              "      <th>3866</th>\n",
              "      <td>Sun Nov 27 06:16:00 +0000 2022</td>\n",
              "      <td>1596749661821280000</td>\n",
              "      <td>yaelah wargaðŸ˜¢ðŸ˜¢ https://t.co/2421r3esOn</td>\n",
              "      <td>131</td>\n",
              "      <td>255</td>\n",
              "      <td>1012</td>\n",
              "      <td>txtdrjkt</td>\n",
              "    </tr>\n",
              "    <tr>\n",
              "      <th>3867</th>\n",
              "      <td>Sun Nov 27 10:52:33 +0000 2022</td>\n",
              "      <td>1596819259673299968</td>\n",
              "      <td>@KompasTV Ternyata, cuma menyisakan sampah dim...</td>\n",
              "      <td>1</td>\n",
              "      <td>0</td>\n",
              "      <td>2</td>\n",
              "      <td>SupratmanAndang</td>\n",
              "    </tr>\n",
              "    <tr>\n",
              "      <th>3868</th>\n",
              "      <td>Mon Nov 28 03:23:42 +0000 2022</td>\n",
              "      <td>1597068690335620096</td>\n",
              "      <td>@Dara_Cega Kasihan masyarakat dibodohi dibayar...</td>\n",
              "      <td>0</td>\n",
              "      <td>0</td>\n",
              "      <td>0</td>\n",
              "      <td>BKoentjahya</td>\n",
              "    </tr>\n",
              "    <tr>\n",
              "      <th>3869</th>\n",
              "      <td>Mon Nov 28 01:58:09 +0000 2022</td>\n",
              "      <td>1597047161245819904</td>\n",
              "      <td>@UdinBagol81 @matjan51670210 @Rasambahyar1 @se...</td>\n",
              "      <td>0</td>\n",
              "      <td>0</td>\n",
              "      <td>0</td>\n",
              "      <td>freensapalocha</td>\n",
              "    </tr>\n",
              "    <tr>\n",
              "      <th>3870</th>\n",
              "      <td>_x001A_</td>\n",
              "      <td>NaN</td>\n",
              "      <td>NaN</td>\n",
              "      <td>NaN</td>\n",
              "      <td>NaN</td>\n",
              "      <td>NaN</td>\n",
              "      <td>NaN</td>\n",
              "    </tr>\n",
              "  </tbody>\n",
              "</table>\n",
              "<p>3871 rows × 7 columns</p>\n",
              "</div>\n",
              "      <button class=\"colab-df-convert\" onclick=\"convertToInteractive('df-4f564136-24ac-4ef6-8cd4-3ea4104ba262')\"\n",
              "              title=\"Convert this dataframe to an interactive table.\"\n",
              "              style=\"display:none;\">\n",
              "        \n",
              "  <svg xmlns=\"http://www.w3.org/2000/svg\" height=\"24px\"viewBox=\"0 0 24 24\"\n",
              "       width=\"24px\">\n",
              "    <path d=\"M0 0h24v24H0V0z\" fill=\"none\"/>\n",
              "    <path d=\"M18.56 5.44l.94 2.06.94-2.06 2.06-.94-2.06-.94-.94-2.06-.94 2.06-2.06.94zm-11 1L8.5 8.5l.94-2.06 2.06-.94-2.06-.94L8.5 2.5l-.94 2.06-2.06.94zm10 10l.94 2.06.94-2.06 2.06-.94-2.06-.94-.94-2.06-.94 2.06-2.06.94z\"/><path d=\"M17.41 7.96l-1.37-1.37c-.4-.4-.92-.59-1.43-.59-.52 0-1.04.2-1.43.59L10.3 9.45l-7.72 7.72c-.78.78-.78 2.05 0 2.83L4 21.41c.39.39.9.59 1.41.59.51 0 1.02-.2 1.41-.59l7.78-7.78 2.81-2.81c.8-.78.8-2.07 0-2.86zM5.41 20L4 18.59l7.72-7.72 1.47 1.35L5.41 20z\"/>\n",
              "  </svg>\n",
              "      </button>\n",
              "      \n",
              "  <style>\n",
              "    .colab-df-container {\n",
              "      display:flex;\n",
              "      flex-wrap:wrap;\n",
              "      gap: 12px;\n",
              "    }\n",
              "\n",
              "    .colab-df-convert {\n",
              "      background-color: #E8F0FE;\n",
              "      border: none;\n",
              "      border-radius: 50%;\n",
              "      cursor: pointer;\n",
              "      display: none;\n",
              "      fill: #1967D2;\n",
              "      height: 32px;\n",
              "      padding: 0 0 0 0;\n",
              "      width: 32px;\n",
              "    }\n",
              "\n",
              "    .colab-df-convert:hover {\n",
              "      background-color: #E2EBFA;\n",
              "      box-shadow: 0px 1px 2px rgba(60, 64, 67, 0.3), 0px 1px 3px 1px rgba(60, 64, 67, 0.15);\n",
              "      fill: #174EA6;\n",
              "    }\n",
              "\n",
              "    [theme=dark] .colab-df-convert {\n",
              "      background-color: #3B4455;\n",
              "      fill: #D2E3FC;\n",
              "    }\n",
              "\n",
              "    [theme=dark] .colab-df-convert:hover {\n",
              "      background-color: #434B5C;\n",
              "      box-shadow: 0px 1px 3px 1px rgba(0, 0, 0, 0.15);\n",
              "      filter: drop-shadow(0px 1px 2px rgba(0, 0, 0, 0.3));\n",
              "      fill: #FFFFFF;\n",
              "    }\n",
              "  </style>\n",
              "\n",
              "      <script>\n",
              "        const buttonEl =\n",
              "          document.querySelector('#df-4f564136-24ac-4ef6-8cd4-3ea4104ba262 button.colab-df-convert');\n",
              "        buttonEl.style.display =\n",
              "          google.colab.kernel.accessAllowed ? 'block' : 'none';\n",
              "\n",
              "        async function convertToInteractive(key) {\n",
              "          const element = document.querySelector('#df-4f564136-24ac-4ef6-8cd4-3ea4104ba262');\n",
              "          const dataTable =\n",
              "            await google.colab.kernel.invokeFunction('convertToInteractive',\n",
              "                                                     [key], {});\n",
              "          if (!dataTable) return;\n",
              "\n",
              "          const docLinkHtml = 'Like what you see? Visit the ' +\n",
              "            '<a target=\"_blank\" href=https://colab.research.google.com/notebooks/data_table.ipynb>data table notebook</a>'\n",
              "            + ' to learn more about interactive tables.';\n",
              "          element.innerHTML = '';\n",
              "          dataTable['output_type'] = 'display_data';\n",
              "          await google.colab.output.renderOutput(dataTable, element);\n",
              "          const docLink = document.createElement('div');\n",
              "          docLink.innerHTML = docLinkHtml;\n",
              "          element.appendChild(docLink);\n",
              "        }\n",
              "      </script>\n",
              "    </div>\n",
              "  </div>\n",
              "  "
            ]
          },
          "metadata": {},
          "execution_count": 151
        }
      ],
      "source": [
        "df"
      ]
    },
    {
      "cell_type": "code",
      "execution_count": 152,
      "metadata": {
        "id": "DW4AcCJ7AqEV"
      },
      "outputs": [],
      "source": [
        "def cleanText(text):\n",
        "  text = re.sub(r'#[A-Za-z0-9]+', '', str(text)) #remove hashtag\n",
        "  text = re.sub(r'@[A-Za-z0-9]+', '', str(text)) #remove mentions\n",
        "  text = re.sub(r\"http\\S+\", '', str(text)) #remove links/url\n",
        "  text = re.sub(r'RT[\\s]', '', str(text)) #remove RT\n",
        "  text = re.sub(r'[0-9]+', '', str(text)) #remove number\n",
        "  text = text.replace('\\n', ' ') #replace new line into space\n",
        "  text = text.translate(str.maketrans('', '', string.punctuation)) #remove punctuation\n",
        "  text = text.strip('  ') #remove character space\n",
        "  return text"
      ]
    },
    {
      "cell_type": "code",
      "execution_count": 153,
      "metadata": {
        "id": "yu-66hfxCgrl"
      },
      "outputs": [],
      "source": [
        "def lowercase(text):\n",
        "  text = text.lower()\n",
        "  return text"
      ]
    },
    {
      "cell_type": "code",
      "execution_count": 154,
      "metadata": {
        "id": "VXu8NqRPCqzU"
      },
      "outputs": [],
      "source": [
        "def tokenizerText(text):\n",
        "  text = word_tokenize(text)\n",
        "  return text"
      ]
    },
    {
      "cell_type": "code",
      "execution_count": 155,
      "metadata": {
        "id": "36YAe6vXC6DR"
      },
      "outputs": [],
      "source": [
        "def filteringText(text):\n",
        "  listStopwords = set(stopwords.words('indonesian'))\n",
        "  filtered = []\n",
        "  for txt in text:\n",
        "    if txt not in listStopwords:\n",
        "      filtered.append(txt)\n",
        "  text = filtered\n",
        "  return text\n"
      ]
    },
    {
      "cell_type": "code",
      "execution_count": 157,
      "metadata": {
        "id": "lLoUsddaDvDZ"
      },
      "outputs": [],
      "source": [
        "df['clean_text'] = df['full_text'].apply(cleanText)"
      ]
    },
    {
      "cell_type": "code",
      "execution_count": 158,
      "metadata": {
        "id": "jyB5CuH5E7LF"
      },
      "outputs": [],
      "source": [
        "df['clean_text'] = df['clean_text'].apply(lowercase)"
      ]
    },
    {
      "cell_type": "code",
      "execution_count": 159,
      "metadata": {
        "id": "2YusI9SiFFZD"
      },
      "outputs": [],
      "source": [
        "df.drop(['full_text'], axis = 1, inplace = True)"
      ]
    },
    {
      "cell_type": "code",
      "execution_count": 160,
      "metadata": {
        "id": "fIqA9FCYFUMy"
      },
      "outputs": [],
      "source": [
        "df['preprocessed_text'] = df['clean_text'].apply(tokenizerText)"
      ]
    },
    {
      "cell_type": "code",
      "execution_count": 161,
      "metadata": {
        "id": "x_qc4s3lFs51"
      },
      "outputs": [],
      "source": [
        "df['preprocessed_text'] = df['preprocessed_text'].apply(filteringText)"
      ]
    },
    {
      "cell_type": "code",
      "execution_count": 163,
      "metadata": {
        "id": "w7omMyrhGG5c"
      },
      "outputs": [],
      "source": [
        "df.drop_duplicates(subset = 'clean_text', inplace = True)"
      ]
    },
    {
      "cell_type": "code",
      "execution_count": 164,
      "metadata": {
        "id": "Q6lp6XbpGTI4"
      },
      "outputs": [],
      "source": [
        "save_df = df.to_csv(\"dataset_merged_clean.csv\", index=False, header=True, index_label=None)"
      ]
    },
    {
      "cell_type": "code",
      "execution_count": 165,
      "metadata": {
        "colab": {
          "base_uri": "https://localhost:8080/",
          "height": 424
        },
        "id": "odVfwa0dGw1I",
        "outputId": "dece7c9d-487c-4522-8e74-340ba63b4e94"
      },
      "outputs": [
        {
          "output_type": "execute_result",
          "data": {
            "text/plain": [
              "                       created_at                   id reply_count  \\\n",
              "0  Mon May 15 11:22:33 +0000 2023  1658070357826490112           0   \n",
              "1  Mon May 15 11:43:48 +0000 2023  1658075703882170112           0   \n",
              "2  Mon May 15 11:07:11 +0000 2023  1658066490258769920           0   \n",
              "3  Mon May 15 11:00:55 +0000 2023  1658064915532480000           0   \n",
              "4  Mon May 15 11:15:36 +0000 2023  1658068608453410048           0   \n",
              "\n",
              "  retweet_count favorite_count      username  \\\n",
              "0             0              1    jalan_yuuk   \n",
              "1             0              0      zeronol0   \n",
              "2             0              0    PA_5060_AS   \n",
              "3             0              1  bagrenresppu   \n",
              "4             0              0  raksulonline   \n",
              "\n",
              "                                          clean_text  \\\n",
              "0  saat kota yang lain sibuk berlomba agar wisata...   \n",
              "1  tankid laksono lol tolol  lu pikir keren gitu ...   \n",
              "2  di merauke minyak tanah susah selain jalan jug...   \n",
              "3  polres ppu polda kaltim  wujud kepedulian pols...   \n",
              "4  traffic light rusak jalan borong rayabatua ray...   \n",
              "\n",
              "                                   preprocessed_text  \n",
              "0  [kota, sibuk, berlomba, wisatawan, kotanya, im...  \n",
              "1  [tankid, laksono, lol, tolol, lu, pikir, keren...  \n",
              "2  [merauke, minyak, tanah, susah, jalan, rusak, ...  \n",
              "3  [polres, ppu, polda, kaltim, wujud, kepedulian...  \n",
              "4  [traffic, light, rusak, jalan, borong, rayabat...  "
            ],
            "text/html": [
              "\n",
              "  <div id=\"df-0c715cce-bdf6-4431-bb16-966e27c28ffb\">\n",
              "    <div class=\"colab-df-container\">\n",
              "      <div>\n",
              "<style scoped>\n",
              "    .dataframe tbody tr th:only-of-type {\n",
              "        vertical-align: middle;\n",
              "    }\n",
              "\n",
              "    .dataframe tbody tr th {\n",
              "        vertical-align: top;\n",
              "    }\n",
              "\n",
              "    .dataframe thead th {\n",
              "        text-align: right;\n",
              "    }\n",
              "</style>\n",
              "<table border=\"1\" class=\"dataframe\">\n",
              "  <thead>\n",
              "    <tr style=\"text-align: right;\">\n",
              "      <th></th>\n",
              "      <th>created_at</th>\n",
              "      <th>id</th>\n",
              "      <th>reply_count</th>\n",
              "      <th>retweet_count</th>\n",
              "      <th>favorite_count</th>\n",
              "      <th>username</th>\n",
              "      <th>clean_text</th>\n",
              "      <th>preprocessed_text</th>\n",
              "    </tr>\n",
              "  </thead>\n",
              "  <tbody>\n",
              "    <tr>\n",
              "      <th>0</th>\n",
              "      <td>Mon May 15 11:22:33 +0000 2023</td>\n",
              "      <td>1658070357826490112</td>\n",
              "      <td>0</td>\n",
              "      <td>0</td>\n",
              "      <td>1</td>\n",
              "      <td>jalan_yuuk</td>\n",
              "      <td>saat kota yang lain sibuk berlomba agar wisata...</td>\n",
              "      <td>[kota, sibuk, berlomba, wisatawan, kotanya, im...</td>\n",
              "    </tr>\n",
              "    <tr>\n",
              "      <th>1</th>\n",
              "      <td>Mon May 15 11:43:48 +0000 2023</td>\n",
              "      <td>1658075703882170112</td>\n",
              "      <td>0</td>\n",
              "      <td>0</td>\n",
              "      <td>0</td>\n",
              "      <td>zeronol0</td>\n",
              "      <td>tankid laksono lol tolol  lu pikir keren gitu ...</td>\n",
              "      <td>[tankid, laksono, lol, tolol, lu, pikir, keren...</td>\n",
              "    </tr>\n",
              "    <tr>\n",
              "      <th>2</th>\n",
              "      <td>Mon May 15 11:07:11 +0000 2023</td>\n",
              "      <td>1658066490258769920</td>\n",
              "      <td>0</td>\n",
              "      <td>0</td>\n",
              "      <td>0</td>\n",
              "      <td>PA_5060_AS</td>\n",
              "      <td>di merauke minyak tanah susah selain jalan jug...</td>\n",
              "      <td>[merauke, minyak, tanah, susah, jalan, rusak, ...</td>\n",
              "    </tr>\n",
              "    <tr>\n",
              "      <th>3</th>\n",
              "      <td>Mon May 15 11:00:55 +0000 2023</td>\n",
              "      <td>1658064915532480000</td>\n",
              "      <td>0</td>\n",
              "      <td>0</td>\n",
              "      <td>1</td>\n",
              "      <td>bagrenresppu</td>\n",
              "      <td>polres ppu polda kaltim  wujud kepedulian pols...</td>\n",
              "      <td>[polres, ppu, polda, kaltim, wujud, kepedulian...</td>\n",
              "    </tr>\n",
              "    <tr>\n",
              "      <th>4</th>\n",
              "      <td>Mon May 15 11:15:36 +0000 2023</td>\n",
              "      <td>1658068608453410048</td>\n",
              "      <td>0</td>\n",
              "      <td>0</td>\n",
              "      <td>0</td>\n",
              "      <td>raksulonline</td>\n",
              "      <td>traffic light rusak jalan borong rayabatua ray...</td>\n",
              "      <td>[traffic, light, rusak, jalan, borong, rayabat...</td>\n",
              "    </tr>\n",
              "  </tbody>\n",
              "</table>\n",
              "</div>\n",
              "      <button class=\"colab-df-convert\" onclick=\"convertToInteractive('df-0c715cce-bdf6-4431-bb16-966e27c28ffb')\"\n",
              "              title=\"Convert this dataframe to an interactive table.\"\n",
              "              style=\"display:none;\">\n",
              "        \n",
              "  <svg xmlns=\"http://www.w3.org/2000/svg\" height=\"24px\"viewBox=\"0 0 24 24\"\n",
              "       width=\"24px\">\n",
              "    <path d=\"M0 0h24v24H0V0z\" fill=\"none\"/>\n",
              "    <path d=\"M18.56 5.44l.94 2.06.94-2.06 2.06-.94-2.06-.94-.94-2.06-.94 2.06-2.06.94zm-11 1L8.5 8.5l.94-2.06 2.06-.94-2.06-.94L8.5 2.5l-.94 2.06-2.06.94zm10 10l.94 2.06.94-2.06 2.06-.94-2.06-.94-.94-2.06-.94 2.06-2.06.94z\"/><path d=\"M17.41 7.96l-1.37-1.37c-.4-.4-.92-.59-1.43-.59-.52 0-1.04.2-1.43.59L10.3 9.45l-7.72 7.72c-.78.78-.78 2.05 0 2.83L4 21.41c.39.39.9.59 1.41.59.51 0 1.02-.2 1.41-.59l7.78-7.78 2.81-2.81c.8-.78.8-2.07 0-2.86zM5.41 20L4 18.59l7.72-7.72 1.47 1.35L5.41 20z\"/>\n",
              "  </svg>\n",
              "      </button>\n",
              "      \n",
              "  <style>\n",
              "    .colab-df-container {\n",
              "      display:flex;\n",
              "      flex-wrap:wrap;\n",
              "      gap: 12px;\n",
              "    }\n",
              "\n",
              "    .colab-df-convert {\n",
              "      background-color: #E8F0FE;\n",
              "      border: none;\n",
              "      border-radius: 50%;\n",
              "      cursor: pointer;\n",
              "      display: none;\n",
              "      fill: #1967D2;\n",
              "      height: 32px;\n",
              "      padding: 0 0 0 0;\n",
              "      width: 32px;\n",
              "    }\n",
              "\n",
              "    .colab-df-convert:hover {\n",
              "      background-color: #E2EBFA;\n",
              "      box-shadow: 0px 1px 2px rgba(60, 64, 67, 0.3), 0px 1px 3px 1px rgba(60, 64, 67, 0.15);\n",
              "      fill: #174EA6;\n",
              "    }\n",
              "\n",
              "    [theme=dark] .colab-df-convert {\n",
              "      background-color: #3B4455;\n",
              "      fill: #D2E3FC;\n",
              "    }\n",
              "\n",
              "    [theme=dark] .colab-df-convert:hover {\n",
              "      background-color: #434B5C;\n",
              "      box-shadow: 0px 1px 3px 1px rgba(0, 0, 0, 0.15);\n",
              "      filter: drop-shadow(0px 1px 2px rgba(0, 0, 0, 0.3));\n",
              "      fill: #FFFFFF;\n",
              "    }\n",
              "  </style>\n",
              "\n",
              "      <script>\n",
              "        const buttonEl =\n",
              "          document.querySelector('#df-0c715cce-bdf6-4431-bb16-966e27c28ffb button.colab-df-convert');\n",
              "        buttonEl.style.display =\n",
              "          google.colab.kernel.accessAllowed ? 'block' : 'none';\n",
              "\n",
              "        async function convertToInteractive(key) {\n",
              "          const element = document.querySelector('#df-0c715cce-bdf6-4431-bb16-966e27c28ffb');\n",
              "          const dataTable =\n",
              "            await google.colab.kernel.invokeFunction('convertToInteractive',\n",
              "                                                     [key], {});\n",
              "          if (!dataTable) return;\n",
              "\n",
              "          const docLinkHtml = 'Like what you see? Visit the ' +\n",
              "            '<a target=\"_blank\" href=https://colab.research.google.com/notebooks/data_table.ipynb>data table notebook</a>'\n",
              "            + ' to learn more about interactive tables.';\n",
              "          element.innerHTML = '';\n",
              "          dataTable['output_type'] = 'display_data';\n",
              "          await google.colab.output.renderOutput(dataTable, element);\n",
              "          const docLink = document.createElement('div');\n",
              "          docLink.innerHTML = docLinkHtml;\n",
              "          element.appendChild(docLink);\n",
              "        }\n",
              "      </script>\n",
              "    </div>\n",
              "  </div>\n",
              "  "
            ]
          },
          "metadata": {},
          "execution_count": 165
        }
      ],
      "source": [
        "df.head(5)"
      ]
    },
    {
      "cell_type": "code",
      "source": [
        "lexicon = pd.read_csv('positive.tsv', sep='\\t')"
      ],
      "metadata": {
        "id": "IXDUubynft81"
      },
      "execution_count": 166,
      "outputs": []
    },
    {
      "cell_type": "code",
      "execution_count": 167,
      "metadata": {
        "id": "A8tSfLdJo08P"
      },
      "outputs": [],
      "source": [
        "lexicon_positive = dict()\n",
        "with open('positive.tsv', 'r') as file:\n",
        "  reader = csv.reader(file, delimiter='\\t')\n",
        "  for row in reader:\n",
        "    lexicon_positive[row[0]] = row[1]"
      ]
    },
    {
      "cell_type": "code",
      "execution_count": 168,
      "metadata": {
        "id": "UGoPpPhmvKNa"
      },
      "outputs": [],
      "source": [
        "lexicon_negative = dict()\n",
        "with open('negative.tsv', 'r') as file:\n",
        "  reader = csv.reader(file, delimiter='\\t')\n",
        "  for row in reader:\n",
        "    lexicon_negative[row[0]] = row[1]"
      ]
    },
    {
      "cell_type": "code",
      "execution_count": 169,
      "metadata": {
        "id": "Z1glX8o_vluI"
      },
      "outputs": [],
      "source": [
        "def sentiment_analysis(text):\n",
        "  score = 0\n",
        "  for word in text:\n",
        "    if (word in lexicon_positive):\n",
        "      score = score + int(lexicon_positive[word])\n",
        "  for word in text:\n",
        "    if (word in lexicon_negative):\n",
        "      score = score + int(lexicon_negative[word])\n",
        "  polarity = ''\n",
        "  if (score > 0):\n",
        "    polarity = 'positive'\n",
        "  elif ((score >= -10) & (score < 0)):\n",
        "    polarity = 'negative'\n",
        "  elif(score < -10):\n",
        "    polarity = 'urgent'\n",
        "  else:\n",
        "    polarity = 'neutral'\n",
        "  return score, polarity"
      ]
    },
    {
      "cell_type": "code",
      "source": [
        "first_key = next(iter(lexicon_positive))\n",
        "del lexicon_positive[first_key]"
      ],
      "metadata": {
        "id": "M18ndp4Q7gMD"
      },
      "execution_count": 170,
      "outputs": []
    },
    {
      "cell_type": "code",
      "source": [
        "first_keyy = next(iter(lexicon_negative))\n",
        "del lexicon_negative[first_keyy]"
      ],
      "metadata": {
        "id": "69I3RRcO8QUN"
      },
      "execution_count": 171,
      "outputs": []
    },
    {
      "cell_type": "code",
      "execution_count": 172,
      "metadata": {
        "colab": {
          "base_uri": "https://localhost:8080/"
        },
        "id": "wKzvkc03vp0b",
        "outputId": "9694f6f1-9e87-4181-d6df-4a5153a19816"
      },
      "outputs": [
        {
          "output_type": "stream",
          "name": "stdout",
          "text": [
            "negative    1738\n",
            "positive    1019\n",
            "urgent       491\n",
            "neutral      375\n",
            "Name: polarity, dtype: int64\n"
          ]
        }
      ],
      "source": [
        "results = df['preprocessed_text'].apply(sentiment_analysis)\n",
        "results = list(zip(*results))\n",
        "df['polarity_score'] = results[0]\n",
        "df['polarity'] = results[1]\n",
        "print(df['polarity'].value_counts())"
      ]
    },
    {
      "cell_type": "code",
      "execution_count": 173,
      "metadata": {
        "id": "bhhGkNk5xGlm"
      },
      "outputs": [],
      "source": [
        "df.to_csv('data_polarity.csv', index=False, header=True)"
      ]
    }
  ],
  "metadata": {
    "colab": {
      "provenance": [],
      "include_colab_link": true
    },
    "kernelspec": {
      "display_name": "Python 3",
      "name": "python3"
    },
    "language_info": {
      "name": "python"
    }
  },
  "nbformat": 4,
  "nbformat_minor": 0
}