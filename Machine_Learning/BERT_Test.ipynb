{
  "nbformat": 4,
  "nbformat_minor": 0,
  "metadata": {
    "colab": {
      "provenance": []
    },
    "kernelspec": {
      "name": "python3",
      "display_name": "Python 3"
    },
    "accelerator": "GPU",
    "widgets": {
      "application/vnd.jupyter.widget-state+json": {
        "780bf174bbfa41008153e1f97f8564e6": {
          "model_module": "@jupyter-widgets/controls",
          "model_name": "HBoxModel",
          "model_module_version": "1.5.0",
          "state": {
            "_dom_classes": [],
            "_model_module": "@jupyter-widgets/controls",
            "_model_module_version": "1.5.0",
            "_model_name": "HBoxModel",
            "_view_count": null,
            "_view_module": "@jupyter-widgets/controls",
            "_view_module_version": "1.5.0",
            "_view_name": "HBoxView",
            "box_style": "",
            "children": [
              "IPY_MODEL_0dabd68befe5476195370a0599c5ae28",
              "IPY_MODEL_90426fbbc5de4b61b49969961fb9fda8",
              "IPY_MODEL_9124ac6c1dca470dbbc536c959cfcbfc"
            ],
            "layout": "IPY_MODEL_a4cbf02ffdb34cc8a8394aab9d4f27c9"
          }
        },
        "0dabd68befe5476195370a0599c5ae28": {
          "model_module": "@jupyter-widgets/controls",
          "model_name": "HTMLModel",
          "model_module_version": "1.5.0",
          "state": {
            "_dom_classes": [],
            "_model_module": "@jupyter-widgets/controls",
            "_model_module_version": "1.5.0",
            "_model_name": "HTMLModel",
            "_view_count": null,
            "_view_module": "@jupyter-widgets/controls",
            "_view_module_version": "1.5.0",
            "_view_name": "HTMLView",
            "description": "",
            "description_tooltip": null,
            "layout": "IPY_MODEL_4566dbd51860440e88f378ba30ebaf60",
            "placeholder": "​",
            "style": "IPY_MODEL_b02aa5b9b89745c1bec9cb198fc18c9a",
            "value": "Downloading (…)solve/main/vocab.txt: 100%"
          }
        },
        "90426fbbc5de4b61b49969961fb9fda8": {
          "model_module": "@jupyter-widgets/controls",
          "model_name": "FloatProgressModel",
          "model_module_version": "1.5.0",
          "state": {
            "_dom_classes": [],
            "_model_module": "@jupyter-widgets/controls",
            "_model_module_version": "1.5.0",
            "_model_name": "FloatProgressModel",
            "_view_count": null,
            "_view_module": "@jupyter-widgets/controls",
            "_view_module_version": "1.5.0",
            "_view_name": "ProgressView",
            "bar_style": "success",
            "description": "",
            "description_tooltip": null,
            "layout": "IPY_MODEL_534e65bcff3346f9a777d528fc426f6a",
            "max": 871891,
            "min": 0,
            "orientation": "horizontal",
            "style": "IPY_MODEL_6538aec92c504dada647056e48a26d5d",
            "value": 871891
          }
        },
        "9124ac6c1dca470dbbc536c959cfcbfc": {
          "model_module": "@jupyter-widgets/controls",
          "model_name": "HTMLModel",
          "model_module_version": "1.5.0",
          "state": {
            "_dom_classes": [],
            "_model_module": "@jupyter-widgets/controls",
            "_model_module_version": "1.5.0",
            "_model_name": "HTMLModel",
            "_view_count": null,
            "_view_module": "@jupyter-widgets/controls",
            "_view_module_version": "1.5.0",
            "_view_name": "HTMLView",
            "description": "",
            "description_tooltip": null,
            "layout": "IPY_MODEL_dbdb35cfadb4490bb16536529c9b52d0",
            "placeholder": "​",
            "style": "IPY_MODEL_600ec01b057c47f3bcd58b908669cd54",
            "value": " 872k/872k [00:00&lt;00:00, 17.5MB/s]"
          }
        },
        "a4cbf02ffdb34cc8a8394aab9d4f27c9": {
          "model_module": "@jupyter-widgets/base",
          "model_name": "LayoutModel",
          "model_module_version": "1.2.0",
          "state": {
            "_model_module": "@jupyter-widgets/base",
            "_model_module_version": "1.2.0",
            "_model_name": "LayoutModel",
            "_view_count": null,
            "_view_module": "@jupyter-widgets/base",
            "_view_module_version": "1.2.0",
            "_view_name": "LayoutView",
            "align_content": null,
            "align_items": null,
            "align_self": null,
            "border": null,
            "bottom": null,
            "display": null,
            "flex": null,
            "flex_flow": null,
            "grid_area": null,
            "grid_auto_columns": null,
            "grid_auto_flow": null,
            "grid_auto_rows": null,
            "grid_column": null,
            "grid_gap": null,
            "grid_row": null,
            "grid_template_areas": null,
            "grid_template_columns": null,
            "grid_template_rows": null,
            "height": null,
            "justify_content": null,
            "justify_items": null,
            "left": null,
            "margin": null,
            "max_height": null,
            "max_width": null,
            "min_height": null,
            "min_width": null,
            "object_fit": null,
            "object_position": null,
            "order": null,
            "overflow": null,
            "overflow_x": null,
            "overflow_y": null,
            "padding": null,
            "right": null,
            "top": null,
            "visibility": null,
            "width": null
          }
        },
        "4566dbd51860440e88f378ba30ebaf60": {
          "model_module": "@jupyter-widgets/base",
          "model_name": "LayoutModel",
          "model_module_version": "1.2.0",
          "state": {
            "_model_module": "@jupyter-widgets/base",
            "_model_module_version": "1.2.0",
            "_model_name": "LayoutModel",
            "_view_count": null,
            "_view_module": "@jupyter-widgets/base",
            "_view_module_version": "1.2.0",
            "_view_name": "LayoutView",
            "align_content": null,
            "align_items": null,
            "align_self": null,
            "border": null,
            "bottom": null,
            "display": null,
            "flex": null,
            "flex_flow": null,
            "grid_area": null,
            "grid_auto_columns": null,
            "grid_auto_flow": null,
            "grid_auto_rows": null,
            "grid_column": null,
            "grid_gap": null,
            "grid_row": null,
            "grid_template_areas": null,
            "grid_template_columns": null,
            "grid_template_rows": null,
            "height": null,
            "justify_content": null,
            "justify_items": null,
            "left": null,
            "margin": null,
            "max_height": null,
            "max_width": null,
            "min_height": null,
            "min_width": null,
            "object_fit": null,
            "object_position": null,
            "order": null,
            "overflow": null,
            "overflow_x": null,
            "overflow_y": null,
            "padding": null,
            "right": null,
            "top": null,
            "visibility": null,
            "width": null
          }
        },
        "b02aa5b9b89745c1bec9cb198fc18c9a": {
          "model_module": "@jupyter-widgets/controls",
          "model_name": "DescriptionStyleModel",
          "model_module_version": "1.5.0",
          "state": {
            "_model_module": "@jupyter-widgets/controls",
            "_model_module_version": "1.5.0",
            "_model_name": "DescriptionStyleModel",
            "_view_count": null,
            "_view_module": "@jupyter-widgets/base",
            "_view_module_version": "1.2.0",
            "_view_name": "StyleView",
            "description_width": ""
          }
        },
        "534e65bcff3346f9a777d528fc426f6a": {
          "model_module": "@jupyter-widgets/base",
          "model_name": "LayoutModel",
          "model_module_version": "1.2.0",
          "state": {
            "_model_module": "@jupyter-widgets/base",
            "_model_module_version": "1.2.0",
            "_model_name": "LayoutModel",
            "_view_count": null,
            "_view_module": "@jupyter-widgets/base",
            "_view_module_version": "1.2.0",
            "_view_name": "LayoutView",
            "align_content": null,
            "align_items": null,
            "align_self": null,
            "border": null,
            "bottom": null,
            "display": null,
            "flex": null,
            "flex_flow": null,
            "grid_area": null,
            "grid_auto_columns": null,
            "grid_auto_flow": null,
            "grid_auto_rows": null,
            "grid_column": null,
            "grid_gap": null,
            "grid_row": null,
            "grid_template_areas": null,
            "grid_template_columns": null,
            "grid_template_rows": null,
            "height": null,
            "justify_content": null,
            "justify_items": null,
            "left": null,
            "margin": null,
            "max_height": null,
            "max_width": null,
            "min_height": null,
            "min_width": null,
            "object_fit": null,
            "object_position": null,
            "order": null,
            "overflow": null,
            "overflow_x": null,
            "overflow_y": null,
            "padding": null,
            "right": null,
            "top": null,
            "visibility": null,
            "width": null
          }
        },
        "6538aec92c504dada647056e48a26d5d": {
          "model_module": "@jupyter-widgets/controls",
          "model_name": "ProgressStyleModel",
          "model_module_version": "1.5.0",
          "state": {
            "_model_module": "@jupyter-widgets/controls",
            "_model_module_version": "1.5.0",
            "_model_name": "ProgressStyleModel",
            "_view_count": null,
            "_view_module": "@jupyter-widgets/base",
            "_view_module_version": "1.2.0",
            "_view_name": "StyleView",
            "bar_color": null,
            "description_width": ""
          }
        },
        "dbdb35cfadb4490bb16536529c9b52d0": {
          "model_module": "@jupyter-widgets/base",
          "model_name": "LayoutModel",
          "model_module_version": "1.2.0",
          "state": {
            "_model_module": "@jupyter-widgets/base",
            "_model_module_version": "1.2.0",
            "_model_name": "LayoutModel",
            "_view_count": null,
            "_view_module": "@jupyter-widgets/base",
            "_view_module_version": "1.2.0",
            "_view_name": "LayoutView",
            "align_content": null,
            "align_items": null,
            "align_self": null,
            "border": null,
            "bottom": null,
            "display": null,
            "flex": null,
            "flex_flow": null,
            "grid_area": null,
            "grid_auto_columns": null,
            "grid_auto_flow": null,
            "grid_auto_rows": null,
            "grid_column": null,
            "grid_gap": null,
            "grid_row": null,
            "grid_template_areas": null,
            "grid_template_columns": null,
            "grid_template_rows": null,
            "height": null,
            "justify_content": null,
            "justify_items": null,
            "left": null,
            "margin": null,
            "max_height": null,
            "max_width": null,
            "min_height": null,
            "min_width": null,
            "object_fit": null,
            "object_position": null,
            "order": null,
            "overflow": null,
            "overflow_x": null,
            "overflow_y": null,
            "padding": null,
            "right": null,
            "top": null,
            "visibility": null,
            "width": null
          }
        },
        "600ec01b057c47f3bcd58b908669cd54": {
          "model_module": "@jupyter-widgets/controls",
          "model_name": "DescriptionStyleModel",
          "model_module_version": "1.5.0",
          "state": {
            "_model_module": "@jupyter-widgets/controls",
            "_model_module_version": "1.5.0",
            "_model_name": "DescriptionStyleModel",
            "_view_count": null,
            "_view_module": "@jupyter-widgets/base",
            "_view_module_version": "1.2.0",
            "_view_name": "StyleView",
            "description_width": ""
          }
        },
        "cf386e0661e5484bbf024caa5a8f2671": {
          "model_module": "@jupyter-widgets/controls",
          "model_name": "HBoxModel",
          "model_module_version": "1.5.0",
          "state": {
            "_dom_classes": [],
            "_model_module": "@jupyter-widgets/controls",
            "_model_module_version": "1.5.0",
            "_model_name": "HBoxModel",
            "_view_count": null,
            "_view_module": "@jupyter-widgets/controls",
            "_view_module_version": "1.5.0",
            "_view_name": "HBoxView",
            "box_style": "",
            "children": [
              "IPY_MODEL_89d5a753e6654783b61b5e7b3ab4de1c",
              "IPY_MODEL_a2d1400906604d81a44e37780abe6158",
              "IPY_MODEL_5b0b9ead385a4f89a7127070bc3d6c15"
            ],
            "layout": "IPY_MODEL_e9f7bd26569e40a09132b67b332ba396"
          }
        },
        "89d5a753e6654783b61b5e7b3ab4de1c": {
          "model_module": "@jupyter-widgets/controls",
          "model_name": "HTMLModel",
          "model_module_version": "1.5.0",
          "state": {
            "_dom_classes": [],
            "_model_module": "@jupyter-widgets/controls",
            "_model_module_version": "1.5.0",
            "_model_name": "HTMLModel",
            "_view_count": null,
            "_view_module": "@jupyter-widgets/controls",
            "_view_module_version": "1.5.0",
            "_view_name": "HTMLView",
            "description": "",
            "description_tooltip": null,
            "layout": "IPY_MODEL_8e5f92b76e454a58a84acf10d7404351",
            "placeholder": "​",
            "style": "IPY_MODEL_205d6bcb956346b0ae8f6770dd852f05",
            "value": "Downloading (…)okenizer_config.json: 100%"
          }
        },
        "a2d1400906604d81a44e37780abe6158": {
          "model_module": "@jupyter-widgets/controls",
          "model_name": "FloatProgressModel",
          "model_module_version": "1.5.0",
          "state": {
            "_dom_classes": [],
            "_model_module": "@jupyter-widgets/controls",
            "_model_module_version": "1.5.0",
            "_model_name": "FloatProgressModel",
            "_view_count": null,
            "_view_module": "@jupyter-widgets/controls",
            "_view_module_version": "1.5.0",
            "_view_name": "ProgressView",
            "bar_style": "success",
            "description": "",
            "description_tooltip": null,
            "layout": "IPY_MODEL_718ac1349b1449479ac16ae095ff6cd3",
            "max": 28,
            "min": 0,
            "orientation": "horizontal",
            "style": "IPY_MODEL_d69d586e266f4118a85f95c39b678655",
            "value": 28
          }
        },
        "5b0b9ead385a4f89a7127070bc3d6c15": {
          "model_module": "@jupyter-widgets/controls",
          "model_name": "HTMLModel",
          "model_module_version": "1.5.0",
          "state": {
            "_dom_classes": [],
            "_model_module": "@jupyter-widgets/controls",
            "_model_module_version": "1.5.0",
            "_model_name": "HTMLModel",
            "_view_count": null,
            "_view_module": "@jupyter-widgets/controls",
            "_view_module_version": "1.5.0",
            "_view_name": "HTMLView",
            "description": "",
            "description_tooltip": null,
            "layout": "IPY_MODEL_cb863b8a9cfb433eb048e4eface8fc37",
            "placeholder": "​",
            "style": "IPY_MODEL_75604cd8d84a4785b3b9f6faf35dd601",
            "value": " 28.0/28.0 [00:00&lt;00:00, 1.15kB/s]"
          }
        },
        "e9f7bd26569e40a09132b67b332ba396": {
          "model_module": "@jupyter-widgets/base",
          "model_name": "LayoutModel",
          "model_module_version": "1.2.0",
          "state": {
            "_model_module": "@jupyter-widgets/base",
            "_model_module_version": "1.2.0",
            "_model_name": "LayoutModel",
            "_view_count": null,
            "_view_module": "@jupyter-widgets/base",
            "_view_module_version": "1.2.0",
            "_view_name": "LayoutView",
            "align_content": null,
            "align_items": null,
            "align_self": null,
            "border": null,
            "bottom": null,
            "display": null,
            "flex": null,
            "flex_flow": null,
            "grid_area": null,
            "grid_auto_columns": null,
            "grid_auto_flow": null,
            "grid_auto_rows": null,
            "grid_column": null,
            "grid_gap": null,
            "grid_row": null,
            "grid_template_areas": null,
            "grid_template_columns": null,
            "grid_template_rows": null,
            "height": null,
            "justify_content": null,
            "justify_items": null,
            "left": null,
            "margin": null,
            "max_height": null,
            "max_width": null,
            "min_height": null,
            "min_width": null,
            "object_fit": null,
            "object_position": null,
            "order": null,
            "overflow": null,
            "overflow_x": null,
            "overflow_y": null,
            "padding": null,
            "right": null,
            "top": null,
            "visibility": null,
            "width": null
          }
        },
        "8e5f92b76e454a58a84acf10d7404351": {
          "model_module": "@jupyter-widgets/base",
          "model_name": "LayoutModel",
          "model_module_version": "1.2.0",
          "state": {
            "_model_module": "@jupyter-widgets/base",
            "_model_module_version": "1.2.0",
            "_model_name": "LayoutModel",
            "_view_count": null,
            "_view_module": "@jupyter-widgets/base",
            "_view_module_version": "1.2.0",
            "_view_name": "LayoutView",
            "align_content": null,
            "align_items": null,
            "align_self": null,
            "border": null,
            "bottom": null,
            "display": null,
            "flex": null,
            "flex_flow": null,
            "grid_area": null,
            "grid_auto_columns": null,
            "grid_auto_flow": null,
            "grid_auto_rows": null,
            "grid_column": null,
            "grid_gap": null,
            "grid_row": null,
            "grid_template_areas": null,
            "grid_template_columns": null,
            "grid_template_rows": null,
            "height": null,
            "justify_content": null,
            "justify_items": null,
            "left": null,
            "margin": null,
            "max_height": null,
            "max_width": null,
            "min_height": null,
            "min_width": null,
            "object_fit": null,
            "object_position": null,
            "order": null,
            "overflow": null,
            "overflow_x": null,
            "overflow_y": null,
            "padding": null,
            "right": null,
            "top": null,
            "visibility": null,
            "width": null
          }
        },
        "205d6bcb956346b0ae8f6770dd852f05": {
          "model_module": "@jupyter-widgets/controls",
          "model_name": "DescriptionStyleModel",
          "model_module_version": "1.5.0",
          "state": {
            "_model_module": "@jupyter-widgets/controls",
            "_model_module_version": "1.5.0",
            "_model_name": "DescriptionStyleModel",
            "_view_count": null,
            "_view_module": "@jupyter-widgets/base",
            "_view_module_version": "1.2.0",
            "_view_name": "StyleView",
            "description_width": ""
          }
        },
        "718ac1349b1449479ac16ae095ff6cd3": {
          "model_module": "@jupyter-widgets/base",
          "model_name": "LayoutModel",
          "model_module_version": "1.2.0",
          "state": {
            "_model_module": "@jupyter-widgets/base",
            "_model_module_version": "1.2.0",
            "_model_name": "LayoutModel",
            "_view_count": null,
            "_view_module": "@jupyter-widgets/base",
            "_view_module_version": "1.2.0",
            "_view_name": "LayoutView",
            "align_content": null,
            "align_items": null,
            "align_self": null,
            "border": null,
            "bottom": null,
            "display": null,
            "flex": null,
            "flex_flow": null,
            "grid_area": null,
            "grid_auto_columns": null,
            "grid_auto_flow": null,
            "grid_auto_rows": null,
            "grid_column": null,
            "grid_gap": null,
            "grid_row": null,
            "grid_template_areas": null,
            "grid_template_columns": null,
            "grid_template_rows": null,
            "height": null,
            "justify_content": null,
            "justify_items": null,
            "left": null,
            "margin": null,
            "max_height": null,
            "max_width": null,
            "min_height": null,
            "min_width": null,
            "object_fit": null,
            "object_position": null,
            "order": null,
            "overflow": null,
            "overflow_x": null,
            "overflow_y": null,
            "padding": null,
            "right": null,
            "top": null,
            "visibility": null,
            "width": null
          }
        },
        "d69d586e266f4118a85f95c39b678655": {
          "model_module": "@jupyter-widgets/controls",
          "model_name": "ProgressStyleModel",
          "model_module_version": "1.5.0",
          "state": {
            "_model_module": "@jupyter-widgets/controls",
            "_model_module_version": "1.5.0",
            "_model_name": "ProgressStyleModel",
            "_view_count": null,
            "_view_module": "@jupyter-widgets/base",
            "_view_module_version": "1.2.0",
            "_view_name": "StyleView",
            "bar_color": null,
            "description_width": ""
          }
        },
        "cb863b8a9cfb433eb048e4eface8fc37": {
          "model_module": "@jupyter-widgets/base",
          "model_name": "LayoutModel",
          "model_module_version": "1.2.0",
          "state": {
            "_model_module": "@jupyter-widgets/base",
            "_model_module_version": "1.2.0",
            "_model_name": "LayoutModel",
            "_view_count": null,
            "_view_module": "@jupyter-widgets/base",
            "_view_module_version": "1.2.0",
            "_view_name": "LayoutView",
            "align_content": null,
            "align_items": null,
            "align_self": null,
            "border": null,
            "bottom": null,
            "display": null,
            "flex": null,
            "flex_flow": null,
            "grid_area": null,
            "grid_auto_columns": null,
            "grid_auto_flow": null,
            "grid_auto_rows": null,
            "grid_column": null,
            "grid_gap": null,
            "grid_row": null,
            "grid_template_areas": null,
            "grid_template_columns": null,
            "grid_template_rows": null,
            "height": null,
            "justify_content": null,
            "justify_items": null,
            "left": null,
            "margin": null,
            "max_height": null,
            "max_width": null,
            "min_height": null,
            "min_width": null,
            "object_fit": null,
            "object_position": null,
            "order": null,
            "overflow": null,
            "overflow_x": null,
            "overflow_y": null,
            "padding": null,
            "right": null,
            "top": null,
            "visibility": null,
            "width": null
          }
        },
        "75604cd8d84a4785b3b9f6faf35dd601": {
          "model_module": "@jupyter-widgets/controls",
          "model_name": "DescriptionStyleModel",
          "model_module_version": "1.5.0",
          "state": {
            "_model_module": "@jupyter-widgets/controls",
            "_model_module_version": "1.5.0",
            "_model_name": "DescriptionStyleModel",
            "_view_count": null,
            "_view_module": "@jupyter-widgets/base",
            "_view_module_version": "1.2.0",
            "_view_name": "StyleView",
            "description_width": ""
          }
        },
        "48c6c69e0887481a8b4bb9e4ff9c1e40": {
          "model_module": "@jupyter-widgets/controls",
          "model_name": "HBoxModel",
          "model_module_version": "1.5.0",
          "state": {
            "_dom_classes": [],
            "_model_module": "@jupyter-widgets/controls",
            "_model_module_version": "1.5.0",
            "_model_name": "HBoxModel",
            "_view_count": null,
            "_view_module": "@jupyter-widgets/controls",
            "_view_module_version": "1.5.0",
            "_view_name": "HBoxView",
            "box_style": "",
            "children": [
              "IPY_MODEL_7af1e4a1ba554d68be33e1af64f1e67e",
              "IPY_MODEL_bad04fed6a9a417fbe0c3dfd8a826c7a",
              "IPY_MODEL_95011ba5f9d143a084ad2277ce5a8c0f"
            ],
            "layout": "IPY_MODEL_00ca89b8e31d4addbaaa8afe42d5144b"
          }
        },
        "7af1e4a1ba554d68be33e1af64f1e67e": {
          "model_module": "@jupyter-widgets/controls",
          "model_name": "HTMLModel",
          "model_module_version": "1.5.0",
          "state": {
            "_dom_classes": [],
            "_model_module": "@jupyter-widgets/controls",
            "_model_module_version": "1.5.0",
            "_model_name": "HTMLModel",
            "_view_count": null,
            "_view_module": "@jupyter-widgets/controls",
            "_view_module_version": "1.5.0",
            "_view_name": "HTMLView",
            "description": "",
            "description_tooltip": null,
            "layout": "IPY_MODEL_d47182279e054bceb777017854f83faa",
            "placeholder": "​",
            "style": "IPY_MODEL_d0f5e09842434318ac4965c233e1a835",
            "value": "Downloading (…)lve/main/config.json: 100%"
          }
        },
        "bad04fed6a9a417fbe0c3dfd8a826c7a": {
          "model_module": "@jupyter-widgets/controls",
          "model_name": "FloatProgressModel",
          "model_module_version": "1.5.0",
          "state": {
            "_dom_classes": [],
            "_model_module": "@jupyter-widgets/controls",
            "_model_module_version": "1.5.0",
            "_model_name": "FloatProgressModel",
            "_view_count": null,
            "_view_module": "@jupyter-widgets/controls",
            "_view_module_version": "1.5.0",
            "_view_name": "ProgressView",
            "bar_style": "success",
            "description": "",
            "description_tooltip": null,
            "layout": "IPY_MODEL_a59c38a68e1b4de9aff81d0d57ced2c3",
            "max": 625,
            "min": 0,
            "orientation": "horizontal",
            "style": "IPY_MODEL_359eb5860422418cb8882c7fe21caf18",
            "value": 625
          }
        },
        "95011ba5f9d143a084ad2277ce5a8c0f": {
          "model_module": "@jupyter-widgets/controls",
          "model_name": "HTMLModel",
          "model_module_version": "1.5.0",
          "state": {
            "_dom_classes": [],
            "_model_module": "@jupyter-widgets/controls",
            "_model_module_version": "1.5.0",
            "_model_name": "HTMLModel",
            "_view_count": null,
            "_view_module": "@jupyter-widgets/controls",
            "_view_module_version": "1.5.0",
            "_view_name": "HTMLView",
            "description": "",
            "description_tooltip": null,
            "layout": "IPY_MODEL_bc5db197989545808c5b249007abb8ea",
            "placeholder": "​",
            "style": "IPY_MODEL_e2bd459f02ec4625af05b8ae56e0768d",
            "value": " 625/625 [00:00&lt;00:00, 11.0kB/s]"
          }
        },
        "00ca89b8e31d4addbaaa8afe42d5144b": {
          "model_module": "@jupyter-widgets/base",
          "model_name": "LayoutModel",
          "model_module_version": "1.2.0",
          "state": {
            "_model_module": "@jupyter-widgets/base",
            "_model_module_version": "1.2.0",
            "_model_name": "LayoutModel",
            "_view_count": null,
            "_view_module": "@jupyter-widgets/base",
            "_view_module_version": "1.2.0",
            "_view_name": "LayoutView",
            "align_content": null,
            "align_items": null,
            "align_self": null,
            "border": null,
            "bottom": null,
            "display": null,
            "flex": null,
            "flex_flow": null,
            "grid_area": null,
            "grid_auto_columns": null,
            "grid_auto_flow": null,
            "grid_auto_rows": null,
            "grid_column": null,
            "grid_gap": null,
            "grid_row": null,
            "grid_template_areas": null,
            "grid_template_columns": null,
            "grid_template_rows": null,
            "height": null,
            "justify_content": null,
            "justify_items": null,
            "left": null,
            "margin": null,
            "max_height": null,
            "max_width": null,
            "min_height": null,
            "min_width": null,
            "object_fit": null,
            "object_position": null,
            "order": null,
            "overflow": null,
            "overflow_x": null,
            "overflow_y": null,
            "padding": null,
            "right": null,
            "top": null,
            "visibility": null,
            "width": null
          }
        },
        "d47182279e054bceb777017854f83faa": {
          "model_module": "@jupyter-widgets/base",
          "model_name": "LayoutModel",
          "model_module_version": "1.2.0",
          "state": {
            "_model_module": "@jupyter-widgets/base",
            "_model_module_version": "1.2.0",
            "_model_name": "LayoutModel",
            "_view_count": null,
            "_view_module": "@jupyter-widgets/base",
            "_view_module_version": "1.2.0",
            "_view_name": "LayoutView",
            "align_content": null,
            "align_items": null,
            "align_self": null,
            "border": null,
            "bottom": null,
            "display": null,
            "flex": null,
            "flex_flow": null,
            "grid_area": null,
            "grid_auto_columns": null,
            "grid_auto_flow": null,
            "grid_auto_rows": null,
            "grid_column": null,
            "grid_gap": null,
            "grid_row": null,
            "grid_template_areas": null,
            "grid_template_columns": null,
            "grid_template_rows": null,
            "height": null,
            "justify_content": null,
            "justify_items": null,
            "left": null,
            "margin": null,
            "max_height": null,
            "max_width": null,
            "min_height": null,
            "min_width": null,
            "object_fit": null,
            "object_position": null,
            "order": null,
            "overflow": null,
            "overflow_x": null,
            "overflow_y": null,
            "padding": null,
            "right": null,
            "top": null,
            "visibility": null,
            "width": null
          }
        },
        "d0f5e09842434318ac4965c233e1a835": {
          "model_module": "@jupyter-widgets/controls",
          "model_name": "DescriptionStyleModel",
          "model_module_version": "1.5.0",
          "state": {
            "_model_module": "@jupyter-widgets/controls",
            "_model_module_version": "1.5.0",
            "_model_name": "DescriptionStyleModel",
            "_view_count": null,
            "_view_module": "@jupyter-widgets/base",
            "_view_module_version": "1.2.0",
            "_view_name": "StyleView",
            "description_width": ""
          }
        },
        "a59c38a68e1b4de9aff81d0d57ced2c3": {
          "model_module": "@jupyter-widgets/base",
          "model_name": "LayoutModel",
          "model_module_version": "1.2.0",
          "state": {
            "_model_module": "@jupyter-widgets/base",
            "_model_module_version": "1.2.0",
            "_model_name": "LayoutModel",
            "_view_count": null,
            "_view_module": "@jupyter-widgets/base",
            "_view_module_version": "1.2.0",
            "_view_name": "LayoutView",
            "align_content": null,
            "align_items": null,
            "align_self": null,
            "border": null,
            "bottom": null,
            "display": null,
            "flex": null,
            "flex_flow": null,
            "grid_area": null,
            "grid_auto_columns": null,
            "grid_auto_flow": null,
            "grid_auto_rows": null,
            "grid_column": null,
            "grid_gap": null,
            "grid_row": null,
            "grid_template_areas": null,
            "grid_template_columns": null,
            "grid_template_rows": null,
            "height": null,
            "justify_content": null,
            "justify_items": null,
            "left": null,
            "margin": null,
            "max_height": null,
            "max_width": null,
            "min_height": null,
            "min_width": null,
            "object_fit": null,
            "object_position": null,
            "order": null,
            "overflow": null,
            "overflow_x": null,
            "overflow_y": null,
            "padding": null,
            "right": null,
            "top": null,
            "visibility": null,
            "width": null
          }
        },
        "359eb5860422418cb8882c7fe21caf18": {
          "model_module": "@jupyter-widgets/controls",
          "model_name": "ProgressStyleModel",
          "model_module_version": "1.5.0",
          "state": {
            "_model_module": "@jupyter-widgets/controls",
            "_model_module_version": "1.5.0",
            "_model_name": "ProgressStyleModel",
            "_view_count": null,
            "_view_module": "@jupyter-widgets/base",
            "_view_module_version": "1.2.0",
            "_view_name": "StyleView",
            "bar_color": null,
            "description_width": ""
          }
        },
        "bc5db197989545808c5b249007abb8ea": {
          "model_module": "@jupyter-widgets/base",
          "model_name": "LayoutModel",
          "model_module_version": "1.2.0",
          "state": {
            "_model_module": "@jupyter-widgets/base",
            "_model_module_version": "1.2.0",
            "_model_name": "LayoutModel",
            "_view_count": null,
            "_view_module": "@jupyter-widgets/base",
            "_view_module_version": "1.2.0",
            "_view_name": "LayoutView",
            "align_content": null,
            "align_items": null,
            "align_self": null,
            "border": null,
            "bottom": null,
            "display": null,
            "flex": null,
            "flex_flow": null,
            "grid_area": null,
            "grid_auto_columns": null,
            "grid_auto_flow": null,
            "grid_auto_rows": null,
            "grid_column": null,
            "grid_gap": null,
            "grid_row": null,
            "grid_template_areas": null,
            "grid_template_columns": null,
            "grid_template_rows": null,
            "height": null,
            "justify_content": null,
            "justify_items": null,
            "left": null,
            "margin": null,
            "max_height": null,
            "max_width": null,
            "min_height": null,
            "min_width": null,
            "object_fit": null,
            "object_position": null,
            "order": null,
            "overflow": null,
            "overflow_x": null,
            "overflow_y": null,
            "padding": null,
            "right": null,
            "top": null,
            "visibility": null,
            "width": null
          }
        },
        "e2bd459f02ec4625af05b8ae56e0768d": {
          "model_module": "@jupyter-widgets/controls",
          "model_name": "DescriptionStyleModel",
          "model_module_version": "1.5.0",
          "state": {
            "_model_module": "@jupyter-widgets/controls",
            "_model_module_version": "1.5.0",
            "_model_name": "DescriptionStyleModel",
            "_view_count": null,
            "_view_module": "@jupyter-widgets/base",
            "_view_module_version": "1.2.0",
            "_view_name": "StyleView",
            "description_width": ""
          }
        }
      }
    }
  },
  "cells": [
    {
      "cell_type": "code",
      "metadata": {
        "id": "RwBy7fwhI5ao"
      },
      "source": [],
      "execution_count": null,
      "outputs": []
    },
    {
      "cell_type": "markdown",
      "metadata": {
        "id": "j3CbOywpU5ck"
      },
      "source": [
        "# New Section"
      ]
    },
    {
      "cell_type": "markdown",
      "metadata": {
        "id": "PULy7QN23zJ2"
      },
      "source": [
        "Visit **ChrisMcCormickAI** on YouTube for more explanation.\n",
        "[Image Reference](https://colab.research.google.com/drive/1Y4o3jh3ZH70tl6mCd76vz_IxX23biCPP#scrollTo=86C9objaKu8f)\n",
        "\n",
        "![image.png](data:image/png;base64,iVBORw0KGgoAAAANSUhEUgAAAl0AAALTCAYAAAAsOLeDAAAgAElEQVR4nOzdd3gVVf7HcRd0wYqr665bfrsrWLCg9ITQewcFUUEFFARCegFC7713EEFAehOQIgikQ0hCQgIhJCGE9N77be/fHyf3hkhQIKSA39fznIeSZO6ZydyZzz1tnkAIIYQQQlS6J6q7AkIIIYQQfwQSuoQQQgghqoCELiGEEEKIKiChSwghhBCiCkjoEkIIIYSoAhK6hBBCCCGqgIQuIYQQQogqIKFLCCGEEKIKSOgSQgghhKgCErqEEEIIIaqAhK7foNfrSUxMJCQkhJs3b5KTk1Pm6xqNBo1Gg06nq/S6GAwGdDodxcXF6PX6Sn89IYQQQjxcVRK6tFot+fn5ZGdn31Hy8vIoKiqqkuByvwoKCpg1axYNGjTgo48+4tSpU0BpAIqMjOT69eukpqZiMBgq9FoGg8FUyqPRaEhISODKlSukpqai1Wor9HpCCCGEqFpVErquXr2Ki4sL7du3p127drRu3ZrWrVvTtWtXRo0axdatW4mOjq6KqtyX/Px8ZsyYQf369enduzc//fQTADqdjuvXrzNo0CDeeOMNJk+eXOHQWFRURF5eHoWFheV+PTo6mqFDh/L6669jZ2dHUFBQhV5PCCGEEFWrSkLX0aNH6dq1K/Xq1eOf//wnjRo14r333qN+/fr873//o1GjRgwaNIh9+/aRm5tbFVW6J3cLXVqtlitXrtChQwdq167N119/XaEuP41Gw/r16+nfvz/jxo0r93siIiJo3bo1derUYfDgwfj4+Dzw6wkhhBCi6lVJ6Nq7dy/m5ub84x//4NNPP2XXrl3s3LmTzZs3M336dDp37swzzzxD+/btOXPmDFlZWVVRrd9VUFDAzJkzTaHr2LFjgBrrlZaWxq5du1i4cCHHjx+vUPdiUVERVlZW1KlTh3bt2qHVau/YXkZGBj/88AOLFy/m6NGjJCQkVGjfhBBCCFG1qiR07d+/HwsLC95++20WLFhQ5mtJSUmsW7eOBg0aULduXSZMmEBYWFhVVOt33S10GRUVFVFUVFTh8VVarRYbGxuefvppOnfuXG7oMhgMaLVaCgoKyv26EEIIIWq2Kg1dDRs2vCN0AQQEBDBq1CiefPJJWrVqhaenJ6C696KjowkKCiIvL4/s7GwiIyMJDAzkypUrJCQklAk8BQUFxMfHc/XqVQIDAwkMDCQkJIS4uDgKCgrKrZvBYKCoqIiYmBjTzwUFBXHjxg2ysrJMA+lvD10GgwG9Xk9kZCSXL18mJibmju3qdLoy9TWWsLAwUlNT0el06HQ6QkJCCAwMZMiQITz99NNYWFiU+f6UlBQAiouLuXXrFkFBQcTFxZU79quwsJCEhARCQ0PLbCM8PJzU1FSKi4vv+JnU1FRCQ0MJDQ1Fp9ORk5NDZGQkwcHBBAYGEhwcTFxcHBqNRoKeEEIIUQFVHrrmz59/x9ejo6NZvnw5TzzxBM8++6xp7JS/vz/Dhw/nhRdewNvbm1OnTtGnTx9q167N3/72N6ZNm0Z6erppO1euXGHChAn885//pHbt2jzxxBPUr18fe3t7AgMDy61bcXExERERWFpa8q9//YsnnniC559/nu7duxMeHs7cuXN544037ghdRUVF9O3blzp16jB69Og7tpubm8vx48fp27cvf/rTn3jiiSd44oknMDMzY+3atWRmZpKZmcl///tf09fKK8uXLzcdoyFDhvDcc8/h5OTE9evX73jN0NBQpk6dyrvvvltmGxYWFqxfv56oqKg7fmbDhg00atSI999/n5ycHM6ePUvPnj158cUXeeKJJ3j55Zext7cnOTlZQpcQQghRATUqdNWqVYsGDRrwyy+/AODj48Nnn31G3bp1cXBwoGXLljz//PM8/fTT/POf/2TYsGEkJycDsHPnTjp16sQLL7xA3bp1+fDDD+nSpQv/93//xwsvvEDLli05d+5cmRYvjUaDv78/r7/+Oi+88AKvvvoqbdq0wcLCgpdeeon/+7//49133+WFF164Y0xXRkYGPXv25IknnmD48OFl9ic5OZmpU6dSv359XnzxRd58800+/vhjzMzMePXVV3n99dextbUlLy8Pe3t7BgwYQP369alVqxZ//etf+eijjxgwYAAfffQRR48eBSAqKooBAwbw7LPPYmVlxZUrV0yvV1xczPHjx+nWrRv16tXj1VdfxdzcnIEDB9KwYUP+8pe/8NJLLzF48OA7wueyZct44403+Pe//82YMWN47bXX+M9//kP79u1p2bIltWrV4qWXXmLYsGFcvnz5IZwNQgghxB9Tjehe9PPzY+jQoTz11FP0798fPz8/QIWuwYMHU6tWLf773//Srl075syZw9GjRzl58iQ+Pj4UFhbi6urKxx9/zNtvv83nn3/OkSNH8PPz48KFC+zevZvPP/+cZ555hs6dOxMXF2dqsQkMDGTMmDHUrVuXbt26sWHDBry8vPD09OT777+nU6dOvPTSS9SuXfs3Q9ewYcPK7M+6deto0qQJb7/9Nk5OTpw9e5ZLly7h6enJ1q1bsbe3Z8yYMWg0GkJCQvD392fw4MHUrVsXMzMz/P39TSUpKQlQoWvgwIGm0HX16lVABa6QkBC6d+9OvXr1GDRoELt378bT05NLly5x9uxZZs6cSaNGjfjb3/7G0KFDy3QVLl++nNdff526devy2muvMWrUKHbv3o23tzfu7u4sW7aM559/nn/84x9s376d7OzsSjlHhBBCiMddtYeumJgYVq5cyRtvvMHzzz/PihUrTGOkLl68yOeff86f/vQnXnnlFebMmWPqIjMuUKrVapk2bRr/+c9/6Ny5Mx4eHmW2n5OTw44dO2jYsCHPP/88np6e5OfnU1BQwK5du3j99dd57rnn2LRpU5kZgVlZWezdu5eWLVvy7LPP3lPoMhgM5OTk8MUXX/Dss8/Sq1evO9bTyszMxM/Pj2PHjpkWQ719IH2XLl3Q6XR3dOXdunWLjz/+mGeffRZra2tT6EpLS2P16tW8/PLLvPvuu2zbto28vLwyP2vsPn3ppZd46623uHr1qml814oVK0zHoFevXri6upqW7TAYDISFhdGqVSvq1KnDtGnTyu2iFEIIIcTvq9LQ9e9//5uhQ4dy5MgRjhw5wq5du5g6dSpt2rThhRdeYNCgQVy9etU0SNwYup566il69OjBxYsXy2xXr9eTnJxM//79eeGFFxg5ciQZGRmkp6ebSmZmJq6urnz66ac8++yzbN68mcTERBITE1mwYAHPPvssDRs2JCws7I5ZiHl5edjY2PCvf/3rnkKXVqslKCiI9u3bU69ePezt7cs9Hnq9vsxiqsYlI4yzF8sbtH630BUZGUn37t15+umnGTt2bJlux9tt3bqVli1b8q9//YuNGzeaWqyMoevf//43mzdvvuNRRwkJCTg7O1OvXj2++eYb6WIUQgghHlCVhq4///nP/P3vf+f999+nUaNG/POf/+Qf//gHr7/+Or179yYwMJCioiLTzxlDV926dRk/fvwdS0lotVr8/f1p27Ytf/3rX/n000/Zv38/e/fuNZVDhw6xevVq+vXrx9NPP838+fOJiooiPDycCRMm8Nxzz9G/f38SExPvqHdBQQFz5sy5Y/bi3UJXcXExBw8epGnTpjRq1IhVq1bd0/GpSOi6evWqaeLA0qVLTWPcfu3cuXN8+umnvPzyyzg5OZGWlgaUhq769etz+vRp8vPzy/zc7S1pn3/++R3BVwghhBD3pspD1yuvvMI777zDm2++SevWrXFxccHNza3cJRBuD1329vaEhoaW+bpGo8Hd3Z1WrVr95gxAY3nmmWdYsmQJ0dHRBAcHY2NjwwsvvMCQIUPKDSu/tThqeaGrqKiIPXv20LhxYzp16sS+ffvu6fhUJHQFBwdTr149atWqxerVq8vM5rxdYGAgY8eO5eWXX8bR0fGO0PXaa69x4sSJO0JXRkYG3377LX/961/54osv8PX1vad9EkIIIURZVRq63nrrLWbOnElcXByxsbEkJCSQkZFBYWFhucsR3EvocnNzo1WrVrz00kv07t2bFStWsHz5cpYtW1ZuCQ0NpaCggMuXL2NlZUW9evX4/PPP7xq6ylun67dC165du2jcuDHm5uZs2bLlno5PRUJXUFAQzz//PH/6059Ys2bNXUOXr68vI0eO5OWXX8bOzo7U1FTg90NXeno6GzdulNAlhBBCVFCVr0i/aNGie/653wtdOp2Oa9eu0alTJ1555RWsra2JjY0lJiam3BIdHU1+fr5pYdNJkyaVO6vRKD8/n+nTp99zS5dx6YYWLVrQoEGDcpfHKE9FQte1a9d44403eOqpp5g7dy5xcXHlvsbhw4fp3r07r776KosWLSIzMxOQ0CWEEEJUlRqxTtfd/F7o0uv1ZGZmMnDgQOrVq8eIESNMYeL3pKWlsWzZMp577jnq169PQEBAmfFkxcXFhIWF0b9/f1Mr2u+FLp1Ox40bN+jcuTPPP/88NjY25T4iqKCgwNTSZHyt20PX/cxevHnzJn379uWZZ57hyy+/LDcUabVaFi9ezGuvvUaDBg3w9PQ0dedK6BJCCCGqRpWErn379j1w6BoyZMhdQ5fR/PnzadCgAU2bNmXt2rWEhISQnp5OdnY26enpxMTEEBAQwC+//EJeXp5pRfnDhw/TvHlz6taty8SJE/H19SU9PZ3k5GR8fHyYMGECr732Gn/+85/veckInU7HmDFjePHFF2nbti0//vgj8fHx5OTkkJKSwsWLF9m+fTubNm1Cr9ebloxwcnLiueeeo3nz5oSGhpKRkcHNmzdNY6+ioqLKDV3p6emsX7+ef/3rX7z11lvMmTOHoKAg0tLSyM7OJi4ujuPHj9O7d2/+/ve/M3DgQPLy8tDr9YCELiGEEKKqVEno2rt3L61ataJhw4bMmzfvnn/OuDhqnTp1sLOzu2voCgkJYeTIkfzlL3/hlVdewdnZmb1793L06FH27dvHypUrGT16NF26dCE2NtYUOCIiIpgzZw4vvvgizz//PLa2tuzdu5etW7diZWXFq6++Svv27XnllVfo3bu36fFEv7c46u7du+nYsSMvvfQS7733HuvXr+enn35i27ZtfPHFFzRs2JCePXuWeXD10qVLee211/jb3/7GxIkT2b9/PwsWLDCtO2Zckf6ZZ54psyK9TqcjISGBAQMG8Pe//51GjRphY2PD7t27OXLkCOvWrcPc3Jy//vWvdOvWjb1795ap6/Lly2nQoAGvvfYax48fLzd0bdiwQUKXEEIIUUFVErp2796Nubk5b775JrNnz77nn7tw4QKffPIJderUwcbGhmvXrt31ez09PRk6dCi1atUqd+biU089xbvvvnvHw6mjoqL46KOPeOaZZ8p8/yuvvMK4ceNwd3enQ4cO9OrVy/RIHmO3Zq9evcoNXXq9nu3bt991VmXjxo3ZuHFjmZ/x9vZm2LBhd3324u3diL9ej0un0xEVFcUXX3xBvXr1yn3Nbt26cfDgwTuOmzHs/e9//+PYsWPlhq61a9fy8ssvM2TIEHx8fH7/FyeEEEKIO1RJ6AoLC2P9+vUsW7bsvlpKEhMTOXLkCC4uLri6upKRkXHX7y0sLCQhIQEfHx82btzIpEmTGDduHDNmzGDjxo2cOXOGuLi4O8ZYabVaEhISOH78OAsWLMDFxYWlS5dy+vRp0tPTycjIYNWqVfzwww+mwGYwGNDr9WzevJmZM2fy888/l9mmwWAgNzeXa9eusW/fPqZOncq4ceNYsGABx44dIzw8/I5FSAsLCwkPD2fPnj1MnjyZSZMmsW3bNiIjIwG1Qv7hw4eZMmUKP//8c5lZisYuypSUFDw8PFi/fj2TJk1i/PjxLFmyhFOnThEVFXXHSvWglpJYu3Ytc+fOJSYm5o7jU1hYSEBAAC4uLhw8eND0WCIhhBBC3J8qCV35+fnExsZy69at+3p2X3FxMSkpKYSFhZGRkYFGo/nN79fr9RQUFJCQkEB4eDhhYWFERkaSkJBwR8j59c9lZmZy69YtwsPDiY6OJjs72xRmbt26RUJCQpmB9gBxcXFERkaaxl2VV/+0tDRu3LhBWFgYt27dIjMzs9zB9cbvT01NJSIigoiICJKTk02vaQxVERERpKWl3fVY5ObmEh8fT0REBGFhYaZ9udtr5ubmEhsbS2RkJEVFRXcM4Nfr9eTk5BAWFkZycrLp8UFCCCGEuD9VErqEEEIIIf7oJHQJIYQQQlQBCV1CCCGEEFVAQpcQQgghRBWQ0PWQZGdnc/LECYKDg39z0L4QQggh/pgkdD0EeoOBmzdv8vWwYSxdssS0zIMQQgghhJGErocgPT2dYz/9hFmzZvTr3RtPT8+7LtEghBBCiD8mCV0VZDAYCAwIwMHOjibvv897b7/NmtWriY+Lq+6qCSGEEKIGkdBVQfn5+ezftw8LMzPMmjen6Qcf8Plnn3Hml1+ktUsIIYQQJhK6Kujy5ctMnjiR995+GwszM8xbtKC1uTnfbthA+l1WqhdCCCHEH4+ErgooLi5my+bN9O7ZkxZNm2JhZoaFmRnNmzThq6FD+enIkequohBCCCFqCAldFRAcFISjnR1mzZvTqmVLWpub09rcHLPmzWnTqhVzZs2ioKCguqsphBBCiBpAQlcFfLthA3169qRlSSuXMXS1atmSZo0b89XQoXh5elZ3NYUQQghRA0joegB6vZ6EhATGjBpFi6ZNy7RytTY3x8LMjJbNmtGtSxdmzZhBfn4+er2+uqsthBBCiGokoes+GQwGCgsL2b5tG3179aJ5kyZlAtftrV1mzZvzUf/+BAYEUFRUVN1VF0IIIUQ1ktB1n/R6PWnp6Yz86ivaWliYZiuWV1o2a0ZbCwtmTZ9ORkZGdVddCCGEENVIQtd9Sk9P57tvv6V5kya8/eabNHrnHZp98EGZsGXeogVN3n+fdxs25N2GDWlrYcF5b29yc3Oru/pCCCGEqCYSuu5TTnY2P584wdo1a1i7ejXr167F3saGph98YFogtUfXrkyZNIlNGzeydvVq1q1ZQ8jVq+Tl5VV39YUQQghRTSR03SeNRkNCfDyxMTHExsYSGxPD5m+/5d2GDbEwM6NF06YMGjCAHw8eJDEhgdiYGGJiYsjMzESj0VR39YUQQghRTSR0VZDBYODg/v28/cYbpoVRB3/yCefOnq3uqgkhhBCiBpHQVUEGvZ4D+/aVCV2fDRrE2TNnqrtqQgghhKhBJHRVkIQuIYQQQtwLCV0VJKFLCCGEEPdCQlcFSegSQgghxL2Q0FVBErqEEEIIcS8kdFWQhC4hhBBC3AsJXRUkoUsIIYQQ90JCVwVJ6BJCCCHEvZDQVUESuoQQQghxLyR0VZDBYODgvr283eB/tG7RlOYfvMcXnw7E9ayELiGEEEKUeiihy2AwUFCoITohE3e/SPadDOT7Q76s2+3Nut3erN/zeBfbKWt4r1kXWrTtT1OLPnTrPwKXeVtZv+d8tdetMorxd/rdAR/2nAjkzIVwIqJTyc0vehinkxBCCPFYqnDoKirWEhGdys+eoaza4cmoGYfoabmNNkM30WTQOpp8so6mj2v5dB3NPltPs4+X07T/LJp9OIdmH86h6UfzaTZoFU0/21D9dayE0uSTdTT9dD2tPt9Ij9FbGT55Pws3n+Oo61WuR6Wg0eowGAwP4/wUQgghHhsPHLqMrVuhkcnMXH+ajsM30rDvMt4esJFmX+7C7OuDtP7mKBbfHHnMy1FajzpG2zEnTaXN6OO0HvVTDahb5e2zxTdHafX1IZp/uYt3P/6WN/sup+3QdUxccZLQm0nk5Reh0+sf5rkqhBBCPNIeOHQVFWs56RlKz9Gb+E/XRbQYtp+Odu50db5AV6cLdHU6Txcpj3XpaizOPnRy8MBsxI+81W8Vb/dZyHH3a2Rk5z/Mc1UIIYR4pD1w6PrxTDCfOe+k8ScbaD36BB3t3Ons4EUXRyl/xNLZ0YuO9u60GXOSJp9tpufozRw5d5Xs3MKHeb4KIYQQj6wHCl2Xr8djM+8wzQZvwmLkUTo7eNK5Btz4pVR/6ezgSduxp2j86Sa+cNmDu9+Nh33OCiGEEI+k+wpdBoOB/MJiVv7gQedR22g+dD9dHDyr/UYvpaYVb1qNPML7H69n0RZX4pOzKuv8FUIIIR4Z9xW6dDo9EdGpfD1lDy2H7qSD9Vm6OHrXgJu8lJpUOjt40dneg/c/3crXUw/yy/mwyjp/hRBCiEfGfYWuYo2WQ78E02PUZpoPO0hXpwvVfoOXUkOL03nMRxymy6jtrPrBA51OZjIKIYT4Y7uv0JVXUIzt3B9pM3wrrUefULPYqvvmLqXGlvY2Z2n5xfc4LTpCcnpuJZ3CQgghxKPhvkJXbn4RQ5x30GrodtqOPYV0LUr5rdLJwYMmg7/HcuZ+YpNkXJcQQog/tvsKXTl5hfT8ZiMtv/yB9tZnkNAl5bfLeRp9soWvJ+8mKi6jss5hIYQQ4pFwX6ErO7eQTsPX0eLLHXSwkUH0Un67dHW6wHuDtjBs4i4iY9Ir6xwWQgghHgn3H7q+MoYuaemS8tulTOiKldAlhBDij01Cl5RKKxK6hBBCiFISuqRUWpHQJYQQQpSS0CWl0oqELiGEEKKUhC4plVYkdAkhhBClJHRJqbQioUsIIYQo9UiHrs4OnnSy96S9rQftbT3oaO9J5xr4AO7ODp7llvL2pYOdB+1sSoqtBx3tPH73Z2tqkdAlhBBClKqRoauzgyedSkLI7aXc8OHgSXdnL7o7e9HFsez3VXfouD1w/Xpffr0/nezVPnd18qSHsxc9nL3o7uxdsk8eJcXTFCxryv5J6BJCCCHuTY0MXe1tPWht5UYrSzfMS0orSzfaWLvToaTlp5O9Jx1sPXBcE8T5q2m4X05lynfXaGfrUaNCiaqrBx3sPOhUUidj69ztgauttTtfzPHjh1PRRMTlEp2Yx7WobBbuCqPneG/a2rjTxVGFro526meqe98kdAkhhBD3rsaErs4OKog0H3WOgVN9cFwbzJzt11m6J5xFu8KY/v01LJcF0mOcNxZWKny1t3Vn9tZQrkfncCspj/WHI+lgq8JNTQpdHe08+HiqD7t+iSEgPJNtP0fT1+W8CmL2nrSzccd6xWV+8k4gPaeYwmIdOfka8gq1nLiQyJTvQpi9PZTQ6ByOX0hk1OIAOtvX/OAloUsIIYQoVSNCl7Hb7MNJF5i1LZRj5xMICM8kNDqHiLhcwmNzCYnKxjc0gx894pm8KYT2dh60s3Fn7vZQbsTlEp9WwKafbta40NXJQY3TslwWiP/1TIo0eryC0/hqwSXa2bjT0c6DjvYerDscSWJaIVm5Gg55xLNwVxhL9oTjsCYY53XBHPGKR6c3kJZVxPTvr9Hd2YuO9h7Vvn8SuoQQQoh7U+2hq3NJKOk38Twbj9zkys0s8gq0pGUVczUqm/NX07kQks6VyCwyc4vJyddw4kIiH0+/iIWVG7O3qdAVl1rAt0drbuj6asElDrjFcSksk52/xDBkli/tbVWLXRdHT/a7xaHV6olOysd25WW6OKr6d7TzZMhsP779KYrAiEy8r6ThsCaIrk7S0iWEEEI8Sqo1dBm73vpOPM+MLdfIyilGpzMQHpvLrjOxTNt8jTFLAxm7PJApm0LYey6WwIhMTvgkMmpJAK3G/nbo6uygWtA6lMxuvL10tCs/nBkH8Xe0L/v9HW6bHfnr0vG2GZS/nklpHLPV3dmLrxb4Y7sqiGHz/Eta9zxoa6OC1wG3OLQ6A9ejc/h46gVaW7nRxsqd9rYedHP24rMZvjisCeabxQH0nuBNR3sPU91vfx3V7XpbvUu6MMsb52b8XuM4uY52nmV+rqLBVUKXEEIIUaraQ1cHWw/sVwdxOSILg8FAdp6G2dtC6WTvibmlCh6trdxpNdaN1lZuWC4LZMLGK/SbdIE21m7MKS90lcz2Mwafrk5edCuZ4djd2YtuTl6msNTJvuySDMYw1NnBs8zPdL0tJBpDTCf70n93dbpz+7eHnY4lg+mNgUaFIQ+6OnrSa7w3hz0T0Or0XI/O4fNZvnRz8qKrkxddHNVrtLf1oL2dKh1vG5R/+/Y72atWs2631aOrk1dpPX+1n8Y6d3FUv4fODp50cyq7vxUJXhK6hBBCiFLVGro62XvS2d6DBTuvo9XpKSrWse3naD6e5kNbG/cyoaWTvQobKrCUtF7ZuJcbujqWrHXV0c4Tx7XBbD8dzUnfZM5fTcMjKI0TFxKZ+f01+k28gMVYtzKhq7WVGz3GeTN+w1VOXkzEMygVt8AUtv0cjc3Ky6Z6GQfAd7L3wHJpIHvPxeIZnIpXcCo/esTjvO4KPcd7m1qaujt7seZQJG6Bqaw+eIM21mo7P3rF4xWcRkJaIQaDgdwCDb6hGVy4msYR7wRGLwmgi6MnzuuC8b2Wzq4zsQye5Ut7Ww9T6Gpv64GZpSvD5vmx/kgkZ/yT8b6SxtlLyfxwKprBs3xNrWbG/TS3dGXp3nDO+CezYEcYLUe7Mm3LNX72TcIrOJVleyP4ZPpFOtg++LgxCV1CCCFEqWoNXW2s3bFZEcTZSylodXpikvIZPt/f1Ar16+6z29e7Ul167szZXjZ0tbdRwezz2X4cO59IfGoBGbnF5ORrycnXkF+oJSdfS1J6Iaf9krFdeZk2Vu50cvCktZU7lssC+dEzgYS0QnILtOQWaMkr0JKRU0xgRCYr9kfQ1tqddjYeDJzqw47TMcSmFJCVqyG/SEt+kZbsPA3xqYVsPn6L5qPO0dHOg8EzffEKTiO/UMthzwQsxrrRyd6T0OgccvI1aLR6DAYDOr1B1bNIx/WYHBzXBNNv0gU2H48iv0jLzYRcRi8JoI21u6lLsOc4b3acjiEkKpu0bDXuLbdAzX7MzC3mVmI+Kw/coP+kC7Qv6X5tOvIcxy8kklegxTc0g7U/RpKYrvY5v9tw2PkAACAASURBVFDLCZ8kLJcF0tbaXUKXEEII8RBUa+iyGOvGzK2hhERlU1isw/96Br3Ge5taZH6vlaz80OVOezsPRi0OwOdaOsGRWex3jWP1wRusOBDBiv0RnPJNIimjkNSsIg65x9Hsm3OmMVsbj0aRkllEalYR6w7fZNWBG6w6cIMjXgl4BqWy7edbtLF2w9zSlbnbrxMWk0NyRhGn/ZJZvv8GKw/cYNvP0Vy5mc0Btziaf6NC1+ez/fC/noHBYOD4hURaW7nRwc6DOdtDWX3wBpdvZKHTG0hKL2Tz8ShWH4pkzvZQPp7mw6BpF/nhVDR6vYGE1AIslwbSumTZjJ7jvFm4K4yoxHwyc4txC0xh3Y+RrDxwg41Hb+J3PYPsPA1BN7KYuTW0JOx50GTEWc5eSsZgMJCVpyE8NpebCXlsO3mLbT9Hs2BnGEPn+pta1CR0CSGEEBVTraHL3NKNxXvCiUnOJ7dAy8mLiXR19KTdPdzo7xq6SmYEfjL9IvN2XGf6lmt8OdePnuO96TFOjXEatSQAz6A0dDo9V25mYT7GlbbW7nw46QLHLySiNxgIjc6hnY0H3Zy86DHOmxELLzFp01Wc1gbTztad5qPOsfdcLNl5GoIjs5n8XQgd7T3p7uzNJ9MvMuP7UFw2XqW1lVtJ6PLF93oGelPoUvXs7uxFX5fzHPVSY7rConMYOtePXhO86e6sFor9bIYv236+hV5vIDYlnzFLAmht5UZ7Ww8+mXGR4MgsijV6vK6kqm7Ncd70cPaij8t5nNcFc+VmNjn5Wo54JdBv4nna27rTZMRZzvir0FWs0XMzPo/Fu8MZNM2HQdMvMmj6Rfq4nK/QDEkJXUIIIUSpag1dZmNcWXXgBskZRWTladjnGktXR897al25W+hSLVZqtmGrsW6YjXE1tSoZx4a1snRj15lYACLj8+jrcp52Nu4MmHKBkxeT0OkNXI/Jodd4tX/tbD2wsHLDYqwbbUvGYrUYfY79bnHk5Gu5diuH2dtCTTMe21i7m1bQNw6+/3XoamPlbhog39nek4PucWog/a0cPpnmYxps39bag89m3hm6Wlm60c3JC8e1wRgMBgqLdczdcZ3uzl63zUb0wGyMK0e9Eygo0hEQnonD6iBaj3Wj8W2hKym9kD1nY7GwdKOtjTvtbpv1WJHfr4QuIYQQolS1h67VB2+QmllEdp6GA25xDyV0dTIu+2DnSWd7T3pP8GbILF8slwYydlkgQ+f6ceJCIgAxyfmMXHiJjvYqLG37OZr8Qh05+VpO+iQxfsMVPp7mQ9eSZyB2LBlTZhyIfiM+j8IiHdejcxi/4QpDZvnSY5xa0qGj8XmJdwtdJWPTujp6csgjHp3OQFh0Lp9Nv3jbYP3yQ1fL0a58Mv0i3/50E73eQHJmEfN3XGfEokuMXab203JZICMXXeKwZzypWUVcvZnN1M0htLIsCV0l3YtBN7KYsPEq5pZuZZaiqGiR0CWEEEKUqubuRRVc4lLyycnXcux8Il0dvR5KS1c7G3faWLkzfv0VfjqfwNWb2WTmFpObryErr5iiYh2gQteIhZfoZO+JxVi1JMUp3yTV7abVk1+o5eK1dObvDOOjKT60HO1KJ3v1CKL+E8+z71wsOfkadDoDuQVaQqNz+O6nKD6boRZvNc6mfNihq8UoV4bN8+cn7wQMBgNanZ7cAg3ZeWoQfW6Bhtx8Ddl5xRRpdOj1BkKispn+/bU7Q1dkFi7fXsWiZEKBhC4hhBDi4avW0NXK0o25P1wnPDaXgiIdvtcy6DnOm3Y27hUYSK+67AZM8eGAWxyxKQXk5KswEh6by5Wb2QSGZ5KcUQSo0PV1SehSyyN4MmCqDxM2XsUnJJ3UjCJy8jQkZxThGZTK9M3XaGvtbloXq6/LeZzXBnPYM57YlHzyC7WkZxdzPTqH9YcjaW/rTnsbd4bMeviha/h8f46dV6GrqFhHRFwuQTeyuHIzu6RkqRKp/v2jZzyWSwNpY+VeJnQFR2Yx8bbQ9TACl4QuIYQQoqxqDV2trdxxXBOMZ3AqWp2BuJQCvlmk1qXqWM6K6MalJDraeZSsMn9n6Gpn7U5bGw+W7YsgMj6P1EwVllbsj8BpbTDWKy4zbJ4/J3ySgLKhy7jt9rYedB/nheXSQOZsu85RrwTiUwvJydfgGpBS5pmJ7W3d6e7sxbB5/kzbEsLm47eISsyjWKvHJyQdq+WBtBrr9tBDV8vRrnw+24+952LR6w0kZRQxf2cY3ywOwHrF5TLFquTPrxZcMj1ou4mELiGEEKJKVWvoam+rZhluPXkLjVZPQZGObSdvMWiaD21KZveZ1uWy86StjQo4/Sedp+c4b9pa37k4altrd9pYu+MakKJmFt7IYsGO63R19KSNtTtmY1x5d9gZtp6MBsqGrva2qluyrY077WzcaW3lRhcHT4bN8+eUbxLFGj0RsbmmLsO2Jd/b1sa9ZLFTD/q4nOeAWxzp2cVExOWyeE84LUa7Mnjmww1dZmNc6T/pAot3haE3GEjPLsZ6xWVajHbFfIwbrcaWFEs3zC3VhAKLsWpCQScHT5qMlNAlhBBCVKVqX5G+va0749YHExaTi15vID61gCV7wvl0xkV6jPM2LYra3dmLT2f4MnVzCAt3hTG6ZAbfr5+92NZahSW/0AzyC7X4hKTjsvGqaX2qbk5eDJ3nz9lLKUBp6Opgp7oKv5zrx+CSx/AYuxzb2biz/VQ0+UVaIuJU6Gpr7c7Quf58OdePPhPOm5572HK0K6sO3iAmOZ8b8bks21c5ocu4PyMXXVJjyvR6dv4Sw+ez/cqs5N/ZwZMezt58PO0iA6b4mAb3S0uXEEIIUbWq/dmL7W09+HiaD6sO3CA7T1OyAGgh+11jmbDhCsMXXGLEwkvYrbrMftc44lMLuB6dw5zt12kxyrVs6PqptKXrkHs8qZlFxKUUsPtMLF/N9+fLOX44rA42tYLpDQYVuhZcorWVG05rgzl2IYGD7nHYrLzMl3P9+GKOH5M2XcU3NAONVk/QjSza2XrQ/BtXjp1P5Bf/ZKZtCeHLuX4MnevHVwv8OXMpmex8DZcjMpm48QrmY1T3ot89hK7wmFw+m3Fn6Nr+s1ocNS4lnzFL1Tpd7Ww9GDDVhwtX00xjyb4/cYuRiy4xdJ4fQ+f58dV8fxzWBLHpWBSLdoWbHvYtoUsIIYSoWtUeujo7qG7DHs7ebPopyhS8ijVq5qDpUTyFWoo1evR6A57BaXw20xeLsW7M++E6N+LzSCxZyb19yTpTX87x41JYJnq9gSKNnpx8DWnZReQWaNFo9RQW6ygs1qklIxZdovVYN8avCyYgLJNijZ7cAi3p2UVk5BSTV6BFq9NzIy6PFfsjaG2lZv+dvZSCRqsnv0hn2n5Ovtp+Zk4xu3+JoYOdB+1s3U31Ma5I37ac0GXQG7gZn8fgmWVD15BZvuz8RYWupPRCxi4LNIW2TvaefDnXj9BbalX/omId2fka0nOKSc1S9ckr1FJYrOP4hUT1kHE744r0KRgMBq7czGbKdyESuoQQQohKVK2hyxi8jGtZ9XE5z6jFl/jhdAy+oRmEx+YSk5xPVFIeQTeyOOqdwKxtoQyZ5asGvNu447wumAsh6XhfTWPm1lDVklOy1tTXC/zZ+UsM127lEJ2cz63EPHyupbNg53U2H48iMDwL32sZfDbzoml1eJeNVzjkEceVm1nEphQQk5JPSFQ2u8/E4LAmiF4lD7Fube3OqCUB/HA6hkthmdxKzDd1KZ70SWTa5hAGTLlAe1s107Gvy3kOusVzKzGfXWdiTQ/O7mjvSRdHTzYfj+JGXC6/+CXz4aQLprXGOth58OHkC8zfcZ3kjEI8gtMYPv8SbW08yjyL8ovZvqzYH4Hb5RTCY3OISc4nOimf0Ohszl9NY+PRm4xcdIn2NsbFXV3Z9nM0NxPyOO2bzDeLA2h7D7NGJXQJIYQQD6baQ5cpeDmo8VOd7D0ZPMuXMUsDsV0VhMOaYOzXBGG1XM067OtyXs1eLBlk/+HkC4xdrhYCHTjNxxS4Otqr5R+GzPbFZuVlHNYE47AmmDFLA+g38TyfzriI1fLLWC2/TI9xXqaA08flPEPn+mG94jKOa4NxXBuMzYrLfD7bl57jvOhg62GaRdnd2YvBs3yxXBaIw5ogHNcEY7c6iOHz/ek94bxp/JSx9eir+ZdwWBPM8Pn+ptmZxjJ0rh/2q4MYtTiAbk6lrYCdHDzp5uTFoOkXGbf+CqOXBpZsu/Rh4MZZlwOm+DBy0SXsVqm6OK4JxnblZUYvCeCT6T50d/YyPUi8va0HQ+eprsdRiwNM25TQJYQQQlSOGhG6bu9q7FjSpdbayh2LsaWz8FpbudPWunRGo/H7O9ipleTbWLubHpRtCiz2nrSzccfCSm3DomQ7xlmKra3Uv41Bzbi9tjbutLZyL/Pa7Wxu/z4vOjt4ldRVbcdYV4ux6vE/xlmCt4fKtjZqn37dotTZoXSf25Q8Zuj2r3cqCUnGbRsD169Dq/ERRLcfNwur0mPz68f6tLNRjzcqb5sSuoQQQoiHq8aELimPX5HQJYQQQpSS0CWl0oqELiGEEKKUhC4plVYkdAkhhBClJHRJqbQioUsIIYQoJaFLSqUVCV1CCCFEKQldUiqtSOgSQgghSknoklJpRUKXEEIIUUpCl5RKKxK6hBBCiFL3H7qGr6P5lzvoYHMWCV1SfquUhq6dErqEEEL84d1X6MrJK6T36E20HLqD9ta/IKFLym8Xb97/ZAtfT9lNVHxGZZ3DQgghxCPhvkJXbn4RX4zfQath22lreYouThK6pNy9dLT3oMng7xk76wBxSVmVdQ4LIYQQj4T7Cl35hcVMXXWSdl9/T6tvjtHF6Xy139il1NTiTduxp7EYtpUpK0+QkV1QWeewEEII8Ui4r9BVrNFy4HQQvSy30GL4AaR7Ucpdi9N5zL4+RE/LHazb7Y1Gq6usc1gIIYR4JNxX6NLp9dyKy2DElD20/PIH2lvLDEYp5ZdO9u68/+n3jJx2kDMXwivr/BVCCCEeGfcVugwGAzq9nu8O+tDDchtNv9hV7Td3KTWxeNNqxI807LeSjfsuSCuXEEIIwX2GLqOYxEwcFh7lnY/WYj7yMF2cfZAWLyldHL3p7OhNu7GneKvfGkZM3c+Fy7ce9jkrhBBCPJIeKHTpdHo8/CNxWPgTzQZvpPnQfXSwPksXB3XjlQD2BytOKmx1sDmH2deHeG/gekZOO8DPXtfJlAH0QgghBPCAoQvU8hGel27ivPgnWn3xLS2+3In5iMO0HXuKDraudLJzp7ODp5THuHSy96CjrSvtxp7GfORRWgzdhcWwLXw1eQ+nvMNIz8p/mOeqEEII8Uh74NAFUFis5VpkEi7LjvGR7XY6jPieVsN3Yv71fsy+PoTZiMOYff34F/MRR7D45gitRx3BfMSRaq9PpZcRqpiP+BHzrw5g8dUu2n+9lf422xm35Ce8AqIoLNI8rHNUCCGEeCxUKHQZabU6fK/EsGanF19P3kO3kRuwGLKSxh8tpsmAJY91aTpwCU0HLKZx/7l80GuK+vfApdVer0ovA5dg9ulyOn+1nqEuu1iyxZXzgVFoZdC8EEIIUa6HEroMBgNarY7CIg1ZuQWkZOSSmJpDfHLWY1+S0/O4EhrJd5t3MHasLTdvxZGcllvt9aqKkpCSTXJ6Ltm5hRQUadBodRgMhodxSgkhhBCPnYcSum5nMBjQ6/XodH+Motcb8PPzx8bKip5du3I5IIC8/Pxqr1eVFb1egpYQQghxDx566PqjSU9PZ/u2bViYm2HWvBkL5s8jMjKyuqslhBBCiBpGQlcF+fj44OTgwHtvv03LZs3o3aMHbq6uaDQykFwIIYQQpSR0VUBeXh7fbthAr+7dadG0Ka1atqTRO++wfu1aEhMSqrt6QgghhKhBJHRVgJ+fH1ZjxtC8SRNatWyJhZkZzRo35pOBAzl18iRarba6qyiEEEKIGkJCVwWsWL6cbp0707JpUyzMzLAwM8O8RQsszMxYvXIlCfHx1V1FIYQQQtQQEroegE6nIyYmhlEjR5q6FVubm5uCV4umTRn2xRcc+fHH6q6qEEIIIWoICV0PoKioiG1bt9K3Vy+aN2lCa3PzMsWseXPaWlgwe+ZMMjMzq7u6QgghhKgBJHTdJ41GQ1RUFMO//JK2FhaYt2hxR+iyMDOj6QcfMPSLL3B1da3uKgshhBCiBpDQdZ8yMzPZtWMHHdq0oWWzZqYB9L8OXS2bNaNb587MmDaNvLw89Hp9dVddCCGEENVIQtd90Ov1hIeH07tHD1o0bVomdN1eWrVsiVnz5jRr3JjePXoQGBBAUVFRdVdfCCGEENVIQtd9SElJYf++fbzz1ls0ef99mjVuTMtmzUwzFo2Bq2WzZjRv0oQP3nuPls2aMc7ZmbS0tOquvhBCCCGqkYSu+1BcXExycjIXfXzw8/XF38+PpYsX07d3b1Or17sNG7Jxwwb8/fxM3xMRHi4r1AshhBB/cBK6KmjP7t0M+PBD09IRbzZowOlTp6q7WkIIIYSoYSR0VdCunTv5sF8/CV1CCCGE+E0SuipIQpcQQggh7oWErgqS0CWE+E0GA+j1oNWqv9c0Op0qj9uyNgZD6b7VNAaDKlqtOu418bwQlUJCVwVJ6BJC/KbCQoiLg8BAqIlLx0RGQkQEPG5Pz9Dp1H5dv17dNbmTwaDOhYsXISVFQtcfiISuCpLQdR8MBsjPh/PnValpDwTXaiE5GY4fh4AAyM6u7ho9XHq9uvnn51d3TcqXmwsJCdVdi4crLw+Cg2H7dli5Enx9a855pdNBWBjs3AmbNsGZMyoAPOqMLUh+frB5M3z3Hfj4lLYuVTe9HjIy4MQJWLEC9u2DqKjHp6XRYIDiYnUu5eZWd23upNdDQYG6Fmq1Vf7yEroqSELXPTK+ES9dgjVrYPVqOH265txkdTpISoJffoGZM9VNyN+/5twgK6qoCMLD4ehRtV81rVUjLU3dJI8dgxs34HFYYqWwUAWu77+HcePA0hLWrVPvgZyc6q1bcbG60e/dC5Mmgb09LFkCZ8+qc/5RDQDGFqSQEBW4nJ3B0RHWrlX/V1BQvfum10NqKri7w+zZMHYsTJkChw/DrVvVEgIeKuN1PjgYfv4ZgoKq/1y/ncGgrjUXL8KRIxAdXeWtzxK6KkhC1z3Q6dQbLzBQXfycndVFfv58FQKSkqr3YmNsATp5EubOVRdCR0d1g/Tze/SDV0GBCjLbtsHEibBqFXh7Q3p6dddMycwEDw9Vr8mT4YcfVAtMTW2R+z3GMVwREaqFa/x4GDlSnVP29rB+vWrxysionvoVFKguxd27wcVF1cvSEmxsYOlSFcoLCmpGq9D9Ki5Wx/2HH9R1xsoK7OzU343v56ys6tk3vV617p8+DYsXq+Ntbw+jR8OsWaqFPTGx6uv1MBUWwpUr8O23MG2a+vDq51dzPuQlJcG5c7BsmTr3DxxQ50thYZVVQUJXBUnougfFxeoTxaZN6gI4dqwqNjYwfbq6CCUlVX3rhrEbIiVFNfXPng3W1uDgAMOHqwvizp3qBvWoKiqCmzfh0CG1P19/rfZx1Srw8qrei6HBoMK4n5/qerO2VuHEyUkd94iImjkG6vcYQ5exVdfODsaMgUWL1DlvZ6cCgI9P1bcCFBaqAH7gQGnYmj5dhRJLS9XK+8svqlvoUQxd+fkq0K5dW/rhado09aeNDSxfroYO5OVVXYuXcUB/err6YDdnDtjaqtbPWbNU6HJxgT171Dn/KDIY1LkVGQkbN6pr6DffqONu/JBRlcf813XT69WH57Nn1fvQykpdCydOhIMH1f2pij74S+iqIAld98AYujZuVBc+GxuYMUM1q48apcLOiRMqeFXlhdDY1H/ihKqPtbW6+C1dWnrz37FDdcs9quLi1P7NnAmDB8PUqeqCb2enupPOnaueWXXGi/SFC+oGaWurytSp8Pnn6tw4cqTmdD8/iMJCNXZx+XK1bw4O6oJvPP5r1qjgVVXH3ziwfO9emDABvvoKFixQrYvGY3/ggGoJepS7F4uL1QeKZcvUtcbZGRYuVCHMykod98uXVUCr7ONuvM5kZZUOXbC0VIFryRIVuBwdYetW1f1ZE2da3guDAWJjYf9+dbyHD1fXUgcHdW6tWKG6HKu6BdU4ji8vT7WmL1yorvM2Nuq8/+orFcpdXdXvqApI6KogCV33wGBQrViJiaq7xclJvRFnzIB582DYMHXBP3q06prX9Xr1af7AAfXmM74J582DL79UF45t21SrwKN6IQR1YwkKUp82R45UN53581WXl6Wl6k49f75Km9cBdRH08lJ1GT1aHfv580s/Ia9YobqjH9UuRii92F++rG70I0eqsDVvnnoPWFqqG29AQNW06N24oW7ujo7qw86yZermP3q0ei8eP64+hNSUAecP4valGC5eVIHX2lod6+XLS1u8li1T531xceXXp6AAfvqp9IPdpEkq7A4bps73rVtVGNbpHu3jnpurzvU5c2DECHVuzZ6t/hw5UrWuV/VwDeOHu9t7MiZOVN27X3+t7kMbN6oZrtLS9WiQ0HWPjMErOlrN1jEGnQkT1JvBykpdlH78UQ3wrUzFxWpsxZEj6gJoZ6dC37Rp6k05YUK19PVXCp1O3fjDwlSLkpOTutBPm6b23cZG3fhPnVI33KqQlqYGEi9apFofJk9WLVv29qVdb1euqIvzoxx4oTTcX7umWlDt7dXvYNo01RJgY6O6Viuzq1erhatXVavthAnqGM+cqf5uY6Pef8aZi4/6QO7b5eSUtqQ6OKj39pw5KgQ4Oqrfh7t75Q2u12hUS+3hw+r8trNTf06bpm72Li5qXF1Y2KN/nQH1Xs3KUsFqzRp1jI3n+uTJ6vgvWwaenlUzntE4S/TkSXW+29qqehiPv7MzbNmiWhirotWzhISuCpLQdR+MwSsysvQGYGWlxpQYu71mzy6dVVIZNBqIiVGtasYL4eTJ6gJob196Ibx58/G4EBoVFqoWr3Xr1IXQ0VEd86lTS1u/XF0rf3B9Sopq5l++XAWuiRPV79/RUd0YV65UgSs//9Ht4vo1Y4uXj49qwXN0VBf8qVNV8LWyUv9//vzD7+IoLlbn8rZt6v3m5KTO+8mT1fGfNUu1AiQmPvoBtzwZGarFa906dZwdHdX5dnvw8vNTAe1hnm9arfpgd+KEOt7G7tuJE0vHc+3YoT7YFRQ8vNetbsaxU/7+6py2ty895hMmqHNu9Wr1XqjMa41Op5b/cXVV57ixJ2PyZHWdcXJSs4qvXavy1nQJXRUkoesBaDTqYnPggHozWluXfvJ3dFSfSvbuffiDG4uKVBfLoUPqAmhjU3rjs7dXf9+7V92kHoclC25nnEofHKw+3RmP9bRp6mJoa6tans6eVTfgygg8ycmqRW3JEnXhGzeudJCzi4uaaBEQoI79o9rNcjd6vQpely7Bhg2qe9fZuXQQu7HFy9Pz4a2VlZcHoaGlM/kcHNRNx3i+G1u4EhMfrxauX8vOVufV6tWl593kyep3cHuLV0rKwwmeGo1qrT9yRF3LrK1V8JoypfR3YAxcj9t1Bkq7Gn19VYuX8dybOVOFHScn1dXo5lY5res6nbp3HD+uuvJtbFTYnTJF/b4nTlTXwLCwajn+EroqSELXAzJOnz56tHRq9/Tp6g1hY6Nuwvv3q8GZFR13YRxce3vX5tixKmQZx1lMn65msdy8+TD2rma7fl1ddIzHfdGi0hv//PkqGKWlPbyxPXq96jo7c0ZdBK2t1YV34UL1+ra2ak2lkJDH++ZvHFR9+bIaY2cc27hwoWpxtbVV3S/u7hUf91JQoD7Fb9umtm1lpW56xpYW4yzFh93CU1MVFKjWl40b1fFwclLvfRcXNbN01qzSbq8HDV7Glvy4OHUtmTKltPt81iz1O5g6VV3XHtVZivejsFCF3Q0b1Dnn6Fg6btPWVoVdN7eHty6ccZZoSooKvNOmlbamG4ewuLiowBsSUvHXe0ASuipIQlcF6PXqDbJ1K4wbD1Yl4Wf6DHUhnDxZtTzFxj74m9L4RoyPh0M/lnbnTJmqbnYjR8LESeprldWlWdMYDKrF69tN6uYzxlIFr3Hj1cVw7lw4cVIF1YqGLuNA4tO/lK5NZJxNZm0Ddvaweo0ac/Q4B67baTQqAKxZA7Z26hgsXaZan2xsYcVK8D7/4LMadTq4FgrbtqtjPWKEal2cOEltf9YsNbC7uqbwVxetVh33devUcXdwgPkLwMkZvhkFS5aCz0XIyr7/425AHcukZPVBcvJkGGul/ly4UG1//Hj1oe+P8MHOKC+vdH3G0aNV4J0zRx0LG1t1TfD2LjkXK3CtMR7/zJJZosaQO2GCCnejR6tr3fbt1f5YKAldFbR3104G9u9LiyYfYN68GW/Wf43Tp36u7mo9GoyBKCMTTnjAnOXgOBGmz4UlK8HSHibPgB+PQ0LSg72GTg9pubDnEEyaAeOnwOyFqoyygbnL4aQnxD9mg4h/i7HlLzIG9p0E56lg7QQLlsGMeep3MHshnPOEggqOa8vLA1dvtT378TBzPsxbol7DeRrsOQY3ox9OwHtUGLt6wyJh+0FwmAQOLrBwGUydDc6TYNka8At6sFmN4VGwfQ9MnA5242Hlehg/FRwmwopvwcu/NHD9UY45lB730Cj44RBMmg22zrBkFUyZBY4usHQVePhA4X22dumB3GI4eASmzYZxU2DWApi3GEbbwcwlcOQMRCc8nl2Kd6PXq2MeEwubt8E4F5gwCRYshllzwcYBVqwGH18Vdh+UASgqhp+Ow5x5MGEizJ4Li5eClR3MmgdHT0L0Q+g5qaDHKnTlF2oIjEjAfs0xXDaeYOLGk5VaJn/3C0MdZtOxa2/MzC0wb9WWJo2bMHLiMiZt+pmJ31bu60/ceJIJG04wTB9OIAAAIABJREFUfuPPRMSmUaSpntBg0OuJ9l+F/56uXDrQD//991EO9MP/YH8uberAtXHvEz2oAUl93iR54PvEfFKfpJ71SfqsMTEunbi+oQ8BB/vhf/AetnmoHwH7+nHt2z7ETOxCyoAPSOxTn/hBb5I46F2Se7/FrQ//S8j4DwjY0BH/vb3Vz91jvS8d6If/3h5cPTGiWo45gLY4lyvHhnBpf08uHeh7f8f9YD/89/QiYE1bwkc1JLbf/0ju9w4Jn7xD/MDXSer1OklftuDWzB5c3dqXS/dy3Mv8TvtxZVtfomZ3J3FoC5J7NiBuQH0SB71Dcr93iO/zGuHfNCRgVWv8d/e6r2377elCQshO9Nrqmeig1xaSneiH/+4O+O/vc3/H/fbjv6sHgctaETnsTeL7/I/kD98j4ZO3iR/QgOTeb5I4ohU35/ck+Ie+6vvvdn6WHO+Ag30JX92HWId2JA1sRGKfBsR+8jrJgxqT1LM+tz57nSvTm+L/fWf8D/W/r/Pdf39vAg70JCPWHW1R9T2hIdp/9YNdZ24/f3b3ImixBRGj3ya+z2uk9n2X+MHvEv9hfZL6vknicDNuzu3JlR3qOnLXY3/7dea7vkRP6UbKwMYk9q5P/MdvlFxnGhLT/79cc25EwLr2+O/pdf/XmX09uHqyGq8zRfkEbJ6M1+KReC4cgeei+yyLR+K54CvOW/fiSv8W3GrXiLiOzYju2pybHd4joe0HxAzoSKjdJ/jO+Up9/z1u22PxSLwXjcB/1nAirD4moWcrYtu+R1SnxkR3a0FC+yZEtXmHoE/acH7cADzmDcdz0b1t333OEKLO7aE47+FObnmsQld2fhFn/CNoPnoNPacdoM+MH+kz/VCllb4zj9Brwla6WS+nq+Uiuo5dQpfRC+g18Qf6zvixcl9/xiH6zPiR7pP30dZmA/7X4ygoqp5PUAaDnqsnbDm3qDaB39UlaPN9lu+fJmhLHUKXP0W0bW2SP6pFWucnSehRm6T+tUjpWouE3k8RObIOV+fV5fKWugRtufv2Ln9fl8vf1uXqvLpEjqpDYrcnSetWm6Q+tUjq8SQpXZ8k+cNaRNvX4tqKpwj+7re3V14J3FQXz+VP4b7+g2o55gCawkxc17yG96qnCNx0n8d8S12Cvq9L8Hd1CF/wFLGjapHSpzbJXZ4ksWdtkvrVIq1LbeL7/JkI2zpcWVaXy5vv4ThtUb+f4GV1CbOvQ9yHfya1Y22S+/2JhN61Se76JCm9axP/dS3C5z9J8KY6apv3ePwvf1eXMwtrEeE1H52metbw0mnySY08zYlZT3Dp2zr3f74bj+OWugRv/DM3Zj5J3LBapPZ8kuSuT5LYuzbJfWuR0qk2sQP/TNi4ugSvvst5X/J/lzfV5eqcutz6so46x3vWIqlvLRJ7PEla56dIGlSLqPG1CVn9Z4K21FHvuXusa/CWulza+Gf+n733jqvqSvf/1+ve3/1OMjP33knEJDNzp93cyUSNSsfee+9dYxepAmLHGsUWe4stGjVKsYBdsYC9994LIr2eA5z2/v2x9uaAEQVBT8T9eb2elwhn7732s9d+1ns9q5w903/P8xthGPRJNvE7wNXdvhyY8e+cX1H8d9YaHz7myrLfcGfK/0fswH8jsem/E9/wP4hr9W/Et/w34pv8O0/a/ge3h3/EpQX5/PyyOLPiI65O/4h77h/xrOl/kNRUjTP/LuNMm3/jsc+/cWOujDMXixtnVn7E0Xm2jTO5unT2BDRkV9+vODToa2KGVCRmSIWim3tFYoZW4uigrznX/Uvu1P2CJ1XL8bhyOe7bl+OJYzmeVvoDd6p9zvlWf+NYn6+I9qgkjyv0vBWJdq9I9OAKHO/5Ty41/SsP7O2IrfwJDx3L8dC+HE8qf8oTh3LcavQnzvT8P44OrkC0e8XXnFee+4h7RbZ0/oJL674jO610J/uXOejad+Y23/SdS5tZ0XSYe4IOc469Ves4/xSdFp6l06JzedZh3kk6zDn+1q/dYe5xWgZH4Tx4PmduPLEpdF3a7sPR2YL4LYKkSEFSRDEtUpAcKUhfLdAFCbJ7CfQtBFldBdmdBfo2gszOglQ/QdJKQZJ6nciC50jaLkjaLEhaIkgNEGR1EGS3EGR3FWR1EuhbC7J7CnTjBenrlM9vL16ZkyMFcZsF55cIoubbFrr2z/0bl5bL8iQX1++Kv5IjBBnLBfoAQXYnga6N9HtOZ/kMMnsKUsYLklbnO66w80UKktYIUoIEGb0E+paCnA6CrO7yvNldBHp/QcYSQUpE8X2fuE0QPVNwKzoYk9E2S+1NBh0Jd/cRGSSIDX3D+p7PXylbBBmLBHpvgb6DQNdOoOshyO4g0LUUpPcTJE8TJK1/wV9qfQ8TJC0UpHoLsloLstsK9F0Fus6yvuf0FmRNF6T+rNSRYpY3ebvgSZhg++TfE3c91KbQdWm7LzGzBM/CZbne2O/bBSmbBZlLBXpfQXY7QVZ7ga6rILuj9HtGL0HyZEHSWkHStny+V/2+VZC0TJA6QoktzQXZ3RW/t1F+HiPIWKuU9Q3iTPwWwaVlggMLbAhdWens8K7F4f7/4Lr3V9z3r8hd/wrFtIrcDajEff9KxH77JUlN/kiqSzmSHT4huUZ50pw/JcXhDzyvacfjDn/hnue/uBvwiusEVOTusArcH/B/PGn9ZxLcypFa5Q+kupUjyc2OFMdPSK1mR0Kr/+Hp4K+4F1Dp1ed7oaz3AyqyveMnnP9xogZdr1K6Lof9Z25Ttf88ui67TK9VN+m58kaZtV6rbtJpwRlcB8+3cabLwsXtvpxeIDAeEBAjIPoN7Ijyb4SA7wX0FdBGQB/FOgvoLmCMgI0CXrzWEQGHBaxXPtNTQHsBA5SfOwgYKGCmgG0Cjr1hWWME2VGCmz/aHrr2zf0bd36S5SmR348qPh2v+Lqd4rfeAjoJ6CdgquK3mJdcS/1dhIBg5dl1Uvw+UEBbAT0ETBDwcyHneI1ZYgSWQ4LjcyV0mW0IXfH39hE5XpC1pwR+z+//IwLWChih+KmDgMECuip+dBcwR4B6vRjlmCgBPwrwV94P9Vl1V/4/RMA85XNH3rCsRwWpewWRk3/Psxu2ha6L2305OU+QvU9Y40VJ/B4tYIOAcfl81kep9+2Uejxbqdf5n9VhAZsEBAlrnOmvHKfGmekCNosSxRnDAcGdtYIoW0OXTx1Oun/Fs1GVSR/vQGrQm1nKBAdSxtqTNrQCmW3/Snb1z8hxsUPX4I9kVy9Pjqsd2Q3+SFbPL0kbUZnU8Q7S8p9jvAMpQfak+VYiq+Pfya79OTnO5dDX/hx97c/JcbFDX/dzMrv8g1SfSiRPdPzFOV5p4x1In+DAnq7lObdmkgZdr5IVuubSZclFeq68Ts8V18qwXafj/FO/Gug6NV9giFIC0puaGnB2CpikBMDWAnopjUlbJTCOEBAi4JDyefX4EAFjlc+owNVPQAsB3+YLhEcKuX4RTb9PcH31rwO6bq2V5Snghze1DUpD0k1AcyEb7e5KA9RHwBTl2US/5Hp7hASufsrnuwsJDi2EhIcRyvkPv+TYIpjlkMB0QHBszq8IunaXgs9VfxwUsEpIgOqo1HVPxXftlWexQEiAilHq/hrFrx0FtBQwVPF7e2HtYJS0bsQIUvf8eqDrxDyBbk8p+V31/fp8flShqbfyDvQXMFfAdiE7J9FCxpnxAroI2THsK2SsaS5krAoWMs7ElKxsufsFt9f8OqDrxJCveDqyMilBDiSXwJLGO5A01p7UoRXIbPUX9C526J3KkVXvC/TVy5PtXA5d/S9I7/ElyaOqkhRkT1KQg9XGO5DiX4n0Lv9AV/Nz9M52ZNX+nKwGX5Bt/wn66uXJ6PR3UnwqymspxxWnjClBDuzuokHXa6VBVxmArvy2S8AsYc2UdFUannZKYBypBMtDyud/EhCgBM7OQkJWDyEb/YFCZgq2l7ABUqzMQtchAWECJgsreH2rWEflGUwUMuN1SFgb/235jmmX75jWyu8mKg3VgTcvZ5mGLrXxPyBgnZAA0FnxX39hzdT2EzBDSPBdIWCYkNmt9gI8lM+oPy8QEoRLWi/KOnQdFrITtl7IjFdPAa2EhKhv89XnYAFblHocqPhdjTM9BTRTntUM5X0ohfexTEJXkIMEqTFVSfGpSGbrv6CrVh69Szl0db5AV+dz9I6foqv9Oend/kGy/zd5sJUUZE+KbyUy2/4FfbXy6F3Lo6v9Obo6X5Bd9ROy6n5Oeue/kzKsUkFQ06Dr7UiDrjIGXYeVxmW2gEFKkOsiJEC1F7JHP0rAUiGHZgKVANlVCYRqhqa/kEMsEeKXmbE3tDILXWrDHy6sQ40dhOy9qz93FxKiQoXMzoQr/+8prBmxHkJCWi8hM2dblPOWoGxlHrpU/+8XMiMYKCSwdlLqszrk1V/IoV4f5X3oovyui/J8hgpYLGSnpTTqxIcAXdFCZhA3KHW5u5AZLBWoVOCdIOTUhQ6Kv9W/txcy2zVHwFZRanGmLEJXAfAaW5UUr4pktv0rupqfoXexQ1fzM7LqfoHesRy6OvnAa3RVUrwrktH+b+hd7dC72qGr9Zk8zrkculqfkd7jfyVwjbV/I9jSoKuY0qCrDELXYSWIzRZyXksHYYWqLkrA8xYy69VJ+Vsf5d/OQg5vfS8gUkhAKKUylVnoUu2AkD36qUpj0lFpiPooP/cUMrO1TPlMr3wNjwpcfZRGalPp+P6DgC7V9gk5dDhK8XVn5d/8EKzOceyt1PcOQg5HLhAyo1taZfkQoOuwsALveiE7HN0Vn/ZU/N1N8bMKur2V33UWsiM4S8iOXSnGmbIKXS9mvFK9JEzpan2Gzk3CVFbtz9E7y2HH9G7/S1q/r8jo8Dd01cujd1MyXNXLo3O1Q1fnC9K7/oMUv5IDlwZdxZAGXWUUuqKFzJR8LyREtVWCYC8l+Kmwlb/R76R8dq6wToItRSgp89ClWriQcNVH8anqd9XXHsI6h6unsE6g/1ZYJ82XUrk+KOg6LCT4rhUwWqnTXYR1knwbYZ303UtIyB0iYJGAHaVcjg8FupR7JUqpt0GKr9VOXi8hY49a91UYHiQkcKmLTErxPSzL0JUHXsq8q1SPCmS0+yu62jLjlVX3CwlYrnZk1f8jWY3/LLNaTjIDJgGtPLq6X5DR5R/KkGLJgUuDrmJIg64yCl2qRQqYL+TwiQpe3wrrpPn+wprh8hBySHGXKPFk1pfZBwNdR4QcRpyq+FcdcvlWSLhqK6yZr37COql4qpCZslIs0wcHXSoErBNW8GorZCPfX/m3i+J/T+Xd2P8W6sGHBF2HFf8dUurvBKVudxQyszVEyM5cN2FdYfq9kKBbwsU5L7OyDl3WjJdD3lBjRse/o6v5GdnK5Hpdzc/Qu5ZH72wnhxHrfq78zo6sBn+UQ4p+35A04c3mb2nQVQJp0FXGoStawF4hYWqI0gD1VBocdyF7pa2Vvy0Ucj7Y0bdTlg8GulS/hwr4Tml4mgk5nKJu49FL+X8z5efJolRWbr1oHyR0HRFyqHGhKLgSdKTi8zZCAsAUIYcUSznTwmHx4UGXcs/ECFgiwFfIuNJRwHDl/00UvwcJOQ/s2Fvw++EPA7pehK8Ub2WOV43PyHb4RGa8VMiq+4WcNG//KbraX5De439JDihd4NKgqxjSoKuMQ5ea+l8kZCartdIAeQgJXurybU8BPwi5cust9D45/IFB12FhHeKdJmSWq6mQGa1hQma4mim/nyQkcL2FMnxw0KUualgoZHa3o2LuQjb46rYGahZmsij9oUXlvfugoEv1+yohAau9kLGlr7DOq+uv/L6XkPO/Noq3klH/EKEraZw9yX7fkNH2b+hqfJY3ryuz6Z/JqvM5Od98gq7BH0nvrgDX+DdfpahBVwmlQVcZhq4YISFqhZAT59sI68RudRLxYCEzL12UYLlEyOEWbXix5L4/KAruZdRWSNjyUBogdauCEULOQ1L3kirFcnxQ0BUtZIZriZCdCHW13EBhHdZtL6xDvSoATBNyHt7BUqwPHxJ0xQiZTV8pwE/IuYrdhHU1dCtRcIi9o5DDvkHCOn9Rm9P15tA13oGk0VVIHfIvMpv9D9mOn8pJ83W/IKvhn8hq8EeyHcqhq/EZGe3+RopXRTmPa3zplkWDriJKg64yCl3RQg6dLBEys6JuW6Cu2lL35eoqJAioK4y8hdxOYnfpBkIOf0DQFSMkuK4Vcg8jdWViX6UxUlc19lV8rm7j8aOQjVcpgtcHBV27hczoqhlctb6rE7uHCutCkh7CuqrxWyGHGkNE6YHXhwJd6qbMy4QEro5KHVfjjJpd7CussKUucOgh5FYSm4TscJRSmT4E6Cqwn9aoKqQO/pfcNNWtvNyLq9bn6KvJeV26Gsp2Eq526Gp/TkbHv5HiUYGksVXzMl4adL1DadBVBqErRgmEi4TMXqlDLAOEdQn3YGEdBlCXd6sg5qUE0VIO0h8EdKm7pP8k5ETu/Ptw9Vb8q2Zg1EUNbZRnMlpI8CrFid0fDHTtUOrsUFFwi5Qeis/9hNyHK0jxu7paVF1d10fIjFeYKB3w+hCgK0bIRTdLFf+qmdv+wvr1QJ5CroaeLqwxJv9q3i5C7vG1XpT8WwAUK+vQVWBYcGQVUgf9i8zWf5H7cLnYoav7Bfoan0kAcy0vVzXW+UIOO7rIrSUy2v+VFK8KJI2zz1u9qEHXO5IGXWUQutRJxJ5K49JBSOBSs1l+Qk6sXyYkeKkTi/MPOw4Vco7XDmHdvb6E9kFAV5SwDimqGcXewgpX7kLClbqatKewzjHqJuTmnqUIXh8EdG1X6ruHkA15V2HNIqr1faWwbmswQRT8rkx1b6m+Qma8wkuhTGUdutT9uZYI64azHUTB1dBeQnb89ijPaJqQWXX1+0X7Ku+Amun9SZRKxqssQ1eBDNfoqqQO+BeZzf9HZrdcyqGr90d01WWGK7PJn8ls81d09b6Qw4t1Pi+wmWpG27+S4l2RpDFVSwW8NOgqojToKmPQFSVkz9NDWL9zcbCQjXprJRCuyBfcVii/aytkoz9ACaDNhQSExUIO25TCkFeZhi51yXz+OVxqhqu/kJPm+wq5VH6DkFsV9Bdycv23SmPUXmm4/IUEL/W8JShXmYauGKVuzhdy9W1rIRt0D2H9PkBfpY7H5LMwIRcvqPV8iLDuXN9T+Zv61Vdv6v+yDl1RQnbKPIXsTHRS/Kh+DZO6MGevkKuh1azYTOWdaKv43F15BzoJOdS4ruT1vqxCVwHgGmcvhxSb/Q96p3Iym9Xgj3L1on05shr8ibR+X5HqWYH0bv+LrtYXZFeRXxOkq/U5Omc7dK7lyWz9F1J8K8rNUUs41KhBVxGlQVcZgS51awh1F/p2Qg6tqD3L9kL2SFeLgmn8KGGdANtBaawGCglgrZVzLRJyuLKE4FVmoSv/rtyqH9WVWz0UPw4S8utOIpRjdgiZnRkk5ETjHsrnuyoNko+Qu6uXsIxlFrrUVblzFR92ENYORjvF//4ClouXDxeq35WpfmegOvzbSXkWE4T1uzLfxP9lFbrUxQrzhQQrddJ8P8XnbYXsxK0UMh69eGykkOCl7l+ndvTaKz+PUup9CbbxKPPQNaYqqQO+IrPZn2XWqnp5surIOVzZjnZkNfoTaf3+SfKIKnJVY2Bl0nt8KbeNcJJf/ZNV9wv0LnZku9iR0eYvpA79Wma8SjC5XoOuIkqDrjIAXeocroVKAGslCm6C2kHIyfRrxMvnaUUJmQ3wUz7fVljBq4OQmYP5osR7eJVJ6FL3hFol5H5EanZRXZzQXkgoWKD4T23EDwnZ81+k+Dr/iq+uQoLacCEbr33ijbfxKHPQpWaf9ig+HSysi0TU7xftIKzDtHtf8ozV7Q02CzmcqM676y0k+KrQPEm8+eT6sghdR5Q6u1hYM4s9hfXrxdoLCVyrhMxAvuwch4TseMwRErzUc6idw85Kvf9RWL8cXoOuvFWKySOrkNr/KzKb/Fl+z2LN8ujqfo6+enm5MWqjP5E26F8kj6iszNdStpMYUYX0bv9AV/8LuWFqtfJy2NG5HLpqdmS2/gupHsocrzcELw26iigrdM2j67LL9Fp1i14rb5RdW3WTTgvP/Gqg6/QCgemgEtBiimnqMRFCztHyFNaJ8ep3nPUSECCs8yVedp6jQjbsq4Xsaapzv/oJ60qjoUJmFbYr1y1ueY8IcqIEN3/8dUDXnZ8E2VFv6Pf8ftsrZDYl8AW/qSvmvISE4d0v+E39d4+QjZi38rxU8OomCmZrdos3KqslRmA+JDg+91cEXXuLfx95PosWsuGfK2QWtquw7gPVTamvo4RcObr/FT5Tz7VNyA1sB+Q7l7qtQW8h95PaJCQAFMf/RwWpe3890HVyviD7Vf4oSpyJVOqyl7B+v+KLcWa1sG458yq/RwoJzeqQZP5zdRUSvNYIGZeKWV7DQcGdtb8O6Drl/hXPRlUmfYIDqePf3FImOJA6ojLp/f+JrtmfyXYpj75GefS1Pyen+mfk1PiM7GZ/JnPQv0gbXVUep15zgrS0gMpk9f4/shv9iZxq5cmu8Rm6Op+T7WZHdo3PyGr3V9LdvyZ1dFVSJzgWq3xp4x3ImODInq4adL1W6Vk57D19m0rfzqH1zGjazzlOu++PvXVrP+c4HeaeoOO8k7R7R9dUr9tiWhROA+dx+sYTG0KXmYuRPhyZLYjfIkiIKKZFChK2C1I3CTKnCfT9BbqWgoy2An0vga6N/DnFXZAwR5CwTX4+IVKQGClI2i7/zTvfDkFCmCBxniBliCCjuUDfQaDrJshqI8+t/1aQGSxICVOOjSxeeZ+FC84vFkTNsyF06VPZP+dvXPxBELu5mPeQ37YLkrcJ0hcKdF4CfXtBZguBrrtA31mQ2VKQ2keQOFmQ8LP0b+L2Qvy+SZA4TX4+s5Xi916CzOYCfWuBzlOQMU+QEq58vrhl3So4PENw63AwJqPOJn43GXTE391HxDjBk9A3q++JEYKUjYLM2QJ9b4GuuSBTqaP69tLnKR6ChPmChHClvuc7R/KLvo9U/LlCkDRKkN5JqefdBJldBVnNBPqOgqyxgrQfBUnqMUUs74NQQeSk3/Psegi5+tJthIqjS5G+RM8SxIa/YX3focSZ6QLdAIG+pSCztfIM2goy2whSBitxZos1ziRESH8nb5fProDfI5T3YrIgrYsgq5V8b3Rd5XPMbi3Q+QoyFguSN//yWb7Knm8RXFpm285dblY6O7xqcrjf37nm9U/u+X3N3Te0OwEVeejzNc96/IOkBp+Tav8Hkuw/IblGOVKd/kCy/X/zvLYdD7r+lbs+X3HX/2vuB1TkfkBF7vlXyHeeCtxz/z8et/sz8dU/JaXKf5Hi9ilJbuVIsf8DqS6fktT0T8T2/ZL7fhW4m+/Yoth9/6+JbP8Hzq2eQHZqQqn6s2xBly6HqHN3cRu6hOZjN9EqKJSWQSFv1dRrtBi7kaajNtBqfCitxr/966rXbjb6Z+r5/sC5WzbMdJnNXNsziqiZn3JqmR2nfyiGLbfj9PJynF3wn9wc/jFPOn7E8wa/Ja7B73jU4f/xvNHHxDb+T+71+oQr4+w4vcSO0yvksWeW23Fq2R84seT3nFz6X5xZXj7vvKdW2HFmoR2Xx9pxv2c54uv+nrgmH/Ok5UfENv6Y+Hq/43H7/8eN0R9zbu7vOf3Dp5zOd/zr7NQyOw7P+ZSYZbVt4nMAQ3Ya0UuqEjO/HKeWlSue3/N8b8eZxf/F1cm/5UGf3xDX5GPiGv6Wxy0/4lnLj4iv/VsedfyEawF2nPvejlMrVb//N8cX/45Ty/5QwO+nV9pxdp4d1wLseNjpE57X/R1xLT7icavfENfgt8Q1/piHvX7DtXG/5fTS/8orQ5HLvMyO/TM+5e7ROZgMtoOuxPsH2f3dJ5xcUky/L7fj1A+fcm7uf3Ij8GOedPoN8fV/R2yj3/Kk9W+Ia/wRcY3+kwfdP+VykB2nl/7SP2eWl+Powo8U379w7hV2nJ9ux+3B5Yht8d/E1/stT9r+hifNPpbXaf0Rd4Z+xMUZv+fUD58Uyfdnlttxckk59s38H57f3GLTTNe1PaOJmvkpJ5fZceYN4syZxf/FzcCPedL5I+Ia/pa4+r/jUbv/R3yTj3nW6Pc86PYJV0cXjDPSB+U5tewPHFv0MWd++LTgtdX3aL4dt7zseNz2Dzxv+DueNfuIx61/I2NP04942Oc3XJn8W84s/e8i1/tTy+yInvspMT/YMM7o0tk3ogk7+1Vg38AKRA2qxP7i2GCrRfWvwJm2f+dmjc95WLkcj74pxy3n8jyq8imPKpfjZo0/cbrN/xLVryJRQypxYMg37O3/NXv7f83+QRWJGpzvnEMqEd37a861+Dt3XL/g6defcNfRjrsOdjz6phwPq9pxvfYfOd71S6IGVLCW4zXljRpUiajBldjS5X+4tD5Yy3S9Stm5Rm49TmRu6FEWbz3Okm1v336IPMncTYcInLOe7n4zWLL1BD9sP/VOrr1k23EWbz3Owq0neByfhsFosonfLRYLcTc2cWO/BzcPDudGUe1QoLSdnjyY2prnfVxIaeNASo8axA+pQ1KLr0ntVJ3no9vxYONQbh0K5MZh6/F3Y0ZxeGNvQuY2Ycfydtw7OoabhwKt5z88nJuHAnkU7kf8iNakdKpGYkd74r91I/nbeqQ2rkRcH1fuT23Ora3u3IgZJctThLLfPDicG1E+3Ds2ySY+B9n43z0axM0Dw7h5MKDoflcteiQ3owK4O78dz4bWIrlVFVK6VCdxQG3ie9iT3tKRBPcGPF45mNtRgdyIlv68dXgE+9d2Y/3M+hwJ+ZZ7R8e8cN7h3Nk/nMcrB5Hg3YS0Vk7Ed65MwsDapHR2I7mNPc8G1+DugvbcPDCcG4dHFLnMNw8O58Z+D5Lu78Zssk0nw2yvohpjAAAgAElEQVTKJSvpOtf3DuHmAf/i+TxmFDcihvAguA3P+7iS0rwSqX3qEzekJsltq5LSxY340e14tMGT6zEjuHHohfs/FMjVfX7MH1mZA+t6WH2S904N50bMcO5F+PJsdi+S+tYlrUll4vo6k9S/LikdnEnoZM+TkY25EdqXG4dGFK3OH/Dj5gFfMuIvYDJk2cTvAHE3NnJ9vwc3DxXD52qc2e3D/ZltievrKuNMt5rED6lLUuuKpHWsRvzINjzc4M4tJXbkP8e9o2OI3tSHJeMcObV1EDeVZ1HgOoeHc/tAII+X9iPRowkp7Z1I6FiVeK9GpLV1Ibl1FZ561ebu0m5c3+9XpHp/8+Bwbhzw4d5xG8aZ3GxuRizl0vqpXFw3lYvrpxXbLmyYxoXVE7kx6lsed2xAYn1XElvWJbZHC+IaOpHcpBbPBnXm9veBXF4nP39x/TRuhn3PprG9WT+yOwcXDOfKxhkFz/tzMFdXT+bhd8N43rMVSXWdiW1Rg7iOjUlsWZ/4+i487NWcK1OHcnHNZC7+PL3oZV49ntiz+zHoM0vVn2UKuiwWCwajibTMbNKyskl/R3buwiW+mzyFju3ac+/BA9Kz9O/s2mmKGU1mLBaLzfxuzM0kV5dIrj6peJbwmNzICAyTJ2H09MQ0ZgymCeMxeXtiCvDHtGwZpuuXMGT+8twGfTKbNqzBw30I06dOwZCd/NJrGDMSMF2/imnNGkz+/pi8vTBNnoQpKAjjgAEYJk4gd99ecmMfFbP8iRiyU2zic+l3c6H3XCRLjiP34gUMs2dhdHfHNHw4pokTMAUGYnIfgnnOHEzHjmJ8/hhDvuMyU5+xcP4cBvbrS+TWEHJfUgaDLgljYiymc+cwz5uHachgTP5+mCZOxDRyJEZ3dwyzZ5F74ji5CU+KV25dIiaDzqb13WzKJVeXUHyfpyeTu28PhsmTMHl5YRoxAlNwMEb3wdL/a9diunwe40vqe64+iaz0eC5fvEDdWjVZungRTx/ffennDFmJGB/ewbRjB+ag8RgHDcA0biymceMw+fpiDAggd/1P5D56SG5GUd/bRMymHCwWs038Drx5nEl8TO7OHRimTMHo4YFp9GhZF328Mfn6Yl6yBNO1SxgyEwrU9TzLTmZz6Hoa1a9HeOhGUpNeXmcN+iSMaQmYDh3ANGM6Jk8PTP5+mKdNw+Tjg9HfD8OSReSeOPIexRkLuVnp5GSkvLnFPyPnQBS5s2ZJ/48YgWniRIx+wzB6emCaNw/jhQsYUpLIzUghJ1Mel5uZyqSgsXh7eBC5dTO5makFz5uZSm5GCobnsZiOxGCaNg3j0KEYR47ENHkypgB/DEOGkLtkCTnnzpGTGF+McidjzNFhMZdufS9T0GULGY1G9u3ZQ8umTahdvRrhoSEkJMTbuli/fpnNEB8PUQdg4hTw8oXxEyFoPPj5Q+BI+Gk93L4D+pdPmH769CmTJk6mTs269Ozei4cPH2IwvCT7YbGAPgeuXYfVa2DkKPDxhUmTYcw48PWDWXNg/wF4/vwt3/ivRMnJcPoMLF8Fnj4wegxMmATDA8F/OMyZB2fPQWoa5MugGo1Gnj59Su+efahVozbB04K5e+fOy69hMkNGJly8BN/Pkc91xEh5nTHjYKgXLF4GR4/J8pRlmUyQlgbRR2DGbAgIlD6Y8h14ekPAcFnfb9wEXeELBOLjEwieNgMnB2f6fTuAY8eOF37N3FyIjYOduyBoAnj7wNggmDQF/APlOxa6Ge7chezs0r/nX4uSkuDQYZgyDTy8pS/GTwD/AOn3VT8qfi98uPrSpUuMGzMOh6qODBwwmISEV8zzsQBJybJez50HXj4wfARM/g5GjIKAEbB4KVy6BDk5pXyzv0KlpMCxYzBrtqyDQeNhwkQYPlw+g2XL4PIVyMyUsVqR0Wjk9KlT9P22L3Vq12F68HRyCvOXyQSpqXDwEMxRYk1goHy/1Ov8sEL6PMt2mVrQoKvEunH9OlMnT6bqN9/g4uhIn169OH/+vK2L9euWxQKPHsH27TB1KgwdCmPGwNixEBAgf/7xR7h/XzYchWQ0QkND6dKxIw6VK1O/Th0WL1pEWlpa4dfV6eDaNfj5Zxg9Gnx8YPx4GDUKhg2DKVNkmZ4+BaPx7dz7r0FJSRAdDfPng6+vDE4TJ0rfBwbC4sVw8qQMgi/08lJSUvhx9Wrq1qqFQ5UqdGzXjnVr1xZ+LbNZBrnTp2HpUhg5Ul5n3Dj5s48PzJ4ty5Nouwnab1UGg+xg7N4N330H/v6y/o0bJ38eMQLWrpV18xUNf2ZmJseOHqVFs2a4ODlRp0YNli5ezLNnzwq/ttEIz57Bzp0wbZr0/ahRst77+lqvfeNG2QMvi0W+y3v2QHAweHrK2DJmjPTD2LGwahXcuSPhp5A4k5WVxeqVK2ndsiWOVatSu0YNdu7YQfKrOgpms4SN06dh7lzw85O+HjdOvmO+vrBggXzPUlMLvfZ7r2fPICoKZs0CDw9rvVfr4Q8/wPXrsmOdL9ZYLBaydDomjR9P4wYNsP/mG77t1YvDhw4Vfi2zWcaQo0elz/39JXBNmCB/9vOT1zt9WvrcRtKgqwQyGAyEbtpE106dcKxalWouLjjZ27Pp559Js+FD/dUrIUHCzaRJ4O0tg+CECRJ8xo6Fn36SDVAhMpvNpKamMmrECGpWr46LoyPVXV3p0rEjN2/eJDc3t/Br6/Vw8yZs2CBfxGHDZAM0YoQEgIkTZQMVFyeBryzJbJbZluPHYd48GYRU2AwMlD8vWiQbgvT0XxxuMBq5efMmvXr0oJqLC65OTrg4OhIYEED8qzKEFosEr/PnJdCpAVAFEG9vCYBHjkggLEsyGGT29NAhCAoCLy9Z31Xg8vOD9etlw/OaHvi9u3eZN2cOzg4OVHNxwdnBgaGDB7N/375Xl8FslvV5716YPFn6e/Ro+bOXl3z2mzbB3btlK/OSkAC7dsmOnZeXvOdJk2Q9Hz3aCrpm8yuh59rVqwT4+eHm7IybszOuTk4M9/Pj2tWrrx7iVuv9yZMSOnx9ZUdjwgQJHZ6est6fOvXS9+29V1IS7N8PM2ZY69mUKbLeBwZKALp0SXYMXvBjbm4u165do03LllRzccHF0ZEmDRsyacIE9Ho95lcN+aWkyE7c3LnWTuWkSfJdGz5cxqBTp+SzKeWhw6JIg64S6OmTJ0yeMIFa1apRzcWFGm5uVKlUiYBhwzh39uyrK8aHJovFmgLet0++fJ6eMvjMmiVfypEjYd062QC9wncGg4EjR47QvUsXnO3tqe7qSjUXF2pWq8amjRuJj3/N8K5OB7dvw5o1sgHy95ewNXo0DBkiX9D9+yE2VjaaZUFmswzsp09LsBo2TAahKVMkcHp6yiB14oQMWi9RUlISERERVHNxyavvjlWr0q1zZ3ZERmI2v2ZeoV4vG6AFCyTg+vvLDISPjwyOc+dKOHlJhu29lNFoBa4ZM2DgQOnryZPlvfv7y4bnxo3XAr7BYOBAVBSd2rfHyd6eGq6uuDo5Ub9OHWZOn47uFRmyPD1/Dtu2Sfhzd5flCAqSz37cOAgLe212+VevF+OMCly+vtY4ExgIq1fDlSuvOZUFo9HIT2vW0K51a+l3NzfcnJ2pX7s2O3fseL3fLRYJsgcOwPffWzNeU6dKv/v6wsKFskNiIwgoVVks8h4yMmS9nzlT3qOPj3wHfH0l+CxdCmfOvHREwWKxkJCQwOKFC6mu1PPqrq5Ud3Wla6dOXLly5dUda5DAHR0thxoHDpT1e9Ika1kWLpTPPyND1pd3KA26SqAN69bRrnVrHKtWpYabW94LWbdWLdb8+CPpZbH38iayWOTLlZgoh/ZGjJBDimPHypfy228lcIWGwpMnrzmVhfT0dHy9vKhXuzZuzs7UcHPL6w116diR06dOvR54TSY55LNxo7z2sGGyB/rdd9C7tyxbeLgcBn3HL2WpSwWugwdlsFcb/6lTJfS6u8sg+IrG32KxcOrkSQb1749DlSp50FXNxYU6NWviMWQIGenpr/d7bq7MNK5YIevAsGESvAICYNAgGRijomQwfF8bIItFWkKChJzRo+W9TZwI06fL+x4xAkJCZP0qgmJjY5k3dy5fffllXqyp4eZG1UqV6NOzJ8ePv2JuV34lJMjGMDgYevWSZZoyRTZE3t5yfs3Dh7Kz8T6Cl8kk5weGhcmMooeHfJdnz4YBAyTo/vxzkfxuNpt5/vw5Q4cMycum13Bzo7qrK99UqECAnx8XL1wo+oKOK1dklsXLSwLXggUSAoYMkXEwJsbm841KLBW4du2SIwhDhsj4Onu2fAd8fORIxsOHhZ4iNzeXixcu0KhBA6q5uOT53dXJiZrVqjF6xAiSkpJe7/fMTJlJmzMHBg+W5Zg0ScaaAQMkhNtgeFeDrhJouL8/rk5OeQ2Q+kI6Ozgw3N+fUydP2rqIvw6ZTDLYh4TIcXwvL/lCTpwog8+oUTLDdf/+a+dS6fV6Tpw4QdPGjfOAS7VqLi44VqnC+nXrSCkkW5Mni0U2LA8fWsul9vhVMBkzRjaajx+XojNsoJQUOc8hOFgGvtGjrfMcPD0lcF2+LINlIcFHr9cTsmkTLo6OBeq7GgxbNm3Kgago9IUsesiTOuRy/bps4H18rMO648ZJAAwOhsOHC824/eqldjKOH5eNjaenvK/p02UjNGKEHM67fbvIcwd37thB3969cahSpaDvHR1p1rgx06dNK1rZTCaZ8YqKku/goEEy2xUQIMs2dixs2SIbovcRerOyZIZDbeTV+YOentLvP/1UpDgDkJOTw/p162jfpg0ujo6/qPPNGjdm25YtmIraKcvNlZnkefNkZ8PLSwLvoEEyA/bjjxIS3melpcmYOXmyBN4xYyTo+PjIe166VNb7V4wgPH70iOU//ICTMmUnf9vq5uxM/Tp1uHf3LsbXPUOzWYLX2bMyi+7tLbNskyfLej5woASydzy8q0HXGyg3N5c9u3fTuWNHnB0cqOHmRs1q1Qq8kE0aNGDh/Pm2LuqvQzk5MtAtWSIrvpeXdUhp7FjYuhUePCjSRN5nsbEEBgRQM9+Qbn7fO1SpgseQIUUDXjX1/+CBbATHjpXlGzUK+vWT5fvpJ5mZeR8bIJCwe+SIDPT9+kngCgqyzqtYvFgC0GvS7CeOHydg2DDsK1fO87XqdzdnZ2pVr46XhweJRZkMr06uv3VLDq8FBsryjBsnn0G/frLRPHBAlv99kzrE8uyZrNvjx8uetru77G2rwPU6QFUUFxdH8LRp1FUyuzWrVcszNQvQo2tXrhZl2AVk4//8ucx8fvedrPODB8sGafly69yu9zHTpS4cUP3u7i5t1CiZSb9/v0hxxmQy8fz5cwb060ftGjV+EWtUAJg4YQJXXzNMWUBpaRICli+X8WXwYJn5nDtXvqfv61xgi0WOHOzfL6Fm8GD5Lo8bZx1SXbdOxtLXDMkePnSIDm3b4uLgkFe/88caVycnlixcyOOidIbVVcNnzkjgCwiQ5ZkwQdZ31ffvELw06CqmTCYTcXFx+A8bRv06dX4RBNVA6GRvj/vgwVx+33supSGjUab8jxyRjamfnwSvCRNklunZsyL1PDMyMjh86BD16tTJSzvn97sKvA3q1mXVihUkFrXBNhhkQ7Nli8y4eHhIKJwzR2aIkpPfX+hKTpbLtefMsYKkj48MiKtXW5etv6KBTUtLY8miRTRv0gQXR8eX1vdqLi7Uq12bA1FRr15BqspikY3/1atyQvOYMbJsw4bJcs6YITMW7/NWEkajBPqICOvcORW4irFScHtkJD27d8/LtrxY592cnalXuzZTp0x5fYZXlToMd/CgzMAFBclMy+XL7+/QoiqzWU5T2LpVZlnGj5cLZ548KXJmMS0tjdCQEOrVqYOrk1MBv6udDhdHR9q3acOaH38sXvkyM+VQ47JlsuGfOfP9r+sWi7I1xyHp74ED5fvs7y/rljqk+Jr5gk+fPGHh/PnYV65cALjyw66rkxOd2rfn8MGD5BTlPbJYpM8vXJDgpa4e9fS0QtfZs6+FwdKSBl3FVGZmJvv27qVF06YvbfjVyuHi6Ejrli1ZtHAhRqPRZhs5/mqkziuKjpZBJjhYzpkqbI+nl+jO7dvMnD49b6Xoyxqg6q6uuDg6Mszbm5jo6KKXT814qXNwvv9eBpD3fTWdwSCXze/da+35+/tbG9giBJozp0/j7emJm7NzofW9mosLbs7OBI0dy+1bt4pWNotFwsf167I86ly/8eNhxw45rPu+L2TIzZWNzd69soNRjAyXxWIhIyODiePHU7dWrZd28PJDb4umTbly+XLRGiKQ72RCgsxORETIRqmIZXsvdP++XCUdESEzLEWU0Wjk7p07DBk4MG/RSGF+d3N2JtDfv2hZl/zS66W/16+X4Pu6xT/vg3Jy5Du7caPMcKnz6TZskPNFXyOTycS+vXsZPHAg9pUrv9Tn+efvLpg3j8dFnBMJyGz+qVMSdv395XD6tGmy/sfHv7OOtQZdxZDZbObRo0f4+fri4uiI8wvpz/wvozr3pXfPnjx+9Oj1488fgtQtC/bvlyuLHjwo8qHZ2dns2rmT1i1a4FClSh4AvDi8qG7bUb9OHWbPnFm0VV2qDAa5YjE0VMLh+w5cqsxmeS/h4XK+2ooVErhe0zhbLBZyc3NZMG8eTRo0wDHfBPr8db66qytuTk44OzjQoG5d9uza9fq5XS+W7/JlCV7BwXISdHx82dkrzWCQ89MePCgyRFosFgwGA6dOnqR7ly4F6vzLgMvZwQGHKlVYuXw5T588KV4n7/lzmW3OLN2vO7G5zGb5Pr9mcc6LSklJYeeOHbg5O+Pi6Cjnjubzu9q5q+biQtVvvqFtq1asW7sWg8FQPL+bTBIG09Le78xifhkMcpHCpk2yc71+fZGAC+Tq6JkzZlCnZs28bVFelulyc3amaqVKdOvShX179758Q+zClJ4O587BypUy+7xjxzufwqBBVzGk0+mIiYnhm6+/xqFyZZzt7fOWsxaYZOnsjLODA1UqVaKGqysLFywo2pDLh6Ls7GJnMG7dusXkSZP4v3/8Ayd7e1wcHKj2kon0Lg4OONvb8/U//0nvnj25UNyNas1mmf15X4cTC5MKvAcOyMa/CHN/zGYzT548oVf37lT6179wtrd/6UT6as7OuDg44Fi1Kl99+SWjR47k2tWrxSufOhR3+LAsZ1nzfzFlsVjIzMhguL8/tatXx6FyZSsAvFjnHR1xqloV+8qVad2iBTHR0VonrwQ6e+YMHoMHU/Grr3CsWrXwOu/oiGOVKrg6OfFt7948j4vDpPndCrvHjxd5dS7A7l276NqpE5X+9S+cHBwKrBjND1zOSqypWqkSc2bNevXmwC+TXi9jzf79cm7pOwZeDbqKoaysLG7dukXIpk1sDg9n544djA8KKrCSruo33zB92jS2bd3K5vBwtoSHE334cPF6/mVdr9mM8GWKjY0lOjqakE2b2Lp5M/v27qV3jx4FoLd5kyaEhYQQsW0boSEh7Nm9mzvFGL4ErJOgy0rPU5V6XzpdkefsqNC1Z/duwkJCiIyIYP26dTRp2DBv3xynqlXp37cve/fsYXN4OKEhIUTt309sbGzxy2cwWIG3rPm/mDKbzeh0OqL272fL5s1s27qVtWvWMNzPD8eqVfNWSffp1YtFCxawPSKCzeHhbA4P58GDBxp0lUBPnzxh5/bthIeGsm3rVtasXk3vnj2tewI6OzOof39Wr1pFxLZtbA4LY8+uXSQlJhZ9JWNZlrp6Nzu7WNnqq1evsmP7dsLDwti6ZQvr16+nds2aeTsENKhbl6GDB7Nn1y62bt5MWEgIJ0+cKPrcXVVms01jjQZdxZDRaCQrK4uEhAQSExNJSU5m9apVtG3dOo/KK3z1FVs2byYpKYnExMS8z2kvY8mUnZ1NSkpKnu/TUlPxcHcvkIZu37o1t2/fJikpiYSEBJKTk8l63/e9KU2p+0cVMchYLBb0ej3JycnSn0lJXLp4kdYtWuRBV5VKlfDz9SU1NZXExMQ8v2e/yVfKFKNsZV0WiwWT0UhycjKJiYkkJSVx7epVFi9cSJVKlaju6opDlSoE+PlxJCYm73MJ8fGv37Fb0yuVnZ2dF7uTkpK4cf06fr6+eZO7XZ2cCBo7lvPnzsk4r7wbubm52tzdEigzMzOv3UxKTOT+/fvUrVULZwcH3JydadqoEZMmTCA1JYUkJdakpaWR+559i4IGXSXUxp9/ztvHpbqrK199+SX79u61dbE+CHl7euJkb5+3oKFD27bExcXZulhlWvfv3aNty5Z50PVNhQoMDwiwdbE+CD19+pRVK1fyTYUKVHd1xb5yZUaNGMHFCxdsXbQyrWfPnjFi+HCqfvONHM51cmLK5MmFf9G7phLLYrGQlpZGvVq18qbxNGvcmOCpU21dtBJLg64S6ucNG2inQZdN9CJ0tW/TRoOut6z79+7RRoMum+jJkyesXL68AHSNDAzkfHHnLWoqlp4+fUpgQEAB6Jo8aVLxpy5oKrIsFgupqam/gK5p331n66KVWBp0lVAadNlOGnS9e2nQZTtp0GUbadD17qVBl6ZCpUGX7aRB17uXBl22kwZdtpEGXe9eGnRpKlQadNlOGnS9e2nQZTtp0GUbadD17qVBl6ZCpUGX7aRB17uXBl22kwZdtpEGXe9eGnRpKlQadNlOGnS9e2nQZTtp0GUbadD17qVBl6ZCpUGX7aRB17uXBl22kwZdtpEGXe9eGnRpKlQadNlOGnS9e2nQZTtp0GUbadD17qVBl6ZCpUGX7aRB17uXBl22kwZdtpEGXe9eGnRpKlQadNlOGnS9e2nQZTtp0GUbadD17qVBl6ZCpUGX7aRB17uXBl22kwZdtpEGXe9eGnRpKlQadNlOGnS9e2nQZTtp0GUbadD17qVBl6ZCpUGX7aRB17uXBl22kwZdtpEGXe9eGnRpKlQadNlOGnS9e2nQZTtp0GUbadD17qVBl6ZCpUGX7aRB17uXBl22kwZdtpEGXe9eGnRpKlQadNlOGnS9e2nQZTtp0GUbadD17qVBl6ZCtXH9z7Rv1RbnKo5Uc3Lln3//kn17NOh6F/Ie6oVjZQfcHF2o7uRGh1btNOh6y7p/7z5tmremmpMr1ZxcqfRVBYYP06DrXSj2aSw/rviRSl9VwM3RlaoVKzM6cBSXLlyyddHKtJ7HxTMyYARVvv4GN0cXnKs68d2k77h7566ti1ZmZbFYSEtLo06N2jhWdsDF3olmDZsQ/F2wrYtWYpUp6DKajKRkJHLu9lEu3j3Jxbun3qpdeXCW+Stm0K5bU2o0cKB2Y2equv2L1SFLuHTv7V77Q7drj84x2LcP1evbU7uxM3WauNC+e1OOXIji8v3TNi9fWbTL908TdWIHbbo0pk5jZ2o3dsa5ViW8Agdw7dE5m5evLNule6c5eHo3MxZMxrlWJWo3dsatbhV8Rgxi275NXL5/xuZlLIt26d5pDp/Zi1fgQFzrVKZ2Y2dqNnQkcIIPe49GcPmeFmvelh27dJAGLatTvb49NRs60rx9PUZP9uPqw7PvpH09d/sYsUkPMRgNpcopZQq69DlZXLp3muHLejPxp6FMWuf5Vm3qRl88v+9Ee/8aNPdwpIWXE40HV2HY/O5MXu/11q//IVtwiB89xzWSfvd0oqWXE+0DajDxJw+mbPC2efnKok3Z4E3Qj0No51edFp5OtPByoqm7Pb0nNCU4xM/m5SvLNmWDN2NXDWJwcFuaDqlKCy8nmg11oFdQYwKXfsuUn7U6/3b87sXYVQPpGdSIZkPtaeHpRHMPR/pMbMaYlQO1WPO2bL0nQT8OoZW3ixLjHWkzzI2+k1swbZMvk9e//TKMXNGX3afDyNSnlyqnlCnoytClceB8JK4edrSdWokO06vSIbjKW7UusxzpMdeNXvOr5VmXWY50CH771/7QrdscF3oqPu85vxo95rrS8R088w/ZOs6wp/tctzy/95pfjW7fO9u8XB+CdZphT9fZTgViTfc5LnSe6WDzspVl6zTDnu5zXPJ83nN+Nbp970KnGfY2L1tZto4z7Ok5z9q29pznRtd3EWumV6XD9KrU9v8zSyOnkZKRWKqcUqagK1OfzuELu6gz7K94hzUiILI5ARHNNNNMM80000wzzYpgzQmIbE6rSRVYsWMmqZlJpcopZRa6PDc1wG9LU4Zt1kwzzTTTTDPNNCua+W1tRsuJGnS9Vi9C1zANujTTTDPNNNNMs+LYlqYadBVFGnRppplmmmmmmWYlMg26iiYNujTTTDPNNNNMsxKZBl1FkwZdmmmmmWaaaaZZiUyDrqJJgy7NNNNMM80006xEpkFX0aRBl2aaaaaZZpppViLToKto0qBLM80000wzzTQrkWnQVTRp0KWZZiUz3/AmijXOZ/J3ti6bZpppptk7MQ26iiYNujTT7M3NN7wJPmGN8A5rhE94PgtrlAdfti6jZpppptlbNw26iiYNujQrifmGN8Y7rBHeYQ2LZRJK3l8gUTNZPmGNCNjSkvE7uzNzv3ueTdrVm+FbW+ET1sjmZX0fzQqzDfHR4PUXvvENb4JPeGPr+/QKHxX8/C/fVZ/wRvmytZqfNXtD06CraNKgS7OSmGdofQZscKPfeqciW//1zgzZWBOf8MY2L/+bmjqc6BVan8UxI7n09GiB9+p63BnmHvRlaEgdm5f1fTSv0AYM+rk6/dY7476pFt4avOaZb3gTvMMaMjSkDv3Wuyg+ql0o4PsqcDY0pI7yrjor76IzAza4yncxrBE+YRrcalYC06CraNKgS7M3NY+QeszY786ph/u4FX+BG8/PcuP5GWlxZ7ged5rrcaetv3t+hlvx57kae4LQ8wvw29wM77CGNr+P4pqaNfAIqce0vQM48WAPekMW2QYdN+LOcj/xGuceH2beoWF4hHsXT3EAACAASURBVNS1eXnfN/MMrc+U3X3Ze30DdxMusfZUMKMiO7yXdaW0Tda7uvhvacGi6EAuPInhbsIlVp+YTOC2Nr+AUzUbFri1DXMP+nLw9mYuPj3G9ednuBx7nJg7Efx0KjgvA6aBl2ZvbBp0FU0adGn2pua+qTaLokeQkBGLyWzEaDLks1wMihlNudbfmw1k5qQSczcC/y0t8HoPG1I59NWYoSF1+en0dB6n3CY56znRd7YxaVdvpu0byNS9Axi5rZ02vPgGNjSkLrOjPLkedxaDKYfDd7YwcVdPvELr27xstjJrdqsuk3d/y7bLy3mYfJNsgx6T2cSWi0sYFWEFU3Wo0DO0PnMO+nLgVij3k66Rnp1MjjEbg8lArjGbjOxUnqTe4cCtMMZEdsInrPF7nYHWzIamQVfRpEGXZm9qXqH1mbyrD5svLmHn1TXsvLqG7VdWEXUzhFvxFzBbzOgMmUTf2crOq2vYcfVHdl5dw7ZLy/nh6DiGbW6Kd1jB+SRvamqZ3vS4/FaU43zCGuMeUpdtl1eQmBnLo+SbrD05jQEbXHHfVBuPkLp5WYe3fQ/FOX9xfVHU8hT386+63tCQOnx/wJvbCRcxmnI5cX8Xk3b1xvMV0FVSHxT1fEW9Xkl9+OKxPuGNCdjSkmVHxhJzN4LHKbfR52aSa8zGYrGw9dIyRkd2yOvEqOd031SH8AuLic94QkJmLMfu72TX1bVEXF7B6UdRJGY+w2Q2kaJLYMOZWQXATTPNimUadBVNGnRp9qYm4aMRXmEN8AyVNjSkDmMiO7Hj6hpMZiPJuni+29MP77CGeIbWwzO0AV6KeYbUwzO0vvX/ofXxCKmHR0i9vMnBPmGNlM9a/6aaZ2h9vMMavgSIGuEZWh/PkPp4hTbEO7RhgXNbj/3lZP68e1LKl/f5EFlOdVWiZ2h9Bv1cncgrK0nOes6dhMssjhnFwA1uecCVV57wxniFNvzFPXjmuweffNtMqFCn3oOc8NyowD14har+aZxXVnWISB5X8F7VhQvq5wvz40ufcXjjlz4D1b/5V2nK8lvL9DL/e4U2eOXE76EhdZh9wItb8RcwmHI5fm/HK6FLLaN6Hc8X68kL11Q/q97Di2V5eT1qkDf05hveJO95vHgtr9AGBepVwc83yPN1/vqgPuPC/KHOyZoZ5c6V2BOk6hJ4kHydi0+PkKZPwmw2sfXS0pdC19BNdQg9v4Arz06w69paJu3qg3dYI4ZsrMn0/YOJvrsNfW4mRrORq89OMnVvfzxD69k8tmj2HpoGXUWTBl2alcTURtZHMc/Q+ozb3pWd19ZitphJ0Scwbe/AvIbHJ0yCgt/m5ozf0Z2gHd0I3NaG4VtbE7SjG+N39mDCzh4M39oa3/DG+G1uxqiI9ozfIX8/Pp+N295NWSGYf2+sxvhvac6EnT2YuLMXw7e2ImBLS8ZEdmLCzp555x+3oysBW1u+BHYa4b+5OaMjOxS43oSdPRkV0ZFhm5vhG96YsZGdGR3ZiaibIaTqEniUfJMNZ2YxOrIj43d0x39zc+V+ZQMcuK0t43d0L1B+eQ9d8N/SMs9/Khh5hzUiaEd3Ju7syfCtrRi2uRnjtndhglL+kRHt8A1vgt/m5ozb3oXxO7rn/f/Few3a0RX/LS3yMhgjI9oX+PvY7V0I3Nq6AFSoz1aWqSkjI9oVKLc8bzeGb22Nj+J36+ebMGZ7Z8Yrz3H4llZKmXowfkd3xmzvjN/mZoUOYxUHuqzPrinDt7TK81FBP3dndGRHhm1umvc8Rmxrm+cD33y+z7vvMFn3xm7vzMRdPRkT2anAs/Hf0oKxkZ3zzqHWkdGRHfHf0qJAvfIOa0TAllaM3d6FMds7E7ClFcO3tiIoX30YFdG+0AyTCr2bzs7l5vNznH64n1UnJjH/sB/xGY8xmY2FQpd3WEMm7OzJlD19JYQpHQLvsEYM3VSbeYeGcT/pGmaLmcSMWGZFeTJUm4eo2ZuYBl1FkwZdmpWmeYU2IGhHN3Zd+wmzxUyqPoHgvYMYFt4sLzPjt7k58w75kaZPIinrGRGXl7Pl4lKSdfF59TLk3DxGRrRj9gFPTjzYQ7ZBh8Vizvu7yWwkLv0RP50Mxie8iZLJkMN5s6M8ycxJw2wx8/PZ7/np1HSux50pUO9jU++z5uRU/DY3wyu0Qb7hmNrMO+THuceHMJoN+a5n4sSDvQTvG0zgttZciztNrjGn0Pdq/mF/Bm+shXdYQ8Zu78T2qz+Snp2MOd89GEy5PE65zYpjEwjc2jqvHGrWLzEzFoBNZ+ey4JA/T1Lu5B2798Z6RkW0Z1aUB/cSr6A3ZDJ17wAWx4zgxnPrvZotJuLSH7L0yBi8Qhrw3Z5+HLu/s0BZH6fcIfT8wryFDSp8qJA8cVdvYu5sQ2/IyndeM8lZz9l0bh6B29oWyACOjuzA5afHyTVmE3Z+ERvOzM7zv8yonGDq3gGFZlSKC13eYY0Yt6Mr68/M4mnavQLPDSDboOPy06N8t6cv3mENGRnRnsjLKwHQ5WYwdntnvMIa5IMumVkK3j+YOwmXADj3+BCjItrL7FZofZbEjOJW/IVfPPfLT4+yKDpQ1ivlnEM31WHZkXHcSbjMnYRLrD01jdDzC8jMSQNAb8hi381NDPy52kv9oW7LMuegN/MO+RGwtTWDN9Zk1v6hJGXFvRS68vtHZpLr570f+f0cvG8g5x8flNCV+YzZBzTo0uwNTYOuokmDLs1K014PXY3w29ychdGBpOmTSM56zuOU2yRkPiXHqCdVl4jJbCL8wiKWHwvi2L0dZOWmYzIbeZ7xmIfJN4lNu096dgoGUy7P0x+z8vhERmxri2doffw2N2POQR/S9UlkG3TcT75ObNp90vSJJGQ84UnKHXJNOeQac7gdf4F1p6cr2bdGDA2py6woT848ikKXm0GOUc+jlNs8Sb2LPjeTzJw0DtwKZeyOLmy5tIw7iZdJ0cVjMOWQbcgiLv0RD5KuE5t6n9lRnrJhjPLgzKMDpGUnYzIbScl6zqPkmzxLe4A+N4tcYw5JWXFsvriYMds75Q1ReYbUIzEzFrPZzN2Ey9yIO0O2QUdGTipmi4n9NzcxOrIjM6OGcjfhMkaTgdMPo3iYfINUfQIJmU95mnYfk9mEwZTD9edniL6zjUtPj5KmTyYpM45HKbfQ5WaQa8zhXuIVfj77PR6h9fImU3uF1mf+IT9uPj9PZk4qBmMuz9Mf8TjlNim6BIxmA4mZsey48iPjd3ZXhszqMSqiPZeeHiPHmM3t+Is8Sr5JVk46ekMWutwMrsedIXjvwFKBLjWjtPrEFFJ08eQas8nMSeVp2j0eJN8gMfMZRpMRXW4Gl2OPMyvKA4/Qeqw5ORWz2USOMZtN5+YyKqIDXmEN5DmVocOfz37Ps7QHPEt/QPiFxXiE1MUjpB6RV1bxIPk6OQYdWbnpPEm9w9PUe2Qb9OhyM7jx/CxrTwXnDWG7b6rN0iNjuJNwieSsOK49O0mKLgGDMQddbiZp+mT23dj4CuiSHQL/Lc2VjKXM1n1/wKtI0OWbLxOZ//fum2oz+4AnN+PPYTabeJJ6jxn73bUVt5q9mWnQVTRp0KVZaVpxoCtVl0iuMZtcYw4Pkm4Qen4BM6PcWX4siMm7+zD7gCdbLi7l0J0tLDs6lplRQwneN4hpewew7tQM7iZewWgycOrBXqbu6Z8HXXMP+pCqS8BgyiXXmM21Z6fYdHYuM/YPYdq+gWw6N4/YtPtkG3Qcu7+TUREd8uY9bb+yisTMWB4k32D9mVl8t6c/wfsGseTIaLZfWc2GM7MJ2NqSMds7M3lPXw7f2UqqPpHHqXcIvbCQybu/ZcZ+dzl8urMHu66tJTMnjcycNCIuL2f+IX+m7R3IzP3urDoxmRvxZ8k15RCbdp/VJ6bgG95EzvVSoMtisZBj0PEw+Qa7r61jdpQnS2JGM2P/EHzDmzA7ypM7CZewWMxk5qRxP+kqoefnE7xvILMPeLHn+np0uRlkG7LIyE7haepdou9sI3jfIL7b05eNZ+fwIOk6OUY91+JOMWxzM7lIYFMdpu8fwpG7kehyM3iaeo+1J6cxK8qDqXsHsChmJFG3Qsk15pCY+YyVJybhv6UFQzfVZWREey4+PUKOMZtsQxbP0h5w6PZm5h70Zc4Bb5YcGaVM2H75ys7iZbokTCyMHs6JB7vZcmkZcw/5Mn3fYKbtHcD8w/7svLoGo8mA3pDFimPjGRpSh1lRntyMP4/RbOD8k2im7xuUl+XzCmvIkI21uPrsFHqDjotPjzDv0DA8Q+qxKHoET1Pvojdkcfz+LhbHjCR470Cm7xvMymMTuRl/nvTsFM49Psj0fUPwCKmL+6ZaLDkyhtsJlzCYcknPTuZp6j3Wn57B3IO+LIkZxcwoDzxCCp9LpQ7dqhuc+m1uViToKsy8wxoSsKUlG87MIiM7FYMpl4O3wpnw/7P33mFRpXneNzvb8+zuzPv2vs887+zM7s5OT5sRJINgQgWMYA5tbruVnLOJZGxtbXPAiAEoCpCcTKggkpNiAiWDknOu7/NHBaG1uumGOrdd/D7X9b36aj3U+Z1fHU59PHWf+44e2U+JUoYQkq7BQdJFGc78Eumqb3sHgUCAysY3iMi7AJebi2AaMEXytZZb+FLsjvsa++K/hXXQbJgGTIWpvx42X9PE9ogViH/mj76+XlQ0vMbxRCdYBxnAXnSnq6HtLXr7elFa/xLX0w7CNWwRzAKmwSxgKpxvmiDldSzau1pRUJWGg7fNYcGbAYeQeXjwKgytnU14WpWK/fFbsemaJrYG6ME6yAAe0WvhFbMedqI5ur71n4zwvPOoba3CqxrhQPpvrmvDPHAaLHgzcDHFG6/e5aK9uwVpJbewK2q16EN4OswDp8M+ZB4upnijoa0GPX3duP2cB8/otbAInCGRLgCoa63GnRd8eMasg2nAVIl8CJ/ys8ard7mir/uqEJJ9Cu7hS7HVX080vcBGlNW/QndvF+paq5H46ib2xW/BVn89bPXXw/aIFUgqikJ3bycqGovgdNNYMrCfn3UCVU3FaGivAS/zGOyCjbDFXxff3pgM88Dp2JewBW9qn6G7twt3XgTBK2Y9zAKmCaWrTChdnd3tSHwZir3x3wj7HzgNTqELIRwbN/SB9OI7OTsiV+LQbUvsiFwFs8Bp2Oo/BVv8dWEaMBV74jajoV14BzUk5xScQhdiR+QqROZflnxNei5pJ+yD50pWS9gWsVx4p1HQh9inV+Eathjbwpfh0esYdHS34cXbbJxIdIZZwFRsuTEZW27owoI3A0GinlU2vkFo9mmYBk6FWeBUnH6wDS9FclzXWoXraQfhFLpQMvGrQ8j8QU/VIB5v9mukSzLAnjcDB29b4NHrWPT29aCh/R3OPtwBl5smNBEt5deFpGtwkHRRhjO/9E6XQCBAclEU9sZ/C/PA6QMGY9vwDWHJ04dZwDRY8mbCMXQBtoUvh3v4MuyN/wbheeeFd3g6GuGbvAu2fOGHVn/puv0iCB7Ra2AROEMyEHqrvx7Ccn1R21KJ17VPceGRF8wCpsGWb4i4p9fR0PYO5Q1FCM05jZ1RX8ExdAGsgmYJZSholnDgtWjKiKgnl1HXWo2imic4l+wB88DpsA4ygGPoAsQVXEdLZxNqWytx5uF20VNrs98/Ecg3gFOosURcMkru4shdW5gFTB0gXU+r0nDm4XaYBU4T9UZ4x8M8cDoO37XBq3e56O3rQUFVGvbEbYZF4IwBT+jllD+UfK13NmkHTAOmSl7DOmgWIvMvoaWzERWNRXC+aQLLoFnYHrkSSUWR6OrpQFVTMb67ZYZtEcuwLWI5dkSuhFvYEnjFrEfqmwR0dLehoCoNR+7aYou/3gDpqmosxtmH20Wznr9/UOCnpkj4NU8vWgfNhnngdJiJJMY1bDG2R66Ea9gS7I3/BtXNJejp68HdF3x4Rq+FXfAcnH7gjrauZvQJ+hCacwbu4ctgydOHQ8g8nE/2RFNHHVo7m3A5ZQ9MA6biQMJW1LVVo7evB4kvQ3AgwRSuYYuxI3IltkeshPNNE/gme+DVuxy0djYhrfgWvvWfDLOA99LV1dOBgup02IiekBXfvfolc2MNVbqE+50DfvYpVDeXoq2rBSlvYrEzciUtuUT59SHpGhwkXZThzK+RrvC883AImT/g6S2xmNiHzIVb2BJ4x2zAuaRduJlzDtFPruD2cx6eVDyGQCBAe1crzj/ylGzfX7qCso7DJWzRgKe6tvpPAS/zGKqailHeUAhexg8wDZgqGXvztDIVnT3taO1sQlJRFHyTd8ErZj2cQhe+/5rnJ6TLijcLXtHrkFZ8C319fahofA23sCWiRbGN3h8f3xAOwfOQVnwLzZ0NyCl/iOP3nWEaMGWAdKW8icOBW2YfDHC24M2QSFdPXzcyy+7CJ3aT5GsqG74BLHn6SHkdh+aOemSW3MWRuzYwD3y/NNFWf10EZ59EY3utSLqMYcHTx+7Yr5FVmojevl7Utb1F/DN/RD+9guinfoh+6oeoJ5cRV3AdL6qz0N3biZK65zh53xVb/HUHSFdeeTK+v20Ji8DBL4f0S+90iaXFIWQ+dkSuxHe3zHA9/RAin1xG5JPLuPU8UDIWLqkwEnviNsM8cDo8o9fiWbXw692M0rs4cMsMpgFT4B6+FMlFURKZPHzHGha8Gfjhrh0AAQABCqrSkPAsAFFP3vckMv8SHhZGoKqpBN09nXhWlY5vfiRdDe01uP8qDBaB+r969vdfI139n861DjLA8URn4bH3dODluxx4Rq+FteguH+trCOU3GpKuwUHSRRnO/Brpisy/BOebJgOkSzz9xL74LUguipZ6/goEArR1NeP8I4+PSldw9im4hS8ZIF2m/lPAy/wBlU1vUFb/CgHph2EWKFx/bqu/nuhuRe6ApyXftZQjOPsk3COWCe8k/YR0WfJmwjtmAzJK7gCir0+3RyyX3KUS1yF+dD/6yWXUtFQgt+IhTnxEulKLE0Rjfn5aurLKErE77mtYSaTLEFZBM/HodSyaOuqRJVqaqL8AmQZMQUjO6Q+ka0/cZmSV3R/0deRNXQFO3nf5QLqeVj7GkTs2v2gNyl8qXdZBBnC+aYIzSdtR31qN3r5eqXU+LIzAnrjNMAsQfs0ZmnsWrZ1NaOqox8UUb5gFTsV3t8zxrrkcvX09CM05IxJmA/xwz37Q/RBKV9oHd7oa2+uQVBQlnB+MY+my4RvAInAGvrtlJnkqs7juGS4/3oMt/pM/Om8dhTLokHQNDpIuynBmqNLVf8zJoTuWeFgUgdbOJvT19aK8oQgJzwIQmHEUEXkXkV12X3Snq0XqnS7p0nX0Q+kSTRXgFLoQe+O/wdXU/UgrvoWO7jZ093ahpqUCCc8DsC1iufDrLN6MQUrXa2wLXy6ZT0xch/hD7u7LYNS3vUNuRZJMpEt8p+vXSFdvXy9qWqoQnnce/KwTwmQPTEj2Kfgme2Bn5GqYB07nVLpsRYPKL6fswbuWcuGA+a5W5JYnITL/EgIyjiAi/wKaOoSTiIqly4I3A7Z8Q3hErZF8ZRiRfxHbIlbgWKITuns70dhei4uPvGEfMg+2wXPwwz170X0uIK8iGRF5F8DLOvZBP4KzTyIw4whOPXB7P5CeoXSJxdQ6aDa8YtYhv/Ix2rpaUFr/EsHZp+Dcb7oSki7Krw5J1+Ag6aIMZ4ZDusQDecPyfFHbWoXG9lqE5pzBwVvm2BG5Es43jbE7dhPCcs8Nr3SJJjMVz/bucnMRvGLW42iig2Rc1LPqdBxNFIqLeeDHpUs8QWxyURR6ertQ1VQMj+g1H3y9aMM3gH3wXBRUpaGjuxVZZUIpMv3RmC6upcuSpw+vmPVIL7mDPoHw61GvmPVwDVsMt7AlcA9fOiBu4UvhfNME9iHzYMmbyal0WfJm4vvbVnj8Jl70NecLnHrgBu+YjdgesQKOIfPhHbMeVU3F6OnrlkhX/1UP8iqSReOa4nA97RASX4aip68bueXJ2J+wFVa8WcInRe9Yo6unA30CAWKfXoNP7CY43zT5oB/u4UvhFrYEzjeNJVNGsJIuoXDNgn3wXHx/xxrP32ahvbsVxXXPcC3tINxEk7KScFGGHJKuwUHSRRnODI90GcA1bDHuvQwRDsZuKoZn9Dps9deDacAUbPWfgu0RKxCRd374pEs00Fs8U7oVTzhw3jRgKjZf10Jw9im8ay5HYU0+zibtkDyB+NGB9HwDOITMR9STy2hsr0VD+zv4ZxyGbfAcWPL0JZOf2vANsDfuG1Q3laKntxv3X93E7tivRePCWEmXCayCZsElbBHuvAhCW3cL3raU48hdW8lDDRaBM2DBmyHpgVXQbInAWAXNGnbpSiqMgEfUVzALnCZZMkocs4BpOJe0E8/fZqFDNL2DFW8Wvr0xGWYB02AeMA3eMRvwrkW4KPtA6RIOZg/JPoPq5lIU1TxBVmkiKhqK0NnTjoD0I3ATTYhqyzfC7rivUVL/Aj293Xj0Oga7Y7/GVn89mAdOhwXvfU/E77HwSUijYZEuyfJFomWebPlGOHTbAjWtlejt60FIzim4hi0SzTj/flkp8ez5R+/Z4/GbOPT29eJN3TMEZPwA17AlMPWfMmApLuHvIC14TfkVIekaHCRdlOHML5OuWql3ulxumuDWswC0dTWjprUSpx66Y3vECskSNhcf+SC3PGnYpMs0YCpcwkxw8r4Ljic6wSd2I7ZFLJfcuYh6chnvWsrx8l0OTtx3+UnpsuUbwYKnL5QB0WDlV+9ycfSeA3ZGrYZ7+FJsj1yBg7fMEf/sBtq6WlDbWgX/9MNwDF0gWS+QW+mqk0iXeF1Bv9T9eF37FK1dTXhYGIGDoikZ3MPfP8XoFbMeZx5uh1fMesjiTpdw0tcEfH/HCu7hy7AzcrUku6LWwJZviOOJzsgpf4iung68eJuDffHfCmsMX4bvbpkhIu+C5CnF/tIlXl7n4C1zPK/OFE7W2/ZWOAltRwN8YjdJHpqw4RvAPXypZN6zqsY3CM4+CW/xeSJ5snMVDt22xOE7NtgesQI2QQZDli7xXSiHkPmiO43LsD1yJU7ed5Xc6Yp6chk+sRslf+8QMh+2fCNY8vRx+K6taFWHVrR0NiLhmb/oadTl2Bm5ql8/v4Jr2BL81HQeFIrUkHQNDpIuynDmx9LV2FErXbraayEQ4CNjuoR3TK6lHUBx3TN09nSgvKEI0U/8cDP3LJKLolFa/1K0NJAAHd1tuCCWrmCRdLW/+2npynr/9GJA+hFs9Z8C75j1eFqVivKGQjx6HYPwvPMIzTmD2y+C8K6lAu1dLUgtjsfuuK9hyZsJc94MRD+5grq2tyiqeQJfkXTZBRvBmj8b7uHLwMs6Jpm1/nVtAe684CMk5zRinvohv+IR+gR9aOqow63ngfCK2QCLwBkDZqQHhNJ16CelKw89fd3ILrsvlK6ggdL1+E08mjsapEpXaM4ZNHXUS6RL+GE9E7ui1iA87wIa22vR3duFZ9UZSHgWgNDcswjL9UXMk6t4VBSDxvZaXE8/COebJrDgiSdHTRqSdB2+Y4OX73JEc629wIPCMMQVXEP8M3/EP/NHwjN/3HnBx/d3rOEVsx5hub7C2fV7O5FWnIDI/EuIyL+InPIkdPd2oqunAwJBH5JE0mXFmyl5ms+Wb4gHheFo62oGAHT3dqLoXR6cbxqLpgh5P43J3rhvUFiTh/buVrxtLkNGyR2E511AaM4ZhOedR8Izf7x8lyOaUNVBMqZLPCP9r5UuG74hfGI34WraAYTmnsXN3HO4+yJY8lRmXsUjRD25jJCc0wjI+AF74jYL5T9wBu68CAIA9PR1421zKRKe+yP26VXEF9yQ9DLhmT9uPwvEhUfe2B65Uuo6kBSK1JB0DQ6SLspwxjpoNjyi1iD26TUAwnXlDiSYSV0GCACi8i+JJmU0GPA6LjcXgZd5TPJh2J+alko8qUyDQCBAb18vLqb4CL8WCZ6LH+7aStZeDMk5DffwpR9IV3D2KbxtLkN5QxF4mUdh6j8FbmGL8bAwQrIm3o/JLnuA44lOsOTpS5YNiiu4job2Gsl8X2LpshN9legesQwBGUfQ1FGPPsHAp+oEAgE6e9oR+/SqaBkd4RxgP1578f2droEzlounMXhd+1QkXQ+EQvEj6cosvYfWziZkl93HsXsOH0hXeJ4v2rqaUNH4Gq5hiySLklvyZmJX9BpE5l9C54/Wvux/DO1dLbjyeB8cQxfCkqePbeHLkV+RIloN4NdJ15G7tiisyf/Z69ed5zzsilyNffFbkFFy74O/b+9qQUXDa7ypKUB3b5dwTri4byR3A+2C52CLvx4CM4RPswJAfdtb+D3eJxmA3n/hakveTBy6bYG88iR09rR/tKa+vj7kVzzGd7fMhHIeOB1nk3ai8F0emjrq8Kgo5hdJl/iOXEDmUVQ2Ff9sTxraaxCYeQy2fEPsivoK6SW3f/ZnxGSW3sPBWxaS/lAogw5J1+Ag6aIMZ2yDDeEStgjHEp0Q/fQKQnPOYEfkCtgPWANuLnZGfYXg7JOIenIZR+/aS8ZSiV9HfBdiW/gynLjvjLA8X8Q+vYqYp1cRnH0SJ+67wCd2EyLyLyAs1xe7YzdL5mvaEbkSQVnHEVtwDUfu2sApdMGAAezCD05LhOScQlDWcexPMIWlaBkgj6g1OJ/sgZu55xDz1A+xBVcRmX8Rfqn7sCdus7BO0Yz51kGzcfSePUJzziIg4wh2x3494Ckwsby43DTB93dsEJR1HFFPLiO24BqinlwBP/skzj7cDtewJZLJSt9PJWEAXuZRxD71w7mkndgWvvyDuw/iu4pXUw8gvuAGzj7cAbfwJZIHEYRjgGbjfLInIvMv4WKKD3ZGrYZ10GzJa1jyZuLwHWuE5foiJOc0HELmS6RR/LSlW/hSnHrgCr7o/Yp9ehXRT/wQnnce0xSPvwAAIABJREFUgZlHcfSePdzClwx4+vN8sidin17FhUde2B65ctDL04iPa2fkavg93oe4guuIeeqHGNF73z8Jz27g6F17OIYugF3wHHhGr0NAxhFE5l9CzNOriMy/hCuP9+JAginOJe1EbMFVnH24He6iwePvz4f385IJBAJUN5fh+9tWsBWdg+/XL3z/xKl3zAZcSvFBeJ4vYp74iXpyBaG5Z3H58R7sT9j6fhLcoNnwjtmIG+nf42buWZy47yycoPQX3Omy5RviQIIp+FnHEff0muR3QdgbYX9in15F3NNrCMv1xYEEU8mSRmeTdiCu4MaAbT+WuILr8E32EH4tSne6KL80JF2Dg6SLMpwRf4i4hS+BZ/Ra7Ir6Cg6iMSL94xAyHzujVsMzei1cwxZ/9OkpsUQ5hi7Arqiv4Bm9Dp7R67AjchWcQheK/iW/BruivoJTqPGA194RuUryxF3/usQfhC5hi7Ar6ivsjPoKzjeNJWN3bPnivxPW5hm9Dh7Ra+AWvkQyyL+/VLmGLYZH9BrsjFotrKnfjN79Bz/bB8/DjoiV8IhaI3rNtdgRuQrON41hzZ/9wYe7Ld8IOyNXwSt6nWiMzofjbIS9mY/tESvgFbMBbuEDx+OI978tYhk8o9diW8RyOITOHzBQWny8HlFr4BG15oP3yVYkgOKlczyi14jeB+F7uz1ihWQJG8l7GDwX7uHL4BW9XjK+6JeMEbINNoJjyHxsi1gBr+j1ovdhreT9F8crZj1cwhZJZEi8fI+4RuH7thR2/DlwFc2g7x6+dEAv7YLnwCxgKk7dd8PLt9lo62pGdtl92AXP/WDeqvfiZSB574Xn5VpJT3ZGrRadc/MGfF0u7p9w3NTiAe/3YH6n7ILnwPmmsei8XCfZ38AI/9wjag2cb5pIpMstfOmP+vhhL8X5Ne8XhWIfMpeka7CQdFGGO5KZr/mzYS16GurHH162onFP/YVD+msZDXhiTbw+nngpHet+T2uJP+SEfz4btsEff21b0ZNr4p/tvz8bce0/3uePhOr9cRpI/v6njkG8DJAkfIOP1tf/w92aP/snJ620C37/uh/bTvI6P/FkWv/+fkwE+h/nwPrfP6H34/f3p2oa3Dn0kX59JANl1UjSs4HnipHkScX+9fQf0xVf4C9cuLz+JW6kH4Kp/5SfOS+NPnqevH+/BvbZ9iPv0y/pS/+7ZoNJ/9+HwfTxfb9oglTKrwxJ1+Ag6aJQKCMt7+9CGuJAwlYUVKWjs6cDmaX34BWzXjKAnnWdFMpvJiRdg4Oki0KhjLS8HztniBvph/DqXS4qGl8jIv/igDtFrOukUH4zIekaHCRdFAplpEV8p8s22AjbI1fAJ3YTPKLXwEk0izzN0E6h/MKQdA0Oki4KhTLSIhmTJ5pmxD54HuyC5wqfWOz/UMAnUCuF8psISdfgIOmiUCgjMf0H4NvyjUi2KJShhKRrcJB0USgUCoVCGVJIugYHSReFQqFQKJQhhaRrcJB0USgUCoVCGVJIugYHSReFQqFQKJQhhaRrcAyQLt5s2N/8BN48CoVCoVAov5k43JwLY5Kun6elvQmJOULpsvCfBVv+HNgGGVEoFAqFQqEMKnbBc7DQcwJJ18/R3NaI25nh0Lb8P1i8TwnLvlOReVYf1sT647rYeHKKJKsOa3Cy75GetUd1sOGkHjaenIINJ/Ww7thkLD+oyrwuec6Kg2pYd3yypO8bT07BmqPazOsaCVlxUA1fHdEacK1Ze1QHKw+pM69NnrPikBrWHtWR9HzDST2sOaqNFYfUmNcmz1lxUA3rT7z/bF1/QhdrfuDmWrP8OxVMc/gvnA7fi/rmmmH1FLmSrraOFmS9egSbEyvgcmYjXM9+LfNs3r0AJrY6mGuuhnkW6pi9RRmmB5bA9Zzs9z3Ss9xlOuaYqWKuhTrmWqjD2FYb9sfXMq9LnmN79CsY22hjroXwfDfcOgkrXWcwr2skxO74GmzyngfDrZMw10IdRmYqWOWuD6vDK5jXJs+xP7EWq9z0YWSqIrzWmKthzfbZsDm6mnlt8hznUxsx31JDeI03V8NCay2s2WHA2f7tTq5GZEoAmtsah9VT5Eq6AEAgEEjCBQE3/LF00WJoa2hCV1sHE8aMxa34BE72PdKxs7aBlpo6dLW1MUVnMpYvXoLqqirWZck1r4uKsMTYBHo6OtDV1sEkxYlwcXJmXdaIoKysDBd8z2OS4kToautAbZIK3FxckJWVxbo0uaa8vAKuTs5QVZ4EXW0d6GhowsfLG69evWJdmtwiEAjQUN+AWdNnQFNNHToamphnNAf79+7ltAZZeITcSRfX+N+4gSUmi6CtrgFdbR2MGzUaCfHxrMsaEdhYWUFTVQ26WtrQ09bBUpNFqCLpkimvi4qwaMFC6GkLpUt5giKcHZ1YlzUiKBdJl/IERaF0KU+Cm4srskm6ZEpFRSVcnJyhoqQMXS1taJN0yR4B0NTYBP2p06CpqiaULkMj7NvDnXTJCpKuIeJ/4waWLFoEbQ0N6OnoYNxoki6usLGygqaaGnS1taGno4Oli0i6ZM3roiIsWrgQejo60NPRgbIiSRdXCO90+UJZUSRdkybRnS4OqKiogIuTE1SVlKGrTdLFBQKBAA0NDdCfNg2aamrQ0RRL1x7WpQ0Zkq4hQtLFDpIu7vmodDmRdHFBf+nS0yHp4ory8nKhdCmLpEtTEz7eJF2yRCxdM6dNg5ZYuoxIugiQdLGEpIt7SLrYQdLFBpIu7iHpIqRC0sUOki7uIeliB0kXG0i6uIeki5AKSRc7SLq4h6SLHSRdbCDp4h6SLkIqJF3sIOniHpIudpB0sYGki3tIugipkHSxg6SLe0i62EHSxQaSLu4h6SKkQtLFDpIu7iHpYgdJFxtIuriHpIuQCkkXO0i6uIekix0kXWwg6eIeki5CKiRd7CDp4h6SLnaQdLGBpIt7SLoIqZB0sYOki3tIuthB0sUGki7uIekipELSxQ6SLu4h6WIHSRcbSLq4h6SLkApJFztIuriHpIsdJF1sIOniHpIuQiokXewg6eIeki52kHSxgaSLe0i6CKlcu3oVC+bNg8rEidBQVcUXf/sb4mJjWZc1IrAwNYWyoiLUVVSgoaqKhfPmoaqyknVZck1RYSHmGRlBQ9TzsaNGwd7WlnVZI4LS0lKcPX0aY0eNgrqKChTHjYOjvT0yMjJYlybXlJWVwd7WFuPHjIG6igpUlJSwa+dOvHz5knVpcotAIEB9XR30tLWhrKgIVWVlzJoxAz5eXqxLGzIkXUMkOioKttbWWL1iBdauXo2F8+bhUXIy67JGBPv27MHK5cuxZvVqrP3qK9hZW6OmpoZ1WXJNWVkZrC0ssHb1aqxdvRpLTEzw/cGDrMsaEVRVVSGYz8cSExOsWb0ay5cswZHvv0dBQQHr0uSa6rdv8f2hQ1i2eDHWrF6N1StX4vSpUygpKWFdmtwiEAjQ1NiIrzdswMrly/HVypUw3bIFvufOsS5tyJB0DZHq6mrk5+cjMyMDWZmZeJySgrq6OtZljQhevnyJDFHfszIzkZ+Xh66uLtZlyTXt7e3Iy81FpqjnaWlpKCwsZF3WiKCzsxOVlZVIS01FVmYm0tPSUFRYiObmZtalyTWdnZ0oLCxEeloasjIzkZGRgeI3b9De3s66NLmmp6cH2VlZyMjIQGZmJnJzc1FSXMy6rCFD0jVE+vr60NPTMyB9fX2syxoR9Pb2ftB7gUDAuiy5RiAQfNDz3t5e1mWNCAQCwQfXm97eXjrnZYxAIPjgWkN9lz3yeq0h6SIIgiAIguAAki6CIAiCIAgOIOkiCIIgCILgAJIugiAIgiAIDiDpGiItzc2oqqpCWVkZysvKUFJSgra2NtZljQhqamokfS8vL0dVVRV6enpYlyXXdHd3o6qyUtjzsjKUlpaitraWdVkjgp6eHjQ1NaG0tBTlZWUoE/W+s7OTdWlyTU9PD2pra1Em7ntZGerr69Hd3c26NLlF/PBCRUUFykQ9r6yoQH19PevShgxJ1xC5cf06FhkbQ0NVFTqamhg7ahTNSM8RNlZWUFdRgbaGBiZraWEJzUgvc14XFcFkwQJM1tKCjqYmlMaPh7OjI+uyRgSlpaXwPXsWShMmQFtDAypKSnB1ckJmZibr0uSasrIyODs4YJKiIrQ1NKCprg4vT0+8oslRZYZAIEBtXR1mTJsGdRUVaKqpYY6BAfbu3s26tCFD0jVErl+7BpOFCyUf/qP/8Q/Ex8WxLmtEYGVhAbVJk6Clrg4dTU0sXriQpEvGFBUVwXjePGhraEBbQ0MyKzohe0pLS3Hu7FkojhsHbQ0NyRJMJF2ypay8HI4ODlCaMAFa6urQUFWFp4cHzUgvQwQCAerr6zFNTw9qysrQUFWF4axZ2OPjw7q0IUPSNUTEay9qqavT2oscQ2svco947UVxz5UVFelOF0eUlZXhvGjtRV1tbVp7kSPEay+qKCkJ117U0IC3lxetvShDxGsv6k+bBk3R2otzDQ1p7UWCFrxmCUkX99CC1+ygBa/ZQAtecw8teE1IhaSLHSRd3EPSxQ6SLjaQdHEPSRchFZIudpB0cQ9JFztIuthA0sU9JF2EVEi62EHSxT0kXewg6WIDSRf3kHQRUiHpYgdJF/eQdLGDpIsNJF3cQ9JFSIWkix0kXdzzqUlXdXU1fHx8sGXLFmzatAkHDhzA48ePP7rtu3fvEBUVhU2bNmHTpk1wd3fHgwcP0NHR8cG2XV1dePDgAaytrSXbBwUF4e3bt7I+JKmQdLGBpIt7SLoIqZB0sYOki3s+Jenq6OhAcnIyvvjiC3z22WdQUFDAmDFjcODAAQgEgg+2f/ToEVauXAkFBQUoKCjgP/7jP+Dj44Pi4uIPtn3x4gV27NiBP/7xj5LtV6xYgeTkZC4O7aOQdLGBpIt7SLoIqZB0sYOki3s+Jemqra1FQECARIoUFBTwT//0T9i0aRN6e3s/2D4wMBB/+tOfBmy/YcMGpKSkfLBtVFQUjI2NB2w7ZswY+Pv7c3FoH4Wkiw0kXdxD0kVIhaSLHSRd3PMpSdfbt29x5cqVAWL0u9/9Dhs3bkR7e/sH2/v7++Pzzz8fsP3atWuRlJT0wbZhYWGYN2/egG2//PJLXL9+nYtD+ygkXWwg6eIeki5CKiRd7CDp4p5PSbpqampw7dq1AWIkvnvV1dX1wfb+/v7493//9wHbrlu37qNfGUZERGDBggUDth01ahRu3LjBxaF9FJIuNpB0cQ9JFyEVki52kHRxz6ckXd3d3UhNTcVf/vIX/PM//zMUFBSgoqKC48ePo6+v74Pt09PTsWnTJolE/fWvf8WhQ4c+Oji+uLgY3t7e+Ld/+7cBgpaamsrFoX0Uki42kHRxD0kXIZWrfn6YZ2QEpQkToKqsjL/9538iNiaGdVkjArOtWzFx3DioKClBbdIkzJ8zB5WVlazLkmsKCwsxx8AAqsrKUFVWxqgvvoCttTWzehoaGsDn83HlyhVcvnwZMTExKCoq+ui2jY2NyMzMxOXLl3H58mXw+Xy8ePECPT09H2zb1dWFgoICXLt2TbL948eP0dDQIOtDkkpJSQlOnzqFUV98AVVlZYwbPRr2trbISE9nVtNIoKysDHY2Nhg7ahRUlJSgrKiIndu348WLF6xLk1sEAgHq6uowWVMTE8eNg7KiIvSnTYOXhwfr0oYMSdcQuX3rFnZu3w6zrVthaW6ODevWIZ0ugpxw/OhRmG7ZAgszM1iam2PXjh2oq6tjXZZcU1lZiR3u7rA0N4eluTk2b9qEM6dPsy5rRPDu7VtERUZi86ZNsDQ3x5ZvvsG5M2fw8uVL1qXJNTU1NTh7+jS+3bwZlubmMDc1hd+VKygvL2ddmtwiEAjQ3NwMOxsbmG7ZAnNTU7g4OeH6tWusSxsyJF1D5G11NfLz85GZkYGszEykpqainj74OeHly5fISE9HZmYmsjIz8SQ//6NjeYjho729Hfl5ecgS9Tw9LQ2FhYWsyxoRdHZ2orKyEmlpacjKzERGejqKiorQ0tzMujS5prOzE0WFhUgX9T0zIwPFb9589GENYvjo6elBdnY2MjMykJmRgdzcXJR8ZHqX3xokXQRBEARBEBxA0kUQBEEQBMEBJF0EQRAEQRAcQNJFEARBEATBASRdBEEQBEEQHEDSNUSqq6qQl5uLtLQ0pKelIeXRI5q2gCNevHiBtNRUpKelISM9HXm5uejq7GRdllzT3t6O3JwcpKenIz0tDY8fP6ZJIjmio6MDFeXleJySgvS0NKSmpqLw1Ss009OLMqWjowOvXr1C6uPHSBdd51+/fo22tjbWpcktAoEA3d3dyMzMlFzjs7Oz8ebNG9alDRmSriFy/epVLJw/H6pKStBQVcWXf/874mJjWZc1IrA0N4fKxInQUFGBppoaTBYsQBVNjipTigoLsWDOHGiqqUFDVRXjR4+Gg50d67JGBKUlJTh7+jTGjx4NDRUVTBw/Hk4ODsjMyGBdmlxTWloKBzs7KI4dC3UVFagqK8Nj1y6aH02GiCdHnaKri0kTJ0JNWRmz9fXh4+3NurQhQ9I1RG5cv45FxsbQVFXFZC0tjPnyS8THxbEua0RgbWkJdRUV6GhqYrKWFpYYG9MyQDKmqKgIJvPnY7Ko5+IPfkL2lJWWwvfcOUwcPx46mppQUVKCi5MTsjIzWZcm15SXl8PZwQGTFBWho6kJTTU1eHl60h1eGSIQCNBQX48ZU6ZAXUUFWurqmGNggD27d7MubciQdA0R/xs3sMTEBFrq6rT2IsfQ2ovc87qoCIsWLICutjZ0tbWFay86OrIua0RQVlaG86K1F3W1tWntRY4Qr72ooqQkXHtRQwPeXl4kXTJEvPai/rRp0BStvTjX0JDWXiRowWuWkHRxz6e04PVIgxa8ZgMteM09tOA1IRWSLnaQdHEPSRc7SLrYQNLFPSRdhFRIuthB0sU9JF3sIOliA0kX95B0EVIh6WIHSRf3kHSxg6SLDSRd3EPSRUiFpIsdJF3cQ9LFDpIuNpB0cQ9JFyEVki52kHRxD0kXO0i62EDSxT0kXYRUSLrYQdLFPSRd7CDpYgNJF/eQdBFSIeliB0kX95B0sYOkiw0kXdxD0kVIhaSLHSRd3EPSxQ6SLjaQdHEPSRchFZIudpB0cQ9JFztIuthA0sU9JF2EVEi62EHSxT0kXewg6WIDSRf3kHQRUiHpYgdJF/eQdLGDpIsNJF3cQ9JFSOXK5cswmj0b48eMgfKECfjPP/8ZMdHRrMsaEWz95huMGz0aShMmQFlREXMNDFBZWcm6LLmm8NUrGOjrQ1lREUoTJuCLv/0N1paWrMsaEZSUlODUiRP44r//G0oTJmD0P/4BW2trpKelsS5NriktLYW1pSW+/PvfoTR+PCaMHYtt7u548fw569LkFoFAgLq6OmiqqWHcqFFQHDsW03R14bFzJ+vShgxJ1xBJefQIx44ehZeHB3y8vODm4oIn+fmsyxoRXL96FZ67dsHHywu7vb1x/OhRNDY2si5Lrnn37h2OHjkCHy8v+Hh5Yce2bQgMCGBd1oigrq4OiffuYce2bfDx9MSuHTvACwxEcXEx69Lkmrq6OgQGBGDn9u3w8fSEl4cHwm7eRHV1NevS5BaBQICW1lbs37sXnrt2wdvDA98fPIjIiAjWpQ0Zki6CIAiCIAgOIOkiCIIgCILgAJIugiAIgiAIDiDpIgiCIAiC4ACSLoIgCIIgCA4g6RoiHe3taGhoQF1dHerq6lBTU4POzk7WZY0ImpuaUFdbK+l9Q0MDent7WZcl1/T29g4432tra9Hc3My6rBFBb28v2tvbUVtTI+l9S3Mzuru7WZcm1/T29qK5uRm14mtNbS1aWlrQ09PDujS5pq+vT9Lvuro61NfXo7WlhXVZQ4aka4i8eP4c0ZGR4AUGgs/j4ZqfH0pKSliXNSK4n5gIXkAA+Dwe+DweoiMj0dbayrosuaapsRGRkZGSnvtfv46khw9ZlzUiaGlpwZMnT3Dj+nXweTwE+PsjOSkJ7969Y12aXNPa2oqkhw/hf+MG+DweeIGBSE1NRUNDA+vS5BaBQIDOzk6EBAcjMCAAQYGBCA8LQ4YczElH0jVELl+6hNn6+hjz5ZcYP2YM/vynPyE6Kop1WSOCb77+GqO++ALjx4yB4tixMJw5E5UVFazLkmtevXyJmdOnY8KYMRg/Zgz++69/haWZGeuyRgTFxcU4fuwY/vbXv2L8mDH44r//G1YWFkhLTWVdmlxTUlICCzMz/M9//RfGjxmDsV9+CTcXFzynyVFlhkAgQG1tLdQmTcKoL77A2FGjoKutjZ3bt7MubciQdA0R/xs3sNjEBFrq6tDV1sbYUaNoGSCOsLGygoaqKiZraUFXWxtLTExoGSAZ87qoCCYLFkBXWxu62tpQmjABzo6OrMsaEZSVleG8ry+UJkzAZC0tqCorw9XZGVmZmaxLk2vKy8vh7OiISRMnYrKWFrTU1eHt5UXLAMkQ8TJAM6ZOhYaqKrQ1NDDHwAD7du9mXdqQIekaIrT2Ijto7UXuobUX2UFrL7KB1l7kHlp7kZAKSRc7SLq4h6SLHSRdbCDp4h6SLkIqJF3sIOniHpIudpB0sYGki3tIugipkHSxg6SLe0i62EHSxQaSLu4h6SKkQtLFDpIu7iHpYgdJFxtIuriHpIuQCkkXO0i6uIekix0kXWwg6eIeki5CKiRd7CDp4h6SLnaQdLGBpIt7SLoIqZB0sYOki3tIuthB0sUGki7uIekipELSxQ6SLu4h6WIHSRcbSLq4h6SLkErAjetYamIMbTVV6GlrYtyoL5EQH8e6rBGBlaU11FQ0oK05GTpaulhssoSkS8YUFb2G8QITaGtNhrbWZCiOV4KjA0kXF5SVleO87yUojleCtuZkTFJShYuzO7KyclmXJtdUVFbDyckVSoqToK05GRpqWvDy2oNXrwpZlya3iKVr+tTpUFNVh6aGFowM52Dvnn2sSxsyciddfQIBOrp60NrehZb2TrS0d8ksre1duOp3FUtNjKGlpgJdLXWMH/UPREZGyXS/H62lows9vX3M+i7o60Fvdyu6OxrQ3dko8/R0NsLC3AIqkzShoTEZWpp6WGS8DOUlrzjZf/86ervbIBBw33uBQABBXw96upo56/vLZ3lYOH8JNDX0oKmhiwnjlOFga4ceDnsu7HsTens6OO/5+973obenndPjLn5TiHO+VzB+nDI0NSZDaaIanJ23IyM9g9Pzva+3m13f+3rQ293G2fne3dmI0vIKODq6Y+IEFWhoTIaaqjY8vfbheUE+p33v7W5lcp0R09vdhe72FnS3NaG7rVnmqa2uwLSp06Giqg51DS0YGs3Fnt17Odm3MMLj7O0a3uuM3ElXbVMbzkWkYev3ofjmQBC2fMeXWbYeCsZyd1/MMt2PaV97Y/pmH0xevwurd17CloPBMt23ON9+x8e33wXD9ngk8orY3eVpqkrFi3uOSLowHkmX1GWeFD8t+Hv/Gb7O/4bzrn/ABZc/4MqOz/HgoiqSL2twUkPSJRWkXpuMoiRPdHfUcd5zQV8PmqozkBe+AkkXJsr8eJMva+DeOWVc3vY5Lrj8Aedd/4CzTv+CQJ//QIqfFkc9V0fSpUnICJyF0qwTnPdcTFfbW7xJ3YeUq5pIuqjCSe8TfSch7NAXOOv0Lzjv+gecc/5XBO7+C26dnojkK7I/55MvqSLligrqSu4w63tLTT4Kk3Yi6fw4Ts615MsaSDyvgkCfv+Cc07/ivOsfcN7538Df91+4e06Zo2uNCh5f1cbzO7boaq9h1vvSpJtIPvQt4p3nIN5tgQyzEAnuCxHrOh/HlozBD4tG4eji0Ti5bBz8Nmni1jYTJLgtlHENCxDvOg93dy3F8/Azw9pHuZOu6roWeF25DUPXq5i7KxTGu6Ng7CObmOyOgrFPJBZ6R0iywCsCxj6RMtvngOyOwkLvCBi6B2Chux9SnpYw63tdyR3khq9C4ve/w8trv8dzv9/jmQzz/OrvUXDldyi4ooACPwXhf6/8E55flf2+n/n9Hi+u/h655z9D8sk/4UnM1+hqe8t5z/t6u1FfmohHl/SQduqf8fKajHvu93s89/tM1Ot+fff7HZ5flX3PxX3PPPvPeHT2r3h5fxvnPRfT0VKOZ7escP/o/4fc85/hhYyPX9z7Z34Dz/lnfr/DM7/PZHrOC9/bz5B59jMkHPwM1S/CmPW9sTIVT2K24O7Bf8LL69z8rj/3+wwFP+p7gajvXJzveRc+w6OTnyMreCE6W9j9w/plzAXcdtDHrQ1fINViAh7LPIpIMRuHFHNRzMYhxWw8J/tOtZiAxG9HI/obRWRd8hjWPsqddFXVNcPj0i0Yuftj0cH7WHkyAyuPp8suJzKw6mQGVp3MlGTlCRnu70f7Xn70MeZ5RWGe2xU8elLMrO91xbeRF7YSKccU0JKggOYYBTTJOC2xCmiJ65dYbvbbFKOA5jgFlPEVkH7u35EXtZGpdD28oIeCKwpoiefguD/S9+ZYbnreFCPc3xt/BaSd///x/J4r5z0X09FcjoIECzw68TnKg7npQXOMcD9cn/PNsQpoiFbAmxsKSDiggKrnN5n1vbEyFfnR3+LBYe6uM9LOeU72HaeAihAFZPn+ERlB89HZUsms98+jfHHPcTrStvwDFW6TUOqiJOMoo8xtEspFKXObhDJXZQ72q4RyN2XkWY1FwrcTkHFhx7D2US6ly/PybczbGYQVx9Ow/uJzrLtQIJdZf/E51vg+gfG+W1jg7sdYuu4gP3wV0k8pAI8UgPtynocKqI1SQNaFf0de1Cbm0lUYoAAkfwJ9kXWSFFAVooDMS3/G83vunPdcTEdzOQpuWeLx6c9RFy08H5j3RlZ5oICeRAVUBSsg4Tv20vUkZguSjyqMmOtMQ7QC8i/9ERlBbO+6YCbwAAAgAElEQVR0PY86j/vO+si1GINmTw3U71KXyzTsUkeTpzoKHRRxx3QiMi7sHNY+Kgzrq30CiKVr7g4elh9LFQrK+adymgKsOZsH470Jn5Z0JSkAiXKeBwqojfyEpMtfeIFm3hcO+l4ZrIDMi5+IdJ36HHWRog9I1r2RYXruKqCS/4lJ10i4ztxXQEOUAvIufjrSlWMxGk0e6qjbJb9p2KWOl/aKuLOVpOtnIeliA0kXSRdXfSfp4j4kXYxC0kXS9alD0sUGki6SLq76TtLFfUi6GIWki6TrU4ekiw0kXSRdXPWdpIv7kHQxCkkXSdenDkkXG0i6SLq46jtJF/ch6WIUki6Srk8dki42kHSRdHHVd5Iu7kPSxSgkXSRdnzokXWwg6SLp4qrvJF3ch6SLUUi6SLo+dUi62EDSRdLFVd9JurgPSRejkHSRdH3qkHSxgaSLpIurvpN0cR+SLkYh6SLp+tQh6WIDSRdJF1d9J+niPiRdjELSRdL1qUPSxQaSLpIurvpO0sV9SLoYhaSLpOtTh6SLDSRdJF1c9Z2ki/uQdDEKSRdJ16cOSRcbSLpIurjqO0kX9yHpYhSSLpKuTx2SLjaQdJF0cdV3ki7uQ9LFKCRdJF2fOiRdbCDpIuniqu8kXdyHpItRSLpIuj51xNI1bycfK05kYMOll1h/8bmc5gXW+j6Fyf7bWOB+9dOQrtMKQIqCUAAeyHGSFVAXrYDsT0W6AhWAR59AXzjoe3WoArIufSLSdfpz1MUoCAWAdW9klYcK6ElUQHWIAm59StL1WEH+rzNJCmiIVUD+pU9Duh446yPfcgxavTTQ6Kkut2nx1ECRoyLumpJ0/SxVdc3YeSEB+k5+MPKMwsJ9t7Fw7y2ZxeTAXSw+mIgl39+XxPjAHSzcJ7t9SrLvNubvScAs9yAYOl9Ccn4xs77XvklATuhy3D+kgJIgBRQHKqA4QLYp5yugMkQBlaHC/5YHc7Pf4gAFFPMUUHBZAcknPkdexFp0tbKRrrqSu3joq4uMM6K+y/i4SwIVUBHSr++hCijjc9TzAAWU8BSQd14Bj878Cc/vOXPeczEdzWV4Gm+K+0f+XxRcEZ4PXPS+LOh93ytDhed8iaz3HaiA1/4KyD+vgLi9rKUrBfmR3+DOAQWU8Ln5fS/hCfss6XuI8Jwv4eJaw1PAsysKSDn5B6TzjNDZUsms988jz+KWjS7urf9PPLEag1zL0TJLnuVo5FmOQYHdBDyzV8Qze0UU2E3AU5vxMt2veN/5lmPw6Ju/I3rjKGT4bhvWPsqddNU0tOIoPxlrdvPw1Z4QrNsfhnX7b8okG74Lx9JdN2DkcA6zbU/DwO4M9K1PYrlXINYfkN1++2ft/ptYvZuPrw8EI/NlBbO+N5QnoSDeGg9Pj0HW1fHI9BuPDBkl0288cq4r4fYP/xtR+/8FUQf+FVEH/hWxB/8fZFwZj8yrE2S27/41pF0ch5RLGnhxzwnd7bWc97yvrweNlSnIDFqBFN+xyJLxMWddVUT65bGIOfhHSc8j9v0v3Dn6f5BzXUnmPRf3/fGFcUi9qo03qQc477mYztYqFD7cheTzaki7NE6m57vwuCcg7dIY3D/5F0Ts+1+IOvCviNz3L7h99E9IOf8PZMnwnM/0G4+MK+ORenEc7p8Zh5rXt5j1vfltDl7cdceDU7K/zrzv+2jc+uF/I1LU96j9/4I7x/4P0i6NRqafbK81mX7jkXZpHFIuquBJzGYmd9TFvL4biPveK5FgPRn3nWYg0XG6DDMD9xymIXDtWPivGYOANWPAWzcO4d+q4oHLTBnvezruO83AHbupuOU0G0+CDg9rH+VOulrbu/Ag7w2u38rG1fhMXI/PklkC7+bB/bAf5q23g57JZkxd/C3UjdbA+3QQbtzKxvUE2e1bnGvxWbganwne3TyU1zQx63t74xtUv+CjMMkThY/2yjRFKftQlnUYx7ZPhf1X/wnHdX+D0/r/gZfFRBQkeuFN6gGZ1yDMbrxJPYCawkj0drdy3nOBoBcdTSUoz/VFYbK3zI/3TeoB5CZsh4fZBDit/x84rv8fWK/8D5z21Ed55mGOei7se3HGD6gvvcd5z8X0dDWj9k0cXj/ej8JHu2V+zK8f70dOwnYEHl8G65V/huP6v8F29V9xcpc+kkLtODrn96DokQ9a654z63tnSwXeFYajMMlD5sdblLIPbx4fQHbCdpzYOQM2q/4Cx3V/g8Pa/4LvHkNkxrpx1vfXj/ej+jkPPV0tzHpfV5iDwoSreBpyHAU3T8owp/As7BSyAw/Dfp4qLGZPgJWBIpxNNHHGfhVeRfviWdgpGddwEgWhJ/A84iyqc+8Pax/lTrq4JvDGNSwzng9tFSXoqqti7Bd/Q0JcLOuyRgTm5raYqKQFVTU9qKtPwcKFK1BVVc26LLmmqOg15s1bAnW1KVBT08OYMZNgZ+fCuqwRQVlZFc6dv44xY5ShqqaL8RPU4eS8C1nZT1mXJtdUVNXBwXEHxo1ThaqaLiZN0sEur+/w8tVr1qXJLQKBAI2NTdCdOgNKKhpQUdfCLMN58NnL7u72cEHSNUT8b9zAkkUm0FZXh562NsaNHoWE+HjWZY0IbKysoaGmjsnaOtDVmYwlixajqordQNORwOuiIpgsMIautg50tXWgpDgRzo5OrMsaEZSVleG87wUoKU7EZG0dqCqrwNXFFVlZ2axLk2vKKyrh7OSMSUrKmKytAy0NTXh7+eDVq1esS5NbBAIBGhoaoD9tGjTV1KCtqYm5hkbYt2cP69KGDEnXEBFK1yJoa2hAT0cH40aPJuniCBsrK2iqqUFXWxt6OjpYumgRSZeMeV1UhEULF0JPRwd6OjpQVlSEsxNJFxeUlZXhgq8vlBUVoaejA7VJk+Dm4oKsrCzWpck15eXlcHFygqqyMnS1taGtqQkfb2+SLhkilq6Z06ZBS00NOpqamGdE0kWApIslJF3cQ9LFDpIuNpB0cQ9JFyEVki52kHRxD0kXO0i62EDSxT0kXYRUSLrYQdLFPSRd7CDpYgNJF/eQdBFSIeliB0kX95B0sYOkiw0kXdxD0kVIhaSLHSRd3EPSxQ6SLjaQdHEPSRchFZIudpB0cQ9JFztIuthA0sU9JF2EVEi62EHSxT0kXewg6WIDSRf3kHQRUiHpYgdJF/eQdLGDpIsNJF3cQ9JFSIWkix0kXdxD0sUOki42kHRxD0kXIRWSLnaQdHEPSRc7SLrYQNLFPSRdhFRIuthB0sU9JF3sIOliA0kX95B0EVIh6WIHSRf3kHSxg6SLDSRd3EPSRUiFpIsdJF3cQ9LFDpIuNpB0cQ9JFyEVki52kHRxD0kXO0i62EDSxT0kXYRUSLrYQdLFPSRd7CDpYgNJF/eQdBFSIeliB0kX95B0sYOkiw0kXdxD0kVIhaSLHSRd3EPSxQ6SLjaQdHEPSRchFZIudpB0cQ9JFztIuthA0sU9JF2EVEi62EHSxT0kXewg6WIDSRf3kHQRUiHpYgdJF/eQdLGDpIsNJF3cQ9JFSIWkix0kXdxD0sUOki42kHRxD0kXIRWSLnaQdHEPSRc7SLrYQNLFPSRdhFRIuthB0sU9JF3sIOliA0kX95B0EVIh6WIHSRf3kHSxg6SLDSRd3EPSRUiFpIsdJF3cQ9LFDpIuNpB0cQ9JFyEVki52kHRxD0kXO0i62EDSxT0kXYRUSLrYQdLFPSRd7CDpYgNJF/eQdBFSIeliB0kX95B0sYOkiw0kXdxD0kVIJeB6AJYuXAItFQ1M1tDB2C9GIyGOpIsLbCysoaGsjsnq2tDTmIxlxktIumTM66LXWDzfBLoaOpisoQOlsYpwtifp4oKK8gpcuXAFSmMVMVldB6qKk7DNZRvysvNYlybXvK16B3cnN0war4zJ6trQUtHEXu+9KHxVxLo0uUUgEKCpsREz9KZDQ1kd2qqamDd7Lg7s2c+6tCEjV9LV3dOF6vpy3Mq4iXvZUbiXHS3TJOXH47uzHli8wRDTF6hD31gLmjMn4NS1g7ifE4NEGe9/pCYxJxqPCm5ji+MaTJuvBn1jTcw00cKSjYaIeRSM+7mxzGuUxzzIi0PYvRtYtG42ZppoQd9YC5MNlWHhthGPCm4zr0+ecz83FuGJ/vD+wRWTDZWgb6yJKXNVYOG2EdcizuJBXhzzGuUxwr4HwNxlA/TmTIK+sSamL1CHvcdWBN++StcaGSQxR5iYR3wYLtXFtPlqmLFQAwtWz4CzjzmSn95CYk6MbOvIicatzDC8Ki9AV3fnsHqKXElXW0cLMl8mw/yHxXDxXQ+3Cxtlmu2XN2PrIRMsddWFsb0mTBy0MM9GFRZHlsL94iaZ738kZ6fft1jjMRML7TVg4qAJEwdNLHPVhev5DXC/+DXz+uQx7he/hvO5dVjqqgsTBy2YOGhhga061nnNxg6/b5nXJ89xv7gJjmfWYvP++VhgqwYTBy0stNPAWs9ZsDm+Etsu0Tkvu76vwRqPWVhgpw4TB00Y22tgvbcBHE6voWuNDON8bh0WOWphob0GjB00scRFBxt3G2LHlW/gdkH2n6/WJ5YhPPk6mtsah9VT5Eq6mtsacScrErrWf8GqI+pYe0wba49pyTTrT07GpjNTsPnsNEnWn5gs8/1StLDxtB42n50q6vtUbDo9hZP3fCRn3XFt0fk+VXK+bzylx7yuEZHj2thwSnfAtWbTaT2sO6HDvjY5zrrj2th0Wq9f36di4yk9rDtO1xpZ9/3rM++vM1+fmYqNp3Q52Lc21h7XxizXv+NsxH7UN9cOq6fIlXS1tDchMTsGM+z/Dhu+AZzC58ExbB4cw+ZSKBQKhUKh/EzmwSliPoy9FXE+6iAaWki6pNJfuqwCZ8M+dC7sQygUCoVCoVAGmdC5WOhF0vWzkHRRKBQKhUIZUki6BgdJF4VCoVAolCGFpGtwkHRRKBQKhUIZUki6BgdJF4VCoVAolCGFpGtwkHRRKBQKhUIZUki6BgdJF4VCoVAolCGFpGtwkHRRKBQKhUIZUki6BgdJF4Uiu9gFz4Fd8BzYBhtJIv4z1rVRKBTKsIWka3CQdFEosold8BzY8g1hHTQbNnxD2PANYRss+i/fkMSLQqHIT0i6BgdJF0UWEd7NMYJ10GxYBc36RbEOmg3bYCPmxzDU47fhG8D5pgn2J2yFb7IHzid74nyyJ04kOsMrej2sg2Yzr/O3GLvgObDmC88rG74B7H7j58pw9cQ22Ag2fIMPfues+ULpJ8mnyDQkXYODpIsy3Hn/9dk8bI9ciZ2Rq0VZ9TNZjZ1Rq7E9YgUcQub/pj9MbflGsOUb4eg9B+RVPIJAIEBHdys6uttQ0fgawdknYRYwhXmdv7WIxWFbxDLsivoKbuFLf/PnylD7IRYuu+A5cL5pjG0Ry7FD9Pu0I3IV3MKXwjF0AWz59NU2RYYh6RocJF2U4Y7wLo8hvGM34HXNUzR3NIhSj+aOejR11A2I+M+bO+rR2tmIl+9ycCDBFFa8mcyP5dfGKmg2vGM34vZzHgCgt68HT6tS8bQyDS/f5uBm7lmSrl8R66DZcA9fhqzSRLR1t+JhUST2xn8Dq6BZzGtjkfd3uAzhGb0OARlH8Lw6E/Vt79Dc0YDaliqkvkmAb9IuOIYugHXQbJIuimxC0jU4SLoowx070dccu+M24W1zGbp7u9Db14vevp6fTU9fN8obCnHotgUsf8PSZRE4A+eSduJFdSY6utuQXXofOyJXwSVsMbZHrIBr2CLY8g2Z1/lbi1XQTGyPWIGSuufo7u1Cdtl9HLptCUuePvPauI5YuCx5M3ExxQd5FY9Q3/YWHd1t6OnrQW9fL3p6u9Ha1YyKxtdIfHWTxhNSZBeSrsFB0kUZ7ggHkBvB+aYJTt53wbmknZKceuCGa2nfQSAQoE/Qh4i88zj1wHXANscTneAavlg0XmfOkPPj2n7Nz/3SnzcLmIbLKXtQXPsMTR11iMi7ABu+AcwDp0vGIv2S1/s19Q9nfuq95rL/lkEzsS1iBcrqX6Gntxs55Q9x6LYVLH5CumRx/EM5xqHU99Hfs1BjpLyORV3rWzyvzkBIzimcfugO3+RduPU8EFVNJejt60FVUwl8kz1gHzyXxnhRhj8kXYODpIsy3BF/QNjyhXe8xLHmG8A0YCp2RK6EQCCAQCDAD/fsYBowZcB2NnwDWPBmCAWFN1P4/4EzYB44rd+fCf/FbsmbKfq76TALnAazwGmi7WbAijdrwL/qxXVZ8PRF8jMbNnwDWPJmDvh5i8AZsAqa9cFgfuExGUq2N5fsazosePqSr26sg2Zh83Ut+CZ74HXNUzS0v4N/xmFYBE7HVn+9AXXZBhvBKmjWR45h+vs6RNtK+hpsBCveTJgHzoClaL/iYzIPnA5Lnj5s+AYDarXkzYR10Gzpx8o37Pe6/esQ9tFONGbow368r39g/6fDijdrwIe7uH6rfjVZBc2GJU9f0ksLnj5sggykCopYukrrX/aTLkup0iXuV/8eies0+9F7J57SwzrIQNJL8Xnw42Po31sLnv6A9+dj59SP99O/PuH2+pL99e+nuE8fm2pE3H+n0AUIzTmD+IIb8E3eBffwZbAMEv7eeEavRcqbWNEdrybcfxUG17D3/6Bhfa2gyFFIugYHSRdFFnn/IWQ0YI4q88Dp2Bm5SnL+Hb3nALPAae+3EX2Y7Y3/FscSHbE7dhMcQxfgh7u2OJboiOOJTvCJ3QSn0IVwDFkA75gN+OGuHY4nOuJYopNkm6P3HOERtQaOokHW4g9fmyADHLljixOJztgRsRIOIfOxJ24zjt93lvzs93es4RG9VvRBZzRAdhxDF8Azeh1O3HfG8URHUZxw8JYFtkUsh3XQbPjEbsCBW6aIeeqHqqZitHQ24t7LEJxIdMbRew7YHfs1nEIXwppvABu+IXZFrsb3ty0lr3dM9N/DojocQubBWvQhKf7wFfdnX8JWuIYtwf6ErTh6zwHHE52wP2Er3MKXwC54juTPvWLWwz18OXxiN+F44vtjPXzHGjujVkuO0StmHY7es8fxRCfR39vAO3ajRMr6y4ct3wj2wXPhGb0Wh+9Y43i//h9LdIRn9DrhAG5JD4Vjj/bFf4sf7tnBO2YD3MOXYXfcJtH+HHHwtgXcw5dJ/Qrsl0qX8Jwyglv4EhxIMJUc2zFRn4/9X/beOzqqM93T1V/nzFrnzMw9996ZWTN3zvF0u+1uHEkSORlERoCNjW3AYEyQhEBZJAMiY7LI2TYY5SyQUEABiYzIIEASCEWUs6pU6bl/VKmQjGXLDdqblt9nrd+yF1LV9+63PnY97PDtVA82Jc5jSfRka53LoqewO82L3WlefHtqKm6h5hsj2mx32CjWnpnFrlRPy+nNoZZ/ZIzAO9KBdWe+xs+yTS09+S7RkeUxn7Go1ee4MGQEi6MmszF+DtuTF1pvJNmS5MyuVE92pLixMWFum8/+53/HWuRqWfQUqwS3XOf1zck+hN7YQ01TBVp9E/eKr5hrkCNdklcdka6OIdIlUSquYSNxChzMipip1vnnl+KBY+Ag888tRxBmn7QjMz8Frb6Jy3kJHMhYTq2mEp1Bi9FkJCU7jI0Jc9mUOJ9LT85Qp6mmWa9Fq29Cq9egN+jQ6jUkPwzlu0RH3MNGW9bHMh+BKK0rwGQyEXX7MLvTvLlVmI7O0IxW34TBaKCioYTkhyGsiZvJguCh1ro8w8eyPXkR6TkxmEwm65g6QzMFVdkEZ/rhFDSYmLvHKK59gs7QjNFowGQyojOYf1ejayAxK5BVp7/EJfgjVp3+kjP3TvCs9inNBi1avQatXoPO0ExFQwkpj8LYlDi/zTpfnuHjuJSXgEbXyP2Sq5y4soWc8ttodI0YTUbuFF9kV5o3nhETuF18nma9hnM5UYTc2MPVp8mW/jRhNBmpbHhG7N0f2RQ/jw3x35Dx+BQN2lqa9RoMRj01TRVcfBzHqtPTrHdktoiHe9gYNiXMJ/VRGJUNz6w91Bma0RmaSc+Jxi/FHa+I8dYjmAuCh3H16VnqtTWczz1NUOZObhSkYTQZMBoN5FVksT99GQvaueD790hXi9T4RDoQlLmT3PI7NGrrzJ+brsm6jU8q7xOYuYOl0Z/gFjaaAxnL0Rt0mEwmwm/uZ0nU5DZH3xYED2PF6c+5kpeIwWggp/w2X5/ohXPQMBZHTebYxbXcLjxvnYfmeaUnv+oR0XeOsib2KxYED7Medd2T5sPtogvUNFUQc+co0bePUlyTh8FooF5bw83CdDzDx70gXS3b6Bo60iLww61H0Vr+3DFwIMcvb6SgKhutvom7xZct0vXie0kkLxWRro4h0iVRKh2Vrq9P2pKZn0KDtpbyhmKqmsowmoxUN5XRrNeQkh3G3nOLib5zxPo+5Q3F5JTfJrf8LpUNz6x/nvggkFWx06zXUTkFDaGo9glGk4HSugKKa/LQGZp5VvuUnPK71GtqMJlMNDTXcvVpErNP2llP/2xNWsDlJ/EAGIwGnlY9Irf8LjVN5h1MQVU2i0KGc+j8Cq7kJVJSm0djcx06QzNFNY95VHaLu8WXOXHlO7wjHVgWM4WrT5PQ6psAqGos43HFfXIr7lLdWIbBaADgwuNYNibMwyloMAtDhuMTOYnLT+KpaaqgqqGM8voiTCYjtZoqmvVasp5dY1/6MrzCJ5D17BrNBi2ldQVWca1seEZ2+W00uiZMJhM1TeU8eJbJjYJzGE1GaprKyat6SHVjOZigqbmeS3kJuIeNbnW605718bPJLrttuVFCT2ldATnldymqeWLt/6PSm9ajmS7B5j5m5qfRoK2lpCaPwupcjCYDjc31NDbXU1D1iCMXVrV7l93vka4WMdyV6oHRZDB/rtpa8quyeVR6k6eVD9EbmjGZTFQ2lnLo/EocAwexJcmJivpiDEY9GbmnWHfmaxYEDbXK5vyAARw+v4rHFfeo19Zw6UkCs0/a4hQ0mKDrfhTXmrdfq9eQW36X7LLb1GqqMJqM1GtruJyXiLPlFLlj4CD2py/jfslVNLpGHpZeR2fQYjAZaNDWUdlQyv2SK/hETsL1d4hSi3TNCxhA+M391GoqaWiuIz0nGu8IBzm9KHn1EenqGCJdEqXye6Wr5e6rioYSAq7t4NuYz1gdO4OVp7/AN3Y6+9OXkpgVyK5UT1ae/pIlUR+zOGoy6+O/4crTRDT6Rgqrc9l3bimOgYOs0lVYk4vBaEBnaOZJRRYh1/fgFTEBn0gHvkucbz7yYjRQVJPLd4nzcQ0ZyVz/fgRl+lFeX0xFQzEH0pezNPoTFkdOZHXcVxy7uJao24dxtZyCdA8bQ8DVbeRXPqRWU0nU7cMsi/mUxZGTcA8bzfKYzwi67kdjs/nIS+KDQDYmzGNx5CSWRE1mafQnXHoSb/6y1NZy9mEIbqHmJRN8Iidy8Ukcjc116I16qhrLOHP/JGvivmLV6WmsjZvJkqjJLIn6mPslV2jWa9Abmskpu0XIjd2sPP0lPpET2ZXqxeOKexiMejS6RsrqCknMCmR13Fd4R05kS5IzadmRGE0GqhpL2XJ2Ae5hY3AOHMLq2OnE3/+JJl0DxTV5/HRli/l9oybxbcxUDp9fSa2mEq2+idh7P/JtzGc4Bw2xSJdZqHWGZsrqCzn/OIaVp79k5akv2BA/h6XRU17J6UXXUPPpT9/YGSQ9Csb/2nY2JsxjafQUlkRNZln0FHamuFPTVIHeqCPpQTArTn2Od8QE0nOi0egaKKsv4kDGt8wN6G+VrkUhI4i7d4KqxlIeV9zj0PlVzPXvz6bE+dwtvkS9tobrBWlsS16IT+REFkdNZN2Z2ZzPPUVjcx0ltXkcSF9mlaL96Uu5V3IFo8lIk66e0roCTl7byqrT0/CNnc6mhHnW7fk90uUSPBy30FGkPArFYNRT3ViG/9VtuIWOFumSvPqIdHUMkS6JUvm90gVQWldA7L3jeIWPs1w0br5exT18DIujJrHi1Oe4hY7GKWgI8wMGMMe/LwuCh3Hi8ibqNNU0aOv4/tI65gUMeEG68qseEXpjL94RDtYL0OcHDiTmzjEam+uoaizlxJXvcA0dxTf+fYi8dYh6bS3l9UXWuucF9GdB0DC8IibwbcxU6zbM8e/L0Qu+PKm4T3VTOUHX/XCx3CAwL2AAO5Jdyat8gN6gIzM/lS1JzpYL3YdYbw5YH/8Ntwoz0Oo1ZJVcZWuSM46Bg/GOcODikziadA3Uaaq5+jSJJVEfWy/CbrlwfFn0FO6VXKZZr6G8voiQ67vNF1kHDcUpaAgLgj/icl4COr2WysZS0nIiWR7zmfVCbpfgjzhx5TsMRj1afRM/XN7A4shJzPHvy+40LyoaSmjWa4i4dZAlUR8z178fc/37Mce/Hy5Bw0jPjaGmqYIbBefwS/VgfsAAnIOGcM0iXY3NdVzOS2BjwhycAgfjHDS0zTV0r+L0omvoSDzCx7Li9BcsjpzEwpDhzA8cxLxWc8V8xEvHlbxENic6sSBoKH6pHmYZM+gIvbkXt7CR1lO8y6M/5WbBOZqaG7j2NJkVp75gXkB/kh4EUdVYysPSGxy54MvcgP6tetIXv1QPbham09Bcy7nsSNzDRjPXvx/70pdyr+Sy9UhYYOZOlkVPsd4k4RY66ld78kvbvSjUHqegwRzMWE5O2S10hmayy26xOHKy9Uil2vsDSReLSFfHEOmSKJW/R7oePMtkR7IrjoGD2qyobb7r7yPmBwxkjn8/PMPHszr2K9bHz2ZTwjyCM/2o19bQrNdy/PJG6x2STkFDKKp5jMFo4GZhOn4pnswPGGB937kB/fC/upXSunxqmioIv7kft7BRzPXvx/HLG8mvzqaxuZ7LeYkczFjBilOf42Kpw9lyCso1dCTzAwfy/cW15FVkUdNUQciNPbiFjWKh5Q7OAxnLLdeEaQi+vpsl0R9bT6m19MExcBAJWf7UNlVSWJ1DwNP1JuYAACAASURBVLXtzPXvj3fEBKt0Pa64x5HzvswPGGC9U7Dljshl0Z9apet+yVV2JLviFDTYenH5vIABJGYFUKep4mnVI05c3WyRU/OXsnPQYA6fX0mTrgGtvomAzO0siZqMc9AQjl/eBGCWsUvr2Zgwl3VnZrMhfg7rzsxmdexXnLr7A2X1ha0kpF8b6SqsziH4uh8Lgoe2ukPz11dN/7vuXgwZgVPgYIsgm1+/7sxs1sfPZn3CN+RXPURnaOZ6QSo7U9yYHzAQz/BxFFbnYDDqSc+JZt2Zr60iujfNhyeVWVQ2lnL67o8sDBmBe9hoHpXeQqvXkJmfzIGMZayOncGG+DlsiJ/DmriZ7E71IiP3lOWC9st4hI9lrn9fq3TpDM08rXzIilOfszB4eId78uL2mu9CXXX6S84/PkW9tpqS2qdE3jrI/ICBchG9pHMi0tUxRLokSuXvka5bhen4np5mvfDY+nuh9riFjWbV6WlsPevCT1c2E3//JKmPwjmXE8ntwgya9Rp0Bh3Hr3z3i9J17Wky284uwilwsLXG57J0n1pNJZG3DuEWNgrHwEFsSphH4oNAKhpKMBj1PCy9TsydY+xJ88E3djru4WOs4vNr0jU3oD+Hzq8AQKNr5OD5FXhFTGBhq8VSXUPtmePfl7Cb+yirK6S8vojYe8eZc7JPG+m6WZjBqtPTrBf8t/Tn59J17WkymyzXhbV8MTsGDiL6zlEqGkrIrbjH4QurrHeStiztcPj8Suq1NVbp8omciHfEBCJvHQCwXjCf/CiU1OwI0rIjSH0UQcqjcG4UnKOmqYKcsjt8f3Edc/3bStfD0uscPr+Seb9jZf7fL1321jXjNibMZd+5xYTd3MfZhyGkZkeQmh1BVWMZBqOeGwVp+KV6MC9gAE6Bgzmfe4paTSU55bf54dJ66/IN8Vn+VDY8I+vZNQ5kLMcxcBC+p6dbLn7Xk1N+h7TsSFIfhZNm7Uk457KjeFR6k2a9luyym3iEj2VOK+lqudDdNXSkVeB/198v6zIt5psHou8cpayukKrGUlIeheIbO73NPJFIXmlEujqGSJdEqfw90nW78Hybu72eC9co1sbNJOVROE26BvRGHU3N9dbHDTU112M0GX9duvJT2J7s2ka6HAMHcfTCanLL71DbVEnkrYO4hZkf67MoxJ71Z2Zz5v5P1DRV0NBca77DT1PBhSexbD1rPkVovtj6V6TLvz+HMp5L195zS/CMGP8z6RrJPP/+BF7bSXHNE8raka7bRRdYGzfrBSn9uXRdz09lc6IjzpY1pVqkK+r2ESoainlccZ8jF9bgGDjIemTluXTVWqXLO9KBFTFTib9/EgCTyWh9tFPrxzm1zp2iixw+v4p5Af3bSFd22U2OXlzN/MCBHZ5Df8/dix5hYzmQvpy8yiy0ukaa9RoatLXUWuozGPWYTCazdFnmo0vwR+xJ8+JJhfkxVmcfBuMWOhqX4I94XHEPnaGZhKwAlkVPwSVkOJsTHSmvK8RoNKDRNbbbizpNFVWNpdwpumA50tWvlXRpuF9yDY+wsb/7sUbP1yMbjmf4eH68vNFyV6+GczmRbIj/hvmBAzt8xEwi+d0R6eoYIl0SpfKqpGtB0FDWnZnNuZwo6/sUVudw5v5JDp/35dD5FcTfO0ljc/3fJV3HLqzhcfndNtLVcju+U9AQnAIHsylxPuE39lFSm2cuwARF1bl4RYxnUcgI5gUM+B3StRjPiHEvSNcc/36EXN/Ns9p8yhuKibt/4rWTLo2ukUPnV7Anre1TBVpyKGMl284uZFnMpywIGqqodC0MGYFnxDj2nltMY3MdRpMRja6RW4UZBGfuYl/aYg5mfEtJ7VP0Bl0b6TKvfTWNO8WXMBj1XHuazNLoKWxKdKS6qQyAk1e3MOdkX9xCR1mkqwij0cj53FMcyFjGgYxlv9iTA+nL2JzoiFuo+ckFr0q6Wu6w3JXqZd3eO8UX2HJ2geVzFdmSdGJEujqGSJdEqbwq6Wp5rmG9toZmg5bYez+yPn42nuHjcAsdhVfEeI5krKJWU/XKpKvlCFbLelPuYaPwDB/HilOfk5gVQE1ThfkasFsHcLNcIN3+NV39OXR+JWC+JurEle/wiZxovmg67PkRmvmBA4mzHFXLr3rEyatbmBvQT1Xpsl7TdcV8TVeTrp6NCXNwDxuDe9gYPMLHtol72Bjcwkbjatl2JaXLJfgjVpz6nMhbB9EbdZTWFXDs4hqWRE3GM3wcrqEjcQ8fQ27FPZoNWqt0OQUOti7kG3XH3J+8yixCr+8h/NZ+GrS15JTfYXeqF46Bg61H0x6X36NZr+XswxB8Y6exKHTEC/0wZwzuYaMt62gNeinpar12mFfEBH66soWy+kKa9Royck+xOckJN8vfK5EuSadGpKtjiHRJlMqrki7HwEEcvbgGeC4t7mGjmePfl3mWW/v9r26jXlv9aqTLslSDW9ho3ELNpxpbHtMy+ydbfri0noKqbOq1NSQ+CLTW0p50zQ8cyN5zi6lpqkBnaObC49OsOzPLfOdi8FDLI2QG4xs7nZuFGegMWu4WX2JDwhycggbj0+ruRaWla2n0x8z178vBjOVodI1o9U34X9uGd8QE5gUMwDFwsPWRRq2fM7koZAQLg1+9dF0vSGNjwlzL45WGtolj4GBWnv6S2Hs/YjDqyS2/wybL784PGGC9fq3AcsF8a+lytRyF2p3qzYPS69RpqnhUetN6N2nqozDL4rnDni/6mmde9PVe8WX2nVvCnJN9rI9zanmslflRQMOtSza8jHRZF0YN/gjPiHH4X9vOk4os640eG+K/wSX4IxwDzTd5tPRFnrso6ZSIdHUMkS6JUnmVR7oOZCynTlONztDMuZwodqV6sDp2OpuTnDhxZTMPnmXSbND+qnRl5qeY7+j7FemKuHXQeiH2sYtribh1kIMZK1gbN4vVcTNYH/818Vn+VDSUUNVYyvErm3ALG/WrR7qcg4ayNm6WZQ0sIxUNxcTeO86OZFfWxH3F2jOz2HZ2Ieeyo6hqLKWsvoiYO8dwCxvdZp2ujknXlV+VrugOSFfDz6RrfsAANiXO50bhObPMVNwl+PouNic5sSZuJmviZrL+zGx2JC/i5NWt7D3nw9Lojzvl9OKDZ9f4/tI61p35mu8S57fJ0ugp+J6eRuStgxhNRsrriwm8tp11Z75mbdws/FI9OHX3e+q1NW2u6WqRLpfg4fhETiQjN8Z8zaCukerGcuq11Ry/vMl6HV7LnbTfX1xHQXUOtZpKrj49y4GM5ZZ+mD/TTYnzOJC+nIBr2y2nF803buyzrNP190jXopAReISP4cSVTTyuuI9W10RBdQ7+17axKWEeGxLmsClxnrUnmxMdWRw12fp6tfcJki4Uka6OIdIlUSodfwxQK+kqelG6nIOGsjnR0fqooPL6Yq7kJZCYFcDFJ3HkVT6gpqkco9GAwajnxJXNbaSruCYPo8n4XLpanZpyDBzE9xfW8qTinnlR01uHLM/um0x6TjRVjWU8LL1B0sNg4rP8yciNoajmMfXaam4XnTc/LifUvBzDD5fW87TyATVNFYTe2Itb2CjL6ckReISNYfvZhTyuuIdG10hpXSHX8pNJfBDA2YfBXH16Fo2ugeqmcpIfhbI5yclyVGUEPpETufTkzHPpOvN1u9J1v+QqzXot1wvS2Jzo9IJ0xdw5SmVDCU8q7nP04ovSdeTCKhp1dWj1TQRapMs5aCg+kRM5eH4FhdU5NOs1FFTncOlJPIlZgSRmBZDyKIxr+cmU1OYRn3US39jpOFnWIGtZkT677BbHLq753dK1LHoKBdU56A06yuuLuFGQRlpOJBm5Ma1yimMX17ImbiYH0pe1uuP0BimPwjj7MIQbBedoaK6lpqkcnUFrXU+sRbpcQ+2ZHziQ8Jv7rU8dMB8xu8vWswvaLPGxMGQEPlGTOPswmMqGEmo1VeRW3CXpYRAJWf4kPQgiPTeGB88yKah6xPeX1uEWNor5AQOs0tWs1/DgWebvkq6FIcNZHTudO0UX0Bt0aHRN5FflcPZhMOk5UW16cj73FBm5MRxIX2ZZs2xEh/sukfxmRLo6hkiXRKm4ho3EKWgw30Z/RkNzLfXaGrYnP1+yoUW6vjnZhwuPYy2PTElgpeU5hc+/4IbjGT4Ov1QPnlTcp6apgnptDfXaGuo01ZTU5nEuJ4rKhmfUa2v48fIG6+KozkFDeVKRZX723+PTbD27AOegodYaHQMHc+T8Kh6UXONZ7VPCb+yznFIcRlDmTp5WPaBOU0WDtoYGy5i1mkruFF3gQPoynCzriTkGDuLYxbVkl96kpDaPgMwduIeNsp5WMl8XNppdqZ5kPbtGZaO51oZW21FRX0JadiQb4ufgHDTEuhyAV8QE8/Y1PuPa07OstZzmai1dLYujZhakUt1UzqUn8XyXMN+6FMGiEHucAgcTcesghdW5ZD27xuELqyzC0SJdwziU8S2Vjc+oaizlp6ubWRL1MQuDh+MSPByP8LH8eHkDueXmxxa11P98G6qoaCgh7OY+FkdNxtmyeOuFx3GU1Rdxt/gihy2P3unoHDLL5Cdkl90030HaasyfJ/lhKGssD0w/c+8nSusKqNNWW+dKdWM5ueX3uJB7mqLqXC7nJbAzxc0qpmbBH8KeNG9uF50HoNmg5cz9n1hx6nOrGLX00zloCKtjvyIhK4CimsfUaarbfqbaassSFHfYetbFenpxd5o3mQUpVDeVc6voPB7hY63X9/1aWh7gvjPFjfslV9r0/5dTS01TBckPQ/CNnd6hMSSSDkekq2OIdEmUimuY+cG83hEOhNzYw8mr21ge8xkuIcPNP2/15bU3zQf/q9vwS3Fvs0Bky++5BA9nQfBHLI3+mEPnV/DT1S34X9vG0QurWR//DfMC+nP04hqOX97EmrivzBfCW76k9qcvxf/adnamuOMTObHNv/hdgj9i5ekvOJjxLSevbmV9/GzzeCHm16849SUH0r8l4Np2Aq5t58SVzexK9WJp9BTr9WQt0uMbO4PDF1bx09UtrI77yrodLdvQ8uw9t7DRbE9exPHLGwm4th3/q1v5/qL5lNmikBGWu9LsrcsCLAq1Z3OSM8cvb2R/+lK8IyewKHREm/4sDBmBe/gYtiW7EHBtO7tSPVkcNdkqfYtCzKvWb4j/hh8urefIhVWsPP2F9ectYrjy9Bccu7gW/6vbWBs3C4+wsdZ1vBaGDMcxcCDekRPxS/Xg+OVNlr5s4/jlTRzM+JY1cV9Zr4lzDTXfiLAlyZkTVzZzIH25eXHZkI5/+ZtPp41lV6on/te2Wcdr+TxaZ/vZRXhHOlhX2N+atMC8Lde28dOVLew9twSP8LEsi/mUoxdXs+fcYpbFfMpCy3x0CzNL3spTX1rv1mzSNZhPDYaNti5d0tLzFklbGDwc39PTOHx+lbXGk1e3cuziWnakuLEsZgpOFol2CRnOkuhP2JXmRWDmTvxSPMwXvof+9lGoln+kLI6abJ7TV7daevHL/Qi4toPAzJ2sj5+NR/jYNvVLJC8dka6OIdIlUSquYc/lyStiAl4R481/3koWnl+nMhaviPF4hI/h5ytyt16vyzV0JB7h4/AMH49X+HjzHYxho1kY/BGe4ePwihhvvVOsRXo8Le/tHjYG19C217a0/H/L+G6tXmsdL2wsnuHjrfEIG2ut+/k4I3ELG/2LNfx8G1oezOxp2Q5P63aYJWNRaNtH4ywKNf++V8R4PMPH/mzMto+Mafk9j/CxL/zMPO5oy7jjXvh5y7MLzdswoU0vWp9Wa6mnTf0R48xjho56of5fqqnDcyj0+aN9PCPGt/kcWscrYjweYWOs/WpZNb7l8/AMN4/f8pQDc+0v9sg5aAg7khdx7elZ6+m/b2M+e+FROm0/zxG4tdTYqh7P8HGWOTfSejG7a+hIXK3zbYJlvnd89XnX0JHWsbx+pR+t6/j5XJRIXklEujqGSJdEybSIV8vSCz9/Blxr8Wq56629L4fWX6gt77ewlaT80hgdee/W77noZ0fYXhxv+AtfwL/1Pr+2vW3eN3TEC1+OrYXp17bht36vtSS09O2XPotFrT6rn29D2/d4sf72XvNrY3ZoDrXTrxfG/pkEv/iaEdYjhz/vUUudjoGDCL2xh8qGZ9YbKzzCx/7qA6Nb9/2XamotoS2/v7AD8729sVq/viNpby5KJC8Vka6OIdIlkUgkbeMaar4ZYXXcDK7lJ1sfkL4mbiaLQuzl1JxE8vOIdHUMkS6JRCJpG/OpxaHsTHEjLTuCu8WXSMgKsNzQIOtcSSQvRKSrY4h0SSQSSdu0nLLziZzIqtPT8I2dxuKoSda7aNWuTyJ57SLS1TFEuiQSieSXszBkBC7BH+ES/FGbuxolEsnPItLVMUS6JBKJ5Jfz87s11a5HInltI9LVMUS6JBKJRCKRvFREujqGSJdEIpFIJJKXikhXxxDpkkgkEolE8lIR6eoYIl0SiUQikUheKiJdHaO1dLkEfYRbhLl5EolEIpFIJB2Je8Qoxot0/Tb1TbWk3oxliNt/4HRyGIuC7VkYJJFIJBKJRNKBBNuzKHgk41b9TaTrt6htrCbxWiS9HP8vxqx6i/Gr/8a4Ts7kjR8wdVtvvtzRx5rJGz5g/OpunT72Hz2fbu7JFzvs+HJHH77YYcfUrb2ZsOYd1evqypmw9h2mbu1t7fuXO/owZXMP1ev6I2TC2nf4ZFP3NvuaTzf3ZOK691SvrSvHYe27fLq5p7XnX+ywY8rmHjisfVf12rpqxq/uhsPad/l8m621759vs2XKd8rsa8av7ka/Rf+dvZFrqawrf6We0qWkS9PcSNbTW2wM8GR78HJ2hKzo9Cz6bhoOTgMY8VV37Gf1ZPDn7+Dj940iY//R87mnPcNnfIj9zJ7Yz+qJg2N/Nhz3Ur2urpw1x9wYP78f9rN6YD+rJ0Onvc80n9Gq1/VHyLofPHBeP5Wh097HfmZPhk3/gOmLx7DioLPqtXXlrP/Rk2mLxzBs+gfYz+zJiK+6M+tbB1YfdVW9tq6c704uYdTs3gyf0Z0RM3swdm4fZq+YqNz4Ad6k3YqlQVP/Sj2lS0kXgMlkwmgyYjKZFBkv4ORJJjtMxLZHT/ra2vHXv7xFQnyCImP/0Vnk4kLv7j3oa2tLf7s+fDxxEs9KStQuq0vzODeXiePG08/Ojr62drz/zjt4e3qqXdYfgoL8Ag4fOsT777xDX1s7ur//AYu9vblx/brapXVpCgsL8fHy4sP33qOvrR12PXuxxnc12dnZapfWZTGZTFRVVTN00CB6de+BXa9ejLYfycZ16xWtoTM8ostJl9L4nzzJpAkOVul6+803SYiPV7usPwQLFyygV/fu9LW1pZ+tHZMnOFAi0tWpPM7NxWHsOPrZmqXrvW7d8PIQ6VKCgoICjhw6zHvdupml6733RboUoKioGG9PLz549z362tpiK9LV6ZhMJmprahgyYCC9PuyOXc9ejB5hzwYFpauzEOl6SfxPnmSSgwO2PXvSz06kS0naSJedHZMdRLo6m8e5uTiMG0c/Ozv62Yl0KYlZug7xXrdu9LOzo/v7Zum6LtLVqRQWFuLt6Wk50iXSpQQmk4nq6mqGDBxI7+7dzUe6RtizYd06tUt7aUS6XhKRLvUQ6VKeX5QuOb2oCCJd6vCCdPXqxZrVIl2dSYt0DW0tXfYiXQIiXWoi0qU8Il3qIdKlDiJdyiPSJbSLSJd6iHQpj0iXeoh0qYNIl/KIdAntItKlHiJdyiPSpR4iXeog0qU8Il1Cu4h0qYdIl/KIdKmHSJc6iHQpj0iX0C4iXeoh0qU8Il3qIdKlDiJdyiPSJbSLSJd6iHQpj0iXeoh0qYNIl/KIdAntItKlHiJdyiPSpR4iXeog0qU8Il1Cu4h0qYdIl/KIdKmHSJc6iHQpj0iX0C4iXeoh0qU8Il3qIdKlDiJdyiPSJbSLSJd6iHQpj0iXeoh0qYNIl/KIdAntItKlHiJdyiPSpR4iXeog0qU8Il1Cu4h0qYdIl/KIdKmHSJc6iHQpj0iX0C4iXeoh0qU8Il3qIdKlDiJdyiPSJbSLSJd6iHQpj0iXeoh0qYNIl/KIdAntItKlHiJdyiPSpR4iXeog0qU8Il1Cu4h0qYdIl/KIdKmHSJc6iHQpj0iX0C4iXeoh0qU8Il3qIdKlDiJdyiPSJbSLSJd6iHQpj0iXeoh0qYNIl/KIdAntItKlHiJdyiPSpR4iXeog0qU8Il1Cu4h0qYdIl/KIdKmHSJc6iHQpj0iX0C4iXeoh0qU8Il3qIdKlDiJdyiPSJbSLSJd6iHQpj0iXeoh0qYNIl/KIdAntItKlHiJdyiPSpR4iXeog0qU8Il1Cu4h0qYdIl/KIdKmHSJc6iHQpj0iX0C4iXeoh0qU8Il3qIdKlDiJdyiPSJbSLSJd6iHQpj0iXeoh0qYNIl/KIdAntItKlHiJdyiPSpR4iXeog0qU8Il1CuwScPMnkCROw7dGdfra9efvNP4t0KYTLAhd6fNgDu9529LHtw6QJE0W6Opnc3FzGjx1PH9s+9LHtwzt/ewdPD5EuJSgoKOTwoaO887d36NPbjg/e+wAf78Vcv35D7dK6NEVFJXh5evP+O+9h19uOXj16sdp3DdnZOWqX1mVpka7BAwfSs3sPevfsxcgR9mxYt17t0l4aka6XJOjkcT4ZN5Le775N3+7v8Na//w8S4k6rXdYfgjlz3XjrbTu6vTuAd98fxKjRUykufqZ2WV2anJwnDLf/lHfeH8Q77w3k39/4kAUuPmqX9Ycgv7CM/YdD+Pc3PuSddwfwp7/0wtVzLZk3H6ldWpemuKyBhe6r+T9/7km3dwfw1279WL5qBw+z89QurctiMpmoqamld78hvP1eT/72oS2Dho9l9YYtapf20nQp6apvaubC3ad8uuokX60PZNaGzk4Qk3wOMGzuRgbOWs2g2WvpO30FU5YdYdaGIEXGn7E+kBnrg7n7+BmaZr0qfTcaDWSf28W5A0NIP6JcTq763xzy+s8c8fmvHPH5r/yw7L+TfKC/YuOfOziEa0HfqNJzAL22nqv+U0k/rFzPk/b14Yel/83a84Me/4K/778r+rmfOzCE/OsnMOqbVOm7Qd9EVcElzu0fwjkFtzt5f38iN7/LAY9/Mffe6z8TuPZPJOyx6/zxDw/h/NHRlOcmoNNUq9J3gJz03YrvZ1IODiJw7f/hoOe/csT7v3DI+78Qsv4vJO3tq8x8PzSETBX3M7qmes5vnk2890jOeNoT5zWy03PGaySxnvb4TXyTnQ5/ZufEN9n98dv88FVPRcaP8xpJ7MJhPIw+jLau8pX2s0tJV02DhrjLD/nrjG0MWxbOiBVRjFgR2YmJYpTvKcaui2P8+jOMX3+GcevPMMo3RoGxzeMPWRJC92/8uHy/gEaNTpW+m4xGbkYvImm9DXeP2JB1TJlkn7Dh8cnnyfnJhqzvlRn7zmEb0rfYcHbHh6r0HEDXVE3itjc4v8NcjxLb/eB7G3J/atv37OPKjH3/mA33jtqQsNaGh6kbMOgaVem7QddAaU48UctsuHVQufn+4HsbHv34s96fsOHBD50/7u2DNsT4/ivFdwNpbixXpe8At6JdSVxnw+1Dyva99b4m1zLnHyiwr7l7xIaMbTac3anefqa5oYZTzn05/fn/4tzM/83Fb97gwuz/6OS8wcVv/g+ZTm9x3fltrjv/lUynt7ky/00Fxv4PLn7zBiHj/jOZR1eiqS59pf3sUtJV26gl4eojPpi9k4/9LjN13w2m7r3edbPvOhO3pmM3fxfXHhTSpFVJukwmbsW4cnGnDXWnbWhKsKEpvgsnwYbqUzbcOWTDWT8VpUtTTeKON7h3zFxPV+97Y7wNDXE2pG+z4WHaRvWOdOkaKctNIHqlDZVR6vels6NJtKEs2oaYNf9Kyf1gdE0VqvQd4FaMK+e321AZ3fXne1OCDbWxNtw/asPZXWpKVy2nFw0mY+5b5Hq+S/HSDyha0rVTvPRDTn/6/3L9h9Voal7tPzK6nHQlXn3Eh7N38tn+W0w/+oBph+932Uw/ksUnu65gN89Pdem6GePKlV026JNsIM0GUrtw0sxfRFnHbEhSWboSdrzBo+Pmejj3GvSmE2NKs8GYbMOFHepLV6lFuhriLPO9K8/5dBuq422IXvOvFGepK103Lf+4a4rv+vOdNBt0Z81HN5NUlq5TiwZzyfFtiha/T83KHlSt6NqpWdWDuKn/jUyRrl/nuXTt4LN9N5l25D7TDt/rwrnPJ36XXxvpuuxngy7pNdhZKZCmBPPprtdBuh7+aK6nS3/xp9pgSrHBcNaG89tfM+l6DXrTqTlnQ/WZ10u6Gs+8Bn1RIM2JNjz64fWQrovz36Zw8ftUrehBZRdP1YoexH0m0vWbiHSJdCkVkS7lI9KlUkS6VItIl0jXa41Il0iXUhHpUj4iXSpFpEu1iHSJdL3WiHSJdCkVkS7lI9KlUkS6VItIl0jXa41Il0iXUhHpUj4iXSpFpEu1iHSJdL3WiHSJdCkVkS7lI9KlUkS6VItIl0jXa41Il0iXUhHpUj4iXSpFpEu1iHSJdL3WiHSJdCkVkS7lI9KlUkS6VItIl0jXa41Il0iXUhHpUj4iXSpFpEu1iHSJdL3WiHSJdCkVkS7lI9KlUkS6VItIl0jXa41Il0iXUhHpUj4iXSpFpEu1iHSJdL3WiHSJdCkVkS7lI9KlUkS6VItIl0jXa41Il0iXUhHpUj4iXSpFpEu1iHSJdL3WiHSJdCkVkS7lI9KlUkS6VItIl0jXa41Il0iXUhHpUj4iXSpFpEu1iHSJdL3WPJeunUw9cIfpxx4y/eiDrptjD5my+9prI11XdtlgSLaBdPOOussm3QZtkg0Pvn89pCv7uA2aszaQ8Rr0phNjSrfBmGrDhR2vkXTFW+Z7V57z522og1W0agAAIABJREFUTnh9pOuSnw2aRMt878p9T7dBn2xDzvHXQ7ouO75NydL3qVvVg5qVXTe1K3tQ59uTM1NFun6T2gYNZ648pNtX2xi1LoFxm5IZt/Fsp2bC5lQmbT3H5G3p1kz4LqXTxzUnGXvf0/SYs5MrWQU0qiZdRm5GLyJ1kw1PA2x4GmzD06DOT1GYDSURNpREmv9bHK7Q2ME2PPa34couG5J2qChdTdUkbHuDa3ttyPVXZtvzg819tvY90vw5KPF5Pw224WmgDWc32vAwdSMGXaMqfTfoGinNiSdquQ3ZJyx1KdT7wtDnfW/pfX5IJ48dYsODn2yI9v1Xiu8F0tz0ar+Efg+3ol1J2WjD45PK9r0orFXfIyx97+yxg214EmDDtd02JO1UU7pqOLWgH4kz/p3M+X/i7oK/cGfBm52auwve5O6Cv/DQrRuP3N/hkfs7PHTrRtaivyow7pvcW/AXIhz+C5nHVqGpLnul/exS0lXXqCXt5mOGexzl45X+fOIb0Kn5dHUQ45d8z0eL9jF0wW6GuexhsJMfE5b+yBTfwE4f/xPfACat8Gf80h+5mV2s3pEuo5EHSWtI3vkXMg6+rUguHulG3OZ/I3LdPxO1/p+JWv+fiNn4L5w/+BbnD/2182s48Dapu/7Che/Hq9JzAJ22lvNHh3Bu71tkHOj8np8/9FfSD7xJ9IZ/IWr9fyJq/X8icu0/cWbr/83FI90U++zP7vgLTy7tx6Daka4mKvLOkbT1TTL2v6XINp8/+Dbp+/9M4o7/QcTafyJq/T8Tue6fiNvyb6TueaNT57x57LdI3vUBpY9i0GkqVek7wIOza0ne8aYi87113+O2/BuR68x9j1r3z5zZ+v9wbt+fOd/ZNRx4m7Tdf+HiDyruZxrrSFn1MbFOtsQ52XJmgZ0iiXOy5eTUN/npsz/z02d/xv/zvxA68x0SFvZVZPyoWe9yL3gH2tpXe2S3S0mXTm+gqLyWyIx7nL70gNhOztkbT1i79yfGfulMvzGfM2DcND4cMpHt30dw5soj4i4/7PQaTl98QMzFLCpqGtAbjKr03WSCqoJz5N/cT+HtYxR0cgpvf091bhDbl41i7uT/wHHKn3D69M8smduDJ9cPUXLvuAI1HKPg5kFK7vur0nMAo0FLyb0TFN46okjfn90/zoMLu/CZ/SGOn/4Jx0//xNcT/he7fSdQnRvU6eNb+35jP7XPMjEaDer03ahHU1dA/vU9FNw6qsh2F9/7kfsZO/HfPYtZE/4njlP+xDcT/zc7vh3Dxdg1PLt/onNruHWEwluHaax5jEGvUaXvAFUFaeTf3KfQfuYYJfd+5G76DrYvH81sh/8Pxyl/Yt4nb7Bv7STupG2j5N6PnT/fbx2iJCtAtZ4b9c0UXDrNk5Rgc1I7OyE8SQ3h7ukfcRzVk5lD3uHroe/hMr4Pe71nUXIphry0kE6vIzfxJyqzb2BofrXzvUtJl8lkwmg00aw3oFMoJ0+cYPKE8dj26E5f2168/ec/ERcbp9j4Or2BZr0Bo8mEyWRSqe9gNOow6rUYDUqlGRfnBfT4oAe2veyw692XiRMmUVyUr1wNenMdamEymVrVoUxysh8yfowDdr36YNerD93++i4ebh4YDc2K9t1k1Ks4302YTEaMeo2ivc9/msehQ8fo9td3sO1lx/vvfoi39xIyM68rM9f1Wkwmg2p9BzX2M1oKCovx9PDhvW7vY9vLjp7de+Hru5ZHDx8oNt9V38/odRh0zYqmurKcwQMG0v3DHvTq2Qt7+5GsX7ceo16pGrQYDa9+P9OlpEsN/E+eZPKECdj26EE/W1vefvPPJMTHq13WHwKXBS70/LAHfXrb0de2D5McJlJSUqJ2WV2a3NxcJowdTx/bPvSx7cO7f3sHTw9Ptcv6Q1BQUMjhQ0d492/v0Ke3HR+89wE+3ou5fv2G2qV1aQqLivHy9Ob9d96jT287evfoxWrfNWRnZ6tdWpfFZDJRXV3N4IED6dm9B7179WLkCHs2rFuvdmkvjUjXS+J/8iSTHByw7dmTfnZ2vP3mmyJdCrFwwQJ6de9OX1tb+tnZMdnBQaSrk3mcm4vDuHH0s7Ojn50d73XrhpenSJcSFBQUcOTQId7r1o1+dnZ0f/99Fnt7c/36dbVL69IUFhbi7enJh++9R19bW2x79WLN6tUiXZ1Ii3QNHTiQ3t27Y9erF6Pt7dmwbp3apb00Il0viUiXeoh0KY9Il3qIdKmDSJfyiHQJ7SLSpR4iXcoj0qUeIl3qINKlPCJdQruIdKmHSJfyiHSph0iXOoh0KY9Il9AuIl3qIdKlPCJd6iHSpQ4iXcoj0iW0i0iXeoh0KY9Il3qIdKmDSJfyiHQJ7SLSpR4iXcoj0qUeIl3qINKlPCJdQruIdKmHSJfyiHSph0iXOoh0KY9Il9AuIl3qIdKlPCJd6iHSpQ4iXcoj0iW0i0iXeoh0KY9Il3qIdKmDSJfyiHQJ7SLSpR4iXcoj0qUeIl3qINKlPCJdQruIdKmHSJfyiHSph0iXOoh0KY9Il9AuIl3qIdKlPCJd6iHSpQ4iXcoj0iW0i0iXeoh0KY9Il3qIdKmDSJfyiHQJ7SLSpR4iXcoj0qUeIl3qINKlPCJdQruIdKmHSJfyiHSph0iXOoh0KY9Il9AuIl3qIdKlPCJd6iHSpQ4iXcoj0iW0i0iXeoh0KY9Il3qIdKmDSJfyiHQJ7SLSpR4iXcoj0qUeIl3qINKlPCJdQruIdKmHSJfyiHSph0iXOoh0KY9Il9AuIl3qIdKlPCJd6iHSpQ4iXcoj0iW0i0iXeoh0KY9Il3qIdKmDSJfyiHQJ7SLSpR4iXcoj0qUeIl3qINKlPCJdQruIdKmHSJfyiHSph0iXOoh0KY9Il9AuIl3qIdKlPCJd6iHSpQ4iXcoj0iW0i0iXeoh0KY9Il3qIdKmDSJfyiHQJ7SLSpR4iXcoj0qUeIl3qINKlPCJdQruIdKmHSJfyiHSph0iXOoh0KY9Il9AuIl3qIdKlPCJd6iHSpQ4iXcoj0iW0S8BPAUweN4le7/ekb0873nrjTRLOiHQpwUInF3q+14M+PWzp27MPH4+bJNLVyTzOfczE0RPo29OOPj3sePetbni6iXQpQVFhMT8c+YF33+pGnx52fNjtfZZ6L+X2zdtql9alKSspZ4nnEj7463v06WFL7w96sX71enKyc9UurctiMpmoqalhcN9B9HyvB7Yf9mL0sFFsWrtR7dJemi4lXTp9M8UV+cRcDODMlVDir4R1ahIzI1m/dykTZwxn0LgeDHXoRe+P/srOH9YRfzWc+KudO/4fOWevR/G1+6cMHNedIQ69GOrQm4lfDSc85QQJV8NVr68rJuFaOIHxR3CYPoyhDr0Y6tCLviPfZZ73lyRdj1K9vq6chKvhBCd+z6rtXvQd+S5DHXrRf/QHOC6ezrGI3SRci1C9xq6YhKvhhJ49znzvafQf9T5DJ/Ri8PgeuK78Bv+4Q7Kv6axcDSfy3ElGfNyHQWO7M3h8T8Z+Phh337kkZUYq8t16+lIgD/JvodVpXqmndCnpatDUc/XBOWZtHonr/im4H/isU+N5+Au+2TyGj5f1ZYJ3Lyb69GacR3fmbRuPx8HPcT84tdNr+GNmKt5Hp/GF72AmePXCwac3Dj69+XhpX9wPTDX3XvUau148D32O674pfLy0Dw4+vZno05vxnj34cs1QvI9OU72+rhyPg5+zcO8nzNpoz3jPHkz06c0Er558sXoITn4T8Tgkc75z+j6VhXs+5gvfwYz36slEn944ePdi2tphuOz5WPY1nZWDU3Hd9ykTfWyZ4N0LB+9eTF5ix4y1H+F15EsFvlunMnfbWMLOfU9tY/Ur9ZQuJV11jTUkX4+hn8v/4LNtPfjSrzdf7OzcTN/dh5n7+jNr/wBrpu3u0+njSnrz1Z5+1p7P3D+Ar/b250s/W9Xr6sr50s+Wr/b1Z2ar+T5jTz/V6/oj5Es/W6bv7ttmXzNjbz+m7bJTvbaunC/9bJmxt+2+ZsaevrKvUaDvM/c9n+sz9/Vnxp6+yozvZ8sw7zc4EL2RqvqKV+opXUq66ptqSb0Ry2C3/2BhyHA8okbjHjFKIpFIJBKJpAMZjUfUaMav7sbhU5upFulqn9bStSDwI9zCR+EWJpFIJBKJRNKxuEeMZpyvSNdvItIlkUgkEonkpRI+SqSrI4h0SSQSiUQieamIdHUMkS6JRCKRSCQvFZGujiHSJZFIJBKJ5KUi0tUxRLokEolEIpG8VES6OoZIl0QikUgkkpeKSFfHEOmSSCQSiUTyUhHp6hgiXRJJ58U1dCSuofYsDBnBwpDhLAwZzqKQEbiG2qtem0QikbyyiHR1DJEuiaRz4ho6kkWh9riG2uMVMQGfyIn4RDrgGT4Ot1Dzz9WuUSKRSF5JRLo6hkiXpDNiPsIzkoUhw3EJ+eh3ZWHI8H94ITFv+wg8w8ex7szXHDq/kmMX13Ds4hp2pXmx8vSXuAR/pHqd/4hpPa8Whoz4h58rr7o3LbLftkdyZFXSyRHp6hgiXZJXHeuOP2QEC4KH4hg4CMfAgR3MIBYEDbWcgvvH/TJ1DbVnQfAwdqa48eDZdUwmEzpDMzpDM+X1xUTdPsS8gP6q1/mPlhahaJlXzsFDRbzCnv+de/73bhjOQUNwDJIeSRSKSFfHEOmSvOq07PjXxM2koCqb0roCyuqLOpTSugJyK+7yXaIjC4KGqr4tf28WBA9jffw3JD8MRavX0NhcT0ZuDOk50Vx8coYTV77DMXCg6nX+o8UleBhLoz/mVmEGJbV5pGaHsyF+DguC/3HnyquI+e+cWfTdwkZxIP1b8iqzKKsvIvlhKN8lzv/D90jSyRHp6hgiXZJXnZZTa2vivqK45jEaXSNavQatrgmNrhGNrtE6/7R6jfnnuia0+ia0eg15lVl8l+iI8z+wdDkFDuZg+nKynl1Do2vkRsE51sTNZOWpL1gbN5PlMZ+yMGS46nX+o8U5eCjLoqeQX5WN3qDjZuE5tiQ54xQ0RPXa1Ejr0/jOQUNZHTuD6DtHeVr5AL2hGYDr+SnsTHb7w/ZIolBEujqGSJfkVaflFJB3hAMHM77lx8sbLdnA0QurCc70w2QyYTKZiLt/nCMXfPnx8gZ+vLyR45c3sT99GYsjJ+ES/JHlQnTzv+IXhYwwx/Jnz0+ntPqZNc9/55dqazl92fqUzM/fv71te3FM+xdqmhcwgGMX15BXcZ9aTSVRt4/gHDyMeQEDcA4aahWu1tfgvLANoS9uwwu/39Kf0F/uz/Nttf/l2n9Wd3s//7XPur362+u/a6g9i0Jbj/3L9fzSeM7BQ1kaPYUCq3Sl/6Z0tanxN/r88/ng2s72//wz+O050n4vf/PzbGcut7x2YchwFkdN4odL67n29CzFNU8oqyukqbkeg9HA9fxUdqa44xQ4WPV9g6QLR6SrY4h0STojLV9cjoGDmBfQn3kB/Zkb0J+ZJ3riHTEBk8mE0WRkc5ITX53oYf353ID+zA8YiGvoSNzDxlq/VNxCR+ERNgb38DFt3n9hyAjcQkfhHjYa97AxeISPwT1sDG5ho83LM4Q+v5al5YvL/Hst723+YnMPG93m/Vu+oH9pmxaGjMDNMp57+Bjcw0Y/fy/La5yDhvDjpQ3kVWZR01ROyPXd1jHdLL/f+oJnc13mGjzCzNvwvL6fSWaovWWbx+AWOso6bsv2t7z/ohB73MJG4xE+FrewUZZlK0ZY/sxcu2vYqOdyYFnawi3M/N4eYZZehNhba3ihH23qb+lHq/6H/Lz/5v54hI/FLXSUVSzM441t05tfkowW6cqvetQh6WoZ0yV4eKu+mbff3OfR1u1+Ll/m+lo+g9a1tJaylu1wDxvTRtxa5pRb2Gjcw1vm5OjnctlqXj1/b/PntMgy363z1PIZtyejrqEjcQoawo5kV+4VX6ZeW0NWyVUibu6ntK4AvUFnkS43kS5J50akq2OIdEmUimvYSJwCB7MiZqp1/vmleOAYOMj885brUoKGsjFhLn6pHqyOm4Fb2Ci2nnVhV6onu9O8WBM3E4/wcbiHjWbl6c/ZdtYFvxR3dqd6sTvNi12pnmxPXsSymE+tX6rP18sazrazLuxO82Z5zGe4hY5idewM/FI82J1mfv2WJGe+PTXVIhptjxC5h43h21NT2Znizq40T3aleeGX4s7GhLnWo3OrY6fzXaIjcfdOUFL7lHptDamPwtmT5oNfqgdr42bhGT7OKkFLoz7hu8T55hos2+CX6snmJCdrjS1fxC3ys+7M1/ileLAhfg5eERNYf2Y2fqnmbdiYMBefyEm4ho5kQ/wcdqd6sTp2Bj6Rk1h1eho7U9yfb+tZZ5bFfGo9Wrfi1OdsS15o7nWqF1vPurDy9JfWO+Bay0eLmC6P+ZQtSU7sSjX3Y1eqJzuS3fj21Gfm/oe07f+6eHOta+JmsjhyEqtjp7Mr1Yvdad5sTnRiSdTkdi/8/r3SZT5iZI+3pUfbzy5kV+rzz9rcw2/wiZxkrXNZ9BT2pPmwK9WTb2OmWpb3sG8zR1s+gz3nfNh61gXnoKFWefOMGM/q2BnsTHFjV9rzObkxYS5Loz9uM68WhoxgcdQky3x3Z/mpz1gcNZnvEuezO9ULv1R3NsR/Y+33L0mXY+Agfri0gbvFl7ien8retMXMC+hPXkWWSJdEuYh0dQyRLolS6Zh0jWD2STsy81PQ6Bu5+CSO/elLadI3ojfqMBoNpDwKY2PCXDYnOnG7KAONrhG9UY/eoENv0GEw6tEZmsl4fIrvEue3OSLjHDSEsroiTCYToTf24JfizsNnmeiN5tcajQZqmipIzY5g5ekvWBA89PkXXtgoticv4vKTREwmo/U1BqOe4ponhN/Yj1PgYOLun6C0rgCDUY/JZMRkMmGw1KczNJP8MBTf2Bk4Bw3BJ2oiKQ9DqWosxWA0WLdBb9BRp6kiIyeG9We+wTFwkPWIlFf4eK7kJaLVN3G/5ArHL2+isDqXZr0Go9HAneKL7EnzwStiAneLL9Ks13D2YQihN/ZyszDdWovRZKROU0XcvROsjv2KVaencfXpWRqb6y3bZaBOU821p8ksi5nS5mhQyxG4NXEzufTkDDVN5db31Vv6f/VpEtuTF+EW1nKUbTgLgodyLT+Zem0N6TnRBGX6caf4EgajAYPRwNPKBxzIWM6C4I9eWrpcQ0fiEjwcz/DxhN3YS1F1rmWu6NAbmi216iipySMocydLoibjHjaGQ+dXYDQaMJlMhNzYzeLISVbpdQ0dyYLgYaw49QVX8hIxmow8qbjHrBO9cA4eikf4GH64tJ6HpZkYTcZWc9JASW0esfd+ZMWpz63zyiloCHvPLeZO8QVqmsqJvH2Q2HvHKal9isFooKG5lttFF/AMH9+udLmEfIRv7HQ2JsxhafTHzPXvi2PgIPKrHqI3inRJFIpIV8cQ6ZIolY5K19cnbcnMT6FJ10BVYxmVjaVo9Vqyy25RWJ3D6bs/sCvVi8hbB9HoGqlqfMaDZ5lczkvgytMksstuoTfqadI1kPwwlLVxM1kQbL6OyiloCEW1TzCaDFTUl/Cs9im1mipuFV3gcl4iBdU5NOkaqNfWkJmfyvyAASyyvG5nijtX85JobK6nVlPF9YI0ruQlklt+l5qmCnLKbrMoZAS707yIz/Inu+wmtZpKtPomsstuc+lJPOk5MRzKWIFP5ER8Y6dzu+gC9ZpqmprreVJxn6tPz3LlaRIPS2+g1Teh0TVwOS+enSnuLLBcC+YT6cClJ/HUaaqpbaqkoqGEZr2GxxX3KKjO4XJeArvSvPCKcOB+yRWa9VoqG55R1VhKRUMJj0pvcCkvnrK6IrT6Jqqbyskpv8O9kis0NteTU3abzPxk8iqzaGqup15bw7X8FDwjxpuvs7Ocjt2c5MiTyiwam+upaijlfslVruQlcqfoInWaSpp09eSW32XvucU4BQ3GJdh8sXdmfioN2lpK6wsprMmlXlvD06pHPKnI4k7RRfadW4pL8C+v1fZ7pGtRqD0eYWPYmeJGg7YGnaGZwupcbhSc4+LjM1zPT6WsrpBmvYaKhhKOXVzHguBhbIyfS1HNE/RGHZfzEtiYMBfnoKHWo1zzAwZy5IIvjyvuUdNUSXpONN+ctMM5eCiRtw9RVPOYxuZ6yhuKuZKXyKUnCeRVZlGvrTbPm/y0Nqff96cv5V7JFbT6Jh5X3KVOU0VlQwl5lVk8KrvJlbxEvCMc2pUu19CRuIY9Pxq7IGgYTkGDRbokykakq2OIdEmUyu+VLoNRj96oo6qxjNDre9iYMJetSS6si5uF7+np7EnzJu7ecQ5mfMumhHmsjv0K39gZbE9eRGZ+Mlp9E/lVD9l7zgfHwEFW6SqsybUcWdHztPIhYTf24Rs7Hd/T09mR7MqtwgyMJiPFNU/YmDAP11B75vr3J+DaDkrrCqhoKOHIBV/WxM3EN3Y6W5KcOX55I6E39uAaao93pANLoj8h9MYeCqqyqdVUcfruD6yJm8mq01/iFTGB5TGfEZi5g8bmOoschrAz2Q3f2BmsjpvB+vjZXHgcS01TBbWaShKy/C1Hbj7CJ3IiF5/E0dBch96op6apgjP3T7I1aQFbkpzZnOTI0uhPWBL1sUW6NOiNOh6V3STs5j42Jcxj1elp7E9fzpOKLAxGA1p9E6V1hSRkBbAlyRnf2On4pXiQnhOD0WSgqrGULUnOuIeNwTloCKtjZxCf5Y9G10RhVQ5BmTvZmDCX1bHTWX9mNt9fXEudpgqtvonYe8f5NuYznIKG4Bw0hMz8FBq0tegMzTyryyc9N5rvEh35LnE+2866sDzms1dyerHllODq2OmcyfqJ4Ou78Usxn971jZ3B2rhZ7E9fRq2mEoNRT0JWIMtjPsMnciIZuafQ6BoprStgf/oy5gX0b3OBfdz9/5+9846K4mrjMCl2jUY/Y40lMcZeIgoaC7HHhphoYu+o2FBBrNgr1qioqDGWKCBFMYAoClYUBQmCDQUVKQpKb9ue74+F1RUwaHSH4H3O+Z2cyO7M3XeHmYc79945wPO0J4TH32T3pcWMP9SWtd5mhMZcISnjOdcjz7H13Gz1ceUxjHWnJ+MX7qGWzeRIdpyfh7lTdyYc/l4jXUqVgrSsZB4n3McxcDNrT01krfdENpyZqhkTlt8Eg+lOOZM5ujHlSOds6borpEtEdxHSVTCEdInoKm8qXQDxqdGcvu3I7KP91YthOhgx7Ug3Zrr0Ys6xASx2H4q5Uw8m2ndg/OF2jP3TgMkORhy6akNKZgKpmYns9VuG6eHvX5KucBRKBdGJERy/sYc5xwZgevh7Jtl3ZOLh9vx1Y6+69ybtCfuvrMbcqQfjDhng+vdOUjITiUuJYrPvLPU+D7XFzKETFq59WeQ+RDNuaeyfBuy+uIiI+FAS0uOwD9jEZMcfsicWfM/601Oye+RkBEddYsPpqUxx7MxE+45McujIBPv22HhP4kbUJbLkGYTG+LPm1EQmOXRktms//CI8SZelkpzxnKsPvFn416+YORhh5tCJaUfUA8fnuf1MaMwVdU9OSjQuQduZf3ygetFM+w5McezClYiTZMkzSUiP41K4B4s8hjHZwYiJ9u2Z4tiZg/5rkStkZMrT2Xt5OVZH+zP+UFs2+cwgOjGCLHkGbsG7mev2E+MOGWbHgCmOnfEL98zu2VHPnptwuD1mDp24li1dqZlJ+D88xVrvSUy078Ak+45as/fexe3F6U7dmenSmyWeI7A6ZsIUx86YHv6e8YfaMu6QIZOPdCYyIQyFUs6VB6fU68M5/sC2c1YkpscjU2Rly3R3zbMz57n9rBHHqw9PY+0+BNPD7fC8eZD41BjCnv7N735LMT3c7qWaGLL1rCU3ovxIzUzC564zM5x7Mv5QW2zPzyU05ormdq9zkK1aUu07Zq+79frJBa9GfZwL6RLRcYR0FQwhXSK6yttI180Yf9aemsiEw+21ZvGpxaIzZg6dMHMwyh6QPYLlJ0az6qQpDtc2kZKZiEyeyf4rqzE93O7F7cVs6Qp45MOG09M0vRjTnbpjeqgdf161ITbpIYnp8bj8vQNz5x6MP9SW/VdW8+h5GGlZKfg/8Gb7+Xksch+CuVMPtfBkj9OZ7tSdCfbt2eu3jAfxt0hMj+fI9a2YO6sviKaHv8fuojUqlYpMeQaHr23E6mh/Jjv+oDU7zvRwOzxDD5CYHk9U4n0cAjYz/lBbLF37aqTrflwIOy8sZNwhQ03v0LTs1fDnuQ3USFdIlB/rT09Rjw3LHlxuevh7Tt48RFLGcyKe3eL3y8sYd6itZjtmDp3YddGadFkKmfIM7AM2MueYCZPsO7L/yioAMuXp7PFbysqT41h+YjQrvMay/MRolngM52jwLmKTH3H3SRB7Li3RCGqOdEUmhHE4YAMTHTpqvtuCLhnxJrMXpx3pqjlOzJ16sOD4IJafGM3yE2NY7jWGh8/uIFNkcj3yLJt8ZmB6+HumO3XXSMuF+3+xwmtstgR1ZttZKx7E3yI+NYbjIXs1s2vvxd0gS57J1YensT03hyUew1nhNZYVXmNZ6jmCTT4zOBt2lEx5BjdjrjLTuRfjDhlqpEumyOLBs9vMc/tZcxu3IDV5NUK6RCSJkK6CIaRLRFd5G+n6+/EFFrsP0wiJ5nXZ0//nHx/EMs+R7LuyitO3HfGLOMHlCC9Co9W31WQKGfv91+QpXdcenmHD6WlaF6McWYqIDyUp4xlHg+0wd1b3pK3wGsvJW4c1g8YjE8JwD93HJp8ZzM+ZKZl9oXyddI0/1A67CwsByJClsePCAixc+2qWa1B/xm6MO2SIS5AtT5MfE5cShUfofsb9aaAlXfnV51XpCnh4hjUnJzDJoaNGWifad8AteDfxqTGEx4ey+9JiJtq319zGmuxgxK6L1qRkJpIpT+dwwAZmHzXG6qgwe71GAAAgAElEQVQxbsG7AZArZFx+cJKL4e74RZzIjieXwj0Iib5MckYC957eYK/f8lzSdefJdXZdWoTp4e8LfAy93ezFrsxy6ZUtPua4BNly/v5xTXsT0tTf5/XIs2z2manu9XToxMX77iRlPONeXDB/XF7BBHt1T533bXuepz3hVuw1dlxYwET79izzHElsonrw+4Nnt9TbDvd8UZNwT65EeBEeH0qWPJO7T4KY6aItXZnydEKir6g/Z/YYsrf5PRPSJSJJhHQVDCFdIrrK20hX8OOLLPUYoSUVOetGLfYYxpUHJ7VWuH+V10rXIx82nJmudTGaaN+BPZeWcD/uBknpzzj6907MndWPn5ni2AVr9yG4/r0TuUKGSqUCIEOeTmDkWdadNtPc3ptwuODSZXtuDrNc+7wiXepet8NXNxCVGJ6vdAVHXWKZ56h/lK7AR76sPTURM4dOWtJ1LHg38anR2WOTljLRvkMe0pWkkS7Lo/1YcHwQXjcPFvgccz/uBn9cXpFLusKeBrHHbwkT3uBxSG8qXeoeo27YXbAmPiUapVKRbztzpGuifQcmO3Zms88MwuNDSc1MxveuMzOcejDJvgMPnt1GrpDhGbqf2UeNmerYhbWnJhCX/Pi1239xTGZy7+kNZrn0ZryWdGVwM+YaM517aR7n8zYR0iUiSYR0FQwhXSK6yruQLrVQqNfxuhxxQvNYoZDoyzgEbGaTzww2+Zjj9veu7MHaby5dv19aSnhciJZ0qZcMUPeazHT+kVVe49l3ZRU3Y/xJz1LffrsXF8xC98GaW3cFlq7zc7HIJV3qni6n69t4khxZiKTLmHluP+MRsi+7/an85jsTG+9JbDwzLY9MZ6XXOOYcG8BkRyOdStfUI12xPNqPnRcWkpT+HIVSTmzyI3zvurDn0lJsvM3Y4DOdqIRw5ArZS9LVkalHurDwr1+4HnmWTHk61x6dwdp9COvPTON52lMUSgWHrm3QLOS7ymscT5IiUSoV+Ia5sPHMdNafnppnPTacmcaKE2M1PaJCukSKRIR0FQwhXSK6yruSrkn2HdlxYR5J6fHIFJl433Zk/empWB3tj7lzD2a59GLXBWuSMp69M+ma4tiZqUe6ZPd4dWa6Uw9mHzVmhddYfO46k5AWR0J6HA6BmzF3Vo8By39MVzvsLloD6jFR+/3XYHnUmCmOnV/UwakrE+3bc+LmnySmx/Po+V0O+ttgeridpNJldcyEyY5GHLy6FoB0WQqrTo5jhnNPzJ17qFekd3mxMv0M557Zi4vmPB9Qd9I1xbEzC/76BdegHSiVCmKTH/HnVRsWuQ9RL8FwpBvTnHtwPy6ELHmmRrpyBvSbORrxV8jvxKfGEBF/iyOBW3EOsiU1M4n7cTf47axF9qzYrsxy7Ut4/E1kikxO3znCIvehTD3SJe965Pw+ZC9sKqRLpEhESFfBENIloqu8K+maaN+BPX5LAbW0HPS3YYbzj4w7ZMgE+/bMcu2NU+BW9UD6d9jTZXW0P1bZK5dPtFfPMBzzZ2v2XVnF44T7pGQmcPLWYU1b8pOuCfbt2XrWkvjUGOSKLPwiTrDSaxyTHX/QDMg3c+jECq+x/P34ApnydG5E+7HKa3yu2Yu6lq452Ytvbj8/l5TMRLLkGRwJ3MKcYwOYaN+eSQ7q2ZeT7NUxd+qBueZRO+9eugIjz7Lq5HjGHWrLZEcjrUyy74i1+xA8QvehUCqIiL/J6pOmjD/UlgmH1W21PGrM44RwrTFdk+w7anqhfvO14HZsAMkZz7n7JIjg7NmkPnedWOKpPi7Vi77+oFk77WbMVXZeWMBE+w7qWZnZNVHPGO2s9XihdyVdObNmpzj+wCT7Dow/1C77odcyAh6dYf3pqYw/1JYpjj9oPZpJROSdRUhXwRDSJaKrvDPpcujIjgvzSc5IQKbI4mzYUTb7zGCx+1DWnJrAfv/V3I4NJEuR+VrpCvgn6cpQS9c0p25YuPZhz6UlOF+3Zfv5eZo1upadGMWJmweJS43medpTDvivxdzp9T1dZg5GLPMcxdkwV5QqBYnpcXiG7mf9maks8RjOUs+RrDs9mXP3jvE87SnxqTH8FbI31zpdBZGum/8gXW5vKF1z3QYw4fD3rD41geuR57Jl5hYOAZtYc2oCSzxGaGaRrj89hQP+a9jia5F9e/EHrXW6/o10RWZL163Ya/zut4ylniNZdXK8JqtPmjLX7ScWewzl6N87UaqUxKVEcejaepZ5jmSp50g2+phz7Ib6NjQqcknXlCNdsHTty7l7x5Ar5WTJM0nOSCAtK5kD/ms0t4RzZovuvbycyIQwUjISufbwDLbn5rDUc4TmO13lNR7bc3M46L+W1adMX7m96P9W0qWZ1ejUnfnHB7LMcxSL3Iey4K9feZxwH7lSxo0oP/ZcWsrCv35lmedIZh811rxX6nOCSBGKkK6CIaRLRFcp+GOAXi9dZo5GrPWeSGCkLxmyNBLT4wl8dBafO04EPDpDTNJDkjKeoVQqkCvkHHhFuqITI1BmS9fGM9O1bk29Kl3Hgncx9Ug35rr9zIX7x0nKeMbDZ3c4G3aUU7cd8H9wiifJkaRlpRAa4695ZqPp4e/54/JyHj67TWJ6PE4vSVfOuLCNZ6YTnRhBuiyF52lPCY66xJm7zviGuRIS7Ud6VgpJGc/wDXPFxtsse0X6rtkr0p8gQ5bKjahLLH+tdPm/JF2TcknX8Rt7eJYaQ3j8Tfb45Zau3ZcWkZaVrCVdZg5GzD5qjN1Fa56mPCZTls6T5EgCI89y5s4RvG87cuHecW7GXuVZ2hP1UwFOjGKSQ0etFelz1rN6U+ma5/YzkQlhyBUynqXGEhp9mSsPTnL14WlNrj08zf4rq1h2YhR2FxeSkB6nFsRnNzl3zw3fMFduxlwlQ5ZOSmZi9piuc1rSldMT5fr3TpIyngNotmHjbZZd8xePRbI8asz5e24kpMeRmplEVGI4vmGueN92wOeuM1cfevPw2R2eJD/mz6vrMHfuienh7zXSlSXP4NZbSNdUxy7MPz6IQ9fW43PXhVO37fG6dUjzmaMTI/B/cIpTt+w5c+cI287NYfZRY81Du0VE3kmEdBUMIV0iukp+0jUpn2cvAgQ9Po+1+xCmHHnxLL5pR7pi7tSD1SdNuRcXjEyRpdmeSqXkedpTPEL3k5aVDMCfV9dppEv97MXHqFQqrj48zfozUzF7Rbr+uLycB/G3SMp4zvEbv2Pu1JOJ9h044L+GR8/v5vodypRnEBh5ljWnJmQ/I7ErEw6354D/Gh4n3CMxPR7noG3McFZLl3n2fyc7dmaZ5wiCoy6SlpWktU2lSklC2lM8Q/ez4PgvmB5up3n2oqVrH648OKm+7Rjlx4oTY3JJ1xTHzsw/PpCQ6MtkyTO4HnkOG2+zV6SrIx4h+3ie9pSIZ7fYe3l5Lun63W8pmfJ0MuUZOARuYq7bT5rbaVOOdOY3XwvuPgnKdwbp87Qn2AdsZJZLHyY7/sBkxxfSde9pML/7LWNC9vdfkOTIZGTCPeQK2WvPbZfCPVnmOZrJjp1xDrIlJSNRM+NU/b2lczv2Or53XXma/Jigx+fZctZCS7rMHDqxycdcczxmyTP5K2Qv848PYspLYpTzHMXZR405+rcdMUkP8myTTJFFeHwoy71Gq6XucAdsz1llf0+ZhD0JYpbLm0lXzrEZ+TzstfUAkCvl3IjyY6XX2H81bkxEJFeEdBUMIV0iusp0Z/Utm1kuvdlzaSl2F62Zc2yARkRePDvOiHWnp7DrojU23pMwd+6pWTxT8zqnbpg7dWeR+1C2nLVk54WF2F1cyLZzVqw+OZ4Zzj3Zds6KnRcWqKXNsbN6XJFjFzb7zGDXxUWsPTURy6P9tGYNTj3ShQV/DWKTzwx2XFjAUs8RmltNFq59WOo5ki2+lthdtGbXRWt2XJjPRh9zrN0HZ/di5fR8dMH6r8H85mvBjvPzsXYfkn0h76b1GaYd6cq84z+z/sxUdlyYj91Fa+wuLGT7ubms8hqP5VFjpmbLVk59pjl1Z9XJ8ey4MI8NZ6ZpbnO9XJ+pR7oyw/lH1pyamF1HM/XyBi9tZ4pjF5Z6jsT23Bx+852lfvyO44sHO089ou5BsT03B7sL1ixyH8oM5x+1H3rt1B3rv35l45npL9p/cSE7Lsxn61lLVnqNzR603jV7XFfX7LbPZ9MZc+a7DWKKY5cCH0M5vYQbzkzF7uLC7P1pZ1d2Vp80xcK1D1OOdGamcy9svCdje34udhet2XlhAZt9ZjL/+EAW/jWYLWctWX96KnOzj8cXM2V/YInHcLxv2wOQLktl3enJmjXZNMe2pmZdsXDty/ITo9l2zgq7iwvZlf2d2p6by4Yz01jsMUyz7MlUxy7MOWbCutOT2XVpEetOT2G6k3p9sQL9TmX3dM07PpBNvjPYfWlxnjV5UZtFrD5lyizXPkw7UrB9iIgUKEK6CoaQLhFdZbrzi9W1Zx81xvJoP3IecWLu/OLCpV7MsjeWR/sx06W35t9fHoPy8krdFi59sHTti6VrPyxc+zDDuSdTHDtj4doHS9d+WgOXpzt1U78+Z9vOPXJtd4ZzT/V7j2q/V72/Huq2ufbL3l9fZrr00lxwX26rejt9s9vQM9/PMM1J/VijnNfmfA5zp55qsXlpJf6c98x06YXl0b7Mcu2Tqz4v/7/6derPmjOL8EWduzHD+UcsXfti4dpXq40vxDb7M2hqob2NqUe65NF+9fZmufTG3LmH1orqL9rUl1kufbS+/wIdQ9nbUB8ffdVxzSv91N9L9jE31bELM5x/1HwWy+z2TXNSf2fq9vbJVSOz7AedB0b6alaSn398YL6D0XNEerpTj+zjsp+mTRaufZjpnPtYMc8+pma/cry/ST3MnXpg4dpb89nyzdF+zHDppfkepT4niBShCOkqGEK6RHSZ6c4vegTyeqjxy+I1NfvhwvldHF7uLZr6Ul7uiVHvo5v2e155Xe7tdsvzNTn7m/rq/l7ZR17bye9hxa9+Xu3t5n78y8tC9Lr65K5jtwJsp1ue9X21rq9uY7rWd9AlO/m/J2cm49vOonvxubq8Nq/K3ovP0uWl/asfEv1qLTW9ro5GOF3fSlxKVPZtYltmuvTK94HcuevWRasm0146FrT31VWrzW9ek24FqsnLvbFSnwtEiliEdBUMIV0iIiIi2pnu1J0pjj+w2H0oVx96o1DKefT8Lks9R2pulUrdRhGRQhUhXQVDSJeIiIiIdnJuLdqen4P/Q2/ux4fgG+aimSgheopERF6JkK6CIaRLRERERDsv35Kc4thZvWCto5EQLhGR/CKkq2AI6RIRERHRzqsTDl4e8yWkS0QkjwjpKhhCukRERETyzsvyJWRLROQ1EdJVMIR0iYiIiIiIiPyrCOkqGEK6RERERERERP5VhHQVDCFdIiIiIiIiIv8qQroKhpAuERERERERkX8VIV0FQ0u6HLoww7UQfHkiIiIiIiIihT8u6sxw7UkfIV3/THJaIj7X3elo/iXj93bE7GBnJh14zznYGbNX8t73KSJqL2Fy1VzUXbL6TxL1103EMS9JJDnXHOyM2cEu/LjwWyFd/0RyWiKnA4/TdkpV+q9oxk+rW773DLJpxeD1bRiy0ZAhGwwYssGAQWtb6WTfH3p+XddaXfPs2v+6vg0/r/lO8nYV5fy85jv18f5S3X9Z11rydn0I+Xn1d/xio8+QDYaa/LquNQPF+ea9ZuCa73Kda35Zpy/ONTqo+8vnmsHZddfV/o1m1WLH8VU8T4l7p55SpKQrLTOVoHtXmLVjGPN3j2fBngnvPeOX96fvZEO6jW1B93EtMRrRCLO1P+tk3x96fp7Via5jmtN9XEu6j29Jn8mGzN4+WvJ2FeVYbB1BHzMDdc3HtaTzqKYMsjSSvF0fQqxsxzBuWX86j2pK93Et6TK6GYPndGPm5uGSt60oZ+7Ocfxq1ZUuo9V17za2BcPm98Ri6wjJ21aUM89uHD3Gf0fXMc3pNq4FvSe1Ztj8Hiz8XTf7n71zJJ7+R0hOT3qnnlKkpEsK7A/aY9JrAK0af4dB8zbUq/k1Xp5eUjfrg2DKhCm0bNiSNs3aYNDCkAG9TIiJjpG6WUWa8PvhGPcwxqCFAQbN29Doq4bMmjZL6mZ9EERHxbB/z0EafdWQNs3a0Kx+M+ZbLCAkKFTqphVp4p88Z+6seTT9pgltmrWmVZNWrFyymvth4VI3rciiUqlITEyko0EHWjZsiX6TVvQ06sGaZWukbtq/RkjXv+TQn3/Sv18/Wn/3HW3btKH+119z0ktIly6YOnkyrVq0wLB1a9q2aYNJv37ExAjpep+E379Pv969adumDW3btKFJw4ZYzBLSpQsiIyPZbWdHk4YNadumDS2aNsXK0pLAwECpm1akefz4MZazZtG8SRMMW7emdatWLF2yhLCwMKmbVmRRqVQkJCRg1L49+i1a0KZVK3p268bK5culbtq/RkjXv0RIl3QI6dI9QrqkQ0iXNAjp0j1CugT5IqRLOoR06R4hXdIhpEsahHTpHiFdgnwR0iUdQrp0j5Au6RDSJQ1CunSPkC5Bvgjpkg4hXbpHSJd0COmSBiFdukdIlyBfhHRJh5Au3SOkSzqEdEmDkC7dI6RLkC9CuqRDSJfuEdIlHUK6pEFIl+4R0iXIFyFd0iGkS/cI6ZIOIV3SIKRL9wjpEuSLkC7pENKle4R0SYeQLmkQ0qV7hHQJ8kVIl3QI6dI9QrqkQ0iXNAjp0j1CugT5IqRLOoR06R4hXdIhpEsahHTpHiFdgnwR0iUdQrp0j5Au6RDSJQ1CunSPkC5Bvgjpkg4hXbpHSJd0COmSBiFdukdIlyBfhHRJh5Au3SOkSzqEdEmDkC7dI6RLkC9CuqRDSJfuEdIlHUK6pEFIl+4R0iXIFyFd0iGkS/cI6ZIOIV3SIKRL9wjpEuSLkC7pENKle4R0SYeQLmkQ0qV7hHQJ8kVIl3QI6dI9QrqkQ0iXNAjp0j1CugT5IqRLOoR06R4hXdIhpEsahHTpHiFdgnwR0iUdQrp0j5Au6RDSJQ1CunSPkC5Bvgjpkg4hXbpHSJd0COmSBiFdukdIlyBfhHRJh5Au3SOkSzqEdEmDkC7dI6RLkC9CuqRDSJfuEdIlHUK6pEFIl+4R0iXIFyFd0iGkS/cI6ZIOIV3SIKRL9wjpEuSLkC7pENKle4R0SYeQLmkQ0qV7hHQJ8kVIl3QI6dI9QrqkQ0iXNAjp0j1CugT5IqRLOoR06R4hXdIhpEsahHTpHiFdgnwR0iUdQrp0j5Au6RDSJQ1CunSPkC5Bvgjpkg4hXbpHSJd0COmSBiFdukdIlyBfhHRJh5Au3ZNbuhphMVNIly6IjIxkV7Z0GbYW0qUrHj+OwnLWLJo1zpau71qxdLGQrvdJjnR1at+eVtnS1UNIlwBypKsvrVu2wLC1PvW/qiukS0dMMZtCy2YtaaPfBsPWBvTvayyk6z0Tfv8+fXv1waC1AW3029Do20bMmiGkSxdERj7Gzm43jb5tSBv9NjRr0ozZllYEBgZJ3bQizeOoaCxmWdKkURPatGpNq5atWLJ4KWFh96RuWpFFBSQmJdGxfQe+a9ES/Vat6N6tGytWrJC6af+aIiVdKhUolCoysmRkyeTvPUqlkkOHDmFi3J/W+q1pa2BIg/oNOHnyFAqFCplcoZN2ZGbJUalUktZeqchCIUtDIc/QQTJRqVTMmDYFg1Yt+N5Anw5tWzPQpB+xMTHqtuikHeko5OmS1VylUqGQpWe34/1/XqVCRnj4fQb07UV7w9a0N2xNy6YNmWM5C5VKqaOaZ6CQpaNUyCSru7r2SuQ6O94zUCrlRD56yO6dtrRs0pD2Bvrot2jK3NmzCAy4qpv6y9JQKpWSnmt0e57JQKWSE/koAisLc1o1b8z3Bvq0bf0dy5YsJCzsLkqlTAftKAznmQwUWRkoZJnvPUpZFkpZFvFPY+nSsQNtvmtBW/1W9O7eldUrlmW3J+v9tyUrHaVC/s7rWaSkKy1DRuDdKKZudsNy+1/M3u7+XjNnhwfDF+6iy9jFfD90Du2HzaXNoFmMW76POTs8sHrP+5+93R0L27+YZetBWGQ8mbJ3f4AUBJVKyYOr+/A/NJSrjsPwd3j/uXpkJH9YN2DDlM/ZNK0Sm6ZVYrvll1w4OAh/x+Hvf/+Ow7hqP5Qb7nMlqTmAPCuVYLfpXHXQTd2vOg7n7L6fsLWooan5OrPy7FvcmKuOI3TzvTsOw//QUKJDjqKUZ0hSd6U8g6SYv/H/cyhXdfCZ1Z97BOf3/4zzOgPWmZVn07RKrJ9Sgf1LGnF6d2+d1D/AcQzPH11EnpkkSd0BHlzdr+PzzHDOH/iJfYsbsn5yBTZNq8SGqRX5c3kzfP8w4ep7PtcUivNMRhoBu6w4v2YUZ1eN4uyq0e83q9XxXjaM1X3rs7zX16zoXQ+b/g3ZM64D59aMVb/mPbfDd8lwwk87kpWa+E7rWaSkKzE1A48rd6g31IaOc47wwzxXfpjn8l7TzdqNH5d50HvFCU26Wh977/vNSXsLe5qO3siVm49Iy5Dmr3+lUknQsWmcWqZH8E49QnbpJmH79Qj/U4/wQ+r/3jugR+hu3ez77x16nF2jh/eG5pLUHECWnsBJm9qcX6dujy4+d+huPe4dfKnuh/S4u09H37mdHjfs9PBaoscdn5UoZGmS1F0hS+VJ2Alc5+px3VZ3x3vobj3u/PGi7uGH1L8DN/e8/30H2urhtqgM0SGHyUqLk6TuAEHHpuO1RI8gHR3vIbv0CN2Tfa459OJcc3efbs41wTv1OG+jh/dG6c4zWamJHJ/YmuODvsBnWFUujKzBeR3k4ugvuTaxHoFm9Qk0q8+1ifW4Mr7ue9/vhew49ixDwG5rMhKevNN6FinpSkrL5NTVuzQbs4mB2wIZYhfC4B3BRTZDdoYwYKMfbUx/49rtx6RnSiNdKpWKoOPTubJZj4yTeih89FCc0UNxumhGeUaP1BPqi533ZgmlKyOBUxtrc/sPPdJOqNsldW3ea87okXVKj4sb9LhzdhVKiW65KGRpPL1/EjdrPZLds4/1Ilx7pa8eCR56uC0rS/QtR2Tp8ZLUHeDv49Px26hHiqceyiJ+nlGcUZ9P7+zVw/s3KaUrib+mdeTShG94NLsJ8Qta8HR+0U3c/BbEL2iB56DKBP6xhIzEd/tHRpGUruZjNjLINoihu28xdFdo0c3uW/y02Z82ppsLh3T9pofstB6c1QPfIpyz6pPhrd+ll66TG2tzd5+6PUW97ipftVhe3Ci9dD3Jlq7UE9LX5b3nnB4JJ/RwWyq9dAUdn47fJj3SvIr+8c5ZPbK89bj7R+GQrssT6xNl1ZQE65Y8W1h083xhSxKsW+L5S2UChHS9ntzSdVN6MXqvuclPm68UHunarIfMuxCcrHSQ9JN63Cwk0nVnn7o9Rf0ipPJR9wAUhp4ujXR5Sl+X957CKF0fguz6qnt2C4t0+U2oz2OrpjwvBGKkC/HyHCSk6x8R0iWkS1cR0qX7COmSKEK6JIuQLiFdhRohXUK6dBUhXbqPkC6JIqRLsgjpEtJVqBHSJaRLVxHSpfsI6ZIoQroki5AuIV2FGiFdQrp0FSFduo+QLokipEuyCOkS0lWoEdIlpEtXEdKl+wjpkihCuiSLkC4hXYUaIV1CunQVIV26j5AuiSKkS7II6RLSVagR0iWkS1cR0qX7COmSKEK6JIuQLiFdhRohXUK6dBUhXbqPkC6JIqRLsgjpEtJVqBHSJaRLVxHSpfsI6ZIoQroki5AuIV2FGiFdQrp0FSFduo+QLokipEuyCOkS0lWoEdIlpEtXEdKl+wjpkihCuiSLkC4hXYUaIV1CunQVIV26j5AuiSKkS7II6RLSVagR0iWkS1cR0qX7COmSKEK6JIuQLiFdhRohXUK6dBUhXbqPkC6JIqRLsgjpEtJVqHkhXZv4dUcww36/w7A9t4tshu+5w8+/XSs00uX/mx6KM3pwXn2iLrI5r0emtx639xYO6Qrbr0eGd9Gvu+qcHkpfPS5tLETS5SV9Xd57LuiRcLLwSNflzXpknCr6xzvn9ZCf0SNsX+GQrisT6xM9pylJi1qSaF20k7yoJSd+EdL1jySlZnLC/y4NR2yg1+oz9Ft3gX4254tu1p2n57KTfDduE/63IkmTTLqUBLlN49xaPaKO6BHlqkeUSxGOqx6PHPW4tlUP700SSld6AifX1+b6dnV7PoS6Rznr4bNajzu+q1DI0iSpu0KWxpN7Xhybr0e4/QdQ96N6hNnr4ba4LNGh9mSlv9uL0JsQ5DYd3zV6PHL4AOruqsfjI3pct5X2PJOVmshfk9tyZmQtgs2+5u60+tyZ9k2Rzd1p9QmbXp9jxhUI+H0RGQlP32k9i5x0nbp2D/0JW+k0dTs/TC/66Th1Ox2n2XHtTpRkPV1KpZJQz/l4LK+Kx+oPI55rquKxsirndnSRpOYAsoxEzm7T58TqqngWgprorO7Lq3L/wmZJpSsu/Awey6pIXg+dZVVVTq79ipjbLmRJ2NMV6rkA92WFoB66zMqqnN8p4XkmLYmTFl05MuRrHH79Cvtfvy76Gfw1h01qEnxgtZCu1yFXKIlPTOPijQdcufkI/1uRRT5Xbj7CL/QhSakZKJRKSequUqlIeRrC03vuxIWf/HByz5NnD30lqTmAUiEj/sEZ4u6fkL4WOszTe+6kPb+HSiXR8a5UkJUex9Ow48SFe0leD53kvhdx9z3JTIlBqciSpO4AKU9v8DTsAzvP3Jf6PCMn7tYVYoJ8iQk6S+wHkuiA0yRH3Uchf7edGUVKulQqFQqFkvRMGRmZMjKyin7SM9VRKJWoVCrJaq+UZyLPSkEhS/1wkpUiWW8LZB/vUtdAgsizUlAqsiQ73lUqFSql/IM73uVZKSiVcnGe0XUKw3kmMx15ZtqHlaDlGDAAACAASURBVIw0lPJ3f54pUtIlEAgEAoFAUFgR0iUQCAQCgUCgA4R0CQQCgUAgEOgAIV0CgUAgEAgEOkBIl0AgEAgEAoEOENIlEAgEAoFAoAOEdAkEAoFAIBDoACFdAoFAIBAIBDpASJdAIBAIBAKBDhDSJRAIBAKBQKADhHQJBAKBQCAQ6AAhXQKBQCAQCAQ6QEiXQCAQCAQCgQ4Q0iUQCAQCgUCgA4R0CQQCgUAgEOgAIV0CgUAgEAgEOkBIl0AgEAgEAoEOENIlEAgEAoFAoAOEdAkEAoFAIBDoACFdAoFAIBAIBDpASJdAIBAIBAKBDhDSJRAIBAKBQKADhHQJBAKBQCAQ6AAhXQKBQCAQCAQ6QEiXQCAQCAQCgQ4Q0iUQCAQCgUCgA4R0CQQCgUAgEOgAIV0CgUAgEAgEOkBIl0AgEAgEAoEOENIlEAgEAoFAoAOKvHQlJSURGhqKl5cXXl5euLu7ExQURGJiotRNKxBPnz7l2rVreHh44OXlxcmTJwkPDycjI0PqpklOamoq169f5+zZs9y/f1/q5vxnePbsGf7+/ly6dInY2NgCvScxMZHg4GBOnTpFXFwcCoXiPbdSIPj3pKamcvPmTU6dOsX9+/eRyWRSN6lIkJqaysWLFzl58iQnTpzA29ub0NDQ/0x9FQoF8fHx+Pr64uXlhaenJxcuXODhw4fvfd9FXroCAgJYuXIl/fv3p3///vTt25fVq1dz8+bNfN+jUqmQyWSkpqaSmppKeno6crkclUqV67VyuZz09HTS0tJQqVR5via/fcjlctLS0jT7yOuAvXz5MosWLaJv376YmJhgYmLC9u3biYiIKHANiioRERGsXLmSMWPGsHv3bqmb85/h4sWLzJ49m+nTp+Pp6an5d5VKRXR0NH///Te3bt3SOp6vX7/OihUrGD58OCdPniQtLU2q5gsEBSY8PJzt27fzyy+/sGXLlv/MH9uFnQcPHjB06FBMTEwwNjZm4MCBbN68Oc/6KhQKMjMzNdfTzMxMlEplntvNysrSXBPzS0pKitb7X71e5yQtLS3fa3d6ejpXr15l9OjR9O/fH2NjY0aOHMnWrVvfbaHyoMhLl6OjIz/88APFixfnm2++QV9fH0tLS65fv57rtUqlktjYWIKCgjhz5gwuLi64uLhw7NgxfHx8CAoK4vHjx1rvCQsLw9PTE09PT54/f16gHoCc3jdfX1+OHj2Ki4sLR48e5dSpU1y/fl2rJ+H06dNMnjyZVq1aUbduXT799FMGDBjAhQsX3k2B/sNcu3YNY2Njqlatyrhx46Ruzn+GP/74g1atWtGoUSPWrVun+ff09HSOHDnCjBkzWLFiBYmJiZqTm4uLC927d6dq1aqsXbuWhIQEqZpfZMnMzCQ6OpqHDx8KOXhH+Pv7M378eMqWLYuxsTExMTFSN6lIcP36dfT09Pj0009p2LAh7du3Z+HChcTHx2teI5PJePToEX5+fhw/fhxnZ2ecnJzw8PDAz8+PiIgIsrKyNK/PysoiMDAQFxcXnJ2dNdffl+Ps7IyrqytxcXHI5XJAfT0NDg7Gyckp1/uOHTvGmTNnuHnzJikpKZp9paWlcfbsWXr27Im+vj5ffPEFpUuXpnv37u+9dh+MdNWoUYOdO3cSGhrKkydPtG7PqVQqFAoFz58/Z/fu3XTv3p0vvviCYsWKUbx4cYoVK0bVqlXp2rUr69atIz09XXMxWrNmDTVr1uTrr7/G19eX9PT017YnMzMTHx8ffv31V6pVq0aZMmUoXbo0JUqUoGLFinTq1Al7e3vNAZKamkpMTAxBQUGsWrWKihUr0rt3b3x8fN5bzf4rBAYG0r9/f6pXr87EiROlbs5/hn379qGvr0/jxo3ZsGGD5t8fP37M6NGj+fTTT2nQoAEBAQFkZmYC4OrqqpEuGxsbIV3vgcePH7N9+3aWLFkifr/fEdeuXWPChAmUK1eOAQMGFPh2uuD1XL9+nY8++ogKFSpgb29PZGQksbGxKJVKVCoVSqWSR48esWLFCpo2bUrx4sUpXbo0pUqVoly5cjRq1Ij58+cTHR2t2WZMTAyjRo1CT0+Pjz/+mFKlSlG6dGmtlCpVii+++AJvb2+Sk5MBCAoKwszMTCOBJUuW1Ly2VKlSVK5cmSFDhnDx4kXN+UypVJKenk5ERAQhISEMHTqU4sWL06FDh/deuw9GuurWrYunp6ema/Ll7kaFQkFoaCjGxsaUK1eOUqVKUb16dUxMTDA1NaVfv358++23fPbZZ9SsWZMFCxbw7NkzAGxsbKhduzZfffUV3t7e/yhd+/bto23btpQpU4Z69eqxdOlSbG1tmTVrFoaGhpQvX56ePXtqDsacA/jZs2fs37+fypUr06dPH3x9fd9f0f4jvCxdkyZNkro5/xn279+Pvr4+TZo0YePGjZp/z8zMZMuWLRgZGTFo0CCtni5XV1d69OhB1apVWbdunZCu98CZM2fo1asX9erVw9LSUurmFAmEdL0fcqSrUqVKuLu7o1QqtYQrPj6en376iZIlS1K7dm2GDh2KnZ0dGzdupH///lSrVo0OHTrg6uqq2WZUVBQjR46kePHiNGzYkI0bN7J9+3a2b9+Ora0ttra2bNu2DVtbW+Lj4zXnpoCAAMaNG8enn35Khw4dWL58OXv27GH9+vWMHz+eL774gpIlS1K3bl0OHDgAoBk6oVAokMlkTJkyhRIlStCpU6f3XrsPSro8PDxyjUVRqVQkJyczevRoqlatyldffcXkyZM5c+YMISEh3L17l5CQEC5cuICdnR0TJ05k+fLlPH/+HIB169ZppOv06dOvla6oqCjMzMyoXLkyhoaGXLx4kYcPHxITE0N4eDiXLl3iyJEjODg4aHWFAiQkJPDHH39QuXJl+vbtK6QLIV1vS37SpVQqiYqKIigoiNDQUK2xEEK63j85tzvq1KnD7NmzpW5OkUBI1/shR7oqVqyIh4eH1s8yMjKws7OjcePGtGjRghUrVnDr1i1iY2OJiooiJCSEo0eP4urqyp07dzTvy5GuMmXK0LVrVx4/fkxMTEyeefncFBgYyPjx4ylRogTjx4/nwoULPHnyhKioKO7cucPx48epU6cOJUuWZNy4cVy9elWrvVlZWUK63iUvS9dff/2VS7oSEhI4ePAgX331FVWqVMHc3JyAgIBcg9oVCgUxMTFcuXKFq1evarop30S6ciThf//7H0OHDs3V4yaTyUhKSiI2NjbX2LCEhAT27t0rpOslhHS9HflJF0BsbCwhISFaJ0N4vXTJZDLNLNs7d+7k+oNBoVDw4MEDbty4QVBQELdv3+bp06fv7wP+h1CpVGRkZHD37l327t1Lu3btqF69OqNHj+bvv/8mICCA27dv5znGKz09nUePHnHjxg0CAwMJDg4mNjZWa5zMh0LOMRgSEkJAQADh4eGkpaURGBjIpEmT8pSu5ORkwsLCuHnzJllZWcjlciIjIzUTSTIyMjTn54yMDGJjY7l58yYBAQEEBgZy7949zS0ueDE5Kjw8nNDQUK1bZznk3LUICQnh3r17eU6eUigU3L17l+DgYJ48eZLvoHMpeVm63N3dtX6WkpLC6NGjqVKlCoMHD+b8+fO53p+cnMyzZ8+0rsc50lW2bFl69epFRkZGgT77y9I1depUrUlyKpWKpKQkZsyYwZdffom+vj52dnZa78/MzGTy5MlCut4V/yRd9+7d44cffqBkyZL07NmT06dPv9H230S6Ll26RO/evalcuTLDhw/PJV2vQ0hXboR0vR2v6+lydHTE1NQUa2trrePzddIVHBzMokWLGDVqFNu2bePBgweA+mT24MED9u/fj4WFBWPHjmXUqFFMmjSJJUuW4O7u/sHPgszKyuL27dtYWlry448/Ur16dcqWLUuTJk0YM2YMI0aMwMrKiitXrmjeI5fLCQwMxM7OTlPXESNGMGbMGObOncsff/zBvXv3JPxUuuXZs2f89ddfLFq0iHHjxjF8+HCmTZvG7t27cXBwwNTUNE/pun79OvPnz2fmzJk8fPgQFxcXZs+ezejRo5k9ezahoaFkZWXh5+eHra0t8+bNY8KECYwYMYIRI0YwZcoUNm3axKVLl1AoFKhUKtLS0tiyZQsTJkxgz549uZb2SUpKwt3dnXHjxjFr1ixiYmK0xEKhUBAdHc3s2bMxMzPj9OnT/znpSk5Opn///nz++ef5SldevCxdPXv2JDk5+Y2la/LkyYSGhmr9PCsrCxcXF1q1akWNGjWwtrbWuu4K6XrHvE66FAoF165do3Tp0nzyySesWLGCyMjIN9r+m0hXaGgov/zyC2XLluX777/H39+fhIQEzSyM1yGkKzdCut6O/KRLLpczc+ZMihcvTvPmzTUXEshbupRKJQ8fPmTp0qWULVuWr7/+mhUrVnD//n0UCgV37txh7dq11K9fnzp16tC0aVNatmxJvXr1qFatGp07d8bHx4ekpCSpSiE56enpXL58mV69emnGjRYvXpwqVaqgr69Pq1atMDY25sSJE4D6AhEcHMz06dNp0KABX375JU2bNqVVq1Y0btyYzz77jEaNGrF27VrCw8Ml/nTvlxzJOXbsGD169KBSpUp8/fXXtG7dmgYNGqCvr8+QIUPo2bNnntLl6upKvXr1qFy5Mtu3b8fIyIiaNWvy1VdfYWhoiKenJ3FxcZibm1OvXj1q165Ns2bN0NfXp0WLFlStWpWaNWtiamrK7du3Ne0ZPXo05cqVw8TEJNe6T2FhYVhZWaGnp8dnn33GxYsXta4ZaWlp+Pj4UK1aNerWrcvBgwcL/Ie5LnmddKWmpjJz5ky+/PJLWrRowcqVK4mIiPjHToaXpevHH38kLS3tnUmXm5sb+vr61KxZU/MHZQ5Cut4xr5OutLQ0vLy80NPTo1SpUhw6dOiNFx19E+nKyMhg7ty5VKhQgRIlStCiRQvc3d2Jjo5+7dolIKQrL4R0vR35SZdMJsPKyooyZcoUSLqSk5NZunQpderUoWbNmixevFgz1vH58+esX7+ejz76iM8//5w5c+bg5eWFv78/dnZ2dOnSRXOSO3/+fKH8a14XqFQqsrKyePDgAXv37qVt27aa24uhoaFcv36dsLAwzV/9ERERjBgxgnLlylGnTh1mzpzJiRMn+Pvvvzl27BidO3emQoUKVK1alTlz5vxnFqt8G+RyOcHBwXTq1IlPP/2UNm3asHXrVu7cucPhw4cxMjKidOnSfPTRR3lKl5ubG40aNaJEiRKUKFGCatWqMWHCBDZv3szatWu5du0awcHB9OnTB0NDQxYsWMDp06e5ceMGFy5cYMqUKdSqVYtatWoxY8YMzeDsLVu20KhRI9q3b8/x48e12uzr68uQIUPQ09OjTJky2NnZad2GjIuLY+PGjVSqVAkTE5MC9xLpmtdJl0wm4+LFixgZGfHJJ59Qr1495s2bx5MnT0hNTc13zcsc6SpXrhy9evUiPT2djIwMreRcJ19+/+ukK+f2/a5du2jSpAmNGzdm06ZNWvsV0vWOeZ10xcTEsGvXLq2D503/qngT6VKpVDx48ABra2s++ugjPvnkE8qWLUv79u3ZsWPHa1fDFdKVGyFdb8frpGvOnDmULVuW5s2b53l7sVq1amzcuJHExEQWLVpE7dq1adq0KTY2NlpLqRw+fJiOHTtSrVo1Nm3axJMnT5DJZMjlcjIzM7l+/TrfffcdpUuXZt26dR/s+kkvz6Ly9fXVGkivUCiQy+Ua+X3+/DlOTk6UKFGCcuXKceDAAZKSkjR1zcrKIjExkVGjRlG+fHm6devGuXPnpP6I743U1FSmTp1KjRo16NmzJ05OTmRkZKBQKMjKyuLJkyfMnDmTChUq5Cldx48fp3HjxpolCg4cOEBKSormAi+Xy5HJZERHR/P06VPNAtY538vTp08ZO3YsZcqUoWfPnprvKee8VKNGDczMzLTabGdnR/PmzdHT06N48eIMGjSIwMBAzc8jIiLo378/pUuXZvny5W9850VXvE66csa27d69m++++46PP/6Y0qVLU7duXWbMmMGVK1fyvE5GRUUxatQoSpQoQf369VmxYgXr1q1j3bp12NjYsGbNGmxtbXn48KHW3aGXpWvatGm5xnQlJibSvn17SpcuzahRo3INpBfS9Y55nXRFRESwdu1azdTXV2dhFIQ3kS5Qd3XeuXOHXbt20bt3b0qXLk3ZsmWpV68exsbGbNu2DZlMlkv+hHTlRkjX2/FvpKt69eqsW7eOTZs2YWBgQIsWLViyZInWosGZmZlYW1tTs2ZN2rZtS1RUVK5b6DExMcyfP58KFSpgZmbGjRs3dPPhCzG+vr706NEj39mLISEhzJw5k2LFimFiYoK/v3+ulblVKhWHDh3CwMCAb775hsWLF+vyI+iUxMREvvvuO4oXL461tbXWwpygHj7i4eFB//7985WuRo0aUbJkSczNzbl586bWeTennnK5PM+eWIVCwaxZsyhbtizt2rXTLGqdmprKxIkTKVWqFF26dNHqMZ47dy61a9emefPm/O9//6N27dp4eXlpthkcHEzFihX5+OOP+fPPPzUTtgobr5OuHGJjY3F1dcXU1JQ6derw6aefUr16dVq2bImFhUWuBb6joqI06wTmLDVRt25dTerUqcP333/PiRMntK7jOdJVvHhxhgwZwqlTpwgPD+f69es4ODjw008/UaFCBapXr87WrVtzTfQR0vWO+SfpsrGx0al0wYuZNqdOnWLLli2MGDGCOnXq8Nlnn6Gvr8+SJUs0t2lyENKVGyFdb8e/ka7y5cvTv39/9PX1qVevHlZWVoSEhGhtPyEhgUmTJmluUzo4OODg4IC9vT329vY4ODjw+++/M2rUKMqWLcuQIUO0Bop/qPj4+GikK691us6ePcuPP/5IqVKlWLJkSb7PGw0ICMDY2FgzS7ookjNLsFatWhQvXpwtW7bk+bpr167lO5Dezc2Nhg0bUqZMGfbv38+TJ0/y3V9KSgr379/n3LlzODk54eDgwOHDh+nduzelSpWiTZs2Wn9crFmzhlq1atGkSRPu3r2LTCYjMTERU1NTmjVrxowZMzAyMqJcuXLs3r2bpKQk0tPT8fb25pNPPqFFixaF+hxfEOkC9TADf39/fv/9dywtLdHX19fcGjc1NdX6jDk9XSVLlqRRo0bY2NiwYcMGNm7cqMmePXs09cwhR7o+/vhj6tWrR9++fRk2bBg//fQTHTt25IsvvqB169YsW7aMW7du5WqjkK53zOuk68mTJ+zdu5ePPvqI8uXL4+bm9sZjS95GunLIWUguICCAFStW0K5dOz7++GOqVauGr6+vlpEL6cqNkK63499IV9myZenUqRMVK1akWrVqrF69OtetwadPnzJmzBg++eQTKlasSNu2bWnbti2GhoYYGhrSrl07DAwMNH/9DhkyhMuXL+u0BoWRf5KuEydOYGBgQOnSpdm6dWuuR5Ll8OjRI4YPH85nn32GsbHx+262JGRkZHD16lVq1KhB2bJl2b59e56vCwgIyHedrhzpKlu2LEeOHMnVU5ZDcHAwO3bsYOrUqQwYMID27dvTtm1bDAwMqFKlCsWLF8fQ0JDHjx9rpMvZ2ZmuXbtSq1YtDh06REpKiuZ81aNHD44fP868efOoUKECVlZWhIWF8fDhQzZt2kTJkiWxsLDg9u3b775w74iCSlcOcrmcqKgoDh48yE8//cQXX3xBtWrVMDU1JSsrC5VKleeYrjcZSP/xxx9Tp04dunTpQt++fenXrx+//PIL06dPZ//+/fn+vgjpese8yUD6ffv2kZqa+kbb/zfS9TLx8fFs27aNqlWrUqpUKdauXauZeg9CuvJCSNfb8W+kq3Llypibm2NiYkKVKlXo3r07Tk5OWn95xsXFMXbsWD799FMqV65Mp06dXpuVK1cW6guMrvgn6fLy8sLQ0JDSpUvz22+/5TveJzo6mpEjR1K+fHlMTEzed7MlISMjAz8/P6pXr06ZMmWwtbXN83WvWxz1ZelycHAgLi5O6705iwVbW1tTv359qlSpQps2bbSO3S+//JKSJUvmkq4c2atUqRLm5ubExcWxf/9+2rZty7Bhw4iIiMDFxYUqVaowYMAAzp8/z+XLlxk8eDAVKlTIsz2FiTeVrpfx9PSkR48eFC9enGbNmpGQkIBCocg1ezE1NfWNpKtYsWL89NNP2Nvbc/HiRS5dukRISMg/PhNZSNc75p/W6QoKCqJYsWLo6elhaWnJ3bt3X7u9nPv8ORejNx1I/7qB+teuXdMMJJwwYYLWbRshXbkR0vV2/BvpqlGjBra2toSFhdG3b18++eQTBgwYwMOHDzXH97Nnzxg/fjwVKlRgwIABb7Qe3YfMP0mXt7c3nTp10kw+yG/izfXr1zExMaFSpUoMHjz4fTdbErKysggODqZmzZp8/PHHbNq0Kc9jLCAggIkTJ76VdGVkZGBra0ujRo34/PPPGTt2rNYtXZVKxezZsylXrhytW7fWkq7ExEQ2btxIyZIlad68OQ8fPsTCwoKmTZtiZWWlWYi1Tp06NGjQAHt7e1xdXWnQoAH16tXj5s2bhXrm6T8NpH/dtU6lUrFs2TK++OILGjdurFlh/l2s0zV9+vQ8byG+DiFd75h/kq6IiAiMjY0pXbo0LVq0wMXF5bXb+zfSpVAoXnsQXbp0iYEDB+Y59VVIV26EdL0d/3b24vr163n+/Lnmwdk5F/ec2wHp6elYWFjw+eefY2hoqBlgLHg9Pj4+dO/enbp162JlZZXr5/7+/gwfPpwSJUowbty4fCcf/Pnnn7Rp04aGDRuydu3a991sSciR+6+//pqPPvqINWvW5Lncj7e3NwMHDnwr6UpNTcXMzIzq1aszcuRILl++rHUcK5VKZs2aRZkyZXJJl0qlwtHRkerVq1OhQgX8/Pz4+eefMTAwYMuWLZpZdT/88AOfffYZK1euxNbWlooVK9K7d2+io6ML9R8q/yRdr/tDSy6XY21tTcWKFd+5dOW1Ttc/IaTrHfNP0pWcnIybmxtVqlShdOnSDBgwABcXl1y3GXMWJdyyZQvz58/XPPA6R7rq1auHn5/fa9f5WrRoEaamphw5ciRP+VuxYgWVK1embNmyODs7a/YBQrry4tq1axgbG1O1alXGjx8vdXP+M/wb6Xp5na4nT56wdOlSzSKdOb8XSqWSXbt20apVK6pXr86qVavyfFZjziNRCjp2o6jj5+dHnz598v0j4vHjx9ja2vLRRx9RtWpVdu3apTUOSaFQcO/ePX799VfKlStHnz59tKbPFzVSUlIYPHgw//vf//jxxx85duyY1s+vXLnCqFGjqFy58ltL14QJE6hWrRq//PILZ8+e1fr5+fPn6d27NyVKlMDAwEBLunL2P2zYMEqWLMmMGTNo3LgxgwcP1mwnPT2dpUuX8vXXX2NiYsKQIUOoUaMGW7duzfOxT4WJ/KQrPT0df39/Bg0axKZNm/Kc7OHk5ESnTp0oX7483bt3JzMzM9eYrj59+uS7nterCOkqZPyTdCkUCmJjY1m4cKHm+YtGRkZMmzaNdevWsXPnTmxsbLCwsGDgwIF8//33jBgxQjPTxcbGhtq1a1O5cmWsrKywtbVl586d7Ny5kx07drBjxw727t1LcnIys2bNonHjxnTs2JFp06axZs0a7OzssLGxwdTUlJYtW/LZZ58xcODAXM/lEtKVm5CQEIYMGULDhg2ZP3++1M35z5DTQ9W4cWM2bNig+fd/Why1e/fuVK1aFRsbG41E3bhxg+nTp1OsWDEaNmyIk5MTcXFx3Lx5EysrKz7//HOaNm2Kubk5e/fuxd3dHTc3N37//Xfmzp3LxIkTOX36dK5p3B8iDx48YPTo0VSoUIE2bdpw+PBh7O3t2bVrF0FBQWRkZHDt2jV69uxJqVKlaN++PdbW1hw+fBh3d3e2b9/O6NGjqVGjBi1btmTLli1vvNjzf4mclcYNDQ2pVq0a/fr1w9bWllOnTvHbb78xePBgOnbsyLfffsvnn3+OsbGx1qQPNzc3GjRokK90ZWZmsmfPHpo0aUK9evUwNTXF0dERDw8Pli9fjomJCTVq1MhXuiIjI9m6dSsff/wx33zzDeXKlWPBggWaa4dMJsPb2xsDAwNq1qxJ7dq1adCgQa7ZeYWR/KQrZ4JDw4YNadWqFSNHjmTx4sVs3bqVbdu2sXDhQrp06UKlSpUwMDDgwIEDmjtHOdJVqlQpWrdujZubGx4eHlpxd3fH3d2d2NhYTY1eli4zMzMhXVLzT9IFLx7Iu3r1ajp37kzt2rUpX748NWvWpGHDhtSsWZOqVavSqFEjBg4ciKOjo+YisX79eurUqUOxYsWoVasWDRs2pFGjRjRs2JCGDRvSoEED2rRpw7179/Dy8mLSpEk0a9aMSpUqUb16dRo1akTNmjWpXLkyjRs3ZsyYMfj4+OS6TSmkKzdPnz7l0KFDbNiwAR8fH6mb85/hwIEDtG7dOs/HAFlYWFCiRIlc0nXs2DF+/PFHrcVRc8hZX6pYsWJ0796dc+fOkZmZyeXLl5kwYQLNmzenYsWKtGjRgm7dutG5c2datmxJzZo1adeuHceOHXvjCSxFkfT0dHbv3k27du0oX748BgYGtG3blv79++Pp6Qmoe+Y9PDwYPHgw33zzjeaRNd26daNx48bUqlULIyMjtm7dWuSfv6hSqUhJSeG3336jbdu2VKtWjfr169OnTx8aN26MkZERixYtwszMjM8//xwTExMt6Tp27BjffvstZcuWxcnJKc91viIiIrC0tOTbb7+lVq1atGvXjp49e1KvXj2MjIxo3bo1VapU4bvvvsu1Hl16ejq+vr6UK1eOjz76iJIlS2puLYK6pzc2Npb+/ftTrFgxihcvTseOHXVTvH9JftKV04mxaNEijIyMqFatGpUrV+abb77hm2++4bPPPqNuf2e8vgAABEdJREFU3br06tULW1tbrR7w6OhoRo0apZn13KVLF3r06EGPHj3o3r073bt3p1u3bvTq1YuzZ89qHh/2usVRC4KQrndMQaQrh4SEBI4dO4alpSUD/t/evYTC2gdwHD8LFkqSXFJWdnYW9sMkxq1xSQwxM+6zQsrCQsrCJWFDMxusXKKmRJLLSrHRIBZsRrKyIFJu8XtXpjOdw3ve8zrPDOf7Wc48zfPMNM18e57///+UlgbNUrHZbOrr6/shdubn51VVVfXu7Kz8/HwdHx/r4eFBe3t7Gh0dlc1mC9qmvLxcg4OD2tvbe/PYiC58hI2NDblcLjmdTi0sLAQef3l50djYmMxms+rr64MuL+7s7Kirq0tlZWXyer1BkXR1daXV1dXAd3llZUV3d3d6fHzU6empRkZGVFRUpMzMzMA22dnZqq2t1cTEhM7OzsJ6/IqR/H6/3G63LBZL4LPq7u4OGr/19PSk7e1t9fT0yGq1BrYzm81yuVzyer1Bl9G+utffxsrKSplMJmVmZspqtWpyclKnp6daXFxUfn5+0G2qJGlra0vV1dXKy8vT1taWbm5ufvr6Pp9Pvb29Ki4ulslkUlZWlmw2m6anp+XxeOR0OuVwOH46S87v96uiokJms1lFRUVaWloKPPc69mlgYEAWi0UFBQWf5oz9e2O6np+fdXFxoZmZGTU3Nys3Nzfov66jo0Pr6+s/rEV5eXmp/v7+f53tbLFYtL6+Hgi2k5MTDQ0NKScnR263W2dnZ//pvRBdH+z76FpeXn43usLZ1dWVpqamlJCQoMLCQqILABAS/2fJiHDz8PBAdH2k1+hKTU3V5ubmb6+jFWrX19eam5tTYmIi0QUACJnX6IqPj/+tO7mEk5eXF7W2thJdH2V2dlYmk0kxMTEqKSlRS0uLJicn5ff7Q31ov+Tw8FBut1tNTU3Kzc1VVFSUCgoKGMMEAAgJn8+nb9++KTIyUqWlperq6tLs7Oybl2jDzf39vY6OjtTT06O2tjalp6cbNqbuy0fXysqKrFZrYHXs5ORkuVwu7e7uhvrQfsna2ppqamqUnJysuLg4RUREqLGxUT6fL9SHBgD4Cx0cHCg2NlYRERFKTExUWlqaOjs737yVUri5vb3VxsaGMjIylJKSoujoaCUlJam+vv6P7/vLR9fx8bE8Ho8cDoecTqfsdrvGx8c/zcwen8+n4eFh2e12OZ1O1dXVaX5+/q8aKAsACB/n5+dqb29XQ0ODHA6HWlpaNDEx8WnOdN3d3Wl/f1+tra1yOByy2+3q7OyU1+v94/v+8tEFAAAQDoguAAAAAxBdAAAABiC6AAAADEB0AQAAGIDoAgAAMADRBQAAYACiCwAAwABEFwAAgAGILgAAAAMQXQAAAAYgugAAAAxAdAEAABiA6AIAADAA0QUAAGAAogsAAMAARBcAAIABiC4AAAADEF0AAAAGILoAAAAM8A9W3CVmJzAIUwAAAABJRU5ErkJggg==)"
      ]
    },
    {
      "cell_type": "markdown",
      "metadata": {
        "id": "OHcM-0RterS4"
      },
      "source": [
        "## **1. Cek resource**"
      ]
    },
    {
      "cell_type": "code",
      "metadata": {
        "id": "G2ir5JFA-htd",
        "colab": {
          "base_uri": "https://localhost:8080/"
        },
        "outputId": "1038496d-0b9f-4256-cd23-8b74c8a4aee4"
      },
      "source": [
        "import torch\n",
        "\n",
        "if torch.cuda.is_available():\n",
        "  device = torch.device('cuda')\n",
        "\n",
        "  print('there are %d GPU(s) available.' % torch.cuda.device_count())\n",
        "\n",
        "  print('we will use the GPU: ', torch.cuda.get_device_name(0))\n",
        "\n",
        "else:\n",
        "  print(\"No GPU available, using the CPU instead\")\n",
        "  device = torch.device(\"cpu\")"
      ],
      "execution_count": null,
      "outputs": [
        {
          "output_type": "stream",
          "name": "stdout",
          "text": [
            "there are 1 GPU(s) available.\n",
            "we will use the GPU:  Tesla T4\n"
          ]
        }
      ]
    },
    {
      "cell_type": "code",
      "metadata": {
        "id": "xXqKnVVn_P-H",
        "colab": {
          "base_uri": "https://localhost:8080/"
        },
        "outputId": "5d11d41f-2d52-4025-f646-4126976a61b5"
      },
      "source": [
        "!pip install transformers"
      ],
      "execution_count": null,
      "outputs": [
        {
          "output_type": "stream",
          "name": "stdout",
          "text": [
            "Looking in indexes: https://pypi.org/simple, https://us-python.pkg.dev/colab-wheels/public/simple/\n",
            "Collecting transformers\n",
            "  Downloading transformers-4.29.2-py3-none-any.whl (7.1 MB)\n",
            "\u001b[2K     \u001b[90m━━━━━━━━━━━━━━━━━━━━━━━━━━━━━━━━━━━━━━━━\u001b[0m \u001b[32m7.1/7.1 MB\u001b[0m \u001b[31m98.5 MB/s\u001b[0m eta \u001b[36m0:00:00\u001b[0m\n",
            "\u001b[?25hRequirement already satisfied: filelock in /usr/local/lib/python3.10/dist-packages (from transformers) (3.12.0)\n",
            "Collecting huggingface-hub<1.0,>=0.14.1 (from transformers)\n",
            "  Downloading huggingface_hub-0.14.1-py3-none-any.whl (224 kB)\n",
            "\u001b[2K     \u001b[90m━━━━━━━━━━━━━━━━━━━━━━━━━━━━━━━━━━━━━━\u001b[0m \u001b[32m224.5/224.5 kB\u001b[0m \u001b[31m29.6 MB/s\u001b[0m eta \u001b[36m0:00:00\u001b[0m\n",
            "\u001b[?25hRequirement already satisfied: numpy>=1.17 in /usr/local/lib/python3.10/dist-packages (from transformers) (1.22.4)\n",
            "Requirement already satisfied: packaging>=20.0 in /usr/local/lib/python3.10/dist-packages (from transformers) (23.1)\n",
            "Requirement already satisfied: pyyaml>=5.1 in /usr/local/lib/python3.10/dist-packages (from transformers) (6.0)\n",
            "Requirement already satisfied: regex!=2019.12.17 in /usr/local/lib/python3.10/dist-packages (from transformers) (2022.10.31)\n",
            "Requirement already satisfied: requests in /usr/local/lib/python3.10/dist-packages (from transformers) (2.27.1)\n",
            "Collecting tokenizers!=0.11.3,<0.14,>=0.11.1 (from transformers)\n",
            "  Downloading tokenizers-0.13.3-cp310-cp310-manylinux_2_17_x86_64.manylinux2014_x86_64.whl (7.8 MB)\n",
            "\u001b[2K     \u001b[90m━━━━━━━━━━━━━━━━━━━━━━━━━━━━━━━━━━━━━━━━\u001b[0m \u001b[32m7.8/7.8 MB\u001b[0m \u001b[31m96.8 MB/s\u001b[0m eta \u001b[36m0:00:00\u001b[0m\n",
            "\u001b[?25hRequirement already satisfied: tqdm>=4.27 in /usr/local/lib/python3.10/dist-packages (from transformers) (4.65.0)\n",
            "Requirement already satisfied: fsspec in /usr/local/lib/python3.10/dist-packages (from huggingface-hub<1.0,>=0.14.1->transformers) (2023.4.0)\n",
            "Requirement already satisfied: typing-extensions>=3.7.4.3 in /usr/local/lib/python3.10/dist-packages (from huggingface-hub<1.0,>=0.14.1->transformers) (4.5.0)\n",
            "Requirement already satisfied: urllib3<1.27,>=1.21.1 in /usr/local/lib/python3.10/dist-packages (from requests->transformers) (1.26.15)\n",
            "Requirement already satisfied: certifi>=2017.4.17 in /usr/local/lib/python3.10/dist-packages (from requests->transformers) (2022.12.7)\n",
            "Requirement already satisfied: charset-normalizer~=2.0.0 in /usr/local/lib/python3.10/dist-packages (from requests->transformers) (2.0.12)\n",
            "Requirement already satisfied: idna<4,>=2.5 in /usr/local/lib/python3.10/dist-packages (from requests->transformers) (3.4)\n",
            "Installing collected packages: tokenizers, huggingface-hub, transformers\n",
            "Successfully installed huggingface-hub-0.14.1 tokenizers-0.13.3 transformers-4.29.2\n"
          ]
        }
      ]
    },
    {
      "cell_type": "code",
      "source": [
        "from google.colab import drive\n",
        "drive.mount('/content/drive')"
      ],
      "metadata": {
        "id": "Ve3TMinVtsPg",
        "outputId": "781ae200-0efb-4b95-fe8b-f470087d61dd",
        "colab": {
          "base_uri": "https://localhost:8080/"
        }
      },
      "execution_count": null,
      "outputs": [
        {
          "output_type": "stream",
          "name": "stdout",
          "text": [
            "Mounted at /content/drive\n"
          ]
        }
      ]
    },
    {
      "cell_type": "code",
      "metadata": {
        "id": "dnLNFH4__XjY",
        "colab": {
          "base_uri": "https://localhost:8080/"
        },
        "outputId": "7f2bbeb5-480c-4e8c-97f1-629c0cdefee0"
      },
      "source": [
        "!pip install wget"
      ],
      "execution_count": null,
      "outputs": [
        {
          "output_type": "stream",
          "text": [
            "Requirement already satisfied: wget in /usr/local/lib/python3.6/dist-packages (3.2)\n"
          ],
          "name": "stdout"
        }
      ]
    },
    {
      "cell_type": "markdown",
      "metadata": {
        "id": "3fU3axooe-T5"
      },
      "source": [
        "## **2. Download & load dataset**"
      ]
    },
    {
      "cell_type": "code",
      "metadata": {
        "id": "tTfN0u6Q_dpu",
        "colab": {
          "base_uri": "https://localhost:8080/"
        },
        "outputId": "74df7cb9-4508-499d-871f-f69dff7d2970"
      },
      "source": [
        "import wget\n",
        "import os\n",
        "\n",
        "print(\"Downloading dataset...\")\n",
        "\n",
        "url = 'https://github.com/ridife/dataset-idsa/archive/master.zip'\n",
        "\n",
        "if not os.path.exists('./dataset-idsa.zip'):\n",
        "  wget.download(url, './dataset-idsa.zip')"
      ],
      "execution_count": null,
      "outputs": [
        {
          "output_type": "stream",
          "text": [
            "Downloading dataset...\n"
          ],
          "name": "stdout"
        }
      ]
    },
    {
      "cell_type": "code",
      "metadata": {
        "id": "pRvUQrVhALH5"
      },
      "source": [
        "if not os.path.exists('./dataset-idsa-master'):\n",
        "  !unzip dataset-idsa.zip"
      ],
      "execution_count": null,
      "outputs": []
    },
    {
      "cell_type": "code",
      "metadata": {
        "id": "_h3TeNKSAZnE",
        "colab": {
          "base_uri": "https://localhost:8080/"
        },
        "outputId": "5610c80d-d9e2-42ba-ed36-09d96d724bc3"
      },
      "source": [
        "import pandas as pd\n",
        "\n",
        "df = pd.ExcelFile(\"/content/drive/MyDrive/data_polarityv2.xlsx\").parse()\n",
        "df.shape"
      ],
      "execution_count": null,
      "outputs": [
        {
          "output_type": "execute_result",
          "data": {
            "text/plain": [
              "(3731, 10)"
            ]
          },
          "metadata": {},
          "execution_count": 5
        }
      ]
    },
    {
      "cell_type": "code",
      "metadata": {
        "id": "UfOOAWBoA4xj"
      },
      "source": [
        "df['polarity'] = df['polarity'].replace(-1, 2)"
      ],
      "execution_count": null,
      "outputs": []
    },
    {
      "cell_type": "code",
      "metadata": {
        "id": "E94PstJrsXg9",
        "colab": {
          "base_uri": "https://localhost:8080/",
          "height": 363
        },
        "outputId": "42a96691-9dd3-4dcc-de44-b18bd30a2cbd"
      },
      "source": [
        "import seaborn as sns\n",
        "import matplotlib.pyplot as plt\n",
        "\n",
        "x=df.polarity.value_counts()\n",
        "sns.barplot(x.index)\n",
        "plt.gca().set_ylabel('samples')"
      ],
      "execution_count": null,
      "outputs": [
        {
          "output_type": "error",
          "ename": "ValueError",
          "evalue": "ignored",
          "traceback": [
            "\u001b[0;31m---------------------------------------------------------------------------\u001b[0m",
            "\u001b[0;31mValueError\u001b[0m                                Traceback (most recent call last)",
            "\u001b[0;32m<ipython-input-10-c5abc5ea502a>\u001b[0m in \u001b[0;36m<cell line: 5>\u001b[0;34m()\u001b[0m\n\u001b[1;32m      3\u001b[0m \u001b[0;34m\u001b[0m\u001b[0m\n\u001b[1;32m      4\u001b[0m \u001b[0mx\u001b[0m\u001b[0;34m=\u001b[0m\u001b[0mdf\u001b[0m\u001b[0;34m.\u001b[0m\u001b[0mpolarity\u001b[0m\u001b[0;34m.\u001b[0m\u001b[0mvalue_counts\u001b[0m\u001b[0;34m(\u001b[0m\u001b[0;34m)\u001b[0m\u001b[0;34m\u001b[0m\u001b[0;34m\u001b[0m\u001b[0m\n\u001b[0;32m----> 5\u001b[0;31m \u001b[0msns\u001b[0m\u001b[0;34m.\u001b[0m\u001b[0mbarplot\u001b[0m\u001b[0;34m(\u001b[0m\u001b[0mx\u001b[0m\u001b[0;34m.\u001b[0m\u001b[0mindex\u001b[0m\u001b[0;34m)\u001b[0m\u001b[0;34m\u001b[0m\u001b[0;34m\u001b[0m\u001b[0m\n\u001b[0m\u001b[1;32m      6\u001b[0m \u001b[0mplt\u001b[0m\u001b[0;34m.\u001b[0m\u001b[0mgca\u001b[0m\u001b[0;34m(\u001b[0m\u001b[0;34m)\u001b[0m\u001b[0;34m.\u001b[0m\u001b[0mset_ylabel\u001b[0m\u001b[0;34m(\u001b[0m\u001b[0;34m'samples'\u001b[0m\u001b[0;34m)\u001b[0m\u001b[0;34m\u001b[0m\u001b[0;34m\u001b[0m\u001b[0m\n",
            "\u001b[0;32m/usr/local/lib/python3.10/dist-packages/seaborn/categorical.py\u001b[0m in \u001b[0;36mbarplot\u001b[0;34m(data, x, y, hue, order, hue_order, estimator, errorbar, n_boot, units, seed, orient, color, palette, saturation, width, errcolor, errwidth, capsize, dodge, ci, ax, **kwargs)\u001b[0m\n\u001b[1;32m   2753\u001b[0m         \u001b[0mestimator\u001b[0m \u001b[0;34m=\u001b[0m \u001b[0;34m\"size\"\u001b[0m\u001b[0;34m\u001b[0m\u001b[0;34m\u001b[0m\u001b[0m\n\u001b[1;32m   2754\u001b[0m \u001b[0;34m\u001b[0m\u001b[0m\n\u001b[0;32m-> 2755\u001b[0;31m     plotter = _BarPlotter(x, y, hue, data, order, hue_order,\n\u001b[0m\u001b[1;32m   2756\u001b[0m                           \u001b[0mestimator\u001b[0m\u001b[0;34m,\u001b[0m \u001b[0merrorbar\u001b[0m\u001b[0;34m,\u001b[0m \u001b[0mn_boot\u001b[0m\u001b[0;34m,\u001b[0m \u001b[0munits\u001b[0m\u001b[0;34m,\u001b[0m \u001b[0mseed\u001b[0m\u001b[0;34m,\u001b[0m\u001b[0;34m\u001b[0m\u001b[0;34m\u001b[0m\u001b[0m\n\u001b[1;32m   2757\u001b[0m                           \u001b[0morient\u001b[0m\u001b[0;34m,\u001b[0m \u001b[0mcolor\u001b[0m\u001b[0;34m,\u001b[0m \u001b[0mpalette\u001b[0m\u001b[0;34m,\u001b[0m \u001b[0msaturation\u001b[0m\u001b[0;34m,\u001b[0m\u001b[0;34m\u001b[0m\u001b[0;34m\u001b[0m\u001b[0m\n",
            "\u001b[0;32m/usr/local/lib/python3.10/dist-packages/seaborn/categorical.py\u001b[0m in \u001b[0;36m__init__\u001b[0;34m(self, x, y, hue, data, order, hue_order, estimator, errorbar, n_boot, units, seed, orient, color, palette, saturation, width, errcolor, errwidth, capsize, dodge)\u001b[0m\n\u001b[1;32m   1528\u001b[0m                  errcolor, errwidth, capsize, dodge):\n\u001b[1;32m   1529\u001b[0m         \u001b[0;34m\"\"\"Initialize the plotter.\"\"\"\u001b[0m\u001b[0;34m\u001b[0m\u001b[0;34m\u001b[0m\u001b[0m\n\u001b[0;32m-> 1530\u001b[0;31m         self.establish_variables(x, y, hue, data, orient,\n\u001b[0m\u001b[1;32m   1531\u001b[0m                                  order, hue_order, units)\n\u001b[1;32m   1532\u001b[0m         \u001b[0mself\u001b[0m\u001b[0;34m.\u001b[0m\u001b[0mestablish_colors\u001b[0m\u001b[0;34m(\u001b[0m\u001b[0mcolor\u001b[0m\u001b[0;34m,\u001b[0m \u001b[0mpalette\u001b[0m\u001b[0;34m,\u001b[0m \u001b[0msaturation\u001b[0m\u001b[0;34m)\u001b[0m\u001b[0;34m\u001b[0m\u001b[0;34m\u001b[0m\u001b[0m\n",
            "\u001b[0;32m/usr/local/lib/python3.10/dist-packages/seaborn/categorical.py\u001b[0m in \u001b[0;36mestablish_variables\u001b[0;34m(self, x, y, hue, data, orient, order, hue_order, units)\u001b[0m\n\u001b[1;32m    514\u001b[0m \u001b[0;34m\u001b[0m\u001b[0m\n\u001b[1;32m    515\u001b[0m                 \u001b[0;31m# Convert to a list of arrays, the common representation\u001b[0m\u001b[0;34m\u001b[0m\u001b[0;34m\u001b[0m\u001b[0m\n\u001b[0;32m--> 516\u001b[0;31m                 \u001b[0mplot_data\u001b[0m \u001b[0;34m=\u001b[0m \u001b[0;34m[\u001b[0m\u001b[0mnp\u001b[0m\u001b[0;34m.\u001b[0m\u001b[0masarray\u001b[0m\u001b[0;34m(\u001b[0m\u001b[0md\u001b[0m\u001b[0;34m,\u001b[0m \u001b[0mfloat\u001b[0m\u001b[0;34m)\u001b[0m \u001b[0;32mfor\u001b[0m \u001b[0md\u001b[0m \u001b[0;32min\u001b[0m \u001b[0mplot_data\u001b[0m\u001b[0;34m]\u001b[0m\u001b[0;34m\u001b[0m\u001b[0;34m\u001b[0m\u001b[0m\n\u001b[0m\u001b[1;32m    517\u001b[0m \u001b[0;34m\u001b[0m\u001b[0m\n\u001b[1;32m    518\u001b[0m                 \u001b[0;31m# The group names will just be numeric indices\u001b[0m\u001b[0;34m\u001b[0m\u001b[0;34m\u001b[0m\u001b[0m\n",
            "\u001b[0;32m/usr/local/lib/python3.10/dist-packages/seaborn/categorical.py\u001b[0m in \u001b[0;36m<listcomp>\u001b[0;34m(.0)\u001b[0m\n\u001b[1;32m    514\u001b[0m \u001b[0;34m\u001b[0m\u001b[0m\n\u001b[1;32m    515\u001b[0m                 \u001b[0;31m# Convert to a list of arrays, the common representation\u001b[0m\u001b[0;34m\u001b[0m\u001b[0;34m\u001b[0m\u001b[0m\n\u001b[0;32m--> 516\u001b[0;31m                 \u001b[0mplot_data\u001b[0m \u001b[0;34m=\u001b[0m \u001b[0;34m[\u001b[0m\u001b[0mnp\u001b[0m\u001b[0;34m.\u001b[0m\u001b[0masarray\u001b[0m\u001b[0;34m(\u001b[0m\u001b[0md\u001b[0m\u001b[0;34m,\u001b[0m \u001b[0mfloat\u001b[0m\u001b[0;34m)\u001b[0m \u001b[0;32mfor\u001b[0m \u001b[0md\u001b[0m \u001b[0;32min\u001b[0m \u001b[0mplot_data\u001b[0m\u001b[0;34m]\u001b[0m\u001b[0;34m\u001b[0m\u001b[0;34m\u001b[0m\u001b[0m\n\u001b[0m\u001b[1;32m    517\u001b[0m \u001b[0;34m\u001b[0m\u001b[0m\n\u001b[1;32m    518\u001b[0m                 \u001b[0;31m# The group names will just be numeric indices\u001b[0m\u001b[0;34m\u001b[0m\u001b[0;34m\u001b[0m\u001b[0m\n",
            "\u001b[0;32m/usr/local/lib/python3.10/dist-packages/pandas/core/indexes/base.py\u001b[0m in \u001b[0;36m__array__\u001b[0;34m(self, dtype)\u001b[0m\n\u001b[1;32m    933\u001b[0m         \u001b[0mThe\u001b[0m \u001b[0marray\u001b[0m \u001b[0minterface\u001b[0m\u001b[0;34m,\u001b[0m \u001b[0;32mreturn\u001b[0m \u001b[0mmy\u001b[0m \u001b[0mvalues\u001b[0m\u001b[0;34m.\u001b[0m\u001b[0;34m\u001b[0m\u001b[0;34m\u001b[0m\u001b[0m\n\u001b[1;32m    934\u001b[0m         \"\"\"\n\u001b[0;32m--> 935\u001b[0;31m         \u001b[0;32mreturn\u001b[0m \u001b[0mnp\u001b[0m\u001b[0;34m.\u001b[0m\u001b[0masarray\u001b[0m\u001b[0;34m(\u001b[0m\u001b[0mself\u001b[0m\u001b[0;34m.\u001b[0m\u001b[0m_data\u001b[0m\u001b[0;34m,\u001b[0m \u001b[0mdtype\u001b[0m\u001b[0;34m=\u001b[0m\u001b[0mdtype\u001b[0m\u001b[0;34m)\u001b[0m\u001b[0;34m\u001b[0m\u001b[0;34m\u001b[0m\u001b[0m\n\u001b[0m\u001b[1;32m    936\u001b[0m \u001b[0;34m\u001b[0m\u001b[0m\n\u001b[1;32m    937\u001b[0m     \u001b[0;32mdef\u001b[0m \u001b[0m__array_ufunc__\u001b[0m\u001b[0;34m(\u001b[0m\u001b[0mself\u001b[0m\u001b[0;34m,\u001b[0m \u001b[0mufunc\u001b[0m\u001b[0;34m:\u001b[0m \u001b[0mnp\u001b[0m\u001b[0;34m.\u001b[0m\u001b[0mufunc\u001b[0m\u001b[0;34m,\u001b[0m \u001b[0mmethod\u001b[0m\u001b[0;34m:\u001b[0m \u001b[0mstr_t\u001b[0m\u001b[0;34m,\u001b[0m \u001b[0;34m*\u001b[0m\u001b[0minputs\u001b[0m\u001b[0;34m,\u001b[0m \u001b[0;34m**\u001b[0m\u001b[0mkwargs\u001b[0m\u001b[0;34m)\u001b[0m\u001b[0;34m:\u001b[0m\u001b[0;34m\u001b[0m\u001b[0;34m\u001b[0m\u001b[0m\n",
            "\u001b[0;31mValueError\u001b[0m: could not convert string to float: 'negative'"
          ]
        }
      ]
    },
    {
      "cell_type": "code",
      "metadata": {
        "id": "TBkl9hRDBNtT"
      },
      "source": [
        "sentences = df.clean_text.values\n",
        "labels = df.polarity.values  "
      ],
      "execution_count": null,
      "outputs": []
    },
    {
      "cell_type": "markdown",
      "metadata": {
        "id": "2_N_mAW6fPmP"
      },
      "source": [
        "## **3. Load BERT Tokenizer**"
      ]
    },
    {
      "cell_type": "code",
      "metadata": {
        "id": "vMc4LncOHdtw",
        "colab": {
          "base_uri": "https://localhost:8080/",
          "height": 130,
          "referenced_widgets": [
            "780bf174bbfa41008153e1f97f8564e6",
            "0dabd68befe5476195370a0599c5ae28",
            "90426fbbc5de4b61b49969961fb9fda8",
            "9124ac6c1dca470dbbc536c959cfcbfc",
            "a4cbf02ffdb34cc8a8394aab9d4f27c9",
            "4566dbd51860440e88f378ba30ebaf60",
            "b02aa5b9b89745c1bec9cb198fc18c9a",
            "534e65bcff3346f9a777d528fc426f6a",
            "6538aec92c504dada647056e48a26d5d",
            "dbdb35cfadb4490bb16536529c9b52d0",
            "600ec01b057c47f3bcd58b908669cd54",
            "cf386e0661e5484bbf024caa5a8f2671",
            "89d5a753e6654783b61b5e7b3ab4de1c",
            "a2d1400906604d81a44e37780abe6158",
            "5b0b9ead385a4f89a7127070bc3d6c15",
            "e9f7bd26569e40a09132b67b332ba396",
            "8e5f92b76e454a58a84acf10d7404351",
            "205d6bcb956346b0ae8f6770dd852f05",
            "718ac1349b1449479ac16ae095ff6cd3",
            "d69d586e266f4118a85f95c39b678655",
            "cb863b8a9cfb433eb048e4eface8fc37",
            "75604cd8d84a4785b3b9f6faf35dd601",
            "48c6c69e0887481a8b4bb9e4ff9c1e40",
            "7af1e4a1ba554d68be33e1af64f1e67e",
            "bad04fed6a9a417fbe0c3dfd8a826c7a",
            "95011ba5f9d143a084ad2277ce5a8c0f",
            "00ca89b8e31d4addbaaa8afe42d5144b",
            "d47182279e054bceb777017854f83faa",
            "d0f5e09842434318ac4965c233e1a835",
            "a59c38a68e1b4de9aff81d0d57ced2c3",
            "359eb5860422418cb8882c7fe21caf18",
            "bc5db197989545808c5b249007abb8ea",
            "e2bd459f02ec4625af05b8ae56e0768d"
          ]
        },
        "outputId": "30ee6973-dff3-4fa7-bc30-a85b7754f948"
      },
      "source": [
        "from transformers import BertTokenizer\n",
        "\n",
        "print(\"Loading BERT Tokenizer\")\n",
        "tokenizer = BertTokenizer.from_pretrained('bert-base-multilingual-uncased', do_lower_case=True)"
      ],
      "execution_count": null,
      "outputs": [
        {
          "output_type": "stream",
          "name": "stdout",
          "text": [
            "Loading BERT Tokenizer\n"
          ]
        },
        {
          "output_type": "display_data",
          "data": {
            "text/plain": [
              "Downloading (…)solve/main/vocab.txt:   0%|          | 0.00/872k [00:00<?, ?B/s]"
            ],
            "application/vnd.jupyter.widget-view+json": {
              "version_major": 2,
              "version_minor": 0,
              "model_id": "780bf174bbfa41008153e1f97f8564e6"
            }
          },
          "metadata": {}
        },
        {
          "output_type": "display_data",
          "data": {
            "text/plain": [
              "Downloading (…)okenizer_config.json:   0%|          | 0.00/28.0 [00:00<?, ?B/s]"
            ],
            "application/vnd.jupyter.widget-view+json": {
              "version_major": 2,
              "version_minor": 0,
              "model_id": "cf386e0661e5484bbf024caa5a8f2671"
            }
          },
          "metadata": {}
        },
        {
          "output_type": "display_data",
          "data": {
            "text/plain": [
              "Downloading (…)lve/main/config.json:   0%|          | 0.00/625 [00:00<?, ?B/s]"
            ],
            "application/vnd.jupyter.widget-view+json": {
              "version_major": 2,
              "version_minor": 0,
              "model_id": "48c6c69e0887481a8b4bb9e4ff9c1e40"
            }
          },
          "metadata": {}
        }
      ]
    },
    {
      "cell_type": "code",
      "metadata": {
        "id": "NmgvKwtysJuq",
        "colab": {
          "base_uri": "https://localhost:8080/",
          "height": 250
        },
        "outputId": "5dd933b4-420e-4122-9107-87e85fb5d100"
      },
      "source": [
        "df.sample(5)"
      ],
      "execution_count": null,
      "outputs": [
        {
          "output_type": "execute_result",
          "data": {
            "text/plain": [
              "                          created_at                   id reply_count  \\\n",
              "1402  Tue May 16 14:03:50 +0000 2023  1658473335624450048           0   \n",
              "2141  Tue May 09 16:16:31 +0000 2023  1655970011834650112           0   \n",
              "163   Mon May 15 03:20:32 +0000 2023  1657949054595399936           0   \n",
              "2325  Mon May 15 15:50:28 +0000 2023  1658137781670129920           0   \n",
              "2458  Mon May 15 08:14:38 +0000 2023  1658023069108310016           0   \n",
              "\n",
              "     retweet_count favorite_count        username  \\\n",
              "1402             0              0     hourlyyucil   \n",
              "2141             0              0     eunchaeturu   \n",
              "163              0              0  tribunlampung_   \n",
              "2325             0              0        cl4udin4   \n",
              "2458             0              0    imigrasi_trk   \n",
              "\n",
              "                                             clean_text  \\\n",
              "1402  capek jadi angkatan percobaan trs mulai dr ppd...   \n",
              "2141  kelas kerasa capek bgt soalnya uda beda kuriku...   \n",
              "163   cerita warga jalan rusak bertahuntahun di bali...   \n",
              "2325  dia hanya mengambil sesuai kebutuhan kalo pung...   \n",
              "2458  kanim tarakan berkomitmen untuk melayani masya...   \n",
              "\n",
              "                                      preprocessed_text  polarity_score  \\\n",
              "1402  ['capek', 'angkatan', 'percobaan', 'trs', 'dr'...               0   \n",
              "2141  ['kelas', 'kerasa', 'capek', 'bgt', 'uda', 'be...              -2   \n",
              "163   ['cerita', 'warga', 'jalan', 'rusak', 'bertahu...              -3   \n",
              "2325  ['mengambil', 'sesuai', 'kebutuhan', 'kalo', '...              10   \n",
              "2458  ['kanim', 'tarakan', 'berkomitmen', 'melayani'...               0   \n",
              "\n",
              "      polarity  \n",
              "1402   neutral  \n",
              "2141  negative  \n",
              "163   negative  \n",
              "2325  positive  \n",
              "2458   neutral  "
            ],
            "text/html": [
              "\n",
              "  <div id=\"df-e62d7c82-008a-4965-b289-73a23512d126\">\n",
              "    <div class=\"colab-df-container\">\n",
              "      <div>\n",
              "<style scoped>\n",
              "    .dataframe tbody tr th:only-of-type {\n",
              "        vertical-align: middle;\n",
              "    }\n",
              "\n",
              "    .dataframe tbody tr th {\n",
              "        vertical-align: top;\n",
              "    }\n",
              "\n",
              "    .dataframe thead th {\n",
              "        text-align: right;\n",
              "    }\n",
              "</style>\n",
              "<table border=\"1\" class=\"dataframe\">\n",
              "  <thead>\n",
              "    <tr style=\"text-align: right;\">\n",
              "      <th></th>\n",
              "      <th>created_at</th>\n",
              "      <th>id</th>\n",
              "      <th>reply_count</th>\n",
              "      <th>retweet_count</th>\n",
              "      <th>favorite_count</th>\n",
              "      <th>username</th>\n",
              "      <th>clean_text</th>\n",
              "      <th>preprocessed_text</th>\n",
              "      <th>polarity_score</th>\n",
              "      <th>polarity</th>\n",
              "    </tr>\n",
              "  </thead>\n",
              "  <tbody>\n",
              "    <tr>\n",
              "      <th>1402</th>\n",
              "      <td>Tue May 16 14:03:50 +0000 2023</td>\n",
              "      <td>1658473335624450048</td>\n",
              "      <td>0</td>\n",
              "      <td>0</td>\n",
              "      <td>0</td>\n",
              "      <td>hourlyyucil</td>\n",
              "      <td>capek jadi angkatan percobaan trs mulai dr ppd...</td>\n",
              "      <td>['capek', 'angkatan', 'percobaan', 'trs', 'dr'...</td>\n",
              "      <td>0</td>\n",
              "      <td>neutral</td>\n",
              "    </tr>\n",
              "    <tr>\n",
              "      <th>2141</th>\n",
              "      <td>Tue May 09 16:16:31 +0000 2023</td>\n",
              "      <td>1655970011834650112</td>\n",
              "      <td>0</td>\n",
              "      <td>0</td>\n",
              "      <td>0</td>\n",
              "      <td>eunchaeturu</td>\n",
              "      <td>kelas kerasa capek bgt soalnya uda beda kuriku...</td>\n",
              "      <td>['kelas', 'kerasa', 'capek', 'bgt', 'uda', 'be...</td>\n",
              "      <td>-2</td>\n",
              "      <td>negative</td>\n",
              "    </tr>\n",
              "    <tr>\n",
              "      <th>163</th>\n",
              "      <td>Mon May 15 03:20:32 +0000 2023</td>\n",
              "      <td>1657949054595399936</td>\n",
              "      <td>0</td>\n",
              "      <td>0</td>\n",
              "      <td>0</td>\n",
              "      <td>tribunlampung_</td>\n",
              "      <td>cerita warga jalan rusak bertahuntahun di bali...</td>\n",
              "      <td>['cerita', 'warga', 'jalan', 'rusak', 'bertahu...</td>\n",
              "      <td>-3</td>\n",
              "      <td>negative</td>\n",
              "    </tr>\n",
              "    <tr>\n",
              "      <th>2325</th>\n",
              "      <td>Mon May 15 15:50:28 +0000 2023</td>\n",
              "      <td>1658137781670129920</td>\n",
              "      <td>0</td>\n",
              "      <td>0</td>\n",
              "      <td>0</td>\n",
              "      <td>cl4udin4</td>\n",
              "      <td>dia hanya mengambil sesuai kebutuhan kalo pung...</td>\n",
              "      <td>['mengambil', 'sesuai', 'kebutuhan', 'kalo', '...</td>\n",
              "      <td>10</td>\n",
              "      <td>positive</td>\n",
              "    </tr>\n",
              "    <tr>\n",
              "      <th>2458</th>\n",
              "      <td>Mon May 15 08:14:38 +0000 2023</td>\n",
              "      <td>1658023069108310016</td>\n",
              "      <td>0</td>\n",
              "      <td>0</td>\n",
              "      <td>0</td>\n",
              "      <td>imigrasi_trk</td>\n",
              "      <td>kanim tarakan berkomitmen untuk melayani masya...</td>\n",
              "      <td>['kanim', 'tarakan', 'berkomitmen', 'melayani'...</td>\n",
              "      <td>0</td>\n",
              "      <td>neutral</td>\n",
              "    </tr>\n",
              "  </tbody>\n",
              "</table>\n",
              "</div>\n",
              "      <button class=\"colab-df-convert\" onclick=\"convertToInteractive('df-e62d7c82-008a-4965-b289-73a23512d126')\"\n",
              "              title=\"Convert this dataframe to an interactive table.\"\n",
              "              style=\"display:none;\">\n",
              "        \n",
              "  <svg xmlns=\"http://www.w3.org/2000/svg\" height=\"24px\"viewBox=\"0 0 24 24\"\n",
              "       width=\"24px\">\n",
              "    <path d=\"M0 0h24v24H0V0z\" fill=\"none\"/>\n",
              "    <path d=\"M18.56 5.44l.94 2.06.94-2.06 2.06-.94-2.06-.94-.94-2.06-.94 2.06-2.06.94zm-11 1L8.5 8.5l.94-2.06 2.06-.94-2.06-.94L8.5 2.5l-.94 2.06-2.06.94zm10 10l.94 2.06.94-2.06 2.06-.94-2.06-.94-.94-2.06-.94 2.06-2.06.94z\"/><path d=\"M17.41 7.96l-1.37-1.37c-.4-.4-.92-.59-1.43-.59-.52 0-1.04.2-1.43.59L10.3 9.45l-7.72 7.72c-.78.78-.78 2.05 0 2.83L4 21.41c.39.39.9.59 1.41.59.51 0 1.02-.2 1.41-.59l7.78-7.78 2.81-2.81c.8-.78.8-2.07 0-2.86zM5.41 20L4 18.59l7.72-7.72 1.47 1.35L5.41 20z\"/>\n",
              "  </svg>\n",
              "      </button>\n",
              "      \n",
              "  <style>\n",
              "    .colab-df-container {\n",
              "      display:flex;\n",
              "      flex-wrap:wrap;\n",
              "      gap: 12px;\n",
              "    }\n",
              "\n",
              "    .colab-df-convert {\n",
              "      background-color: #E8F0FE;\n",
              "      border: none;\n",
              "      border-radius: 50%;\n",
              "      cursor: pointer;\n",
              "      display: none;\n",
              "      fill: #1967D2;\n",
              "      height: 32px;\n",
              "      padding: 0 0 0 0;\n",
              "      width: 32px;\n",
              "    }\n",
              "\n",
              "    .colab-df-convert:hover {\n",
              "      background-color: #E2EBFA;\n",
              "      box-shadow: 0px 1px 2px rgba(60, 64, 67, 0.3), 0px 1px 3px 1px rgba(60, 64, 67, 0.15);\n",
              "      fill: #174EA6;\n",
              "    }\n",
              "\n",
              "    [theme=dark] .colab-df-convert {\n",
              "      background-color: #3B4455;\n",
              "      fill: #D2E3FC;\n",
              "    }\n",
              "\n",
              "    [theme=dark] .colab-df-convert:hover {\n",
              "      background-color: #434B5C;\n",
              "      box-shadow: 0px 1px 3px 1px rgba(0, 0, 0, 0.15);\n",
              "      filter: drop-shadow(0px 1px 2px rgba(0, 0, 0, 0.3));\n",
              "      fill: #FFFFFF;\n",
              "    }\n",
              "  </style>\n",
              "\n",
              "      <script>\n",
              "        const buttonEl =\n",
              "          document.querySelector('#df-e62d7c82-008a-4965-b289-73a23512d126 button.colab-df-convert');\n",
              "        buttonEl.style.display =\n",
              "          google.colab.kernel.accessAllowed ? 'block' : 'none';\n",
              "\n",
              "        async function convertToInteractive(key) {\n",
              "          const element = document.querySelector('#df-e62d7c82-008a-4965-b289-73a23512d126');\n",
              "          const dataTable =\n",
              "            await google.colab.kernel.invokeFunction('convertToInteractive',\n",
              "                                                     [key], {});\n",
              "          if (!dataTable) return;\n",
              "\n",
              "          const docLinkHtml = 'Like what you see? Visit the ' +\n",
              "            '<a target=\"_blank\" href=https://colab.research.google.com/notebooks/data_table.ipynb>data table notebook</a>'\n",
              "            + ' to learn more about interactive tables.';\n",
              "          element.innerHTML = '';\n",
              "          dataTable['output_type'] = 'display_data';\n",
              "          await google.colab.output.renderOutput(dataTable, element);\n",
              "          const docLink = document.createElement('div');\n",
              "          docLink.innerHTML = docLinkHtml;\n",
              "          element.appendChild(docLink);\n",
              "        }\n",
              "      </script>\n",
              "    </div>\n",
              "  </div>\n",
              "  "
            ]
          },
          "metadata": {},
          "execution_count": 9
        }
      ]
    },
    {
      "cell_type": "code",
      "metadata": {
        "id": "0VfxuBuyIJxY",
        "colab": {
          "base_uri": "https://localhost:8080/"
        },
        "outputId": "62788f9f-7cc7-4bbe-94b5-8343ea42c9fa"
      },
      "source": [
        "print(\"Original: \", sentences[0])\n",
        "\n",
        "print(\"Tokenized: \", tokenizer.tokenize(sentences[0]))\n",
        "\n",
        "print(\"Token IDS: \", tokenizer.convert_tokens_to_ids(tokenizer.tokenize(sentences[0])))"
      ],
      "execution_count": null,
      "outputs": [
        {
          "output_type": "stream",
          "name": "stdout",
          "text": [
            "Original:  saat kota yang lain sibuk berlomba agar wisatawan mau datang ke kotanya image jogja justru rusak dengan ramainya klitih parkir dengan harga tidak masuk akal yg membuat pudarnya image jogja sebagai kota yang berhati nyaman\n",
            "Tokenized:  ['saat', 'kota', 'yang', 'lain', 'si', '##buk', 'ber', '##lom', '##ba', 'agar', 'wisata', '##wan', 'mau', 'datang', 'ke', 'kota', '##nya', 'image', 'jog', '##ja', 'just', '##ru', 'rusa', '##k', 'dengan', 'ramai', '##nya', 'kl', '##iti', '##h', 'park', '##ir', 'dengan', 'harga', 'tidak', 'masuk', 'aka', '##l', 'yg', 'membuat', 'pu', '##dar', '##nya', 'image', 'jog', '##ja', 'sebagai', 'kota', 'yang', 'ber', '##hat', '##i', 'nya', '##man']\n",
            "Token IDS:  [15416, 13874, 10290, 12796, 10193, 59015, 64560, 21440, 10579, 31451, 75796, 15134, 15688, 41034, 11009, 13874, 10753, 16117, 63643, 10295, 12125, 11859, 25598, 10167, 10722, 63780, 10753, 43298, 14119, 10243, 10826, 10952, 10722, 58951, 12017, 33722, 36710, 10159, 95759, 21474, 25200, 15802, 10753, 16117, 63643, 10295, 11155, 13874, 10290, 64560, 20452, 10116, 19483, 10629]\n"
          ]
        }
      ]
    },
    {
      "cell_type": "code",
      "metadata": {
        "id": "pHPzXRJAITnv",
        "colab": {
          "base_uri": "https://localhost:8080/"
        },
        "outputId": "3942c01a-04c9-407a-a215-61e96cdda8f8"
      },
      "source": [
        "input_ids = []\n",
        "\n",
        "for sent in sentences:\n",
        "  encoded_sent = tokenizer.encode(\n",
        "      str(sent),\n",
        "      add_special_tokens = True\n",
        "  )\n",
        "  input_ids.append(encoded_sent)\n",
        "\n",
        "print(\"Original: \", sentences[0])\n",
        "print(\"Token IDs: \", input_ids[0])\n",
        "\n"
      ],
      "execution_count": null,
      "outputs": [
        {
          "output_type": "stream",
          "name": "stdout",
          "text": [
            "Original:  saat kota yang lain sibuk berlomba agar wisatawan mau datang ke kotanya image jogja justru rusak dengan ramainya klitih parkir dengan harga tidak masuk akal yg membuat pudarnya image jogja sebagai kota yang berhati nyaman\n",
            "Token IDs:  [101, 15416, 13874, 10290, 12796, 10193, 59015, 64560, 21440, 10579, 31451, 75796, 15134, 15688, 41034, 11009, 13874, 10753, 16117, 63643, 10295, 12125, 11859, 25598, 10167, 10722, 63780, 10753, 43298, 14119, 10243, 10826, 10952, 10722, 58951, 12017, 33722, 36710, 10159, 95759, 21474, 25200, 15802, 10753, 16117, 63643, 10295, 11155, 13874, 10290, 64560, 20452, 10116, 19483, 10629, 102]\n"
          ]
        }
      ]
    },
    {
      "cell_type": "code",
      "metadata": {
        "id": "d5rgsfQHmSTw",
        "colab": {
          "base_uri": "https://localhost:8080/"
        },
        "outputId": "542b8ffb-c491-47d5-855c-7670e6b58c3a"
      },
      "source": [
        "print(\"Max sentence length: \", max([len(sen) for sen in input_ids]))"
      ],
      "execution_count": null,
      "outputs": [
        {
          "output_type": "stream",
          "name": "stdout",
          "text": [
            "Max sentence length:  95\n"
          ]
        }
      ]
    },
    {
      "cell_type": "code",
      "metadata": {
        "id": "4ER5yGm8meLg",
        "colab": {
          "base_uri": "https://localhost:8080/"
        },
        "outputId": "6d2a0bc3-6cba-490f-d399-fa1c9c15b1d3"
      },
      "source": [
        "from keras.utils import pad_sequences\n",
        "\n",
        "MAX_LEN = 64\n",
        "\n",
        "print(\"Padding/truncating all sentences to %d values\" % MAX_LEN)\n",
        "print('Padding token: \"{:}\", ID: {:}'.format(tokenizer.pad_token, tokenizer.pad_token_id))\n",
        "\n",
        "input_ids = pad_sequences(input_ids, maxlen=MAX_LEN, dtype='long', value=0, truncating='post', padding='post')\n",
        "\n",
        "print(\"Done\")"
      ],
      "execution_count": null,
      "outputs": [
        {
          "output_type": "stream",
          "name": "stdout",
          "text": [
            "Padding/truncating all sentences to 64 values\n",
            "Padding token: \"[PAD]\", ID: 0\n",
            "Done\n"
          ]
        }
      ]
    },
    {
      "cell_type": "code",
      "metadata": {
        "id": "XXS3zutknKo3",
        "colab": {
          "base_uri": "https://localhost:8080/"
        },
        "outputId": "8ee4f295-4c74-4898-a071-fa54e5ef3683"
      },
      "source": [
        "input_ids[0]"
      ],
      "execution_count": null,
      "outputs": [
        {
          "output_type": "execute_result",
          "data": {
            "text/plain": [
              "array([  101, 15416, 13874, 10290, 12796, 10193, 59015, 64560, 21440,\n",
              "       10579, 31451, 75796, 15134, 15688, 41034, 11009, 13874, 10753,\n",
              "       16117, 63643, 10295, 12125, 11859, 25598, 10167, 10722, 63780,\n",
              "       10753, 43298, 14119, 10243, 10826, 10952, 10722, 58951, 12017,\n",
              "       33722, 36710, 10159, 95759, 21474, 25200, 15802, 10753, 16117,\n",
              "       63643, 10295, 11155, 13874, 10290, 64560, 20452, 10116, 19483,\n",
              "       10629,   102,     0,     0,     0,     0,     0,     0,     0,\n",
              "           0])"
            ]
          },
          "metadata": {},
          "execution_count": 17
        }
      ]
    },
    {
      "cell_type": "code",
      "metadata": {
        "id": "xgbpf1fWoCYv"
      },
      "source": [
        "attention_mask = []\n",
        "\n",
        "for sent in input_ids:\n",
        "  att_mask = [int(token_id > 0) for token_id in sent]\n",
        "\n",
        "  attention_mask.append(att_mask)"
      ],
      "execution_count": null,
      "outputs": []
    },
    {
      "cell_type": "markdown",
      "metadata": {
        "id": "bQybI-XdfpBs"
      },
      "source": [
        "## **4. Persiapkan data**"
      ]
    },
    {
      "cell_type": "code",
      "metadata": {
        "id": "DcbrNxAOiKzg"
      },
      "source": [
        "from sklearn.model_selection import train_test_split\n",
        "\n",
        "train_input, test_input, train_labels, test_labels = train_test_split(input_ids,\n",
        "                                                                      labels,\n",
        "                                                                      random_state=2017,\n",
        "                                                                      test_size=0.1)\n",
        "train_mask, test_mask, _, _ = train_test_split(attention_mask,\n",
        "                                               labels,\n",
        "                                               random_state=2017,\n",
        "                                               test_size=0.1)\n",
        "\n",
        "train_input, validation_input, train_labels, validation_labels = train_test_split(train_input,\n",
        "                                                                                  train_labels,\n",
        "                                                                                  random_state=2018,\n",
        "                                                                                  test_size=0.15)\n",
        "train_mask, validation_mask, _, _ = train_test_split(train_mask,\n",
        "                                                     train_mask,\n",
        "                                                     random_state=2018,\n",
        "                                                     test_size=0.15)"
      ],
      "execution_count": null,
      "outputs": []
    },
    {
      "cell_type": "code",
      "metadata": {
        "id": "jSsCBgJKs5S3",
        "colab": {
          "base_uri": "https://localhost:8080/"
        },
        "outputId": "1937c158-f6a3-4df6-cd51-2580efd1a4f0"
      },
      "source": [
        "import numpy as np\n",
        "print(\"== Train ==\")\n",
        "print(\"Input: \", train_input.shape)\n",
        "print(\"Label: \", train_labels.shape)\n",
        "print(\"Mask: \", np.array(train_mask).shape)\n",
        "\n",
        "print(\"\\n== Validation ==\")\n",
        "print(\"Input: \", validation_input.shape)\n",
        "print(\"Label: \", validation_labels.shape)\n",
        "print(\"Mask: \", np.array(validation_mask).shape)\n",
        "\n",
        "print(\"\\n== Test ==\")\n",
        "print(\"Input: \", test_input.shape)\n",
        "print(\"Label: \", test_labels.shape)\n",
        "print(\"Mask: \", np.array(test_mask).shape)"
      ],
      "execution_count": null,
      "outputs": [
        {
          "output_type": "stream",
          "name": "stdout",
          "text": [
            "== Train ==\n",
            "Input:  (2853, 64)\n",
            "Label:  (2853,)\n",
            "Mask:  (2853, 64)\n",
            "\n",
            "== Validation ==\n",
            "Input:  (504, 64)\n",
            "Label:  (504,)\n",
            "Mask:  (504, 64)\n",
            "\n",
            "== Test ==\n",
            "Input:  (374, 64)\n",
            "Label:  (374,)\n",
            "Mask:  (374, 64)\n"
          ]
        }
      ]
    },
    {
      "cell_type": "code",
      "metadata": {
        "id": "uftrQNKItAQf",
        "colab": {
          "base_uri": "https://localhost:8080/",
          "height": 235
        },
        "outputId": "09a95542-11a1-4ce3-af8e-4919cdb71889"
      },
      "source": [
        "train_input = torch.tensor(train_input)\n",
        "train_labels = torch.tensor(train_labels)\n",
        "train_mask = torch.tensor(train_mask)\n",
        "\n",
        "validation_input = torch.tensor(validation_input)\n",
        "validation_labels = torch.tensor(validation_labels)\n",
        "validation_mask = torch.tensor(validation_mask)\n",
        "\n",
        "test_input = torch.tensor(test_input)\n",
        "test_labels = torch.tensor(test_labels)\n",
        "test_mask = torch.tensor(test_mask)"
      ],
      "execution_count": null,
      "outputs": [
        {
          "output_type": "error",
          "ename": "TypeError",
          "evalue": "ignored",
          "traceback": [
            "\u001b[0;31m---------------------------------------------------------------------------\u001b[0m",
            "\u001b[0;31mTypeError\u001b[0m                                 Traceback (most recent call last)",
            "\u001b[0;32m<ipython-input-21-40394e25c014>\u001b[0m in \u001b[0;36m<cell line: 2>\u001b[0;34m()\u001b[0m\n\u001b[1;32m      1\u001b[0m \u001b[0mtrain_input\u001b[0m \u001b[0;34m=\u001b[0m \u001b[0mtorch\u001b[0m\u001b[0;34m.\u001b[0m\u001b[0mtensor\u001b[0m\u001b[0;34m(\u001b[0m\u001b[0mtrain_input\u001b[0m\u001b[0;34m)\u001b[0m\u001b[0;34m\u001b[0m\u001b[0;34m\u001b[0m\u001b[0m\n\u001b[0;32m----> 2\u001b[0;31m \u001b[0mtrain_labels\u001b[0m \u001b[0;34m=\u001b[0m \u001b[0mtorch\u001b[0m\u001b[0;34m.\u001b[0m\u001b[0mtensor\u001b[0m\u001b[0;34m(\u001b[0m\u001b[0mtrain_labels\u001b[0m\u001b[0;34m)\u001b[0m\u001b[0;34m\u001b[0m\u001b[0;34m\u001b[0m\u001b[0m\n\u001b[0m\u001b[1;32m      3\u001b[0m \u001b[0mtrain_mask\u001b[0m \u001b[0;34m=\u001b[0m \u001b[0mtorch\u001b[0m\u001b[0;34m.\u001b[0m\u001b[0mtensor\u001b[0m\u001b[0;34m(\u001b[0m\u001b[0mtrain_mask\u001b[0m\u001b[0;34m)\u001b[0m\u001b[0;34m\u001b[0m\u001b[0;34m\u001b[0m\u001b[0m\n\u001b[1;32m      4\u001b[0m \u001b[0;34m\u001b[0m\u001b[0m\n\u001b[1;32m      5\u001b[0m \u001b[0mvalidation_input\u001b[0m \u001b[0;34m=\u001b[0m \u001b[0mtorch\u001b[0m\u001b[0;34m.\u001b[0m\u001b[0mtensor\u001b[0m\u001b[0;34m(\u001b[0m\u001b[0mvalidation_input\u001b[0m\u001b[0;34m)\u001b[0m\u001b[0;34m\u001b[0m\u001b[0;34m\u001b[0m\u001b[0m\n",
            "\u001b[0;31mTypeError\u001b[0m: can't convert np.ndarray of type numpy.object_. The only supported types are: float64, float32, float16, complex64, complex128, int64, int32, int16, int8, uint8, and bool."
          ]
        }
      ]
    },
    {
      "cell_type": "code",
      "metadata": {
        "id": "1CmnMnE2q12L"
      },
      "source": [
        "from torch.utils.data import TensorDataset, DataLoader, RandomSampler, SequentialSampler\n",
        "\n",
        "batch_size = 32\n",
        "\n",
        "train_data = TensorDataset(train_input, train_mask, train_labels)\n",
        "train_sampler = RandomSampler(train_data)\n",
        "train_dataloader = DataLoader(train_data, sampler=train_sampler, batch_size=batch_size)\n",
        "\n",
        "validation_data = TensorDataset(validation_input, validation_mask, validation_labels)\n",
        "validation_sampler = SequentialSampler(validation_data)\n",
        "validation_dataloader = DataLoader(validation_data, sampler=validation_sampler, batch_size=batch_size)\n",
        "\n",
        "test_data = TensorDataset(test_input, test_mask, test_labels)\n",
        "test_sampler = SequentialSampler(test_data)\n",
        "test_dataloader = DataLoader(test_data, sampler=test_sampler, batch_size=batch_size)"
      ],
      "execution_count": null,
      "outputs": []
    },
    {
      "cell_type": "markdown",
      "metadata": {
        "id": "POIzdHuXf0U5"
      },
      "source": [
        "## **5. Persiapkan model pre-trained BERT**"
      ]
    },
    {
      "cell_type": "code",
      "metadata": {
        "id": "Q4_N0-MosMQM",
        "colab": {
          "base_uri": "https://localhost:8080/"
        },
        "outputId": "3021f435-de91-470a-ec24-d1d0a62b27a9"
      },
      "source": [
        "from transformers import BertForSequenceClassification, AdamW, BertConfig\n",
        "\n",
        "model = BertForSequenceClassification.from_pretrained(\n",
        "    \"bert-base-multilingual-uncased\",\n",
        "    num_labels = 3,\n",
        "    output_attentions = False,\n",
        "    output_hidden_states = False\n",
        ")\n",
        "\n",
        "model.cuda()"
      ],
      "execution_count": null,
      "outputs": [
        {
          "output_type": "stream",
          "text": [
            "Some weights of the model checkpoint at bert-base-multilingual-uncased were not used when initializing BertForSequenceClassification: ['cls.predictions.bias', 'cls.predictions.transform.dense.weight', 'cls.predictions.transform.dense.bias', 'cls.predictions.decoder.weight', 'cls.seq_relationship.weight', 'cls.seq_relationship.bias', 'cls.predictions.transform.LayerNorm.weight', 'cls.predictions.transform.LayerNorm.bias']\n",
            "- This IS expected if you are initializing BertForSequenceClassification from the checkpoint of a model trained on another task or with another architecture (e.g. initializing a BertForSequenceClassification model from a BertForPreTraining model).\n",
            "- This IS NOT expected if you are initializing BertForSequenceClassification from the checkpoint of a model that you expect to be exactly identical (initializing a BertForSequenceClassification model from a BertForSequenceClassification model).\n",
            "Some weights of BertForSequenceClassification were not initialized from the model checkpoint at bert-base-multilingual-uncased and are newly initialized: ['classifier.weight', 'classifier.bias']\n",
            "You should probably TRAIN this model on a down-stream task to be able to use it for predictions and inference.\n"
          ],
          "name": "stderr"
        },
        {
          "output_type": "execute_result",
          "data": {
            "text/plain": [
              "BertForSequenceClassification(\n",
              "  (bert): BertModel(\n",
              "    (embeddings): BertEmbeddings(\n",
              "      (word_embeddings): Embedding(105879, 768, padding_idx=0)\n",
              "      (position_embeddings): Embedding(512, 768)\n",
              "      (token_type_embeddings): Embedding(2, 768)\n",
              "      (LayerNorm): LayerNorm((768,), eps=1e-12, elementwise_affine=True)\n",
              "      (dropout): Dropout(p=0.1, inplace=False)\n",
              "    )\n",
              "    (encoder): BertEncoder(\n",
              "      (layer): ModuleList(\n",
              "        (0): BertLayer(\n",
              "          (attention): BertAttention(\n",
              "            (self): BertSelfAttention(\n",
              "              (query): Linear(in_features=768, out_features=768, bias=True)\n",
              "              (key): Linear(in_features=768, out_features=768, bias=True)\n",
              "              (value): Linear(in_features=768, out_features=768, bias=True)\n",
              "              (dropout): Dropout(p=0.1, inplace=False)\n",
              "            )\n",
              "            (output): BertSelfOutput(\n",
              "              (dense): Linear(in_features=768, out_features=768, bias=True)\n",
              "              (LayerNorm): LayerNorm((768,), eps=1e-12, elementwise_affine=True)\n",
              "              (dropout): Dropout(p=0.1, inplace=False)\n",
              "            )\n",
              "          )\n",
              "          (intermediate): BertIntermediate(\n",
              "            (dense): Linear(in_features=768, out_features=3072, bias=True)\n",
              "          )\n",
              "          (output): BertOutput(\n",
              "            (dense): Linear(in_features=3072, out_features=768, bias=True)\n",
              "            (LayerNorm): LayerNorm((768,), eps=1e-12, elementwise_affine=True)\n",
              "            (dropout): Dropout(p=0.1, inplace=False)\n",
              "          )\n",
              "        )\n",
              "        (1): BertLayer(\n",
              "          (attention): BertAttention(\n",
              "            (self): BertSelfAttention(\n",
              "              (query): Linear(in_features=768, out_features=768, bias=True)\n",
              "              (key): Linear(in_features=768, out_features=768, bias=True)\n",
              "              (value): Linear(in_features=768, out_features=768, bias=True)\n",
              "              (dropout): Dropout(p=0.1, inplace=False)\n",
              "            )\n",
              "            (output): BertSelfOutput(\n",
              "              (dense): Linear(in_features=768, out_features=768, bias=True)\n",
              "              (LayerNorm): LayerNorm((768,), eps=1e-12, elementwise_affine=True)\n",
              "              (dropout): Dropout(p=0.1, inplace=False)\n",
              "            )\n",
              "          )\n",
              "          (intermediate): BertIntermediate(\n",
              "            (dense): Linear(in_features=768, out_features=3072, bias=True)\n",
              "          )\n",
              "          (output): BertOutput(\n",
              "            (dense): Linear(in_features=3072, out_features=768, bias=True)\n",
              "            (LayerNorm): LayerNorm((768,), eps=1e-12, elementwise_affine=True)\n",
              "            (dropout): Dropout(p=0.1, inplace=False)\n",
              "          )\n",
              "        )\n",
              "        (2): BertLayer(\n",
              "          (attention): BertAttention(\n",
              "            (self): BertSelfAttention(\n",
              "              (query): Linear(in_features=768, out_features=768, bias=True)\n",
              "              (key): Linear(in_features=768, out_features=768, bias=True)\n",
              "              (value): Linear(in_features=768, out_features=768, bias=True)\n",
              "              (dropout): Dropout(p=0.1, inplace=False)\n",
              "            )\n",
              "            (output): BertSelfOutput(\n",
              "              (dense): Linear(in_features=768, out_features=768, bias=True)\n",
              "              (LayerNorm): LayerNorm((768,), eps=1e-12, elementwise_affine=True)\n",
              "              (dropout): Dropout(p=0.1, inplace=False)\n",
              "            )\n",
              "          )\n",
              "          (intermediate): BertIntermediate(\n",
              "            (dense): Linear(in_features=768, out_features=3072, bias=True)\n",
              "          )\n",
              "          (output): BertOutput(\n",
              "            (dense): Linear(in_features=3072, out_features=768, bias=True)\n",
              "            (LayerNorm): LayerNorm((768,), eps=1e-12, elementwise_affine=True)\n",
              "            (dropout): Dropout(p=0.1, inplace=False)\n",
              "          )\n",
              "        )\n",
              "        (3): BertLayer(\n",
              "          (attention): BertAttention(\n",
              "            (self): BertSelfAttention(\n",
              "              (query): Linear(in_features=768, out_features=768, bias=True)\n",
              "              (key): Linear(in_features=768, out_features=768, bias=True)\n",
              "              (value): Linear(in_features=768, out_features=768, bias=True)\n",
              "              (dropout): Dropout(p=0.1, inplace=False)\n",
              "            )\n",
              "            (output): BertSelfOutput(\n",
              "              (dense): Linear(in_features=768, out_features=768, bias=True)\n",
              "              (LayerNorm): LayerNorm((768,), eps=1e-12, elementwise_affine=True)\n",
              "              (dropout): Dropout(p=0.1, inplace=False)\n",
              "            )\n",
              "          )\n",
              "          (intermediate): BertIntermediate(\n",
              "            (dense): Linear(in_features=768, out_features=3072, bias=True)\n",
              "          )\n",
              "          (output): BertOutput(\n",
              "            (dense): Linear(in_features=3072, out_features=768, bias=True)\n",
              "            (LayerNorm): LayerNorm((768,), eps=1e-12, elementwise_affine=True)\n",
              "            (dropout): Dropout(p=0.1, inplace=False)\n",
              "          )\n",
              "        )\n",
              "        (4): BertLayer(\n",
              "          (attention): BertAttention(\n",
              "            (self): BertSelfAttention(\n",
              "              (query): Linear(in_features=768, out_features=768, bias=True)\n",
              "              (key): Linear(in_features=768, out_features=768, bias=True)\n",
              "              (value): Linear(in_features=768, out_features=768, bias=True)\n",
              "              (dropout): Dropout(p=0.1, inplace=False)\n",
              "            )\n",
              "            (output): BertSelfOutput(\n",
              "              (dense): Linear(in_features=768, out_features=768, bias=True)\n",
              "              (LayerNorm): LayerNorm((768,), eps=1e-12, elementwise_affine=True)\n",
              "              (dropout): Dropout(p=0.1, inplace=False)\n",
              "            )\n",
              "          )\n",
              "          (intermediate): BertIntermediate(\n",
              "            (dense): Linear(in_features=768, out_features=3072, bias=True)\n",
              "          )\n",
              "          (output): BertOutput(\n",
              "            (dense): Linear(in_features=3072, out_features=768, bias=True)\n",
              "            (LayerNorm): LayerNorm((768,), eps=1e-12, elementwise_affine=True)\n",
              "            (dropout): Dropout(p=0.1, inplace=False)\n",
              "          )\n",
              "        )\n",
              "        (5): BertLayer(\n",
              "          (attention): BertAttention(\n",
              "            (self): BertSelfAttention(\n",
              "              (query): Linear(in_features=768, out_features=768, bias=True)\n",
              "              (key): Linear(in_features=768, out_features=768, bias=True)\n",
              "              (value): Linear(in_features=768, out_features=768, bias=True)\n",
              "              (dropout): Dropout(p=0.1, inplace=False)\n",
              "            )\n",
              "            (output): BertSelfOutput(\n",
              "              (dense): Linear(in_features=768, out_features=768, bias=True)\n",
              "              (LayerNorm): LayerNorm((768,), eps=1e-12, elementwise_affine=True)\n",
              "              (dropout): Dropout(p=0.1, inplace=False)\n",
              "            )\n",
              "          )\n",
              "          (intermediate): BertIntermediate(\n",
              "            (dense): Linear(in_features=768, out_features=3072, bias=True)\n",
              "          )\n",
              "          (output): BertOutput(\n",
              "            (dense): Linear(in_features=3072, out_features=768, bias=True)\n",
              "            (LayerNorm): LayerNorm((768,), eps=1e-12, elementwise_affine=True)\n",
              "            (dropout): Dropout(p=0.1, inplace=False)\n",
              "          )\n",
              "        )\n",
              "        (6): BertLayer(\n",
              "          (attention): BertAttention(\n",
              "            (self): BertSelfAttention(\n",
              "              (query): Linear(in_features=768, out_features=768, bias=True)\n",
              "              (key): Linear(in_features=768, out_features=768, bias=True)\n",
              "              (value): Linear(in_features=768, out_features=768, bias=True)\n",
              "              (dropout): Dropout(p=0.1, inplace=False)\n",
              "            )\n",
              "            (output): BertSelfOutput(\n",
              "              (dense): Linear(in_features=768, out_features=768, bias=True)\n",
              "              (LayerNorm): LayerNorm((768,), eps=1e-12, elementwise_affine=True)\n",
              "              (dropout): Dropout(p=0.1, inplace=False)\n",
              "            )\n",
              "          )\n",
              "          (intermediate): BertIntermediate(\n",
              "            (dense): Linear(in_features=768, out_features=3072, bias=True)\n",
              "          )\n",
              "          (output): BertOutput(\n",
              "            (dense): Linear(in_features=3072, out_features=768, bias=True)\n",
              "            (LayerNorm): LayerNorm((768,), eps=1e-12, elementwise_affine=True)\n",
              "            (dropout): Dropout(p=0.1, inplace=False)\n",
              "          )\n",
              "        )\n",
              "        (7): BertLayer(\n",
              "          (attention): BertAttention(\n",
              "            (self): BertSelfAttention(\n",
              "              (query): Linear(in_features=768, out_features=768, bias=True)\n",
              "              (key): Linear(in_features=768, out_features=768, bias=True)\n",
              "              (value): Linear(in_features=768, out_features=768, bias=True)\n",
              "              (dropout): Dropout(p=0.1, inplace=False)\n",
              "            )\n",
              "            (output): BertSelfOutput(\n",
              "              (dense): Linear(in_features=768, out_features=768, bias=True)\n",
              "              (LayerNorm): LayerNorm((768,), eps=1e-12, elementwise_affine=True)\n",
              "              (dropout): Dropout(p=0.1, inplace=False)\n",
              "            )\n",
              "          )\n",
              "          (intermediate): BertIntermediate(\n",
              "            (dense): Linear(in_features=768, out_features=3072, bias=True)\n",
              "          )\n",
              "          (output): BertOutput(\n",
              "            (dense): Linear(in_features=3072, out_features=768, bias=True)\n",
              "            (LayerNorm): LayerNorm((768,), eps=1e-12, elementwise_affine=True)\n",
              "            (dropout): Dropout(p=0.1, inplace=False)\n",
              "          )\n",
              "        )\n",
              "        (8): BertLayer(\n",
              "          (attention): BertAttention(\n",
              "            (self): BertSelfAttention(\n",
              "              (query): Linear(in_features=768, out_features=768, bias=True)\n",
              "              (key): Linear(in_features=768, out_features=768, bias=True)\n",
              "              (value): Linear(in_features=768, out_features=768, bias=True)\n",
              "              (dropout): Dropout(p=0.1, inplace=False)\n",
              "            )\n",
              "            (output): BertSelfOutput(\n",
              "              (dense): Linear(in_features=768, out_features=768, bias=True)\n",
              "              (LayerNorm): LayerNorm((768,), eps=1e-12, elementwise_affine=True)\n",
              "              (dropout): Dropout(p=0.1, inplace=False)\n",
              "            )\n",
              "          )\n",
              "          (intermediate): BertIntermediate(\n",
              "            (dense): Linear(in_features=768, out_features=3072, bias=True)\n",
              "          )\n",
              "          (output): BertOutput(\n",
              "            (dense): Linear(in_features=3072, out_features=768, bias=True)\n",
              "            (LayerNorm): LayerNorm((768,), eps=1e-12, elementwise_affine=True)\n",
              "            (dropout): Dropout(p=0.1, inplace=False)\n",
              "          )\n",
              "        )\n",
              "        (9): BertLayer(\n",
              "          (attention): BertAttention(\n",
              "            (self): BertSelfAttention(\n",
              "              (query): Linear(in_features=768, out_features=768, bias=True)\n",
              "              (key): Linear(in_features=768, out_features=768, bias=True)\n",
              "              (value): Linear(in_features=768, out_features=768, bias=True)\n",
              "              (dropout): Dropout(p=0.1, inplace=False)\n",
              "            )\n",
              "            (output): BertSelfOutput(\n",
              "              (dense): Linear(in_features=768, out_features=768, bias=True)\n",
              "              (LayerNorm): LayerNorm((768,), eps=1e-12, elementwise_affine=True)\n",
              "              (dropout): Dropout(p=0.1, inplace=False)\n",
              "            )\n",
              "          )\n",
              "          (intermediate): BertIntermediate(\n",
              "            (dense): Linear(in_features=768, out_features=3072, bias=True)\n",
              "          )\n",
              "          (output): BertOutput(\n",
              "            (dense): Linear(in_features=3072, out_features=768, bias=True)\n",
              "            (LayerNorm): LayerNorm((768,), eps=1e-12, elementwise_affine=True)\n",
              "            (dropout): Dropout(p=0.1, inplace=False)\n",
              "          )\n",
              "        )\n",
              "        (10): BertLayer(\n",
              "          (attention): BertAttention(\n",
              "            (self): BertSelfAttention(\n",
              "              (query): Linear(in_features=768, out_features=768, bias=True)\n",
              "              (key): Linear(in_features=768, out_features=768, bias=True)\n",
              "              (value): Linear(in_features=768, out_features=768, bias=True)\n",
              "              (dropout): Dropout(p=0.1, inplace=False)\n",
              "            )\n",
              "            (output): BertSelfOutput(\n",
              "              (dense): Linear(in_features=768, out_features=768, bias=True)\n",
              "              (LayerNorm): LayerNorm((768,), eps=1e-12, elementwise_affine=True)\n",
              "              (dropout): Dropout(p=0.1, inplace=False)\n",
              "            )\n",
              "          )\n",
              "          (intermediate): BertIntermediate(\n",
              "            (dense): Linear(in_features=768, out_features=3072, bias=True)\n",
              "          )\n",
              "          (output): BertOutput(\n",
              "            (dense): Linear(in_features=3072, out_features=768, bias=True)\n",
              "            (LayerNorm): LayerNorm((768,), eps=1e-12, elementwise_affine=True)\n",
              "            (dropout): Dropout(p=0.1, inplace=False)\n",
              "          )\n",
              "        )\n",
              "        (11): BertLayer(\n",
              "          (attention): BertAttention(\n",
              "            (self): BertSelfAttention(\n",
              "              (query): Linear(in_features=768, out_features=768, bias=True)\n",
              "              (key): Linear(in_features=768, out_features=768, bias=True)\n",
              "              (value): Linear(in_features=768, out_features=768, bias=True)\n",
              "              (dropout): Dropout(p=0.1, inplace=False)\n",
              "            )\n",
              "            (output): BertSelfOutput(\n",
              "              (dense): Linear(in_features=768, out_features=768, bias=True)\n",
              "              (LayerNorm): LayerNorm((768,), eps=1e-12, elementwise_affine=True)\n",
              "              (dropout): Dropout(p=0.1, inplace=False)\n",
              "            )\n",
              "          )\n",
              "          (intermediate): BertIntermediate(\n",
              "            (dense): Linear(in_features=768, out_features=3072, bias=True)\n",
              "          )\n",
              "          (output): BertOutput(\n",
              "            (dense): Linear(in_features=3072, out_features=768, bias=True)\n",
              "            (LayerNorm): LayerNorm((768,), eps=1e-12, elementwise_affine=True)\n",
              "            (dropout): Dropout(p=0.1, inplace=False)\n",
              "          )\n",
              "        )\n",
              "      )\n",
              "    )\n",
              "    (pooler): BertPooler(\n",
              "      (dense): Linear(in_features=768, out_features=768, bias=True)\n",
              "      (activation): Tanh()\n",
              "    )\n",
              "  )\n",
              "  (dropout): Dropout(p=0.1, inplace=False)\n",
              "  (classifier): Linear(in_features=768, out_features=3, bias=True)\n",
              ")"
            ]
          },
          "metadata": {
            "tags": []
          },
          "execution_count": 22
        }
      ]
    },
    {
      "cell_type": "code",
      "metadata": {
        "id": "0hWDIP0nNwHy",
        "colab": {
          "base_uri": "https://localhost:8080/"
        },
        "outputId": "3f0ebbbb-86ba-40d1-bbbe-ae32de3cd010"
      },
      "source": [
        "params = list(model.named_parameters())\n",
        "\n",
        "print(\"The BERT model has {:} different named parameters.\".format(len(params)))\n",
        "\n",
        "print(\"==== Embedding Layer ====\")\n",
        "for p in params[0:5]:\n",
        "  print(\"{:<60} {:>12}\".format(p[0], str(tuple(p[1].size()))))\n",
        "\n",
        "print(\"==== First Transformers ====\")\n",
        "for p in params[5:21]:\n",
        "  print(\"{:<60} {:>12}\".format(p[0], str(tuple(p[1].size()))))\n",
        "\n",
        "print(\"==== Output Layer ====\")\n",
        "for p in params[-4:]:\n",
        "  print(\"{:<60} {:>12}\".format(p[0], str(tuple(p[1].size()))))"
      ],
      "execution_count": null,
      "outputs": [
        {
          "output_type": "stream",
          "text": [
            "The BERT model has 201 different named parameters.\n",
            "==== Embedding Layer ====\n",
            "bert.embeddings.word_embeddings.weight                       (105879, 768)\n",
            "bert.embeddings.position_embeddings.weight                     (512, 768)\n",
            "bert.embeddings.token_type_embeddings.weight                     (2, 768)\n",
            "bert.embeddings.LayerNorm.weight                                   (768,)\n",
            "bert.embeddings.LayerNorm.bias                                     (768,)\n",
            "==== First Transformers ====\n",
            "bert.encoder.layer.0.attention.self.query.weight               (768, 768)\n",
            "bert.encoder.layer.0.attention.self.query.bias                     (768,)\n",
            "bert.encoder.layer.0.attention.self.key.weight                 (768, 768)\n",
            "bert.encoder.layer.0.attention.self.key.bias                       (768,)\n",
            "bert.encoder.layer.0.attention.self.value.weight               (768, 768)\n",
            "bert.encoder.layer.0.attention.self.value.bias                     (768,)\n",
            "bert.encoder.layer.0.attention.output.dense.weight             (768, 768)\n",
            "bert.encoder.layer.0.attention.output.dense.bias                   (768,)\n",
            "bert.encoder.layer.0.attention.output.LayerNorm.weight             (768,)\n",
            "bert.encoder.layer.0.attention.output.LayerNorm.bias               (768,)\n",
            "bert.encoder.layer.0.intermediate.dense.weight                (3072, 768)\n",
            "bert.encoder.layer.0.intermediate.dense.bias                      (3072,)\n",
            "bert.encoder.layer.0.output.dense.weight                      (768, 3072)\n",
            "bert.encoder.layer.0.output.dense.bias                             (768,)\n",
            "bert.encoder.layer.0.output.LayerNorm.weight                       (768,)\n",
            "bert.encoder.layer.0.output.LayerNorm.bias                         (768,)\n",
            "==== Output Layer ====\n",
            "bert.pooler.dense.weight                                       (768, 768)\n",
            "bert.pooler.dense.bias                                             (768,)\n",
            "classifier.weight                                                (3, 768)\n",
            "classifier.bias                                                      (3,)\n"
          ],
          "name": "stdout"
        }
      ]
    },
    {
      "cell_type": "code",
      "metadata": {
        "id": "-tBz9rRPOx_Q"
      },
      "source": [
        "optimizer = AdamW(\n",
        "    model.parameters(),\n",
        "    lr = 2e-5,\n",
        "    eps = 1e-8\n",
        ")"
      ],
      "execution_count": null,
      "outputs": []
    },
    {
      "cell_type": "code",
      "metadata": {
        "id": "bgi-3UW3PaRK"
      },
      "source": [
        "from transformers import get_linear_schedule_with_warmup\n",
        "\n",
        "epochs = 10\n",
        "\n",
        "total_steps = len(train_dataloader) * epochs\n",
        "\n",
        "scheduler = get_linear_schedule_with_warmup(optimizer,\n",
        "                                             num_warmup_steps = 0,\n",
        "                                             num_training_steps = total_steps)"
      ],
      "execution_count": null,
      "outputs": []
    },
    {
      "cell_type": "code",
      "metadata": {
        "id": "oroRGhupPkOz"
      },
      "source": [
        "import numpy as np\n",
        "\n",
        "def flat_accuracy(preds, labels):\n",
        "  pred_flat = np.argmax(preds, axis=1).flatten()\n",
        "  labels_flat = labels.flatten()\n",
        "  return np.sum(pred_flat == labels_flat) / len(labels_flat)"
      ],
      "execution_count": null,
      "outputs": []
    },
    {
      "cell_type": "code",
      "metadata": {
        "id": "53eJ-lpdTEG1"
      },
      "source": [
        "import time\n",
        "import datetime\n",
        "\n",
        "def format_time(elapsed):\n",
        "  elapsed_rounded = int(round(elapsed))\n",
        "  return str(datetime.timedelta(seconds=elapsed_rounded))"
      ],
      "execution_count": null,
      "outputs": []
    },
    {
      "cell_type": "markdown",
      "metadata": {
        "id": "OiJzxtBAgHh3"
      },
      "source": [
        "## **6. Training BERT**"
      ]
    },
    {
      "cell_type": "code",
      "metadata": {
        "id": "epokdnpjTVaR",
        "colab": {
          "base_uri": "https://localhost:8080/"
        },
        "outputId": "88d55bca-42a2-419b-c269-e958ba3b6152"
      },
      "source": [
        "import random\n",
        "\n",
        "seed_val = 42\n",
        "\n",
        "random.seed(seed_val)\n",
        "np.random.seed(seed_val)\n",
        "torch.manual_seed(seed_val)\n",
        "torch.cuda.manual_seed_all(seed_val)\n",
        "\n",
        "loss_values = []\n",
        "\n",
        "for epoch_i in range(0, epochs):\n",
        "\n",
        "  # ===================================\n",
        "  #              Training\n",
        "  # ===================================\n",
        "\n",
        "  print(\"======= Epoch {:} / {:} =======\".format(epoch_i+1, epochs))\n",
        "  print(\"Training...\")\n",
        "\n",
        "  t0 = time.time()\n",
        "\n",
        "  total_loss = 0\n",
        "\n",
        "  model.train()\n",
        "\n",
        "  # For each batch of training data\n",
        "  for step, batch in enumerate(train_dataloader):\n",
        "    \n",
        "    # Progress update every 40 batches\n",
        "    if step % 40 == 0 and not step == 0:\n",
        "      elapsed = format_time(time.time() - t0)\n",
        "\n",
        "      print(\"Batch {:>5,} of {:>5,}.     Elapsed: {:}\".format(step, len(train_dataloader), elapsed))\n",
        "    \n",
        "    b_input_ids = batch[0].to(device)\n",
        "    b_input_mask = batch[1].to(device)\n",
        "    b_labels = batch[2].to(device)\n",
        "\n",
        "    model.zero_grad()\n",
        "\n",
        "    outputs = model(b_input_ids,\n",
        "                    token_type_ids=None,\n",
        "                    attention_mask=b_input_mask,\n",
        "                    labels=b_labels)\n",
        "    \n",
        "    loss = outputs[0]\n",
        "\n",
        "    total_loss += loss.item()\n",
        "\n",
        "    loss.backward()\n",
        "\n",
        "    torch.nn.utils.clip_grad_norm_(model.parameters(), 1.0)\n",
        "\n",
        "    optimizer.step()\n",
        "\n",
        "    scheduler.step()\n",
        "\n",
        "  avg_train_loss = total_loss / len(train_dataloader)\n",
        "\n",
        "  loss_values.append(avg_train_loss)\n",
        "\n",
        "  print(\"   Average training loss: {0:.2f}\".format(avg_train_loss))\n",
        "  print(\"   Training epoch took: {:}\".format(format_time(time.time() - t0)))\n",
        "\n",
        "  # ===================================\n",
        "  #             Validation\n",
        "  # ===================================\n",
        "\n",
        "  print(\"Running Validation...\")\n",
        "\n",
        "  t0 = time.time()\n",
        "\n",
        "  model.eval()\n",
        "\n",
        "  eval_loss, eval_accuracy = 0, 0\n",
        "  nb_eval_steps, nb_eval_examples = 0, 0\n",
        "\n",
        "  for batch in validation_dataloader:\n",
        "\n",
        "    batch = tuple(t.to(device) for t in batch)\n",
        "\n",
        "    b_input_ids, b_input_mask, b_labels = batch\n",
        "\n",
        "    with torch.no_grad():\n",
        "      outputs = model(b_input_ids,\n",
        "                      token_type_ids=None,\n",
        "                      attention_mask=b_input_mask)\n",
        "    \n",
        "    logits = outputs[0]\n",
        "    logits = logits.detach().cpu().numpy()\n",
        "    label_ids = b_labels.to('cpu').numpy()\n",
        "\n",
        "    tmp_eval_accuracy = flat_accuracy(logits, label_ids)\n",
        "\n",
        "    eval_accuracy += tmp_eval_accuracy\n",
        "\n",
        "    nb_eval_steps += 1\n",
        "  \n",
        "  print(\"   Accuracy: {0:.2f}\".format(eval_accuracy/nb_eval_steps))\n",
        "  print(\"   Validation took: {:}\".format(format_time(time.time() - t0)))\n",
        "\n",
        "print(\"Training complete!\")"
      ],
      "execution_count": null,
      "outputs": [
        {
          "output_type": "stream",
          "text": [
            "======= Epoch 1 / 10 =======\n",
            "Training...\n",
            "Batch    40 of   259.     Elapsed: 0:00:16\n",
            "Batch    80 of   259.     Elapsed: 0:00:32\n",
            "Batch   120 of   259.     Elapsed: 0:00:49\n",
            "Batch   160 of   259.     Elapsed: 0:01:05\n",
            "Batch   200 of   259.     Elapsed: 0:01:21\n",
            "Batch   240 of   259.     Elapsed: 0:01:37\n",
            "   Average training loss: 0.97\n",
            "   Training epoch took: 0:01:45\n",
            "Running Validation...\n",
            "   Accuracy: 0.62\n",
            "   Validation took: 0:00:06\n",
            "======= Epoch 2 / 10 =======\n",
            "Training...\n",
            "Batch    40 of   259.     Elapsed: 0:00:16\n",
            "Batch    80 of   259.     Elapsed: 0:00:33\n",
            "Batch   120 of   259.     Elapsed: 0:00:49\n",
            "Batch   160 of   259.     Elapsed: 0:01:05\n",
            "Batch   200 of   259.     Elapsed: 0:01:21\n",
            "Batch   240 of   259.     Elapsed: 0:01:37\n",
            "   Average training loss: 0.79\n",
            "   Training epoch took: 0:01:45\n",
            "Running Validation...\n",
            "   Accuracy: 0.63\n",
            "   Validation took: 0:00:06\n",
            "======= Epoch 3 / 10 =======\n",
            "Training...\n",
            "Batch    40 of   259.     Elapsed: 0:00:16\n",
            "Batch    80 of   259.     Elapsed: 0:00:32\n",
            "Batch   120 of   259.     Elapsed: 0:00:49\n",
            "Batch   160 of   259.     Elapsed: 0:01:05\n",
            "Batch   200 of   259.     Elapsed: 0:01:21\n",
            "Batch   240 of   259.     Elapsed: 0:01:37\n",
            "   Average training loss: 0.64\n",
            "   Training epoch took: 0:01:45\n",
            "Running Validation...\n",
            "   Accuracy: 0.64\n",
            "   Validation took: 0:00:06\n",
            "======= Epoch 4 / 10 =======\n",
            "Training...\n",
            "Batch    40 of   259.     Elapsed: 0:00:16\n",
            "Batch    80 of   259.     Elapsed: 0:00:33\n",
            "Batch   120 of   259.     Elapsed: 0:00:49\n",
            "Batch   160 of   259.     Elapsed: 0:01:05\n",
            "Batch   200 of   259.     Elapsed: 0:01:21\n",
            "Batch   240 of   259.     Elapsed: 0:01:37\n",
            "   Average training loss: 0.50\n",
            "   Training epoch took: 0:01:45\n",
            "Running Validation...\n",
            "   Accuracy: 0.63\n",
            "   Validation took: 0:00:06\n",
            "======= Epoch 5 / 10 =======\n",
            "Training...\n",
            "Batch    40 of   259.     Elapsed: 0:00:16\n",
            "Batch    80 of   259.     Elapsed: 0:00:32\n",
            "Batch   120 of   259.     Elapsed: 0:00:49\n",
            "Batch   160 of   259.     Elapsed: 0:01:05\n",
            "Batch   200 of   259.     Elapsed: 0:01:21\n",
            "Batch   240 of   259.     Elapsed: 0:01:37\n",
            "   Average training loss: 0.37\n",
            "   Training epoch took: 0:01:45\n",
            "Running Validation...\n",
            "   Accuracy: 0.62\n",
            "   Validation took: 0:00:06\n",
            "======= Epoch 6 / 10 =======\n",
            "Training...\n",
            "Batch    40 of   259.     Elapsed: 0:00:16\n",
            "Batch    80 of   259.     Elapsed: 0:00:32\n",
            "Batch   120 of   259.     Elapsed: 0:00:49\n",
            "Batch   160 of   259.     Elapsed: 0:01:05\n",
            "Batch   200 of   259.     Elapsed: 0:01:21\n",
            "Batch   240 of   259.     Elapsed: 0:01:37\n",
            "   Average training loss: 0.30\n",
            "   Training epoch took: 0:01:45\n",
            "Running Validation...\n",
            "   Accuracy: 0.62\n",
            "   Validation took: 0:00:06\n",
            "======= Epoch 7 / 10 =======\n",
            "Training...\n",
            "Batch    40 of   259.     Elapsed: 0:00:16\n",
            "Batch    80 of   259.     Elapsed: 0:00:32\n",
            "Batch   120 of   259.     Elapsed: 0:00:49\n",
            "Batch   160 of   259.     Elapsed: 0:01:05\n",
            "Batch   200 of   259.     Elapsed: 0:01:21\n",
            "Batch   240 of   259.     Elapsed: 0:01:37\n",
            "   Average training loss: 0.23\n",
            "   Training epoch took: 0:01:45\n",
            "Running Validation...\n",
            "   Accuracy: 0.62\n",
            "   Validation took: 0:00:06\n",
            "======= Epoch 8 / 10 =======\n",
            "Training...\n",
            "Batch    40 of   259.     Elapsed: 0:00:16\n",
            "Batch    80 of   259.     Elapsed: 0:00:32\n",
            "Batch   120 of   259.     Elapsed: 0:00:49\n",
            "Batch   160 of   259.     Elapsed: 0:01:05\n",
            "Batch   200 of   259.     Elapsed: 0:01:21\n",
            "Batch   240 of   259.     Elapsed: 0:01:37\n",
            "   Average training loss: 0.19\n",
            "   Training epoch took: 0:01:45\n",
            "Running Validation...\n",
            "   Accuracy: 0.61\n",
            "   Validation took: 0:00:06\n",
            "======= Epoch 9 / 10 =======\n",
            "Training...\n",
            "Batch    40 of   259.     Elapsed: 0:00:16\n",
            "Batch    80 of   259.     Elapsed: 0:00:32\n",
            "Batch   120 of   259.     Elapsed: 0:00:49\n",
            "Batch   160 of   259.     Elapsed: 0:01:05\n",
            "Batch   200 of   259.     Elapsed: 0:01:21\n",
            "Batch   240 of   259.     Elapsed: 0:01:37\n",
            "   Average training loss: 0.16\n",
            "   Training epoch took: 0:01:45\n",
            "Running Validation...\n",
            "   Accuracy: 0.61\n",
            "   Validation took: 0:00:06\n",
            "======= Epoch 10 / 10 =======\n",
            "Training...\n",
            "Batch    40 of   259.     Elapsed: 0:00:16\n",
            "Batch    80 of   259.     Elapsed: 0:00:32\n",
            "Batch   120 of   259.     Elapsed: 0:00:49\n",
            "Batch   160 of   259.     Elapsed: 0:01:05\n",
            "Batch   200 of   259.     Elapsed: 0:01:21\n",
            "Batch   240 of   259.     Elapsed: 0:01:37\n",
            "   Average training loss: 0.14\n",
            "   Training epoch took: 0:01:45\n",
            "Running Validation...\n",
            "   Accuracy: 0.62\n",
            "   Validation took: 0:00:06\n",
            "Training complete!\n"
          ],
          "name": "stdout"
        }
      ]
    },
    {
      "cell_type": "code",
      "metadata": {
        "id": "o24zXug4IoSi",
        "colab": {
          "base_uri": "https://localhost:8080/",
          "height": 427
        },
        "outputId": "6dd7f39d-485a-496a-b896-5c30be4cf375"
      },
      "source": [
        "import matplotlib.pyplot as plt\n",
        "% matplotlib inline\n",
        "\n",
        "import seaborn as sns\n",
        "\n",
        "sns.set(style='darkgrid')\n",
        "\n",
        "sns.set(font_scale=1.5)\n",
        "plt.rcParams[\"figure.figsize\"] = (12,6)\n",
        "\n",
        "plt.plot(loss_values, 'b-o')\n",
        "\n",
        "plt.title(\"Training loss\")\n",
        "plt.xlabel(\"Epoch\")\n",
        "plt.ylabel(\"Loss\")\n",
        "\n",
        "plt.show()"
      ],
      "execution_count": null,
      "outputs": [
        {
          "output_type": "display_data",
          "data": {
            "image/png": "[encoded data removed]",
            "text/plain": [
              "<Figure size 864x432 with 1 Axes>"
            ]
          },
          "metadata": {
            "tags": []
          }
        }
      ]
    },
    {
      "cell_type": "markdown",
      "metadata": {
        "id": "jtKxYnRNgRUc"
      },
      "source": [
        "## **7. Predict dan Evaluate**"
      ]
    },
    {
      "cell_type": "code",
      "metadata": {
        "id": "gqfEXs3cNQLm",
        "colab": {
          "base_uri": "https://localhost:8080/"
        },
        "outputId": "48381f63-a7d3-4871-d5fd-925fb741bd34"
      },
      "source": [
        "print(\"Predicting labels for {:,} test sentences\".format(len(test_input)))\n",
        "\n",
        "model.eval()\n",
        "\n",
        "prediction, true_labels = [], []\n",
        "\n",
        "for batch in test_dataloader:\n",
        "  batch = tuple(t.to(device) for t in batch)\n",
        "\n",
        "  b_input_ids, b_input_mask, b_labels = batch\n",
        "\n",
        "  with torch.no_grad():\n",
        "    outputs = model(b_input_ids,\n",
        "                    token_type_ids=None,\n",
        "                    attention_mask=b_input_mask)\n",
        "    \n",
        "  logits = outputs[0]\n",
        "\n",
        "  logits = logits.detach().cpu().numpy()\n",
        "  label_ids = b_labels.to('cpu').numpy()\n",
        "\n",
        "  prediction.append(logits)\n",
        "  true_labels.append(label_ids)\n",
        "\n",
        "print(\" DONE.\")"
      ],
      "execution_count": null,
      "outputs": [
        {
          "output_type": "stream",
          "text": [
            "Predicting labels for 1,081 test sentences\n",
            " DONE.\n"
          ],
          "name": "stdout"
        }
      ]
    },
    {
      "cell_type": "code",
      "metadata": {
        "id": "alDDVf_ywJiA",
        "colab": {
          "base_uri": "https://localhost:8080/"
        },
        "outputId": "56b7145a-fdc7-4ed9-8093-abf62adb87b0"
      },
      "source": [
        "from sklearn.metrics import matthews_corrcoef\n",
        "\n",
        "flat_prediction = [item for sublist in prediction for item in sublist]\n",
        "flat_prediction = np.argmax(flat_prediction, axis=1).flatten()\n",
        "\n",
        "flat_true_labels = [item for sublist in true_labels for item in sublist]\n",
        "\n",
        "mcc = matthews_corrcoef(flat_true_labels, flat_prediction)\n",
        "\n",
        "print(\"MCC: %.3f\" %mcc)"
      ],
      "execution_count": null,
      "outputs": [
        {
          "output_type": "stream",
          "text": [
            "MCC: 0.413\n"
          ],
          "name": "stdout"
        }
      ]
    },
    {
      "cell_type": "code",
      "metadata": {
        "id": "8hSGk90kw8hQ",
        "colab": {
          "base_uri": "https://localhost:8080/"
        },
        "outputId": "72e4e75f-72a2-49d0-e0c9-e3e9c2ec65d9"
      },
      "source": [
        "from sklearn.metrics import accuracy_score\n",
        "\n",
        "acc = accuracy_score(flat_true_labels, flat_prediction)\n",
        "\n",
        "print(\"ACC: %.3f\" %acc)\n"
      ],
      "execution_count": null,
      "outputs": [
        {
          "output_type": "stream",
          "text": [
            "ACC: 0.634\n"
          ],
          "name": "stdout"
        }
      ]
    }
  ]
}